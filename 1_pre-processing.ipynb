{
 "cells": [
  {
   "cell_type": "markdown",
   "id": "0529e7ba",
   "metadata": {},
   "source": [
    "# 1 Housekeeping"
   ]
  },
  {
   "cell_type": "markdown",
   "id": "0cc79083",
   "metadata": {},
   "source": [
    "## 1.1 Load libraries"
   ]
  },
  {
   "cell_type": "code",
   "execution_count": 3,
   "id": "30aba7b9",
   "metadata": {},
   "outputs": [],
   "source": [
    "import pandas as pd\n",
    "import numpy as np"
   ]
  },
  {
   "cell_type": "code",
   "execution_count": 4,
   "id": "f4bee059",
   "metadata": {},
   "outputs": [],
   "source": [
    "pd.set_option(\"display.max_columns\", 100)\n",
    "pd.set_option(\"display.max_rows\", 100)"
   ]
  },
  {
   "cell_type": "markdown",
   "id": "454af1e1",
   "metadata": {},
   "source": [
    "## 1.2 Load data"
   ]
  },
  {
   "cell_type": "markdown",
   "id": "05034d8f",
   "metadata": {},
   "source": [
    "#### Thefts"
   ]
  },
  {
   "cell_type": "code",
   "execution_count": 27,
   "id": "56cfd5c6",
   "metadata": {},
   "outputs": [],
   "source": [
    "df = pd.read_csv(r'D:\\Jupyter Notebooks\\cbs-diefstal\\data\\cbs_diefstallen.csv', sep = ';', na_values ='       .')\n",
    "df = df[df['GebruikVanGeweld']== 'T001540']\n",
    "df = df.drop('GebruikVanGeweld', axis=1)\n",
    "df = df[df['SoortDiefstal']!= 'CRI1134' ]\n",
    "df['Perioden'] = df['Perioden'].str.split('JJ00').str[0].astype('int')\n",
    "\n",
    "df = df.rename(columns = {'TotaalGeregistreerdeDiefstallen_1': 'count', 'GeregistreerdeDiefstallenPer1000Inw_3' : 'Rel_diefstal',\n",
    "                         'Perioden': 'year'})\n",
    "df = df.drop('Rel_diefstal', axis=1)"
   ]
  },
  {
   "cell_type": "code",
   "execution_count": 40,
   "id": "4e9cf320",
   "metadata": {},
   "outputs": [
    {
     "data": {
      "text/html": [
       "<div>\n",
       "<style scoped>\n",
       "    .dataframe tbody tr th:only-of-type {\n",
       "        vertical-align: middle;\n",
       "    }\n",
       "\n",
       "    .dataframe tbody tr th {\n",
       "        vertical-align: top;\n",
       "    }\n",
       "\n",
       "    .dataframe thead th {\n",
       "        text-align: right;\n",
       "    }\n",
       "</style>\n",
       "<table border=\"1\" class=\"dataframe\">\n",
       "  <thead>\n",
       "    <tr style=\"text-align: right;\">\n",
       "      <th></th>\n",
       "      <th>ID</th>\n",
       "      <th>SoortDiefstal</th>\n",
       "      <th>RegioS</th>\n",
       "      <th>year</th>\n",
       "      <th>count</th>\n",
       "    </tr>\n",
       "  </thead>\n",
       "  <tbody>\n",
       "    <tr>\n",
       "      <th>0</th>\n",
       "      <td>6116</td>\n",
       "      <td>bike theft</td>\n",
       "      <td>GM1680</td>\n",
       "      <td>2018</td>\n",
       "      <td>25.0</td>\n",
       "    </tr>\n",
       "    <tr>\n",
       "      <th>1</th>\n",
       "      <td>6117</td>\n",
       "      <td>bike theft</td>\n",
       "      <td>GM1680</td>\n",
       "      <td>2019</td>\n",
       "      <td>50.0</td>\n",
       "    </tr>\n",
       "    <tr>\n",
       "      <th>2</th>\n",
       "      <td>6118</td>\n",
       "      <td>bike theft</td>\n",
       "      <td>GM1680</td>\n",
       "      <td>2020</td>\n",
       "      <td>20.0</td>\n",
       "    </tr>\n",
       "    <tr>\n",
       "      <th>3</th>\n",
       "      <td>6119</td>\n",
       "      <td>bike theft</td>\n",
       "      <td>GM1680</td>\n",
       "      <td>2021</td>\n",
       "      <td>30.0</td>\n",
       "    </tr>\n",
       "    <tr>\n",
       "      <th>4</th>\n",
       "      <td>6128</td>\n",
       "      <td>bike theft</td>\n",
       "      <td>GM0738</td>\n",
       "      <td>2018</td>\n",
       "      <td>5.0</td>\n",
       "    </tr>\n",
       "  </tbody>\n",
       "</table>\n",
       "</div>"
      ],
      "text/plain": [
       "     ID SoortDiefstal  RegioS  year  count\n",
       "0  6116    bike theft  GM1680  2018   25.0\n",
       "1  6117    bike theft  GM1680  2019   50.0\n",
       "2  6118    bike theft  GM1680  2020   20.0\n",
       "3  6119    bike theft  GM1680  2021   30.0\n",
       "4  6128    bike theft  GM0738  2018    5.0"
      ]
     },
     "execution_count": 40,
     "metadata": {},
     "output_type": "execute_result"
    }
   ],
   "source": [
    "df['SoortDiefstal'] = np.where(df['SoortDiefstal']== 'CRI1122', 'bike theft', df['SoortDiefstal']  )\n",
    "df['SoortDiefstal'] = np.where(df['SoortDiefstal']== 'CRI1123', 'moped theft', df['SoortDiefstal']  )\n",
    "\n",
    "df['SoortDiefstal'] = np.where(df['SoortDiefstal']== 'CRI1124', 'motorcycle/scooter theft', df['SoortDiefstal']  )\n",
    "df['SoortDiefstal'] = np.where(df['SoortDiefstal']== 'CRI1125', 'car theft', df['SoortDiefstal']  )\n",
    "\n",
    "df['SoortDiefstal'] = np.where(df['SoortDiefstal']== 'CRI1127', 'boat theft', df['SoortDiefstal']  )\n",
    "#df['SoortDiefstal'] = np.where(df['SoortDiefstal']== 'CRI1128', 'Diefstal uit/vanaf personenauto', df['SoortDiefstal']  )\n",
    "\n",
    "df['SoortDiefstal'] = np.where(df['SoortDiefstal']== 'CRI1131', 'animal theft', df['SoortDiefstal']  )\n",
    "df['SoortDiefstal'] = np.where(df['SoortDiefstal']== 'CRI1132', 'street robbery', df['SoortDiefstal']  )\n",
    "\n",
    "df['SoortDiefstal'] = np.where(df['SoortDiefstal']== 'CRI1133', 'pickpocketing', df['SoortDiefstal']  )\n",
    "df['SoortDiefstal'] = np.where(df['SoortDiefstal']== 'CRI1135', 'home burglary', df['SoortDiefstal'] )\n",
    "\n",
    "df['SoortDiefstal'] = np.where(df['SoortDiefstal']== 'CRI1137', 'shoplifting', df['SoortDiefstal']  )\n",
    "df['SoortDiefstal'] = np.where(df['SoortDiefstal']== 'CRI1144', 'heist', df['SoortDiefstal'] )\n",
    "\n",
    "df = df[df['SoortDiefstal']!= 'CRI1128']\n",
    "df.head()"
   ]
  },
  {
   "cell_type": "markdown",
   "id": "20f9c9f2",
   "metadata": {},
   "source": [
    "#### Municipalities"
   ]
  },
  {
   "cell_type": "code",
   "execution_count": 41,
   "id": "47ad7bef",
   "metadata": {},
   "outputs": [
    {
     "name": "stderr",
     "output_type": "stream",
     "text": [
      "C:\\Users\\Brenda\\AppData\\Local\\Temp\\ipykernel_1312\\38684022.py:7: FutureWarning: The frame.append method is deprecated and will be removed from pandas in a future version. Use pandas.concat instead.\n",
      "  gemeentes = gemeentes_2018.append(gemeentes_2019).append(gemeentes_2020).append(gemeentes_2021)\n",
      "C:\\Users\\Brenda\\AppData\\Local\\Temp\\ipykernel_1312\\38684022.py:7: FutureWarning: The frame.append method is deprecated and will be removed from pandas in a future version. Use pandas.concat instead.\n",
      "  gemeentes = gemeentes_2018.append(gemeentes_2019).append(gemeentes_2020).append(gemeentes_2021)\n"
     ]
    },
    {
     "data": {
      "text/html": [
       "<div>\n",
       "<style scoped>\n",
       "    .dataframe tbody tr th:only-of-type {\n",
       "        vertical-align: middle;\n",
       "    }\n",
       "\n",
       "    .dataframe tbody tr th {\n",
       "        vertical-align: top;\n",
       "    }\n",
       "\n",
       "    .dataframe thead th {\n",
       "        text-align: right;\n",
       "    }\n",
       "</style>\n",
       "<table border=\"1\" class=\"dataframe\">\n",
       "  <thead>\n",
       "    <tr style=\"text-align: right;\">\n",
       "      <th></th>\n",
       "      <th>Gemeentecode</th>\n",
       "      <th>GemeentecodeGM</th>\n",
       "      <th>Gemeentenaam</th>\n",
       "      <th>Provinciecode</th>\n",
       "      <th>ProvinciecodePV</th>\n",
       "      <th>Provincienaam</th>\n",
       "    </tr>\n",
       "  </thead>\n",
       "  <tbody>\n",
       "    <tr>\n",
       "      <th>1</th>\n",
       "      <td>738</td>\n",
       "      <td>GM0738</td>\n",
       "      <td>Aalburg</td>\n",
       "      <td>30</td>\n",
       "      <td>PV30</td>\n",
       "      <td>Noord-Brabant</td>\n",
       "    </tr>\n",
       "    <tr>\n",
       "      <th>25</th>\n",
       "      <td>5</td>\n",
       "      <td>GM0005</td>\n",
       "      <td>Bedum</td>\n",
       "      <td>20</td>\n",
       "      <td>PV20</td>\n",
       "      <td>Groningen</td>\n",
       "    </tr>\n",
       "    <tr>\n",
       "      <th>40</th>\n",
       "      <td>585</td>\n",
       "      <td>GM0585</td>\n",
       "      <td>Binnenmaas</td>\n",
       "      <td>28</td>\n",
       "      <td>PV28</td>\n",
       "      <td>Zuid-Holland</td>\n",
       "    </tr>\n",
       "    <tr>\n",
       "      <th>46</th>\n",
       "      <td>9</td>\n",
       "      <td>GM0009</td>\n",
       "      <td>Ten Boer</td>\n",
       "      <td>20</td>\n",
       "      <td>PV20</td>\n",
       "      <td>Groningen</td>\n",
       "    </tr>\n",
       "    <tr>\n",
       "      <th>64</th>\n",
       "      <td>611</td>\n",
       "      <td>GM0611</td>\n",
       "      <td>Cromstrijen</td>\n",
       "      <td>28</td>\n",
       "      <td>PV28</td>\n",
       "      <td>Zuid-Holland</td>\n",
       "    </tr>\n",
       "  </tbody>\n",
       "</table>\n",
       "</div>"
      ],
      "text/plain": [
       "    Gemeentecode GemeentecodeGM Gemeentenaam  Provinciecode ProvinciecodePV  \\\n",
       "1            738         GM0738      Aalburg             30            PV30   \n",
       "25             5         GM0005        Bedum             20            PV20   \n",
       "40           585         GM0585   Binnenmaas             28            PV28   \n",
       "46             9         GM0009     Ten Boer             20            PV20   \n",
       "64           611         GM0611  Cromstrijen             28            PV28   \n",
       "\n",
       "    Provincienaam  \n",
       "1   Noord-Brabant  \n",
       "25      Groningen  \n",
       "40   Zuid-Holland  \n",
       "46      Groningen  \n",
       "64   Zuid-Holland  "
      ]
     },
     "execution_count": 41,
     "metadata": {},
     "output_type": "execute_result"
    }
   ],
   "source": [
    "gemeentes_2018= pd.read_csv(r'D:\\Jupyter Notebooks\\cbs-diefstal\\data\\gemeente_2018.csv')\n",
    "gemeentes_2019= pd.read_csv(r'D:\\Jupyter Notebooks\\cbs-diefstal\\data\\gemeente_2019.csv')\n",
    "gemeentes_2020= pd.read_csv(r'D:\\Jupyter Notebooks\\cbs-diefstal\\data\\gemeente_2020.csv')\n",
    "gemeentes_2021= pd.read_csv(r'D:\\Jupyter Notebooks\\cbs-diefstal\\data\\gemeente_2021.csv')\n",
    "\n",
    "#merge\n",
    "gemeentes = gemeentes_2018.append(gemeentes_2019).append(gemeentes_2020).append(gemeentes_2021)\n",
    "gemeentes = gemeentes.drop_duplicates(subset=['Gemeentecode', 'GemeentecodeGM', 'Gemeentenaam'], keep='last')\n",
    "gemeentes.head()"
   ]
  },
  {
   "cell_type": "markdown",
   "id": "fa0272a6",
   "metadata": {},
   "source": [
    "#### Geojson file"
   ]
  },
  {
   "cell_type": "code",
   "execution_count": 42,
   "id": "5f25d7ca",
   "metadata": {},
   "outputs": [
    {
     "data": {
      "text/plain": [
       "{\"geometry\": {\"coordinates\": [[[4.14489, 51.931409], [4.135763, 51.906156], [4.155279, 51.881603], [4.117245, 51.857958], [4.067286, 51.845403], [4.030059, 51.884463], [4.05306, 51.914742], [4.038961, 51.923734], [3.992016, 51.915495], [4.065845, 51.932619], [4.14489, 51.931409]]], \"type\": \"Polygon\"}, \"properties\": {\"code\": \"0614\", \"fid\": 2, \"gemeentena\": \"Westvoorne\"}, \"type\": \"Feature\"}"
      ]
     },
     "execution_count": 42,
     "metadata": {},
     "output_type": "execute_result"
    }
   ],
   "source": [
    "#html_link\n",
    "gemeente_json_html = f\"https://gis.vng.nl/v2/assets/geojson/g2020.geojson\" \n",
    "\n",
    "#geojson\n",
    "gemeente_json = geojson.load(open('geojson_gemeente_2020.geojson', 'r'))\n",
    "gemeente_json ['features'][1]\n"
   ]
  },
  {
   "cell_type": "code",
   "execution_count": 43,
   "id": "fbaad1d0",
   "metadata": {},
   "outputs": [],
   "source": [
    "#create id in geojson\n",
    "for feature in gemeente_json['features']:\n",
    "    feature['id'] = feature['properties']['code']"
   ]
  },
  {
   "cell_type": "markdown",
   "id": "8e405533",
   "metadata": {},
   "source": [
    "# 2 Pre-process"
   ]
  },
  {
   "cell_type": "markdown",
   "id": "bea2b154",
   "metadata": {},
   "source": [
    "### 2.1 Merge datasets"
   ]
  },
  {
   "cell_type": "code",
   "execution_count": 44,
   "id": "ace024ed",
   "metadata": {},
   "outputs": [],
   "source": [
    "data = df.merge(gemeentes[['GemeentecodeGM', 'Gemeentenaam', 'Provincienaam']], how = 'inner', left_on = 'RegioS', right_on = 'GemeentecodeGM')\n",
    "data = data[['ID', 'Provincienaam', 'GemeentecodeGM',  'Gemeentenaam', 'SoortDiefstal',  'year', 'count']]\n",
    "data.columns = [x.lower() for x in data.columns]\n",
    "data = data.rename(columns = {'provincienaam': 'province', 'gemeentecodegm' : 'municipality_id', \n",
    "                                         'gemeentenaam': 'municipality', 'soortdiefstal': 'theft'})\n",
    "data.head()\n",
    "data.to_csv(r'D:\\Jupyter Notebooks\\cbs-diefstal\\data\\data.csv', index=False)"
   ]
  },
  {
   "cell_type": "markdown",
   "id": "9523eb37",
   "metadata": {},
   "source": [
    "### 2.2 pivot datasets"
   ]
  },
  {
   "cell_type": "code",
   "execution_count": 55,
   "id": "b5ee265e",
   "metadata": {
    "scrolled": true
   },
   "outputs": [],
   "source": [
    "#create pivot\n",
    "data_pivot = pd.pivot_table(data.drop('id', axis=1) , index = ['province', 'municipality_id',  'municipality', 'year'], \n",
    "                            columns = 'theft',\n",
    "                           aggfunc = np.mean,\n",
    "                           fill_value = np.nan)\n",
    "\n",
    "#create list of multi-level column names\n",
    "mi = data_pivot.columns\n",
    "mi.tolist()\n",
    "\n",
    "\n",
    "#only keep the second element in the list\n",
    "ind = pd.Index( [e[0] + \"_\" + e[1] for e in mi.tolist()])\n",
    "\n",
    "#set the list as the column title\n",
    "data_pivot.columns = ind\n",
    "\n",
    "#flatten multlevel index\n",
    "data_pivot = data_pivot.rename_axis(['province', 'municipality_id',  'municipality', 'year']).reset_index()\n",
    "\n",
    "#create id\n",
    "data_pivot['id'] = data_pivot['municipality_id'].str.split('GM').str[1]\n",
    "data_pivot['id'] = data_pivot['id'].astype('str')\n",
    "data_pivot = data_pivot.drop('municipality_id', axis=1)\n",
    "\n",
    "#rename\n",
    "data_pivot = data_pivot.rename(columns = {'count_bike theft' : 'bike theft', 'count_animal theft': 'animal theft',\n",
    "                                         'count_boat theft': 'boat theft', 'count_car' : 'car theft', \n",
    "                                         'count_heist': 'heist', 'count_moped theft' : 'moped theft',\n",
    "                                         'count_motorcycle/scooter theft': 'motorcycle/scooter theft',\n",
    "                                         'count_pickpocketing' :'pickpocketing', 'count_shoplifting' : 'shoplifting',\n",
    "                                         'count_street robbery':'street robbery'})\n",
    "\n",
    "#re-order\n",
    "data_pivot = data_pivot[['id', 'province', 'municipality', 'year', 'animal theft', 'bike theft',\n",
    "       'boat theft', 'car theft',  'moped theft', 'motorcycle/scooter theft',  'heist',\n",
    "       'pickpocketing', 'shoplifting','street robbery']]\n",
    "\n",
    "data_pivot.head()\n",
    "data_pivot.to_csv(r'D:\\Jupyter Notebooks\\cbs-diefstal\\data\\data_pivot.csv', index=False)"
   ]
  },
  {
   "cell_type": "code",
   "execution_count": null,
   "id": "c57a9c0e",
   "metadata": {},
   "outputs": [],
   "source": []
  }
 ],
 "metadata": {
  "kernelspec": {
   "display_name": "Python 3 (ipykernel)",
   "language": "python",
   "name": "python3"
  },
  "language_info": {
   "codemirror_mode": {
    "name": "ipython",
    "version": 3
   },
   "file_extension": ".py",
   "mimetype": "text/x-python",
   "name": "python",
   "nbconvert_exporter": "python",
   "pygments_lexer": "ipython3",
   "version": "3.9.12"
  }
 },
 "nbformat": 4,
 "nbformat_minor": 5
}
