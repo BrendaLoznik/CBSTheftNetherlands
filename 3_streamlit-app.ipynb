{
 "cells": [
  {
   "cell_type": "code",
   "execution_count": 1,
   "id": "29e847ac",
   "metadata": {},
   "outputs": [],
   "source": [
    "# 1 Housekeeping"
   ]
  },
  {
   "cell_type": "code",
   "execution_count": 2,
   "id": "8ba4bbd4",
   "metadata": {},
   "outputs": [],
   "source": [
    "## 1.1 Load libraries"
   ]
  },
  {
   "cell_type": "code",
   "execution_count": 1,
   "id": "b890ed38",
   "metadata": {},
   "outputs": [],
   "source": [
    "import pandas as pd\n",
    "import numpy as np\n",
    "import plotly.express as px\n",
    "import plotly.graph_objects as go\n",
    "import geojson\n",
    "import mapbox\n",
    "import streamlit as st"
   ]
  },
  {
   "cell_type": "code",
   "execution_count": 2,
   "id": "b6793841",
   "metadata": {},
   "outputs": [],
   "source": [
    "## 1.2 Load data"
   ]
  },
  {
   "cell_type": "code",
   "execution_count": 19,
   "id": "6d7a355d",
   "metadata": {},
   "outputs": [
    {
     "data": {
      "text/html": [
       "<div>\n",
       "<style scoped>\n",
       "    .dataframe tbody tr th:only-of-type {\n",
       "        vertical-align: middle;\n",
       "    }\n",
       "\n",
       "    .dataframe tbody tr th {\n",
       "        vertical-align: top;\n",
       "    }\n",
       "\n",
       "    .dataframe thead th {\n",
       "        text-align: right;\n",
       "    }\n",
       "</style>\n",
       "<table border=\"1\" class=\"dataframe\">\n",
       "  <thead>\n",
       "    <tr style=\"text-align: right;\">\n",
       "      <th></th>\n",
       "      <th>id</th>\n",
       "      <th>province</th>\n",
       "      <th>municipality_id</th>\n",
       "      <th>municipality</th>\n",
       "      <th>theft</th>\n",
       "      <th>year</th>\n",
       "      <th>count</th>\n",
       "    </tr>\n",
       "  </thead>\n",
       "  <tbody>\n",
       "    <tr>\n",
       "      <th>0</th>\n",
       "      <td>6116</td>\n",
       "      <td>Drenthe</td>\n",
       "      <td>GM1680</td>\n",
       "      <td>Aa en Hunze</td>\n",
       "      <td>bike theft</td>\n",
       "      <td>2018</td>\n",
       "      <td>25.0</td>\n",
       "    </tr>\n",
       "    <tr>\n",
       "      <th>1</th>\n",
       "      <td>6117</td>\n",
       "      <td>Drenthe</td>\n",
       "      <td>GM1680</td>\n",
       "      <td>Aa en Hunze</td>\n",
       "      <td>bike theft</td>\n",
       "      <td>2019</td>\n",
       "      <td>50.0</td>\n",
       "    </tr>\n",
       "    <tr>\n",
       "      <th>2</th>\n",
       "      <td>6118</td>\n",
       "      <td>Drenthe</td>\n",
       "      <td>GM1680</td>\n",
       "      <td>Aa en Hunze</td>\n",
       "      <td>bike theft</td>\n",
       "      <td>2020</td>\n",
       "      <td>20.0</td>\n",
       "    </tr>\n",
       "    <tr>\n",
       "      <th>3</th>\n",
       "      <td>6119</td>\n",
       "      <td>Drenthe</td>\n",
       "      <td>GM1680</td>\n",
       "      <td>Aa en Hunze</td>\n",
       "      <td>bike theft</td>\n",
       "      <td>2021</td>\n",
       "      <td>30.0</td>\n",
       "    </tr>\n",
       "    <tr>\n",
       "      <th>4</th>\n",
       "      <td>11996</td>\n",
       "      <td>Drenthe</td>\n",
       "      <td>GM1680</td>\n",
       "      <td>Aa en Hunze</td>\n",
       "      <td>moped theft</td>\n",
       "      <td>2018</td>\n",
       "      <td>0.0</td>\n",
       "    </tr>\n",
       "  </tbody>\n",
       "</table>\n",
       "</div>"
      ],
      "text/plain": [
       "      id province municipality_id municipality        theft  year  count\n",
       "0   6116  Drenthe          GM1680  Aa en Hunze   bike theft  2018   25.0\n",
       "1   6117  Drenthe          GM1680  Aa en Hunze   bike theft  2019   50.0\n",
       "2   6118  Drenthe          GM1680  Aa en Hunze   bike theft  2020   20.0\n",
       "3   6119  Drenthe          GM1680  Aa en Hunze   bike theft  2021   30.0\n",
       "4  11996  Drenthe          GM1680  Aa en Hunze  moped theft  2018    0.0"
      ]
     },
     "execution_count": 19,
     "metadata": {},
     "output_type": "execute_result"
    }
   ],
   "source": [
    "#load cleaned dataset\n",
    "#data = pd.read_csv(r'D:\\Jupyter Notebooks\\cbs-diefstal\\data\\data.csv')\n",
    "data = pd.read_csv('data\\data.csv')\n",
    "data.head()"
   ]
  },
  {
   "cell_type": "code",
   "execution_count": 5,
   "id": "dfffa660",
   "metadata": {},
   "outputs": [
    {
     "data": {
      "text/html": [
       "<div>\n",
       "<style scoped>\n",
       "    .dataframe tbody tr th:only-of-type {\n",
       "        vertical-align: middle;\n",
       "    }\n",
       "\n",
       "    .dataframe tbody tr th {\n",
       "        vertical-align: top;\n",
       "    }\n",
       "\n",
       "    .dataframe thead th {\n",
       "        text-align: right;\n",
       "    }\n",
       "</style>\n",
       "<table border=\"1\" class=\"dataframe\">\n",
       "  <thead>\n",
       "    <tr style=\"text-align: right;\">\n",
       "      <th></th>\n",
       "      <th>id</th>\n",
       "      <th>province</th>\n",
       "      <th>municipality</th>\n",
       "      <th>year</th>\n",
       "      <th>animal theft</th>\n",
       "      <th>bike theft</th>\n",
       "      <th>boat theft</th>\n",
       "      <th>car theft</th>\n",
       "      <th>moped theft</th>\n",
       "      <th>motorcycle/scooter theft</th>\n",
       "      <th>heist</th>\n",
       "      <th>pickpocketing</th>\n",
       "      <th>shoplifting</th>\n",
       "      <th>street robbery</th>\n",
       "    </tr>\n",
       "  </thead>\n",
       "  <tbody>\n",
       "    <tr>\n",
       "      <th>0</th>\n",
       "      <td>0106</td>\n",
       "      <td>Drenthe</td>\n",
       "      <td>Assen</td>\n",
       "      <td>2018</td>\n",
       "      <td>5</td>\n",
       "      <td>375</td>\n",
       "      <td>0</td>\n",
       "      <td>15</td>\n",
       "      <td>35</td>\n",
       "      <td>5</td>\n",
       "      <td>5</td>\n",
       "      <td>20</td>\n",
       "      <td>135</td>\n",
       "      <td>15</td>\n",
       "    </tr>\n",
       "    <tr>\n",
       "      <th>1</th>\n",
       "      <td>0106</td>\n",
       "      <td>Drenthe</td>\n",
       "      <td>Assen</td>\n",
       "      <td>2019</td>\n",
       "      <td>0</td>\n",
       "      <td>410</td>\n",
       "      <td>0</td>\n",
       "      <td>10</td>\n",
       "      <td>55</td>\n",
       "      <td>15</td>\n",
       "      <td>0</td>\n",
       "      <td>25</td>\n",
       "      <td>235</td>\n",
       "      <td>5</td>\n",
       "    </tr>\n",
       "    <tr>\n",
       "      <th>2</th>\n",
       "      <td>0106</td>\n",
       "      <td>Drenthe</td>\n",
       "      <td>Assen</td>\n",
       "      <td>2020</td>\n",
       "      <td>5</td>\n",
       "      <td>275</td>\n",
       "      <td>0</td>\n",
       "      <td>5</td>\n",
       "      <td>55</td>\n",
       "      <td>10</td>\n",
       "      <td>0</td>\n",
       "      <td>15</td>\n",
       "      <td>170</td>\n",
       "      <td>10</td>\n",
       "    </tr>\n",
       "    <tr>\n",
       "      <th>3</th>\n",
       "      <td>0106</td>\n",
       "      <td>Drenthe</td>\n",
       "      <td>Assen</td>\n",
       "      <td>2021</td>\n",
       "      <td>0</td>\n",
       "      <td>385</td>\n",
       "      <td>0</td>\n",
       "      <td>5</td>\n",
       "      <td>40</td>\n",
       "      <td>5</td>\n",
       "      <td>0</td>\n",
       "      <td>20</td>\n",
       "      <td>110</td>\n",
       "      <td>5</td>\n",
       "    </tr>\n",
       "    <tr>\n",
       "      <th>4</th>\n",
       "      <td>0109</td>\n",
       "      <td>Drenthe</td>\n",
       "      <td>Coevorden</td>\n",
       "      <td>2018</td>\n",
       "      <td>0</td>\n",
       "      <td>110</td>\n",
       "      <td>0</td>\n",
       "      <td>15</td>\n",
       "      <td>15</td>\n",
       "      <td>0</td>\n",
       "      <td>0</td>\n",
       "      <td>5</td>\n",
       "      <td>20</td>\n",
       "      <td>0</td>\n",
       "    </tr>\n",
       "  </tbody>\n",
       "</table>\n",
       "</div>"
      ],
      "text/plain": [
       "     id province municipality  year  animal theft  bike theft  boat theft  \\\n",
       "0  0106  Drenthe        Assen  2018             5         375           0   \n",
       "1  0106  Drenthe        Assen  2019             0         410           0   \n",
       "2  0106  Drenthe        Assen  2020             5         275           0   \n",
       "3  0106  Drenthe        Assen  2021             0         385           0   \n",
       "4  0109  Drenthe    Coevorden  2018             0         110           0   \n",
       "\n",
       "   car theft  moped theft  motorcycle/scooter theft  heist  pickpocketing  \\\n",
       "0         15           35                         5      5             20   \n",
       "1         10           55                        15      0             25   \n",
       "2          5           55                        10      0             15   \n",
       "3          5           40                         5      0             20   \n",
       "4         15           15                         0      0              5   \n",
       "\n",
       "   shoplifting  street robbery  \n",
       "0          135              15  \n",
       "1          235               5  \n",
       "2          170              10  \n",
       "3          110               5  \n",
       "4           20               0  "
      ]
     },
     "execution_count": 5,
     "metadata": {},
     "output_type": "execute_result"
    }
   ],
   "source": [
    "#load pivoted dataset\n",
    "data_pivot = pd.read_csv(r'D:\\Jupyter Notebooks\\cbs-diefstal\\data\\data_pivot.csv',  dtype={'id': 'str'})\n",
    "data_pivot.head()"
   ]
  },
  {
   "cell_type": "code",
   "execution_count": 6,
   "id": "8931680b",
   "metadata": {},
   "outputs": [],
   "source": [
    "#geojson\n",
    "municipality_json = geojson.load(open('geojson_gemeente_2020.geojson', 'r'))\n",
    "\n",
    "#create id in geojson\n",
    "for feature in municipality_json['features']:\n",
    "    feature['id'] = feature['properties']['code']"
   ]
  },
  {
   "cell_type": "code",
   "execution_count": 7,
   "id": "8572e6b0",
   "metadata": {},
   "outputs": [],
   "source": [
    "# 2 Streamlit settings"
   ]
  },
  {
   "cell_type": "code",
   "execution_count": 8,
   "id": "3b2238fc",
   "metadata": {},
   "outputs": [],
   "source": [
    "# page conf\n",
    "st.set_page_config(\n",
    "    page_title=\"Thefts in The Netherlands\",\n",
    "    page_icon=':cop:',\n",
    "    layout=\"wide\",  # centered\n",
    "    initial_sidebar_state=\"auto\")  # collapsed\n",
    "\n",
    "t1, t2 = st.columns((0.1,1)) #0.07,1\n",
    "\n",
    "t1.image('index.png', width = 120)\n",
    "t2.title(\"Statistics Netherlands - Reported Thefts\")\n",
    "#t2.markdown(\" **tel:** 01392 451192 **| website:** https://www.swast.nhs.uk **| email:** mailto:data.science@swast.nhs.uk\")"
   ]
  },
  {
   "cell_type": "code",
   "execution_count": null,
   "id": "b2b74646",
   "metadata": {},
   "outputs": [],
   "source": []
  },
  {
   "cell_type": "code",
   "execution_count": 18,
   "id": "9095f284",
   "metadata": {
    "scrolled": true
   },
   "outputs": [
    {
     "name": "stderr",
     "output_type": "stream",
     "text": [
      "2022-04-15 13:38:54.465 \n",
      "  \u001b[33m\u001b[1mWarning:\u001b[0m to view this Streamlit app on a browser, run it with the following\n",
      "  command:\n",
      "\n",
      "    streamlit run C:\\Users\\Brenda\\AppData\\Local\\Programs\\Python\\Python39\\lib\\site-packages\\ipykernel_launcher.py [ARGUMENTS]\n"
     ]
    }
   ],
   "source": [
    "#create theft selectbox\n",
    "#theft = st.sidebar.selectbox('Type of theft', ('bike theft', 'moped theft', 'motorcycle/scooter theft',\n",
    "     # 'car theft', 'boat theft', 'animal theft', 'street robbery',\n",
    "\n",
    "    # 'pickpocketing', 'shoplifting', 'heist'))\n",
    "thefts = data['theft'].unique()       \n",
    "theft = st.sidebar.selectbox('Type of theft', (thefts))\n",
    "\n",
    "\n",
    "#st.write('You selected:',theft)"
   ]
  },
  {
   "cell_type": "code",
   "execution_count": 12,
   "id": "0ef2fab5",
   "metadata": {
    "scrolled": false
   },
   "outputs": [
    {
     "name": "stderr",
     "output_type": "stream",
     "text": [
      "2022-04-16 11:21:19.001 \n",
      "  \u001b[33m\u001b[1mWarning:\u001b[0m to view this Streamlit app on a browser, run it with the following\n",
      "  command:\n",
      "\n",
      "    streamlit run C:\\Users\\Brenda\\AppData\\Local\\Programs\\Python\\Python39\\lib\\site-packages\\ipykernel_launcher.py [ARGUMENTS]\n"
     ]
    }
   ],
   "source": [
    "municipalities = data['municipality'].unique().tolist()\n",
    "default_ix = municipalities.index('Amsterdam')\n",
    "municipality = st.sidebar.selectbox('Select a municipality', municipalities, index=default_ix)"
   ]
  },
  {
   "cell_type": "code",
   "execution_count": 20,
   "id": "6281f4ed",
   "metadata": {},
   "outputs": [],
   "source": [
    "#create theft selectbox\n",
    "#year= st.sidebar.selectbox('Year', ('2018', '2019', '2020', '2021'))\n",
    "year= st.sidebar.radio(label ='Year', options = ['2018', '2019', '2020', '2021'], index =2)\n",
    "st.write('<style>div.row-widget.stRadio > div{flex-direction:row;}</style>', unsafe_allow_html=True)\n",
    "\n",
    "#st.write('You selected:',year)"
   ]
  },
  {
   "cell_type": "code",
   "execution_count": 21,
   "id": "bf19b0b0",
   "metadata": {},
   "outputs": [],
   "source": [
    "#create top x slider\n",
    "top =  st.sidebar.slider('How many types of theft do you want to see?', 1, 10, 5)\n",
    "#st.write(\"You selected top \", top ,' thefts')"
   ]
  },
  {
   "cell_type": "markdown",
   "id": "abe8dc1b",
   "metadata": {},
   "source": []
  },
  {
   "cell_type": "code",
   "execution_count": null,
   "id": "f39bfd21",
   "metadata": {},
   "outputs": [],
   "source": []
  },
  {
   "cell_type": "code",
   "execution_count": null,
   "id": "0b422c9b",
   "metadata": {},
   "outputs": [],
   "source": []
  },
  {
   "cell_type": "markdown",
   "id": "56356bc0",
   "metadata": {},
   "source": [
    "## 2.1 What is the most common type of theft?"
   ]
  },
  {
   "cell_type": "code",
   "execution_count": null,
   "id": "f2eded92",
   "metadata": {},
   "outputs": [],
   "source": [
    "col1, col2, col3 = st.columns(3)\n",
    "\n",
    "with col1:\n",
    "    st.write(' ')\n",
    "\n",
    "with col2:\n",
    "    st.subheader('Top ' + str(top) + ' most common thefts by year')\n",
    "\n",
    "with col3:\n",
    "    st.write(' ')"
   ]
  },
  {
   "cell_type": "code",
   "execution_count": null,
   "id": "fd39c7e9",
   "metadata": {},
   "outputs": [],
   "source": [
    "col4, col5 = st.columns([3, 0.1])"
   ]
  },
  {
   "cell_type": "code",
   "execution_count": null,
   "id": "5d1f1382",
   "metadata": {},
   "outputs": [],
   "source": [
    "#create df\n",
    "common_crime = data.groupby(['year', 'theft'])['count'].sum().reset_index()\n",
    "common_crime['rank'] = common_crime.groupby(by=['year'])['count'].transform(lambda x: x.rank(ascending=False))\n",
    "common_crime['year'] = common_crime['year'].astype('str')\n",
    "common_crime = common_crime.sort_values(['year', 'rank'])\n",
    "\n",
    "#select top rank\n",
    "#top = int(top)\n",
    "top_rank = np.arange(1, top+1 , 1).tolist()\n",
    "common_crime= common_crime[(common_crime['rank'].isin(top_rank))]"
   ]
  },
  {
   "cell_type": "code",
   "execution_count": null,
   "id": "98953a76",
   "metadata": {},
   "outputs": [],
   "source": [
    "#create bar plot\n",
    "fig2 = px.bar(data_frame = common_crime, \n",
    "             x = 'year',\n",
    "             y = 'count',\n",
    "             height = 600,\n",
    "            #  text_auto=True,\n",
    "             #text_auto='.2s',\n",
    "             color = 'theft',\n",
    "         #   color_discrete_map = {'bike': 'rgb(0,0,128)', 'shoplifting': 'rgb(235,207,52)'},\n",
    "             color_discrete_sequence = px.colors.qualitative.Prism,\n",
    "             hover_name = 'theft',\n",
    "            hover_data = {'theft': False, 'year': False, 'count': True}\n",
    "            )\n",
    "\n",
    "#update layout\n",
    "fig2.update_layout({ #'title': {'text': 'Top ' + str(top) + ' most common thefts in The Netherlands by year', 'x': 0.5},\n",
    "                     'legend': {'title': 'Type of theft'},\n",
    "                  })\n",
    "\n",
    "#st.plotly_chart(fig2)\n",
    "col4.plotly_chart(fig2, use_container_width=True) "
   ]
  },
  {
   "cell_type": "markdown",
   "id": "1afc36d5",
   "metadata": {},
   "source": [
    "## 2.2 Where do the thefts occure?"
   ]
  },
  {
   "cell_type": "code",
   "execution_count": null,
   "id": "3405dc15",
   "metadata": {},
   "outputs": [],
   "source": [
    "col6, col7 = st.columns(2)\n",
    "\n",
    "with col6:\n",
    "    st.subheader('Registered '+ theft + ' in The Netherlands in '+ str(year))\n",
    "    \n",
    "with col7:\n",
    "    st.subheader('Top 10 municipalities with the highest rate of ' + theft + ' in ' + str(year))"
   ]
  },
  {
   "cell_type": "code",
   "execution_count": 27,
   "id": "7b2d06be",
   "metadata": {},
   "outputs": [],
   "source": [
    "#create a custom df\n",
    "data_graph = data_pivot.copy()\n",
    "data_graph ['year'] = data_graph ['year'].astype('str')\n",
    "data_graph = data_graph  [data_graph ['year']==year]\n",
    "data_graph = data_graph[['id', 'province', 'municipality', 'year', theft]]\n",
    "data_graph  ['log scale'] = np.log10(data_graph [theft]+1)"
   ]
  },
  {
   "cell_type": "code",
   "execution_count": 29,
   "id": "f63e3b00",
   "metadata": {
    "scrolled": true
   },
   "outputs": [
    {
     "data": {
      "application/vnd.plotly.v1+json": {
       "config": {
        "plotlyServerURL": "https://plot.ly"
       },
       "data": [
        {
         "coloraxis": "coloraxis",
         "customdata": [
          [
           "0106",
           2.4409090820652177,
           275
          ],
          [
           "0109",
           1.7853298350107671,
           60
          ],
          [
           "0114",
           2.4082399653118496,
           255
          ],
          [
           "0118",
           2.1335389083702174,
           135
          ],
          [
           "0119",
           1.7481880270062005,
           55
          ],
          [
           "1680",
           1.3222192947339193,
           20
          ],
          [
           "1681",
           1.2041199826559248,
           15
          ],
          [
           "1690",
           1.0413926851582251,
           10
          ],
          [
           "1699",
           1.4913616938342726,
           30
          ],
          [
           "1701",
           0,
           0
          ],
          [
           "1730",
           1.414973347970818,
           25
          ],
          [
           "1731",
           1.414973347970818,
           25
          ],
          [
           "0034",
           2.66838591669,
           465
          ],
          [
           "0050",
           1.2041199826559248,
           15
          ],
          [
           "0171",
           1.7853298350107671,
           60
          ],
          [
           "0184",
           1.2041199826559248,
           15
          ],
          [
           "0303",
           1.7075701760979363,
           50
          ],
          [
           "0995",
           2.2695129442179165,
           185
          ],
          [
           "0059",
           1.2041199826559248,
           15
          ],
          [
           "0060",
           0,
           0
          ],
          [
           "0072",
           1.3222192947339193,
           20
          ],
          [
           "0074",
           2.0253058652647704,
           105
          ],
          [
           "0080",
           2.6910814921229687,
           490
          ],
          [
           "0085",
           0.7781512503836436,
           5
          ],
          [
           "0086",
           1.2041199826559248,
           15
          ],
          [
           "0088",
           0,
           0
          ],
          [
           "0090",
           2.2329961103921536,
           170
          ],
          [
           "0093",
           0.7781512503836436,
           5
          ],
          [
           "0096",
           0.7781512503836436,
           5
          ],
          [
           "0098",
           1.3222192947339193,
           20
          ],
          [
           "0737",
           1.2041199826559248,
           15
          ],
          [
           "1891",
           1.0413926851582251,
           10
          ],
          [
           "1900",
           2.1335389083702174,
           135
          ],
          [
           "1940",
           1.4913616938342726,
           30
          ],
          [
           "1949",
           1.7075701760979363,
           50
          ],
          [
           "1970",
           1.4913616938342726,
           30
          ],
          [
           "0197",
           1.414973347970818,
           25
          ],
          [
           "0200",
           2.6910814921229687,
           490
          ],
          [
           "0202",
           2.829946695941636,
           675
          ],
          [
           "0203",
           1.9822712330395684,
           95
          ],
          [
           "0209",
           1.7481880270062005,
           55
          ],
          [
           "0213",
           1.414973347970818,
           25
          ],
          [
           "0214",
           1.3222192947339193,
           20
          ],
          [
           "0216",
           1.8512583487190752,
           70
          ],
          [
           "0221",
           1.2041199826559248,
           15
          ],
          [
           "0222",
           2.1335389083702174,
           135
          ],
          [
           "0225",
           1.0413926851582251,
           10
          ],
          [
           "0226",
           1.6127838567197355,
           40
          ],
          [
           "0228",
           2.6444385894678386,
           440
          ],
          [
           "0230",
           1.414973347970818,
           25
          ],
          [
           "0232",
           1.4913616938342726,
           30
          ],
          [
           "0233",
           1.9590413923210936,
           90
          ],
          [
           "0243",
           1.9822712330395684,
           95
          ],
          [
           "0244",
           0.7781512503836436,
           5
          ],
          [
           "0246",
           1.0413926851582251,
           10
          ],
          [
           "0252",
           1.662757831681574,
           45
          ],
          [
           "0262",
           1.5563025007672873,
           35
          ],
          [
           "0263",
           1.4913616938342726,
           30
          ],
          [
           "0267",
           1.7853298350107671,
           60
          ],
          [
           "0268",
           3.2626883443016963,
           1830
          ],
          [
           "0269",
           1.3222192947339193,
           20
          ],
          [
           "0273",
           1.662757831681574,
           45
          ],
          [
           "0274",
           1.6127838567197355,
           40
          ],
          [
           "0275",
           2.100370545117563,
           125
          ],
          [
           "0277",
           0,
           0
          ],
          [
           "0279",
           1.3222192947339193,
           20
          ],
          [
           "0281",
           2.303196057420489,
           200
          ],
          [
           "0285",
           1.662757831681574,
           45
          ],
          [
           "0289",
           2.164352855784437,
           145
          ],
          [
           "0293",
           1.414973347970818,
           25
          ],
          [
           "0294",
           1.8512583487190752,
           70
          ],
          [
           "0296",
           2.0253058652647704,
           105
          ],
          [
           "0297",
           1.5563025007672873,
           35
          ],
          [
           "0299",
           1.9344984512435677,
           85
          ],
          [
           "0301",
           2.44870631990508,
           280
          ],
          [
           "0302",
           1.3222192947339193,
           20
          ],
          [
           "0668",
           1.0413926851582251,
           10
          ],
          [
           "1509",
           1.5563025007672873,
           35
          ],
          [
           "1586",
           1.4913616938342726,
           30
          ],
          [
           "1705",
           1.6127838567197355,
           40
          ],
          [
           "1734",
           1.8512583487190752,
           70
          ],
          [
           "1740",
           1.3222192947339193,
           20
          ],
          [
           "1859",
           1.3222192947339193,
           20
          ],
          [
           "1876",
           1.2041199826559248,
           15
          ],
          [
           "1945",
           1.6127838567197355,
           40
          ],
          [
           "1955",
           1.8195439355418688,
           65
          ],
          [
           "1960",
           1.8808135922807914,
           75
          ],
          [
           "0003",
           1.3222192947339193,
           20
          ],
          [
           "0010",
           1.414973347970818,
           25
          ],
          [
           "0014",
           3.166133970305109,
           1465
          ],
          [
           "0024",
           0.7781512503836436,
           5
          ],
          [
           "0037",
           1.414973347970818,
           25
          ],
          [
           "0047",
           1.6127838567197355,
           40
          ],
          [
           "0765",
           0.7781512503836436,
           5
          ],
          [
           "1895",
           1.8195439355418688,
           65
          ],
          [
           "1950",
           1.4913616938342726,
           30
          ],
          [
           "1952",
           1.8195439355418688,
           65
          ],
          [
           "1966",
           1.5563025007672873,
           35
          ],
          [
           "1969",
           1.7853298350107671,
           60
          ],
          [
           "0882",
           1.6127838567197355,
           40
          ],
          [
           "0888",
           1.4913616938342726,
           30
          ],
          [
           "0889",
           1.6127838567197355,
           40
          ],
          [
           "0893",
           1.0413926851582251,
           10
          ],
          [
           "0899",
           1.6127838567197355,
           40
          ],
          [
           "0907",
           1.5563025007672873,
           35
          ],
          [
           "0917",
           2.3344537511509307,
           215
          ],
          [
           "0928",
           1.9344984512435677,
           85
          ],
          [
           "0935",
           2.924795995797912,
           840
          ],
          [
           "0938",
           1.4913616938342726,
           30
          ],
          [
           "0944",
           1.3222192947339193,
           20
          ],
          [
           "0946",
           0.7781512503836436,
           5
          ],
          [
           "0957",
           2.399673721481038,
           250
          ],
          [
           "0965",
           0.7781512503836436,
           5
          ],
          [
           "0971",
           1.414973347970818,
           25
          ],
          [
           "0981",
           1.2041199826559248,
           15
          ],
          [
           "0983",
           2.782472624166286,
           605
          ],
          [
           "0984",
           2.3443922736851106,
           220
          ],
          [
           "0986",
           1.0413926851582251,
           10
          ],
          [
           "0988",
           2.2576785748691846,
           180
          ],
          [
           "0994",
           1.8808135922807914,
           75
          ],
          [
           "1507",
           2.0043213737826426,
           100
          ],
          [
           "1640",
           1.7481880270062005,
           55
          ],
          [
           "1641",
           1.414973347970818,
           25
          ],
          [
           "1669",
           1.5563025007672873,
           35
          ],
          [
           "1711",
           1.7853298350107671,
           60
          ],
          [
           "1729",
           1.7481880270062005,
           55
          ],
          [
           "1883",
           2.3344537511509307,
           215
          ],
          [
           "1894",
           1.662757831681574,
           45
          ],
          [
           "1903",
           1.7075701760979363,
           50
          ],
          [
           "1954",
           1.5563025007672873,
           35
          ],
          [
           "0743",
           1.662757831681574,
           45
          ],
          [
           "0744",
           0.7781512503836436,
           5
          ],
          [
           "0748",
           2.2329961103921536,
           170
          ],
          [
           "0753",
           1.8195439355418688,
           65
          ],
          [
           "0755",
           1.2041199826559248,
           15
          ],
          [
           "0756",
           1.9084850188786497,
           80
          ],
          [
           "0757",
           2.0644579892269186,
           115
          ],
          [
           "0758",
           2.851869600729766,
           710
          ],
          [
           "0762",
           2.1789769472931693,
           150
          ],
          [
           "0766",
           1.5563025007672873,
           35
          ],
          [
           "0770",
           1.4913616938342726,
           30
          ],
          [
           "0772",
           3.1792644643390253,
           1510
          ],
          [
           "0777",
           1.8195439355418688,
           65
          ],
          [
           "0779",
           1.6127838567197355,
           40
          ],
          [
           "0784",
           1.6127838567197355,
           40
          ],
          [
           "0785",
           1.6127838567197355,
           40
          ],
          [
           "0786",
           1.414973347970818,
           25
          ],
          [
           "0788",
           1.0413926851582251,
           10
          ],
          [
           "0794",
           2.6344772701607315,
           430
          ],
          [
           "0796",
           2.82020145948564,
           660
          ],
          [
           "0797",
           1.6127838567197355,
           40
          ],
          [
           "0798",
           1.414973347970818,
           25
          ],
          [
           "0809",
           1.8195439355418688,
           65
          ],
          [
           "0815",
           1.0413926851582251,
           10
          ],
          [
           "0820",
           1.8808135922807914,
           75
          ],
          [
           "0823",
           1.4913616938342726,
           30
          ],
          [
           "0824",
           1.7481880270062005,
           55
          ],
          [
           "0826",
           2.164352855784437,
           145
          ],
          [
           "0828",
           2.7371926427047373,
           545
          ],
          [
           "0840",
           1.414973347970818,
           25
          ],
          [
           "0845",
           1.5563025007672873,
           35
          ],
          [
           "0847",
           1.6127838567197355,
           40
          ],
          [
           "0848",
           1.414973347970818,
           25
          ],
          [
           "0851",
           1.2041199826559248,
           15
          ],
          [
           "0855",
           3.1720188094245563,
           1485
          ],
          [
           "0856",
           2.0644579892269186,
           115
          ],
          [
           "0858",
           1.8808135922807914,
           75
          ],
          [
           "0861",
           2.164352855784437,
           145
          ],
          [
           "0865",
           1.8512583487190752,
           70
          ],
          [
           "0866",
           1.5563025007672873,
           35
          ],
          [
           "0867",
           1.662757831681574,
           45
          ],
          [
           "0873",
           1.2041199826559248,
           15
          ],
          [
           "0879",
           1.0413926851582251,
           10
          ],
          [
           "1652",
           1.9344984512435677,
           85
          ],
          [
           "1655",
           1.4913616938342726,
           30
          ],
          [
           "1658",
           1.414973347970818,
           25
          ],
          [
           "1659",
           1.5563025007672873,
           35
          ],
          [
           "1667",
           1.2041199826559248,
           15
          ],
          [
           "1674",
           2.416640507338281,
           260
          ],
          [
           "1684",
           1.7853298350107671,
           60
          ],
          [
           "1685",
           1.2041199826559248,
           15
          ],
          [
           "1702",
           0.7781512503836436,
           5
          ],
          [
           "1706",
           1.7075701760979363,
           50
          ],
          [
           "1709",
           1.4913616938342726,
           30
          ],
          [
           "1719",
           1.4913616938342726,
           30
          ],
          [
           "1721",
           1.7075701760979363,
           50
          ],
          [
           "1723",
           0.7781512503836436,
           5
          ],
          [
           "1724",
           1.3222192947339193,
           20
          ],
          [
           "1728",
           1.7075701760979363,
           50
          ],
          [
           "1771",
           2.1931245983544616,
           155
          ],
          [
           "1948",
           2.2810333672477277,
           190
          ],
          [
           "1959",
           1.9590413923210936,
           90
          ],
          [
           "0358",
           1.6127838567197355,
           40
          ],
          [
           "0361",
           2.48572142648158,
           305
          ],
          [
           "0362",
           2.4712917110589387,
           295
          ],
          [
           "0363",
           3.92069713446992,
           8330
          ],
          [
           "0370",
           0.7781512503836436,
           5
          ],
          [
           "0373",
           1.662757831681574,
           45
          ],
          [
           "0375",
           2.0253058652647704,
           105
          ],
          [
           "0376",
           1.2041199826559248,
           15
          ],
          [
           "0377",
           2.1335389083702174,
           135
          ],
          [
           "0383",
           1.9084850188786497,
           80
          ],
          [
           "0384",
           2.1172712956557644,
           130
          ],
          [
           "0385",
           1.414973347970818,
           25
          ],
          [
           "0388",
           1.8808135922807914,
           75
          ],
          [
           "0392",
           2.9425041061680806,
           875
          ],
          [
           "0394",
           2.432969290874406,
           270
          ],
          [
           "0396",
           1.9084850188786497,
           80
          ],
          [
           "0397",
           2.164352855784437,
           145
          ],
          [
           "0398",
           2.164352855784437,
           145
          ],
          [
           "0399",
           1.7075701760979363,
           50
          ],
          [
           "0400",
           2.1931245983544616,
           155
          ],
          [
           "0402",
           2.545307116465824,
           350
          ],
          [
           "0405",
           2.506505032404872,
           320
          ],
          [
           "0406",
           1.7481880270062005,
           55
          ],
          [
           "0415",
           1.0413926851582251,
           10
          ],
          [
           "0416",
           1.414973347970818,
           25
          ],
          [
           "0417",
           1.3222192947339193,
           20
          ],
          [
           "0420",
           1.662757831681574,
           45
          ],
          [
           "0431",
           0.7781512503836436,
           5
          ],
          [
           "0432",
           0.7781512503836436,
           5
          ],
          [
           "0437",
           1.9084850188786497,
           80
          ],
          [
           "0439",
           1.9590413923210936,
           90
          ],
          [
           "0441",
           1.9084850188786497,
           80
          ],
          [
           "0448",
           1.2041199826559248,
           15
          ],
          [
           "0450",
           1.7075701760979363,
           50
          ],
          [
           "0451",
           1.6127838567197355,
           40
          ],
          [
           "0453",
           2.2695129442179165,
           185
          ],
          [
           "0457",
           1.9084850188786497,
           80
          ],
          [
           "0473",
           1.9344984512435677,
           85
          ],
          [
           "0479",
           2.663700925389648,
           460
          ],
          [
           "0498",
           1.4913616938342726,
           30
          ],
          [
           "0532",
           1.8512583487190752,
           70
          ],
          [
           "0852",
           1.2041199826559248,
           15
          ],
          [
           "0880",
           1.0413926851582251,
           10
          ],
          [
           "1598",
           1.3222192947339193,
           20
          ],
          [
           "1696",
           1.3222192947339193,
           20
          ],
          [
           "1911",
           1.6127838567197355,
           40
          ],
          [
           "1942",
           2.416640507338281,
           260
          ],
          [
           "0141",
           2.44870631990508,
           280
          ],
          [
           "0147",
           1.5563025007672873,
           35
          ],
          [
           "0148",
           1.0413926851582251,
           10
          ],
          [
           "0150",
           2.4927603890268375,
           310
          ],
          [
           "0153",
           3.1690863574870227,
           1475
          ],
          [
           "0158",
           1.7075701760979363,
           50
          ],
          [
           "0160",
           1.9344984512435677,
           85
          ],
          [
           "0163",
           1.3222192947339193,
           20
          ],
          [
           "0164",
           2.6138418218760693,
           410
          ],
          [
           "0166",
           2.1172712956557644,
           130
          ],
          [
           "0168",
           1.3222192947339193,
           20
          ],
          [
           "0173",
           1.9084850188786497,
           80
          ],
          [
           "0175",
           1.2041199826559248,
           15
          ],
          [
           "0177",
           1.6127838567197355,
           40
          ],
          [
           "0180",
           0.7781512503836436,
           5
          ],
          [
           "0183",
           1.0413926851582251,
           10
          ],
          [
           "0189",
           1.414973347970818,
           25
          ],
          [
           "0193",
           2.6910814921229687,
           490
          ],
          [
           "1700",
           1.414973347970818,
           25
          ],
          [
           "1708",
           1.7075701760979363,
           50
          ],
          [
           "1735",
           1.5563025007672873,
           35
          ],
          [
           "1742",
           1.4913616938342726,
           30
          ],
          [
           "1773",
           1.414973347970818,
           25
          ],
          [
           "1774",
           0.7781512503836436,
           5
          ],
          [
           "1896",
           1.2041199826559248,
           15
          ],
          [
           "0307",
           2.937517892017347,
           865
          ],
          [
           "0308",
           1.7853298350107671,
           60
          ],
          [
           "0310",
           2.2810333672477277,
           190
          ],
          [
           "0312",
           1.2041199826559248,
           15
          ],
          [
           "0313",
           1.8808135922807914,
           75
          ],
          [
           "0317",
           0.7781512503836436,
           5
          ],
          [
           "0321",
           1.9590413923210936,
           90
          ],
          [
           "0327",
           1.7075701760979363,
           50
          ],
          [
           "0331",
           0.7781512503836436,
           5
          ],
          [
           "0335",
           1.2041199826559248,
           15
          ],
          [
           "0339",
           0.7781512503836436,
           5
          ],
          [
           "0340",
           1.2041199826559248,
           15
          ],
          [
           "0342",
           2.1931245983544616,
           155
          ],
          [
           "0344",
           3.4879863311293935,
           3075
          ],
          [
           "0345",
           2.1172712956557644,
           130
          ],
          [
           "0351",
           1.2041199826559248,
           15
          ],
          [
           "0352",
           1.3222192947339193,
           20
          ],
          [
           "0353",
           2.0043213737826426,
           100
          ],
          [
           "0355",
           2.5390760987927767,
           345
          ],
          [
           "0356",
           2.2329961103921536,
           170
          ],
          [
           "0589",
           1.3222192947339193,
           20
          ],
          [
           "0632",
           2.0644579892269186,
           115
          ],
          [
           "0736",
           1.6127838567197355,
           40
          ],
          [
           "1581",
           2.1492191126553797,
           140
          ],
          [
           "1904",
           2.1492191126553797,
           140
          ],
          [
           "1961",
           1.7853298350107671,
           60
          ],
          [
           "0654",
           0.7781512503836436,
           5
          ],
          [
           "0664",
           2.0453229787866576,
           110
          ],
          [
           "0677",
           1.2041199826559248,
           15
          ],
          [
           "0678",
           1.0413926851582251,
           10
          ],
          [
           "0687",
           2.220108088040055,
           165
          ],
          [
           "0703",
           1.2041199826559248,
           15
          ],
          [
           "0715",
           1.662757831681574,
           45
          ],
          [
           "0716",
           1.2041199826559248,
           15
          ],
          [
           "0717",
           1.9344984512435677,
           85
          ],
          [
           "0718",
           2.1335389083702174,
           135
          ],
          [
           "1676",
           1.7075701760979363,
           50
          ],
          [
           "1695",
           1.2041199826559248,
           15
          ],
          [
           "1714",
           1.414973347970818,
           25
          ],
          [
           "0482",
           1.414973347970818,
           25
          ],
          [
           "0484",
           2.6242820958356683,
           420
          ],
          [
           "0489",
           2.100370545117563,
           125
          ],
          [
           "0501",
           1.4913616938342726,
           30
          ],
          [
           "0502",
           2.1335389083702174,
           135
          ],
          [
           "0503",
           2.8870543780509568,
           770
          ],
          [
           "0505",
           2.4712917110589387,
           295
          ],
          [
           "0512",
           2.1789769472931693,
           150
          ],
          [
           "0513",
           2.4638929889859074,
           290
          ],
          [
           "0518",
           3.4893959217271293,
           3085
          ],
          [
           "0523",
           1.4913616938342726,
           30
          ],
          [
           "0530",
           1.8195439355418688,
           65
          ],
          [
           "0531",
           1.7853298350107671,
           60
          ],
          [
           "0534",
           1.6127838567197355,
           40
          ],
          [
           "0537",
           2.4927603890268375,
           310
          ],
          [
           "0542",
           1.414973347970818,
           25
          ],
          [
           "0546",
           2.8549130223078554,
           715
          ],
          [
           "0547",
           1.8808135922807914,
           75
          ],
          [
           "0553",
           1.6127838567197355,
           40
          ],
          [
           "0556",
           2.1335389083702174,
           135
          ],
          [
           "0569",
           1.3222192947339193,
           20
          ],
          [
           "0575",
           2.220108088040055,
           165
          ],
          [
           "0579",
           1.7075701760979363,
           50
          ],
          [
           "0590",
           1.7853298350107671,
           60
          ],
          [
           "0597",
           2.0644579892269186,
           115
          ],
          [
           "0599",
           3.6330642726914992,
           4295
          ],
          [
           "0603",
           2.3820170425748683,
           240
          ],
          [
           "0606",
           2.6085260335771943,
           405
          ],
          [
           "0610",
           1.5563025007672873,
           35
          ],
          [
           "0613",
           1.8808135922807914,
           75
          ],
          [
           "0614",
           1.2041199826559248,
           15
          ],
          [
           "0622",
           2.5327543789924976,
           340
          ],
          [
           "0626",
           1.9344984512435677,
           85
          ],
          [
           "0627",
           1.8808135922807914,
           75
          ],
          [
           "0629",
           1.6127838567197355,
           40
          ],
          [
           "0637",
           2.424881636631067,
           265
          ],
          [
           "0638",
           0.7781512503836436,
           5
          ],
          [
           "0642",
           1.9822712330395684,
           95
          ],
          [
           "1525",
           2.1172712956557644,
           130
          ],
          [
           "1621",
           2.220108088040055,
           165
          ],
          [
           "1783",
           2.5514499979728753,
           355
          ],
          [
           "1842",
           1.0413926851582251,
           10
          ],
          [
           "1884",
           1.3222192947339193,
           20
          ],
          [
           "1892",
           1.7481880270062005,
           55
          ],
          [
           "1901",
           1.7853298350107671,
           60
          ],
          [
           "1916",
           2.569373909615046,
           370
          ],
          [
           "1924",
           1.7853298350107671,
           60
          ],
          [
           "1926",
           2.3541084391474008,
           225
          ],
          [
           "1930",
           2.3909351071033793,
           245
          ],
          [
           "1931",
           1.5563025007672873,
           35
          ],
          [
           "1963",
           1.8512583487190752,
           70
          ],
          [
           "1978",
           1.2041199826559248,
           15
          ]
         ],
         "geojson": {
          "features": [
           {
            "geometry": {
             "coordinates": [
              [
               [
                4.836905,
                51.712612
               ],
               [
                4.842368,
                51.679654
               ],
               [
                4.781071,
                51.663902
               ],
               [
                4.787506,
                51.637048
               ],
               [
                4.731389,
                51.642994
               ],
               [
                4.69906,
                51.638073
               ],
               [
                4.684903,
                51.666366
               ],
               [
                4.645137,
                51.719067
               ],
               [
                4.676304,
                51.724924
               ],
               [
                4.698553,
                51.721992
               ],
               [
                4.733651,
                51.736507
               ],
               [
                4.764199,
                51.759857
               ],
               [
                4.853126,
                51.750748
               ],
               [
                4.836905,
                51.712612
               ]
              ]
             ],
             "type": "Polygon"
            },
            "id": "1719",
            "properties": {
             "code": "1719",
             "fid": 1,
             "gemeentena": "Drimmelen"
            },
            "type": "Feature"
           },
           {
            "geometry": {
             "coordinates": [
              [
               [
                4.14489,
                51.931409
               ],
               [
                4.135763,
                51.906156
               ],
               [
                4.155279,
                51.881603
               ],
               [
                4.117245,
                51.857958
               ],
               [
                4.067286,
                51.845403
               ],
               [
                4.030059,
                51.884463
               ],
               [
                4.05306,
                51.914742
               ],
               [
                4.038961,
                51.923734
               ],
               [
                3.992016,
                51.915495
               ],
               [
                4.065845,
                51.932619
               ],
               [
                4.14489,
                51.931409
               ]
              ]
             ],
             "type": "Polygon"
            },
            "id": "0614",
            "properties": {
             "code": "0614",
             "fid": 2,
             "gemeentena": "Westvoorne"
            },
            "type": "Feature"
           },
           {
            "geometry": {
             "coordinates": [
              [
               [
                5.493862,
                52.111097
               ],
               [
                5.531543,
                52.102267
               ],
               [
                5.537118,
                52.088644
               ],
               [
                5.496128,
                52.071678
               ],
               [
                5.493862,
                52.111097
               ]
              ]
             ],
             "type": "Polygon"
            },
            "id": "0279",
            "properties": {
             "code": "0279",
             "fid": 3,
             "gemeentena": "Scherpenzeel"
            },
            "type": "Feature"
           },
           {
            "geometry": {
             "coordinates": [
              [
               [
                5.859461,
                50.833684
               ],
               [
                5.887993,
                50.847034
               ],
               [
                5.954816,
                50.845924
               ],
               [
                5.983518,
                50.80973
               ],
               [
                5.976681,
                50.80337
               ],
               [
                5.942151,
                50.789247
               ],
               [
                5.935758,
                50.756979
               ],
               [
                5.889738,
                50.756328
               ],
               [
                5.886477,
                50.770157
               ],
               [
                5.845038,
                50.765371
               ],
               [
                5.81941,
                50.805242
               ],
               [
                5.839239,
                50.807588
               ],
               [
                5.859461,
                50.833684
               ]
              ]
             ],
             "type": "Polygon"
            },
            "id": "1729",
            "properties": {
             "code": "1729",
             "fid": 4,
             "gemeentena": "Gulpen-Wittem"
            },
            "type": "Feature"
           },
           {
            "geometry": {
             "coordinates": [
              [
               [
                6.629453,
                52.669688
               ],
               [
                6.708547,
                52.648715
               ],
               [
                6.710053,
                52.62782
               ],
               [
                6.727289,
                52.614928
               ],
               [
                6.718772,
                52.588636
               ],
               [
                6.726646,
                52.563058
               ],
               [
                6.716264,
                52.548525
               ],
               [
                6.68088,
                52.553317
               ],
               [
                6.705332,
                52.521008
               ],
               [
                6.697585,
                52.486298
               ],
               [
                6.669301,
                52.494981
               ],
               [
                6.641541,
                52.471244
               ],
               [
                6.612157,
                52.466001
               ],
               [
                6.595188,
                52.480303
               ],
               [
                6.609644,
                52.492505
               ],
               [
                6.545992,
                52.51585
               ],
               [
                6.521827,
                52.560586
               ],
               [
                6.488356,
                52.569001
               ],
               [
                6.415015,
                52.570012
               ],
               [
                6.402645,
                52.591403
               ],
               [
                6.323413,
                52.592527
               ],
               [
                6.303064,
                52.597141
               ],
               [
                6.327798,
                52.658693
               ],
               [
                6.364382,
                52.642778
               ],
               [
                6.383837,
                52.612198
               ],
               [
                6.431243,
                52.628378
               ],
               [
                6.518604,
                52.614088
               ],
               [
                6.513861,
                52.646294
               ],
               [
                6.529381,
                52.654507
               ],
               [
                6.552821,
                52.665595
               ],
               [
                6.614527,
                52.674049
               ],
               [
                6.629453,
                52.669688
               ]
              ]
             ],
             "type": "Polygon"
            },
            "id": "0160",
            "properties": {
             "code": "0160",
             "fid": 5,
             "gemeentena": "Hardenberg"
            },
            "type": "Feature"
           },
           {
            "geometry": {
             "coordinates": [
              [
               [
                5.481342,
                52.150501
               ],
               [
                5.511685,
                52.137496
               ],
               [
                5.486447,
                52.11536
               ],
               [
                5.443807,
                52.107075
               ],
               [
                5.401332,
                52.089334
               ],
               [
                5.322462,
                52.101901
               ],
               [
                5.31092,
                52.108384
               ],
               [
                5.355635,
                52.13683
               ],
               [
                5.397125,
                52.133951
               ],
               [
                5.423608,
                52.157636
               ],
               [
                5.481342,
                52.150501
               ]
              ]
             ],
             "type": "Polygon"
            },
            "id": "0327",
            "properties": {
             "code": "0327",
             "fid": 6,
             "gemeentena": "Leusden"
            },
            "type": "Feature"
           },
           {
            "geometry": {
             "coordinates": [
              [
               [
                4.688685,
                51.996258
               ],
               [
                4.750991,
                52.013899
               ],
               [
                4.7987,
                52.022272
               ],
               [
                4.846875,
                52.018165
               ],
               [
                4.817806,
                51.999767
               ],
               [
                4.835218,
                51.986143
               ],
               [
                4.860936,
                51.967476
               ],
               [
                4.877793,
                51.938031
               ],
               [
                4.832513,
                51.938755
               ],
               [
                4.811729,
                51.92473
               ],
               [
                4.759858,
                51.913502
               ],
               [
                4.721936,
                51.897261
               ],
               [
                4.668167,
                51.889585
               ],
               [
                4.619572,
                51.889523
               ],
               [
                4.576328,
                51.903032
               ],
               [
                4.635768,
                51.91023
               ],
               [
                4.617704,
                51.93105
               ],
               [
                4.619489,
                51.933492
               ],
               [
                4.688685,
                51.996258
               ]
              ]
             ],
             "type": "Polygon"
            },
            "id": "1931",
            "properties": {
             "code": "1931",
             "fid": 7,
             "gemeentena": "Krimpenerwaard"
            },
            "type": "Feature"
           },
           {
            "geometry": {
             "coordinates": [
              [
               [
                6.11982,
                52.854215
               ],
               [
                6.2069,
                52.890744
               ],
               [
                6.247259,
                52.923347
               ],
               [
                6.302985,
                52.924972
               ],
               [
                6.333281,
                52.906356
               ],
               [
                6.369026,
                52.921976
               ],
               [
                6.359557,
                52.89453
               ],
               [
                6.419993,
                52.882322
               ],
               [
                6.430888,
                52.850385
               ],
               [
                6.480026,
                52.836944
               ],
               [
                6.455451,
                52.800556
               ],
               [
                6.44692,
                52.785889
               ],
               [
                6.413106,
                52.7883
               ],
               [
                6.394155,
                52.777533
               ],
               [
                6.36109,
                52.783236
               ],
               [
                6.340498,
                52.798979
               ],
               [
                6.310415,
                52.795522
               ],
               [
                6.296635,
                52.765926
               ],
               [
                6.252028,
                52.758311
               ],
               [
                6.231439,
                52.741709
               ],
               [
                6.201453,
                52.729786
               ],
               [
                6.172906,
                52.773054
               ],
               [
                6.201731,
                52.793696
               ],
               [
                6.11982,
                52.854215
               ]
              ]
             ],
             "type": "Polygon"
            },
            "id": "1701",
            "properties": {
             "code": "1701",
             "fid": 8,
             "gemeentena": "Westerveld"
            },
            "type": "Feature"
           },
           {
            "geometry": {
             "coordinates": [
              [
               [
                6.450098,
                52.461256
               ],
               [
                6.505469,
                52.490963
               ],
               [
                6.595188,
                52.480303
               ],
               [
                6.612157,
                52.466001
               ],
               [
                6.641541,
                52.471244
               ],
               [
                6.669301,
                52.494981
               ],
               [
                6.697585,
                52.486298
               ],
               [
                6.717707,
                52.478132
               ],
               [
                6.669848,
                52.417231
               ],
               [
                6.698635,
                52.393741
               ],
               [
                6.651752,
                52.398725
               ],
               [
                6.598851,
                52.383658
               ],
               [
                6.575952,
                52.417513
               ],
               [
                6.598148,
                52.439029
               ],
               [
                6.543152,
                52.451222
               ],
               [
                6.510901,
                52.437173
               ],
               [
                6.475599,
                52.440857
               ],
               [
                6.450098,
                52.461256
               ]
              ]
             ],
             "type": "Polygon"
            },
            "id": "1700",
            "properties": {
             "code": "1700",
             "fid": 9,
             "gemeentena": "Twenterand"
            },
            "type": "Feature"
           },
           {
            "geometry": {
             "coordinates": [
              [
               [
                4.646054,
                52.756594
               ],
               [
                4.689822,
                52.732992
               ],
               [
                4.728854,
                52.691404
               ],
               [
                4.741742,
                52.680807
               ],
               [
                4.752411,
                52.671446
               ],
               [
                4.710038,
                52.642486
               ],
               [
                4.714587,
                52.624782
               ],
               [
                4.689993,
                52.623751
               ],
               [
                4.672581,
                52.590904
               ],
               [
                4.609824,
                52.57376
               ],
               [
                4.646054,
                52.756594
               ]
              ]
             ],
             "type": "Polygon"
            },
            "id": "0373",
            "properties": {
             "code": "0373",
             "fid": 10,
             "gemeentena": "Bergen (NH.)"
            },
            "type": "Feature"
           },
           {
            "geometry": {
             "coordinates": [
              [
               [
                4.463471,
                52.200202
               ],
               [
                4.464082,
                52.215964
               ],
               [
                4.466066,
                52.225003
               ],
               [
                4.513523,
                52.255006
               ],
               [
                4.524934,
                52.235553
               ],
               [
                4.553934,
                52.222205
               ],
               [
                4.558433,
                52.218799
               ],
               [
                4.538154,
                52.180085
               ],
               [
                4.518369,
                52.182116
               ],
               [
                4.497562,
                52.183983
               ],
               [
                4.491447,
                52.203687
               ],
               [
                4.463471,
                52.200202
               ]
              ]
             ],
             "type": "Polygon"
            },
            "id": "1525",
            "properties": {
             "code": "1525",
             "fid": 11,
             "gemeentena": "Teylingen"
            },
            "type": "Feature"
           },
           {
            "geometry": {
             "coordinates": [
              [
               [
                4.302862,
                52.128355
               ],
               [
                4.342318,
                52.097482
               ],
               [
                4.372709,
                52.094773
               ],
               [
                4.35542,
                52.068085
               ],
               [
                4.403924,
                52.077845
               ],
               [
                4.420833,
                52.06258
               ],
               [
                4.422072,
                52.051673
               ],
               [
                4.394445,
                52.054054
               ],
               [
                4.379735,
                52.026733
               ],
               [
                4.35779,
                52.026863
               ],
               [
                4.340047,
                52.061806
               ],
               [
                4.290952,
                52.041573
               ],
               [
                4.307639,
                52.018151
               ],
               [
                4.272663,
                52.035917
               ],
               [
                4.248217,
                52.025226
               ],
               [
                4.213781,
                52.031784
               ],
               [
                4.196329,
                52.055676
               ],
               [
                4.255909,
                52.099772
               ],
               [
                4.302862,
                52.128355
               ]
              ]
             ],
             "type": "Polygon"
            },
            "id": "0518",
            "properties": {
             "code": "0518",
             "fid": 12,
             "gemeentena": "'s-Gravenhage"
            },
            "type": "Feature"
           },
           {
            "geometry": {
             "coordinates": [
              [
               [
                6.119566,
                52.667937
               ],
               [
                6.158976,
                52.692154
               ],
               [
                6.179903,
                52.675606
               ],
               [
                6.214096,
                52.686316
               ],
               [
                6.265501,
                52.667988
               ],
               [
                6.327798,
                52.658693
               ],
               [
                6.303064,
                52.597141
               ],
               [
                6.202138,
                52.584949
               ],
               [
                6.147419,
                52.584408
               ],
               [
                6.105848,
                52.603696
               ],
               [
                6.096848,
                52.635626
               ],
               [
                6.119566,
                52.667937
               ]
              ]
             ],
             "type": "Polygon"
            },
            "id": "0180",
            "properties": {
             "code": "0180",
             "fid": 13,
             "gemeentena": "Staphorst"
            },
            "type": "Feature"
           },
           {
            "geometry": {
             "coordinates": [
              [
               [
                4.956999,
                52.52911
               ],
               [
                4.99227,
                52.519733
               ],
               [
                4.997964,
                52.494733
               ],
               [
                4.974247,
                52.470435
               ],
               [
                4.948316,
                52.484005
               ],
               [
                4.920651,
                52.490434
               ],
               [
                4.934352,
                52.511641
               ],
               [
                4.956999,
                52.52911
               ]
              ]
             ],
             "type": "Polygon"
            },
            "id": "0439",
            "properties": {
             "code": "0439",
             "fid": 14,
             "gemeentena": "Purmerend"
            },
            "type": "Feature"
           },
           {
            "geometry": {
             "coordinates": [
              [
               [
                5.955931,
                52.073339
               ],
               [
                6.008849,
                52.074014
               ],
               [
                6.006085,
                52.066349
               ],
               [
                5.977959,
                52.05439
               ],
               [
                5.995805,
                52.02622
               ],
               [
                5.974514,
                52.002839
               ],
               [
                5.951526,
                51.999638
               ],
               [
                5.937099,
                52.048533
               ],
               [
                5.955931,
                52.073339
               ]
              ]
             ],
             "type": "Polygon"
            },
            "id": "0277",
            "properties": {
             "code": "0277",
             "fid": 15,
             "gemeentena": "Rozendaal"
            },
            "type": "Feature"
           },
           {
            "geometry": {
             "coordinates": [
              [
               [
                7.015446,
                53.071774
               ],
               [
                7.042633,
                53.101687
               ],
               [
                7.029754,
                53.115097
               ],
               [
                7.080654,
                53.14376
               ],
               [
                7.139635,
                53.154365
               ],
               [
                7.189244,
                53.154883
               ],
               [
                7.182899,
                53.121765
               ],
               [
                7.202794,
                53.113411
               ],
               [
                7.199219,
                53.081386
               ],
               [
                7.212968,
                53.010877
               ],
               [
                7.181515,
                52.941584
               ],
               [
                7.104385,
                52.863943
               ],
               [
                7.09274,
                52.838196
               ],
               [
                7.072178,
                52.845159
               ],
               [
                7.040242,
                52.872903
               ],
               [
                7.014799,
                52.872987
               ],
               [
                7.045571,
                52.915909
               ],
               [
                7.026854,
                52.919037
               ],
               [
                7.063539,
                52.930978
               ],
               [
                7.072058,
                53.003787
               ],
               [
                7.100013,
                53.016444
               ],
               [
                7.080371,
                53.030043
               ],
               [
                7.080351,
                53.059428
               ],
               [
                7.015446,
                53.071774
               ]
              ]
             ],
             "type": "Polygon"
            },
            "id": "1950",
            "properties": {
             "code": "1950",
             "fid": 16,
             "gemeentena": "Westerwolde"
            },
            "type": "Feature"
           },
           {
            "geometry": {
             "coordinates": [
              [
               [
                4.803379,
                51.846353
               ],
               [
                4.838082,
                51.860735
               ],
               [
                4.847671,
                51.832979
               ],
               [
                4.924864,
                51.839718
               ],
               [
                4.926987,
                51.828306
               ],
               [
                4.884643,
                51.816471
               ],
               [
                4.811416,
                51.818658
               ],
               [
                4.803379,
                51.846353
               ]
              ]
             ],
             "type": "Polygon"
            },
            "id": "0523",
            "properties": {
             "code": "0523",
             "fid": 17,
             "gemeentena": "Hardinxveld-Giessendam"
            },
            "type": "Feature"
           },
           {
            "geometry": {
             "coordinates": [
              [
               [
                4.809884,
                52.305776
               ],
               [
                4.823793,
                52.289806
               ],
               [
                4.794697,
                52.260682
               ],
               [
                4.773272,
                52.241034
               ],
               [
                4.723764,
                52.216574
               ],
               [
                4.72432,
                52.231963
               ],
               [
                4.670348,
                52.230756
               ],
               [
                4.746548,
                52.272197
               ],
               [
                4.780114,
                52.283245
               ],
               [
                4.809884,
                52.305776
               ]
              ]
             ],
             "type": "Polygon"
            },
            "id": "0358",
            "properties": {
             "code": "0358",
             "fid": 18,
             "gemeentena": "Aalsmeer"
            },
            "type": "Feature"
           },
           {
            "geometry": {
             "coordinates": [
              [
               [
                4.877793,
                51.938031
               ],
               [
                4.926301,
                51.950928
               ],
               [
                4.956157,
                51.915591
               ],
               [
                4.994968,
                51.902292
               ],
               [
                4.996797,
                51.873552
               ],
               [
                5.026908,
                51.858608
               ],
               [
                4.998685,
                51.852277
               ],
               [
                4.938399,
                51.863629
               ],
               [
                4.924864,
                51.839718
               ],
               [
                4.847671,
                51.832979
               ],
               [
                4.838082,
                51.860735
               ],
               [
                4.803379,
                51.846353
               ],
               [
                4.742764,
                51.841003
               ],
               [
                4.683191,
                51.848491
               ],
               [
                4.664439,
                51.874948
               ],
               [
                4.626391,
                51.880658
               ],
               [
                4.619572,
                51.889523
               ],
               [
                4.668167,
                51.889585
               ],
               [
                4.721936,
                51.897261
               ],
               [
                4.759858,
                51.913502
               ],
               [
                4.811729,
                51.92473
               ],
               [
                4.832513,
                51.938755
               ],
               [
                4.877793,
                51.938031
               ]
              ]
             ],
             "type": "Polygon"
            },
            "id": "1978",
            "properties": {
             "code": "1978",
             "fid": 19,
             "gemeentena": "Molenlanden"
            },
            "type": "Feature"
           },
           {
            "geometry": {
             "coordinates": [
              [
               [
                4.404877,
                52.219944
               ],
               [
                4.444709,
                52.263523
               ],
               [
                4.493822,
                52.328237
               ],
               [
                4.547322,
                52.313997
               ],
               [
                4.563707,
                52.309298
               ],
               [
                4.54255,
                52.286644
               ],
               [
                4.513523,
                52.255006
               ],
               [
                4.466066,
                52.225003
               ],
               [
                4.464082,
                52.215964
               ],
               [
                4.440188,
                52.207356
               ],
               [
                4.404877,
                52.219944
               ]
              ]
             ],
             "type": "Polygon"
            },
            "id": "0575",
            "properties": {
             "code": "0575",
             "fid": 20,
             "gemeentena": "Noordwijk"
            },
            "type": "Feature"
           },
           {
            "geometry": {
             "coordinates": [
              [
               [
                4.900937,
                53.088029
               ],
               [
                4.848785,
                53.034834
               ],
               [
                4.819302,
                53.029412
               ],
               [
                4.773265,
                52.995869
               ],
               [
                4.733059,
                52.987731
               ],
               [
                4.713117,
                52.998533
               ],
               [
                4.709037,
                53.022508
               ],
               [
                4.720044,
                53.061064
               ],
               [
                4.751112,
                53.098907
               ],
               [
                4.84411,
                53.184149
               ],
               [
                4.861594,
                53.183135
               ],
               [
                4.908351,
                53.13485
               ],
               [
                4.900937,
                53.088029
               ]
              ]
             ],
             "type": "Polygon"
            },
            "id": "0448",
            "properties": {
             "code": "0448",
             "fid": 21,
             "gemeentena": "Texel"
            },
            "type": "Feature"
           },
           {
            "geometry": {
             "coordinates": [
              [
               [
                5.724363,
                52.000708
               ],
               [
                5.722606,
                51.964051
               ],
               [
                5.665989,
                51.952799
               ],
               [
                5.640271,
                51.938828
               ],
               [
                5.60594,
                51.943125
               ],
               [
                5.627309,
                51.952473
               ],
               [
                5.626064,
                51.97407
               ],
               [
                5.606017,
                51.994164
               ],
               [
                5.683093,
                51.993911
               ],
               [
                5.724363,
                52.000708
               ]
              ]
             ],
             "type": "Polygon"
            },
            "id": "0289",
            "properties": {
             "code": "0289",
             "fid": 22,
             "gemeentena": "Wageningen"
            },
            "type": "Feature"
           },
           {
            "geometry": {
             "coordinates": [
              [
               [
                5.511424,
                51.496922
               ],
               [
                5.546273,
                51.512696
               ],
               [
                5.530864,
                51.525049
               ],
               [
                5.547437,
                51.537732
               ],
               [
                5.557652,
                51.50937
               ],
               [
                5.57673,
                51.499453
               ],
               [
                5.584708,
                51.460509
               ],
               [
                5.548679,
                51.434677
               ],
               [
                5.509152,
                51.469198
               ],
               [
                5.511424,
                51.496922
               ]
              ]
             ],
             "type": "Polygon"
            },
            "id": "0820",
            "properties": {
             "code": "0820",
             "fid": 23,
             "gemeentena": "Nuenen, Gerwen en Nederwetten"
            },
            "type": "Feature"
           },
           {
            "geometry": {
             "coordinates": [
              [
               [
                6.645041,
                52.174194
               ],
               [
                6.634454,
                52.185955
               ],
               [
                6.712388,
                52.206331
               ],
               [
                6.766801,
                52.191065
               ],
               [
                6.805581,
                52.1666
               ],
               [
                6.827991,
                52.171007
               ],
               [
                6.88975,
                52.161206
               ],
               [
                6.855474,
                52.120462
               ],
               [
                6.760572,
                52.11878
               ],
               [
                6.716272,
                52.11827
               ],
               [
                6.663677,
                52.129816
               ],
               [
                6.663676,
                52.129816
               ],
               [
                6.671339,
                52.165683
               ],
               [
                6.645041,
                52.174194
               ]
              ]
             ],
             "type": "Polygon"
            },
            "id": "0158",
            "properties": {
             "code": "0158",
             "fid": 24,
             "gemeentena": "Haaksbergen"
            },
            "type": "Feature"
           },
           {
            "geometry": {
             "coordinates": [
              [
               [
                5.314282,
                52.203023
               ],
               [
                5.330541,
                52.214732
               ],
               [
                5.392735,
                52.205528
               ],
               [
                5.395522,
                52.219154
               ],
               [
                5.439356,
                52.200687
               ],
               [
                5.439876,
                52.171197
               ],
               [
                5.479922,
                52.165815
               ],
               [
                5.481342,
                52.150501
               ],
               [
                5.423608,
                52.157636
               ],
               [
                5.397125,
                52.133951
               ],
               [
                5.355635,
                52.13683
               ],
               [
                5.31092,
                52.108384
               ],
               [
                5.306459,
                52.110271
               ],
               [
                5.331268,
                52.12663
               ],
               [
                5.349898,
                52.175605
               ],
               [
                5.314282,
                52.203023
               ]
              ]
             ],
             "type": "Polygon"
            },
            "id": "0307",
            "properties": {
             "code": "0307",
             "fid": 25,
             "gemeentena": "Amersfoort"
            },
            "type": "Feature"
           },
           {
            "geometry": {
             "coordinates": [
              [
               [
                5.685014,
                51.895648
               ],
               [
                5.667853,
                51.865927
               ],
               [
                5.636177,
                51.867362
               ],
               [
                5.635931,
                51.847458
               ],
               [
                5.609835,
                51.836274
               ],
               [
                5.585013,
                51.839107
               ],
               [
                5.566437,
                51.883948
               ],
               [
                5.531363,
                51.894753
               ],
               [
                5.553907,
                51.900777
               ],
               [
                5.685014,
                51.895648
               ]
              ]
             ],
             "type": "Polygon"
            },
            "id": "0225",
            "properties": {
             "code": "0225",
             "fid": 26,
             "gemeentena": "Druten"
            },
            "type": "Feature"
           },
           {
            "geometry": {
             "coordinates": [
              [
               [
                4.309819,
                52.015634
               ],
               [
                4.325956,
                52.012793
               ],
               [
                4.324112,
                51.989859
               ],
               [
                4.338227,
                51.974178
               ],
               [
                4.402933,
                51.966316
               ],
               [
                4.379309,
                51.963407
               ],
               [
                4.350671,
                51.951507
               ],
               [
                4.292611,
                51.921236
               ],
               [
                4.257822,
                51.92881
               ],
               [
                4.240317,
                51.942872
               ],
               [
                4.303143,
                51.9799
               ],
               [
                4.265431,
                51.995731
               ],
               [
                4.309819,
                52.015634
               ]
              ]
             ],
             "type": "Polygon"
            },
            "id": "1842",
            "properties": {
             "code": "1842",
             "fid": 27,
             "gemeentena": "Midden-Delfland"
            },
            "type": "Feature"
           },
           {
            "geometry": {
             "coordinates": [
              [
               [
                6.144688,
                51.9805
               ],
               [
                6.160483,
                51.981037
               ],
               [
                6.249883,
                51.976012
               ],
               [
                6.312219,
                51.993971
               ],
               [
                6.327728,
                51.977287
               ],
               [
                6.381505,
                51.967986
               ],
               [
                6.416082,
                51.972622
               ],
               [
                6.361013,
                51.923014
               ],
               [
                6.305763,
                51.938821
               ],
               [
                6.302066,
                51.944134
               ],
               [
                6.203123,
                51.942196
               ],
               [
                6.163026,
                51.955381
               ],
               [
                6.144688,
                51.9805
               ]
              ]
             ],
             "type": "Polygon"
            },
            "id": "0222",
            "properties": {
             "code": "0222",
             "fid": 28,
             "gemeentena": "Doetinchem"
            },
            "type": "Feature"
           },
           {
            "geometry": {
             "coordinates": [
              [
               [
                4.379309,
                51.963407
               ],
               [
                4.402933,
                51.966316
               ],
               [
                4.407911,
                51.968199
               ],
               [
                4.427898,
                51.976466
               ],
               [
                4.469012,
                51.980549
               ],
               [
                4.518586,
                51.960286
               ],
               [
                4.547686,
                51.972807
               ],
               [
                4.583992,
                51.965369
               ],
               [
                4.56155,
                51.956648
               ],
               [
                4.566239,
                51.925909
               ],
               [
                4.549901,
                51.906728
               ],
               [
                4.576328,
                51.903032
               ],
               [
                4.568912,
                51.878052
               ],
               [
                4.549383,
                51.874027
               ],
               [
                4.480403,
                51.862328
               ],
               [
                4.393378,
                51.871971
               ],
               [
                4.383665,
                51.842118
               ],
               [
                4.335554,
                51.864302
               ],
               [
                4.269163,
                51.864522
               ],
               [
                4.239383,
                51.872986
               ],
               [
                4.216271,
                51.898731
               ],
               [
                4.14489,
                51.931409
               ],
               [
                4.065845,
                51.932619
               ],
               [
                3.992016,
                51.915495
               ],
               [
                3.960144,
                51.959189
               ],
               [
                3.98375,
                51.985054
               ],
               [
                4.029588,
                51.987371
               ],
               [
                4.097272,
                51.97059
               ],
               [
                4.094994,
                51.984296
               ],
               [
                4.124988,
                52.001776
               ],
               [
                4.147281,
                51.981393
               ],
               [
                4.187493,
                51.966837
               ],
               [
                4.219529,
                51.9414
               ],
               [
                4.212718,
                51.933727
               ],
               [
                4.267571,
                51.905335
               ],
               [
                4.333844,
                51.894281
               ],
               [
                4.370623,
                51.899356
               ],
               [
                4.41371,
                51.900755
               ],
               [
                4.408958,
                51.935568
               ],
               [
                4.379309,
                51.963407
               ]
              ]
             ],
             "type": "Polygon"
            },
            "id": "0599",
            "properties": {
             "code": "0599",
             "fid": 29,
             "gemeentena": "Rotterdam"
            },
            "type": "Feature"
           },
           {
            "geometry": {
             "coordinates": [
              [
               [
                4.500204,
                51.558536
               ],
               [
                4.533483,
                51.549269
               ],
               [
                4.591761,
                51.561032
               ],
               [
                4.624766,
                51.55226
               ],
               [
                4.638716,
                51.524413
               ],
               [
                4.548161,
                51.473313
               ],
               [
                4.538185,
                51.482398
               ],
               [
                4.486682,
                51.477353
               ],
               [
                4.50218,
                51.516724
               ],
               [
                4.523192,
                51.542557
               ],
               [
                4.500204,
                51.558536
               ]
              ]
             ],
             "type": "Polygon"
            },
            "id": "0840",
            "properties": {
             "code": "0840",
             "fid": 30,
             "gemeentena": "Rucphen"
            },
            "type": "Feature"
           },
           {
            "geometry": {
             "coordinates": [
              [
               [
                5.859903,
                51.669914
               ],
               [
                5.933785,
                51.71614
               ],
               [
                5.956179,
                51.707248
               ],
               [
                5.963276,
                51.661429
               ],
               [
                5.976607,
                51.643783
               ],
               [
                6.02063,
                51.621291
               ],
               [
                6.026281,
                51.595577
               ],
               [
                6.048121,
                51.558463
               ],
               [
                6.004253,
                51.570244
               ],
               [
                5.935445,
                51.5536
               ],
               [
                5.906663,
                51.552031
               ],
               [
                5.870892,
                51.562644
               ],
               [
                5.877236,
                51.578166
               ],
               [
                5.931853,
                51.596861
               ],
               [
                5.939617,
                51.612422
               ],
               [
                5.925766,
                51.63215
               ],
               [
                5.855798,
                51.662206
               ],
               [
                5.859903,
                51.669914
               ]
              ]
             ],
             "type": "Polygon"
            },
            "id": "0756",
            "properties": {
             "code": "0756",
             "fid": 31,
             "gemeentena": "Boxmeer"
            },
            "type": "Feature"
           },
           {
            "geometry": {
             "coordinates": [
              [
               [
                6.468189,
                52.326462
               ],
               [
                6.545253,
                52.318107
               ],
               [
                6.554009,
                52.283313
               ],
               [
                6.48526,
                52.274606
               ],
               [
                6.416422,
                52.242166
               ],
               [
                6.381851,
                52.246113
               ],
               [
                6.370775,
                52.260006
               ],
               [
                6.328842,
                52.281103
               ],
               [
                6.32653,
                52.301632
               ],
               [
                6.356016,
                52.318219
               ],
               [
                6.468189,
                52.326462
               ]
              ]
             ],
             "type": "Polygon"
            },
            "id": "1742",
            "properties": {
             "code": "1742",
             "fid": 32,
             "gemeentena": "Rijssen-Holten"
            },
            "type": "Feature"
           },
           {
            "geometry": {
             "coordinates": [
              [
               [
                4.870121,
                52.253282
               ],
               [
                4.852053,
                52.242013
               ],
               [
                4.794697,
                52.260682
               ],
               [
                4.823793,
                52.289806
               ],
               [
                4.809884,
                52.305776
               ],
               [
                4.818753,
                52.32556
               ],
               [
                4.909135,
                52.318253
               ],
               [
                4.878783,
                52.278903
               ],
               [
                4.870121,
                52.253282
               ]
              ]
             ],
             "type": "Polygon"
            },
            "id": "0362",
            "properties": {
             "code": "0362",
             "fid": 33,
             "gemeentena": "Amstelveen"
            },
            "type": "Feature"
           },
           {
            "geometry": {
             "coordinates": [
              [
               [
                5.130196,
                51.530298
               ],
               [
                5.146948,
                51.546634
               ],
               [
                5.137355,
                51.562581
               ],
               [
                5.179539,
                51.597664
               ],
               [
                5.214187,
                51.585557
               ],
               [
                5.247241,
                51.58704
               ],
               [
                5.273271,
                51.552821
               ],
               [
                5.224435,
                51.517148
               ],
               [
                5.190138,
                51.507409
               ],
               [
                5.130196,
                51.530298
               ]
              ]
             ],
             "type": "Polygon"
            },
            "id": "0824",
            "properties": {
             "code": "0824",
             "fid": 34,
             "gemeentena": "Oisterwijk"
            },
            "type": "Feature"
           },
           {
            "geometry": {
             "coordinates": [
              [
               [
                4.325956,
                52.012793
               ],
               [
                4.35779,
                52.026863
               ],
               [
                4.379735,
                52.026733
               ],
               [
                4.407911,
                51.968199
               ],
               [
                4.402933,
                51.966316
               ],
               [
                4.338227,
                51.974178
               ],
               [
                4.324112,
                51.989859
               ],
               [
                4.325956,
                52.012793
               ]
              ]
             ],
             "type": "Polygon"
            },
            "id": "0503",
            "properties": {
             "code": "0503",
             "fid": 35,
             "gemeentena": "Delft"
            },
            "type": "Feature"
           },
           {
            "geometry": {
             "coordinates": [
              [
               [
                3.705536,
                51.502456
               ],
               [
                3.745245,
                51.512472
               ],
               [
                3.713607,
                51.530367
               ],
               [
                3.762857,
                51.553417
               ],
               [
                3.793582,
                51.54248
               ],
               [
                3.834503,
                51.553018
               ],
               [
                3.869159,
                51.541902
               ],
               [
                3.927724,
                51.543534
               ],
               [
                3.961898,
                51.52996
               ],
               [
                3.963466,
                51.529801
               ],
               [
                3.971382,
                51.528325
               ],
               [
                3.965231,
                51.506469
               ],
               [
                3.912878,
                51.479122
               ],
               [
                3.803684,
                51.484471
               ],
               [
                3.762506,
                51.498873
               ],
               [
                3.705536,
                51.502456
               ]
              ]
             ],
             "type": "Polygon"
            },
            "id": "0664",
            "properties": {
             "code": "0664",
             "fid": 36,
             "gemeentena": "Goes"
            },
            "type": "Feature"
           },
           {
            "geometry": {
             "coordinates": [
              [
               [
                6.44692,
                52.785889
               ],
               [
                6.455451,
                52.800556
               ],
               [
                6.491805,
                52.793123
               ],
               [
                6.490669,
                52.770885
               ],
               [
                6.512729,
                52.762084
               ],
               [
                6.566385,
                52.765579
               ],
               [
                6.5574,
                52.745365
               ],
               [
                6.587467,
                52.73569
               ],
               [
                6.595794,
                52.713218
               ],
               [
                6.629937,
                52.712727
               ],
               [
                6.629453,
                52.669688
               ],
               [
                6.614527,
                52.674049
               ],
               [
                6.552821,
                52.665595
               ],
               [
                6.529381,
                52.654507
               ],
               [
                6.530556,
                52.672472
               ],
               [
                6.499552,
                52.673554
               ],
               [
                6.48598,
                52.693633
               ],
               [
                6.448677,
                52.693788
               ],
               [
                6.407168,
                52.706796
               ],
               [
                6.423193,
                52.743
               ],
               [
                6.410134,
                52.764885
               ],
               [
                6.44692,
                52.785889
               ]
              ]
             ],
             "type": "Polygon"
            },
            "id": "0118",
            "properties": {
             "code": "0118",
             "fid": 37,
             "gemeentena": "Hoogeveen"
            },
            "type": "Feature"
           },
           {
            "geometry": {
             "coordinates": [
              [
               [
                6.772527,
                53.283087
               ],
               [
                6.814345,
                53.297592
               ],
               [
                6.845806,
                53.290126
               ],
               [
                6.887377,
                53.297882
               ],
               [
                6.909103,
                53.278977
               ],
               [
                6.911344,
                53.243015
               ],
               [
                6.929399,
                53.212817
               ],
               [
                6.913075,
                53.176955
               ],
               [
                6.950381,
                53.158895
               ],
               [
                6.965295,
                53.110831
               ],
               [
                6.961735,
                53.110021
               ],
               [
                6.959339,
                53.120176
               ],
               [
                6.886254,
                53.1286
               ],
               [
                6.823101,
                53.126219
               ],
               [
                6.801674,
                53.119172
               ],
               [
                6.813945,
                53.070972
               ],
               [
                6.776509,
                53.094761
               ],
               [
                6.737451,
                53.119462
               ],
               [
                6.695367,
                53.121176
               ],
               [
                6.683501,
                53.160474
               ],
               [
                6.641706,
                53.185481
               ],
               [
                6.698075,
                53.214749
               ],
               [
                6.717686,
                53.241872
               ],
               [
                6.69833,
                53.256145
               ],
               [
                6.772527,
                53.283087
               ]
              ]
             ],
             "type": "Polygon"
            },
            "id": "1952",
            "properties": {
             "code": "1952",
             "fid": 38,
             "gemeentena": "Midden-Groningen"
            },
            "type": "Feature"
           },
           {
            "geometry": {
             "coordinates": [
              [
               [
                6.645041,
                52.174194
               ],
               [
                6.671339,
                52.165683
               ],
               [
                6.663676,
                52.129816
               ],
               [
                6.663677,
                52.129816
               ],
               [
                6.716272,
                52.11827
               ],
               [
                6.760572,
                52.11878
               ],
               [
                6.750923,
                52.085036
               ],
               [
                6.695973,
                52.070142
               ],
               [
                6.687981,
                52.044365
               ],
               [
                6.658971,
                52.063041
               ],
               [
                6.606237,
                52.065155
               ],
               [
                6.605481,
                52.051855
               ],
               [
                6.574314,
                52.031933
               ],
               [
                6.538989,
                52.025197
               ],
               [
                6.517288,
                52.042414
               ],
               [
                6.462185,
                52.021701
               ],
               [
                6.440027,
                52.027148
               ],
               [
                6.400539,
                52.083811
               ],
               [
                6.423999,
                52.096908
               ],
               [
                6.455205,
                52.10798
               ],
               [
                6.478946,
                52.101351
               ],
               [
                6.492109,
                52.124005
               ],
               [
                6.481224,
                52.142479
               ],
               [
                6.492401,
                52.177372
               ],
               [
                6.590841,
                52.182371
               ],
               [
                6.645041,
                52.174194
               ]
              ]
             ],
             "type": "Polygon"
            },
            "id": "1859",
            "properties": {
             "code": "1859",
             "fid": 39,
             "gemeentena": "Berkelland"
            },
            "type": "Feature"
           },
           {
            "geometry": {
             "coordinates": [
              [
               [
                5.332251,
                52.084163
               ],
               [
                5.438303,
                52.070215
               ],
               [
                5.445703,
                52.045259
               ],
               [
                5.497876,
                52.057018
               ],
               [
                5.529348,
                52.040202
               ],
               [
                5.512592,
                52.018516
               ],
               [
                5.477664,
                51.983473
               ],
               [
                5.433266,
                51.984552
               ],
               [
                5.390976,
                51.97073
               ],
               [
                5.381647,
                52.002138
               ],
               [
                5.314649,
                52.027001
               ],
               [
                5.27991,
                52.010722
               ],
               [
                5.263239,
                52.02438
               ],
               [
                5.247423,
                52.058647
               ],
               [
                5.29076,
                52.086568
               ],
               [
                5.332251,
                52.084163
               ]
              ]
             ],
             "type": "Polygon"
            },
            "id": "1581",
            "properties": {
             "code": "1581",
             "fid": 40,
             "gemeentena": "Utrechtse Heuvelrug"
            },
            "type": "Feature"
           },
           {
            "geometry": {
             "coordinates": [
              [
               [
                5.403519,
                52.246788
               ],
               [
                5.395522,
                52.219154
               ],
               [
                5.392735,
                52.205528
               ],
               [
                5.330541,
                52.214732
               ],
               [
                5.312278,
                52.232829
               ],
               [
                5.331193,
                52.273538
               ],
               [
                5.356375,
                52.269804
               ],
               [
                5.403519,
                52.246788
               ]
              ]
             ],
             "type": "Polygon"
            },
            "id": "0313",
            "properties": {
             "code": "0313",
             "fid": 41,
             "gemeentena": "Bunschoten"
            },
            "type": "Feature"
           },
           {
            "geometry": {
             "coordinates": [
              [
               [
                5.220625,
                53.364009
               ],
               [
                5.196373,
                53.348768
               ],
               [
                5.15191,
                53.349808
               ],
               [
                5.191231,
                53.391041
               ],
               [
                5.259624,
                53.405644
               ],
               [
                5.484691,
                53.442521
               ],
               [
                5.548489,
                53.436286
               ],
               [
                5.475451,
                53.417026
               ],
               [
                5.453873,
                53.403967
               ],
               [
                5.40455,
                53.404228
               ],
               [
                5.292907,
                53.370299
               ],
               [
                5.260099,
                53.372464
               ],
               [
                5.220625,
                53.364009
               ]
              ]
             ],
             "type": "Polygon"
            },
            "id": "0093",
            "properties": {
             "code": "0093",
             "fid": 42,
             "gemeentena": "Terschelling"
            },
            "type": "Feature"
           },
           {
            "geometry": {
             "coordinates": [
              [
               [
                4.752139,
                52.591891
               ],
               [
                4.745084,
                52.566852
               ],
               [
                4.781623,
                52.557102
               ],
               [
                4.777733,
                52.533745
               ],
               [
                4.71886,
                52.551643
               ],
               [
                4.695736,
                52.526728
               ],
               [
                4.598185,
                52.531162
               ],
               [
                4.609824,
                52.57376
               ],
               [
                4.672581,
                52.590904
               ],
               [
                4.685317,
                52.580977
               ],
               [
                4.739993,
                52.578928
               ],
               [
                4.752139,
                52.591891
               ]
              ]
             ],
             "type": "Polygon"
            },
            "id": "0383",
            "properties": {
             "code": "0383",
             "fid": 43,
             "gemeentena": "Castricum"
            },
            "type": "Feature"
           },
           {
            "geometry": {
             "coordinates": [
              [
               [
                5.87911,
                51.80953
               ],
               [
                5.893409,
                51.777853
               ],
               [
                5.864469,
                51.757682
               ],
               [
                5.790534,
                51.753509
               ],
               [
                5.747848,
                51.757599
               ],
               [
                5.729745,
                51.772851
               ],
               [
                5.800949,
                51.795151
               ],
               [
                5.837108,
                51.806076
               ],
               [
                5.87911,
                51.80953
               ]
              ]
             ],
             "type": "Polygon"
            },
            "id": "0252",
            "properties": {
             "code": "0252",
             "fid": 44,
             "gemeentena": "Heumen"
            },
            "type": "Feature"
           },
           {
            "geometry": {
             "coordinates": [
              [
               [
                4.83391,
                52.53896
               ],
               [
                4.842956,
                52.526982
               ],
               [
                4.934352,
                52.511641
               ],
               [
                4.920651,
                52.490434
               ],
               [
                4.90647,
                52.479826
               ],
               [
                4.852505,
                52.470367
               ],
               [
                4.798843,
                52.491105
               ],
               [
                4.789861,
                52.519236
               ],
               [
                4.83391,
                52.53896
               ]
              ]
             ],
             "type": "Polygon"
            },
            "id": "0880",
            "properties": {
             "code": "0880",
             "fid": 45,
             "gemeentena": "Wormerland"
            },
            "type": "Feature"
           },
           {
            "geometry": {
             "coordinates": [
              [
               [
                4.909135,
                52.318253
               ],
               [
                4.912932,
                52.33051
               ],
               [
                4.94986,
                52.338528
               ],
               [
                4.944716,
                52.32713
               ],
               [
                4.929473,
                52.307414
               ],
               [
                4.955241,
                52.278305
               ],
               [
                4.933864,
                52.280884
               ],
               [
                4.911027,
                52.25271
               ],
               [
                4.870121,
                52.253282
               ],
               [
                4.878783,
                52.278903
               ],
               [
                4.909135,
                52.318253
               ]
              ]
             ],
             "type": "Polygon"
            },
            "id": "0437",
            "properties": {
             "code": "0437",
             "fid": 46,
             "gemeentena": "Ouder-Amstel"
            },
            "type": "Feature"
           },
           {
            "geometry": {
             "coordinates": [
              [
               [
                6.084717,
                51.297454
               ],
               [
                6.124758,
                51.27755
               ],
               [
                6.072664,
                51.24256
               ],
               [
                6.027856,
                51.245547
               ],
               [
                6.00588,
                51.258683
               ],
               [
                6.009612,
                51.265759
               ],
               [
                6.084717,
                51.297454
               ]
              ]
             ],
             "type": "Polygon"
            },
            "id": "0889",
            "properties": {
             "code": "0889",
             "fid": 47,
             "gemeentena": "Beesel"
            },
            "type": "Feature"
           },
           {
            "geometry": {
             "coordinates": [
              [
               [
                6.390315,
                52.428145
               ],
               [
                6.428777,
                52.438687
               ],
               [
                6.450098,
                52.461256
               ],
               [
                6.475599,
                52.440857
               ],
               [
                6.510901,
                52.437173
               ],
               [
                6.543152,
                52.451222
               ],
               [
                6.598148,
                52.439029
               ],
               [
                6.575952,
                52.417513
               ],
               [
                6.515982,
                52.406122
               ],
               [
                6.512607,
                52.38184
               ],
               [
                6.468189,
                52.326462
               ],
               [
                6.356016,
                52.318219
               ],
               [
                6.333502,
                52.351398
               ],
               [
                6.343082,
                52.370032
               ],
               [
                6.38841,
                52.379782
               ],
               [
                6.40517,
                52.415542
               ],
               [
                6.390315,
                52.428145
               ]
              ]
             ],
             "type": "Polygon"
            },
            "id": "0163",
            "properties": {
             "code": "0163",
             "fid": 48,
             "gemeentena": "Hellendoorn"
            },
            "type": "Feature"
           },
           {
            "geometry": {
             "coordinates": [
              [
               [
                5.021867,
                52.282653
               ],
               [
                5.064412,
                52.280738
               ],
               [
                5.033278,
                52.275412
               ],
               [
                5.034413,
                52.252922
               ],
               [
                5.056224,
                52.234979
               ],
               [
                5.036666,
                52.22436
               ],
               [
                5.035008,
                52.186943
               ],
               [
                5.046421,
                52.165929
               ],
               [
                5.115294,
                52.179853
               ],
               [
                5.09489,
                52.155349
               ],
               [
                5.107093,
                52.133211
               ],
               [
                5.087165,
                52.135671
               ],
               [
                5.032676,
                52.116768
               ],
               [
                5.002154,
                52.141759
               ],
               [
                4.970096,
                52.122442
               ],
               [
                4.943916,
                52.127537
               ],
               [
                4.909638,
                52.161871
               ],
               [
                4.928606,
                52.1672
               ],
               [
                4.980414,
                52.226847
               ],
               [
                5.007463,
                52.231705
               ],
               [
                5.021867,
                52.282653
               ]
              ]
             ],
             "type": "Polygon"
            },
            "id": "1904",
            "properties": {
             "code": "1904",
             "fid": 49,
             "gemeentena": "Stichtse Vecht"
            },
            "type": "Feature"
           },
           {
            "geometry": {
             "coordinates": [
              [
               [
                5.369447,
                51.465317
               ],
               [
                5.356917,
                51.438204
               ],
               [
                5.319371,
                51.423795
               ],
               [
                5.323664,
                51.406187
               ],
               [
                5.354363,
                51.408783
               ],
               [
                5.388907,
                51.37646
               ],
               [
                5.346101,
                51.357901
               ],
               [
                5.347121,
                51.337453
               ],
               [
                5.316672,
                51.323389
               ],
               [
                5.263411,
                51.319282
               ],
               [
                5.285973,
                51.336339
               ],
               [
                5.275299,
                51.362723
               ],
               [
                5.28924,
                51.388909
               ],
               [
                5.281898,
                51.40437
               ],
               [
                5.237705,
                51.428559
               ],
               [
                5.248396,
                51.445631
               ],
               [
                5.334728,
                51.465875
               ],
               [
                5.369447,
                51.465317
               ]
              ]
             ],
             "type": "Polygon"
            },
            "id": "0770",
            "properties": {
             "code": "0770",
             "fid": 50,
             "gemeentena": "Eersel"
            },
            "type": "Feature"
           },
           {
            "geometry": {
             "coordinates": [
              [
               [
                5.607825,
                52.681656
               ],
               [
                5.593221,
                52.676281
               ],
               [
                5.59618,
                52.765975
               ],
               [
                5.660371,
                52.828355
               ],
               [
                5.713082,
                52.838027
               ],
               [
                5.748807,
                52.83968
               ],
               [
                5.795177,
                52.806522
               ],
               [
                5.818792,
                52.784697
               ],
               [
                5.849699,
                52.784739
               ],
               [
                5.922574,
                52.750692
               ],
               [
                5.955104,
                52.705708
               ],
               [
                5.95226,
                52.688304
               ],
               [
                5.932747,
                52.675462
               ],
               [
                5.938199,
                52.668747
               ],
               [
                5.983584,
                52.656004
               ],
               [
                5.961994,
                52.638524
               ],
               [
                5.832629,
                52.61246
               ],
               [
                5.65129,
                52.614715
               ],
               [
                5.649911,
                52.615694
               ],
               [
                5.630008,
                52.637445
               ],
               [
                5.655379,
                52.66595
               ],
               [
                5.643057,
                52.682456
               ],
               [
                5.607881,
                52.681683
               ],
               [
                5.607825,
                52.681656
               ]
              ]
             ],
             "type": "Polygon"
            },
            "id": "0171",
            "properties": {
             "code": "0171",
             "fid": 51,
             "gemeentena": "Noordoostpolder"
            },
            "type": "Feature"
           },
           {
            "geometry": {
             "coordinates": [
              [
               [
                4.639648,
                52.338906
               ],
               [
                4.611384,
                52.322205
               ],
               [
                4.590186,
                52.328353
               ],
               [
                4.605724,
                52.363405
               ],
               [
                4.636626,
                52.361484
               ],
               [
                4.639648,
                52.338906
               ]
              ]
             ],
             "type": "Polygon"
            },
            "id": "0397",
            "properties": {
             "code": "0397",
             "fid": 52,
             "gemeentena": "Heemstede"
            },
            "type": "Feature"
           },
           {
            "geometry": {
             "coordinates": [
              [
               [
                4.383665,
                51.842118
               ],
               [
                4.432482,
                51.837046
               ],
               [
                4.353342,
                51.819055
               ],
               [
                4.263213,
                51.802657
               ],
               [
                4.234643,
                51.783545
               ],
               [
                4.19422,
                51.804123
               ],
               [
                4.222048,
                51.826662
               ],
               [
                4.185273,
                51.849708
               ],
               [
                4.239383,
                51.872986
               ],
               [
                4.269163,
                51.864522
               ],
               [
                4.335554,
                51.864302
               ],
               [
                4.383665,
                51.842118
               ]
              ]
             ],
             "type": "Polygon"
            },
            "id": "1930",
            "properties": {
             "code": "1930",
             "fid": 53,
             "gemeentena": "Nissewaard"
            },
            "type": "Feature"
           },
           {
            "geometry": {
             "coordinates": [
              [
               [
                6.513386,
                53.196937
               ],
               [
                6.536265,
                53.168002
               ],
               [
                6.539081,
                53.132506
               ],
               [
                6.4803,
                53.120787
               ],
               [
                6.513356,
                53.07228
               ],
               [
                6.50513,
                53.046355
               ],
               [
                6.488212,
                53.005405
               ],
               [
                6.41328,
                52.985523
               ],
               [
                6.362521,
                53.033969
               ],
               [
                6.367811,
                53.06736
               ],
               [
                6.332055,
                53.075279
               ],
               [
                6.315157,
                53.094053
               ],
               [
                6.344433,
                53.087135
               ],
               [
                6.382612,
                53.14957
               ],
               [
                6.405805,
                53.176763
               ],
               [
                6.463461,
                53.200058
               ],
               [
                6.513386,
                53.196937
               ]
              ]
             ],
             "type": "Polygon"
            },
            "id": "1699",
            "properties": {
             "code": "1699",
             "fid": 54,
             "gemeentena": "Noordenveld"
            },
            "type": "Feature"
           },
           {
            "geometry": {
             "coordinates": [
              [
               [
                6.289289,
                53.491287
               ],
               [
                6.263628,
                53.480753
               ],
               [
                6.114688,
                53.464975
               ],
               [
                6.118248,
                53.482644
               ],
               [
                6.160722,
                53.499718
               ],
               [
                6.285931,
                53.508627
               ],
               [
                6.289289,
                53.491287
               ]
              ]
             ],
             "type": "Polygon"
            },
            "id": "0088",
            "properties": {
             "code": "0088",
             "fid": 55,
             "gemeentena": "Schiermonnikoog"
            },
            "type": "Feature"
           },
           {
            "geometry": {
             "coordinates": [
              [
               [
                5.08176,
                51.722344
               ],
               [
                5.128055,
                51.737607
               ],
               [
                5.1857,
                51.741918
               ],
               [
                5.206494,
                51.741477
               ],
               [
                5.231032,
                51.724086
               ],
               [
                5.226158,
                51.690031
               ],
               [
                5.204777,
                51.669822
               ],
               [
                5.166798,
                51.669047
               ],
               [
                5.144938,
                51.640512
               ],
               [
                5.106137,
                51.635956
               ],
               [
                5.101509,
                51.676835
               ],
               [
                5.106855,
                51.710861
               ],
               [
                5.08176,
                51.722344
               ]
              ]
             ],
             "type": "Polygon"
            },
            "id": "0797",
            "properties": {
             "code": "0797",
             "fid": 56,
             "gemeentena": "Heusden"
            },
            "type": "Feature"
           },
           {
            "geometry": {
             "coordinates": [
              [
               [
                5.504874,
                51.400155
               ],
               [
                5.516418,
                51.378336
               ],
               [
                5.441895,
                51.367485
               ],
               [
                5.423207,
                51.374866
               ],
               [
                5.421801,
                51.38341
               ],
               [
                5.427277,
                51.402654
               ],
               [
                5.504874,
                51.400155
               ]
              ]
             ],
             "type": "Polygon"
            },
            "id": "0866",
            "properties": {
             "code": "0866",
             "fid": 57,
             "gemeentena": "Waalre"
            },
            "type": "Feature"
           },
           {
            "geometry": {
             "coordinates": [
              [
               [
                4.752139,
                52.591891
               ],
               [
                4.739451,
                52.613868
               ],
               [
                4.714587,
                52.624782
               ],
               [
                4.710038,
                52.642486
               ],
               [
                4.752411,
                52.671446
               ],
               [
                4.741742,
                52.680807
               ],
               [
                4.779026,
                52.676484
               ],
               [
                4.800509,
                52.660241
               ],
               [
                4.785587,
                52.639163
               ],
               [
                4.830225,
                52.632678
               ],
               [
                4.873399,
                52.634446
               ],
               [
                4.883992,
                52.613139
               ],
               [
                4.926925,
                52.606697
               ],
               [
                4.898923,
                52.601688
               ],
               [
                4.83391,
                52.53896
               ],
               [
                4.789861,
                52.519236
               ],
               [
                4.782476,
                52.519581
               ],
               [
                4.777733,
                52.533745
               ],
               [
                4.781623,
                52.557102
               ],
               [
                4.745084,
                52.566852
               ],
               [
                4.752139,
                52.591891
               ]
              ]
             ],
             "type": "Polygon"
            },
            "id": "0361",
            "properties": {
             "code": "0361",
             "fid": 58,
             "gemeentena": "Alkmaar"
            },
            "type": "Feature"
           },
           {
            "geometry": {
             "coordinates": [
              [
               [
                5.423207,
                51.374866
               ],
               [
                5.441895,
                51.367485
               ],
               [
                5.516418,
                51.378336
               ],
               [
                5.473605,
                51.333943
               ],
               [
                5.491258,
                51.314661
               ],
               [
                5.484859,
                51.3
               ],
               [
                5.441782,
                51.282106
               ],
               [
                5.417412,
                51.262286
               ],
               [
                5.387804,
                51.285239
               ],
               [
                5.394262,
                51.308785
               ],
               [
                5.424291,
                51.33076
               ],
               [
                5.423207,
                51.374866
               ]
              ]
             ],
             "type": "Polygon"
            },
            "id": "0858",
            "properties": {
             "code": "0858",
             "fid": 59,
             "gemeentena": "Valkenswaard"
            },
            "type": "Feature"
           },
           {
            "geometry": {
             "coordinates": [
              [
               [
                5.79177,
                51.237537
               ],
               [
                5.723565,
                51.282658
               ],
               [
                5.656958,
                51.279732
               ],
               [
                5.643997,
                51.290575
               ],
               [
                5.672111,
                51.315094
               ],
               [
                5.770449,
                51.333805
               ],
               [
                5.840194,
                51.346877
               ],
               [
                5.852142,
                51.320702
               ],
               [
                5.877823,
                51.316578
               ],
               [
                5.860725,
                51.310802
               ],
               [
                5.833798,
                51.27477
               ],
               [
                5.853445,
                51.24474
               ],
               [
                5.79177,
                51.237537
               ]
              ]
             ],
             "type": "Polygon"
            },
            "id": "0946",
            "properties": {
             "code": "0946",
             "fid": 60,
             "gemeentena": "Nederweert"
            },
            "type": "Feature"
           },
           {
            "geometry": {
             "coordinates": [
              [
               [
                5.954816,
                50.845924
               ],
               [
                5.969362,
                50.86008
               ],
               [
                6.023723,
                50.818403
               ],
               [
                5.983518,
                50.80973
               ],
               [
                5.954816,
                50.845924
               ]
              ]
             ],
             "type": "Polygon"
            },
            "id": "0965",
            "properties": {
             "code": "0965",
             "fid": 61,
             "gemeentena": "Simpelveld"
            },
            "type": "Feature"
           },
           {
            "geometry": {
             "coordinates": [
              [
               [
                4.852505,
                52.470367
               ],
               [
                4.90647,
                52.479826
               ],
               [
                4.893319,
                52.457276
               ],
               [
                4.898741,
                52.42449
               ],
               [
                4.862677,
                52.429941
               ],
               [
                4.842951,
                52.452261
               ],
               [
                4.852505,
                52.470367
               ]
              ]
             ],
             "type": "Polygon"
            },
            "id": "0431",
            "properties": {
             "code": "0431",
             "fid": 62,
             "gemeentena": "Oostzaan"
            },
            "type": "Feature"
           },
           {
            "geometry": {
             "coordinates": [
              [
               [
                6.772527,
                53.283087
               ],
               [
                6.69833,
                53.256145
               ],
               [
                6.717686,
                53.241872
               ],
               [
                6.698075,
                53.214749
               ],
               [
                6.641706,
                53.185481
               ],
               [
                6.683501,
                53.160474
               ],
               [
                6.695367,
                53.121176
               ],
               [
                6.637052,
                53.108258
               ],
               [
                6.619053,
                53.13151
               ],
               [
                6.563687,
                53.157638
               ],
               [
                6.548188,
                53.181098
               ],
               [
                6.513386,
                53.196937
               ],
               [
                6.463461,
                53.200058
               ],
               [
                6.48038,
                53.244895
               ],
               [
                6.50824,
                53.257574
               ],
               [
                6.553945,
                53.262126
               ],
               [
                6.619297,
                53.249448
               ],
               [
                6.654053,
                53.308645
               ],
               [
                6.689592,
                53.297449
               ],
               [
                6.708863,
                53.309911
               ],
               [
                6.764621,
                53.298134
               ],
               [
                6.772527,
                53.283087
               ]
              ]
             ],
             "type": "Polygon"
            },
            "id": "0014",
            "properties": {
             "code": "0014",
             "fid": 63,
             "gemeentena": "Groningen"
            },
            "type": "Feature"
           },
           {
            "geometry": {
             "coordinates": [
              [
               [
                [
                 5.717377,
                 53.3389
                ],
                [
                 5.764034,
                 53.350812
                ],
                [
                 5.858632,
                 53.383575
                ],
                [
                 5.917348,
                 53.387092
                ],
                [
                 6.016208,
                 53.403142
                ],
                [
                 6.069696,
                 53.407552
                ],
                [
                 6.138429,
                 53.403539
                ],
                [
                 6.19142,
                 53.411043
                ],
                [
                 6.167945,
                 53.390759
                ],
                [
                 6.178588,
                 53.364828
                ],
                [
                 6.286981,
                 53.341382
                ],
                [
                 6.278307,
                 53.302731
                ],
                [
                 6.253187,
                 53.287859
                ],
                [
                 6.232173,
                 53.256747
                ],
                [
                 6.19379,
                 53.270037
                ],
                [
                 6.141058,
                 53.264383
                ],
                [
                 6.043966,
                 53.243502
                ],
                [
                 6.067568,
                 53.323648
                ],
                [
                 6.022438,
                 53.324031
                ],
                [
                 6.021122,
                 53.308844
                ],
                [
                 5.975853,
                 53.306927
                ],
                [
                 5.963858,
                 53.322853
                ],
                [
                 5.896565,
                 53.301742
                ],
                [
                 5.882245,
                 53.276782
                ],
                [
                 5.838649,
                 53.274949
                ],
                [
                 5.763197,
                 53.294492
                ],
                [
                 5.735384,
                 53.294721
                ],
                [
                 5.749301,
                 53.313555
                ],
                [
                 5.722394,
                 53.322293
                ],
                [
                 5.717377,
                 53.3389
                ]
               ]
              ],
              [
               [
                [
                 6.057722,
                 53.475902
                ],
                [
                 6.058382,
                 53.474473
                ],
                [
                 6.059209,
                 53.472684
                ],
                [
                 6.062022,
                 53.466593
                ],
                [
                 6.057722,
                 53.475902
                ]
               ]
              ]
             ],
             "type": "MultiPolygon"
            },
            "id": "1970",
            "properties": {
             "code": "1970",
             "fid": 64,
             "gemeentena": "Noardeast-FryslÃ¢n"
            },
            "type": "Feature"
           },
           {
            "geometry": {
             "coordinates": [
              [
               [
                4.547322,
                52.313997
               ],
               [
                4.493822,
                52.328237
               ],
               [
                4.541213,
                52.401423
               ],
               [
                4.591659,
                52.391716
               ],
               [
                4.547322,
                52.313997
               ]
              ]
             ],
             "type": "Polygon"
            },
            "id": "0473",
            "properties": {
             "code": "0473",
             "fid": 65,
             "gemeentena": "Zandvoort"
            },
            "type": "Feature"
           },
           {
            "geometry": {
             "coordinates": [
              [
               [
                4.89986,
                52.697587
               ],
               [
                4.905618,
                52.686419
               ],
               [
                4.95289,
                52.67213
               ],
               [
                4.979205,
                52.679679
               ],
               [
                5.034763,
                52.666556
               ],
               [
                5.038137,
                52.648929
               ],
               [
                5.019699,
                52.629963
               ],
               [
                5.019305,
                52.612447
               ],
               [
                5.004881,
                52.597573
               ],
               [
                4.94985,
                52.595285
               ],
               [
                4.926925,
                52.606697
               ],
               [
                4.883992,
                52.613139
               ],
               [
                4.873399,
                52.634446
               ],
               [
                4.863179,
                52.656469
               ],
               [
                4.877691,
                52.687262
               ],
               [
                4.89986,
                52.697587
               ]
              ]
             ],
             "type": "Polygon"
            },
            "id": "1598",
            "properties": {
             "code": "1598",
             "fid": 66,
             "gemeentena": "Koggenland"
            },
            "type": "Feature"
           },
           {
            "geometry": {
             "coordinates": [
              [
               [
                6.006085,
                52.066349
               ],
               [
                6.068281,
                52.088246
               ],
               [
                6.137469,
                52.059181
               ],
               [
                6.121502,
                52.034617
               ],
               [
                6.12596,
                52.010127
               ],
               [
                6.109591,
                51.996437
               ],
               [
                6.092734,
                51.992751
               ],
               [
                6.061781,
                52.014982
               ],
               [
                6.001965,
                51.98065
               ],
               [
                5.99034,
                51.974406
               ],
               [
                5.951526,
                51.999638
               ],
               [
                5.974514,
                52.002839
               ],
               [
                5.995805,
                52.02622
               ],
               [
                5.977959,
                52.05439
               ],
               [
                6.006085,
                52.066349
               ]
              ]
             ],
             "type": "Polygon"
            },
            "id": "0275",
            "properties": {
             "code": "0275",
             "fid": 67,
             "gemeentena": "Rheden"
            },
            "type": "Feature"
           },
           {
            "geometry": {
             "coordinates": [
              [
               [
                5.091752,
                52.678924
               ],
               [
                5.187023,
                52.707452
               ],
               [
                5.209663,
                52.683933
               ],
               [
                5.247083,
                52.684972
               ],
               [
                5.236468,
                52.657134
               ],
               [
                5.159238,
                52.622928
               ],
               [
                5.128761,
                52.619596
               ],
               [
                5.100815,
                52.634756
               ],
               [
                5.117078,
                52.649986
               ],
               [
                5.091752,
                52.678924
               ]
              ]
             ],
             "type": "Polygon"
            },
            "id": "0498",
            "properties": {
             "code": "0498",
             "fid": 68,
             "gemeentena": "Drechterland"
            },
            "type": "Feature"
           },
           {
            "geometry": {
             "coordinates": [
              [
               [
                6.834299,
                53.343308
               ],
               [
                6.800842,
                53.366089
               ],
               [
                6.777166,
                53.397965
               ],
               [
                6.792455,
                53.403596
               ],
               [
                6.843718,
                53.42242
               ],
               [
                6.875061,
                53.408023
               ],
               [
                6.88885,
                53.395886
               ],
               [
                6.899751,
                53.351118
               ],
               [
                6.943223,
                53.323983
               ],
               [
                7.026199,
                53.3026
               ],
               [
                7.084657,
                53.297953
               ],
               [
                7.076073,
                53.267632
               ],
               [
                7.090353,
                53.256322
               ],
               [
                7.067522,
                53.242378
               ],
               [
                7.041674,
                53.259266
               ],
               [
                6.995472,
                53.266954
               ],
               [
                6.911344,
                53.243015
               ],
               [
                6.909103,
                53.278977
               ],
               [
                6.887377,
                53.297882
               ],
               [
                6.882551,
                53.338041
               ],
               [
                6.834299,
                53.343308
               ]
              ]
             ],
             "type": "Polygon"
            },
            "id": "0010",
            "properties": {
             "code": "0010",
             "fid": 69,
             "gemeentena": "Delfzijl"
            },
            "type": "Feature"
           },
           {
            "geometry": {
             "coordinates": [
              [
               [
                5.864469,
                51.757682
               ],
               [
                5.886635,
                51.726266
               ],
               [
                5.91947,
                51.717671
               ],
               [
                5.933785,
                51.71614
               ],
               [
                5.859903,
                51.669914
               ],
               [
                5.842805,
                51.67997
               ],
               [
                5.805339,
                51.700511
               ],
               [
                5.79244,
                51.720559
               ],
               [
                5.790534,
                51.753509
               ],
               [
                5.864469,
                51.757682
               ]
              ]
             ],
             "type": "Polygon"
            },
            "id": "1684",
            "properties": {
             "code": "1684",
             "fid": 70,
             "gemeentena": "Cuijk"
            },
            "type": "Feature"
           },
           {
            "geometry": {
             "coordinates": [
              [
               [
                6.575952,
                52.417513
               ],
               [
                6.598851,
                52.383658
               ],
               [
                6.615512,
                52.361261
               ],
               [
                6.601768,
                52.337282
               ],
               [
                6.626066,
                52.289974
               ],
               [
                6.605363,
                52.270689
               ],
               [
                6.568191,
                52.270144
               ],
               [
                6.554009,
                52.283313
               ],
               [
                6.545253,
                52.318107
               ],
               [
                6.468189,
                52.326462
               ],
               [
                6.512607,
                52.38184
               ],
               [
                6.515982,
                52.406122
               ],
               [
                6.575952,
                52.417513
               ]
              ]
             ],
             "type": "Polygon"
            },
            "id": "0189",
            "properties": {
             "code": "0189",
             "fid": 71,
             "gemeentena": "Wierden"
            },
            "type": "Feature"
           },
           {
            "geometry": {
             "coordinates": [
              [
               [
                6.231439,
                52.741709
               ],
               [
                6.252028,
                52.758311
               ],
               [
                6.296635,
                52.765926
               ],
               [
                6.310415,
                52.795522
               ],
               [
                6.340498,
                52.798979
               ],
               [
                6.36109,
                52.783236
               ],
               [
                6.394155,
                52.777533
               ],
               [
                6.413106,
                52.7883
               ],
               [
                6.44692,
                52.785889
               ],
               [
                6.410134,
                52.764885
               ],
               [
                6.423193,
                52.743
               ],
               [
                6.407168,
                52.706796
               ],
               [
                6.448677,
                52.693788
               ],
               [
                6.48598,
                52.693633
               ],
               [
                6.499552,
                52.673554
               ],
               [
                6.530556,
                52.672472
               ],
               [
                6.529381,
                52.654507
               ],
               [
                6.513861,
                52.646294
               ],
               [
                6.518604,
                52.614088
               ],
               [
                6.431243,
                52.628378
               ],
               [
                6.383837,
                52.612198
               ],
               [
                6.364382,
                52.642778
               ],
               [
                6.327798,
                52.658693
               ],
               [
                6.265501,
                52.667988
               ],
               [
                6.286618,
                52.699177
               ],
               [
                6.248392,
                52.708197
               ],
               [
                6.216904,
                52.703158
               ],
               [
                6.231439,
                52.741709
               ]
              ]
             ],
             "type": "Polygon"
            },
            "id": "1690",
            "properties": {
             "code": "1690",
             "fid": 72,
             "gemeentena": "De Wolden"
            },
            "type": "Feature"
           },
           {
            "geometry": {
             "coordinates": [
              [
               [
                5.017933,
                52.323192
               ],
               [
                5.016134,
                52.324512
               ],
               [
                5.028183,
                52.337938
               ],
               [
                5.093652,
                52.339009
               ],
               [
                5.136564,
                52.326357
               ],
               [
                5.163013,
                52.305277
               ],
               [
                5.228545,
                52.311069
               ],
               [
                5.195855,
                52.29925
               ],
               [
                5.201117,
                52.26814
               ],
               [
                5.162129,
                52.255796
               ],
               [
                5.141297,
                52.277446
               ],
               [
                5.104646,
                52.285385
               ],
               [
                5.098849,
                52.311131
               ],
               [
                5.039391,
                52.329106
               ],
               [
                5.017933,
                52.323192
               ]
              ]
             ],
             "type": "Polygon"
            },
            "id": "1942",
            "properties": {
             "code": "1942",
             "fid": 73,
             "gemeentena": "Gooise Meren"
            },
            "type": "Feature"
           },
           {
            "geometry": {
             "coordinates": [
              [
               [
                5.75702,
                52.406771
               ],
               [
                5.770748,
                52.395515
               ],
               [
                5.811672,
                52.402799
               ],
               [
                5.864792,
                52.359658
               ],
               [
                5.876009,
                52.357873
               ],
               [
                5.880951,
                52.335186
               ],
               [
                5.840831,
                52.304398
               ],
               [
                5.850811,
                52.268695
               ],
               [
                5.821427,
                52.272672
               ],
               [
                5.749227,
                52.268273
               ],
               [
                5.750748,
                52.317074
               ],
               [
                5.706171,
                52.328382
               ],
               [
                5.712501,
                52.331914
               ],
               [
                5.695606,
                52.36074
               ],
               [
                5.680142,
                52.375871
               ],
               [
                5.679316,
                52.377002
               ],
               [
                5.678922,
                52.378841
               ],
               [
                5.680739,
                52.379014
               ],
               [
                5.75702,
                52.406771
               ]
              ]
             ],
             "type": "Polygon"
            },
            "id": "0302",
            "properties": {
             "code": "0302",
             "fid": 74,
             "gemeentena": "Nunspeet"
            },
            "type": "Feature"
           },
           {
            "geometry": {
             "coordinates": [
              [
               [
                4.190664,
                52.058564
               ],
               [
                4.192396,
                52.057681
               ],
               [
                4.196329,
                52.055676
               ],
               [
                4.213781,
                52.031784
               ],
               [
                4.248217,
                52.025226
               ],
               [
                4.272663,
                52.035917
               ],
               [
                4.307639,
                52.018151
               ],
               [
                4.309819,
                52.015634
               ],
               [
                4.265431,
                51.995731
               ],
               [
                4.303143,
                51.9799
               ],
               [
                4.240317,
                51.942872
               ],
               [
                4.219529,
                51.9414
               ],
               [
                4.187493,
                51.966837
               ],
               [
                4.147281,
                51.981393
               ],
               [
                4.124988,
                52.001776
               ],
               [
                4.190664,
                52.058564
               ]
              ]
             ],
             "type": "Polygon"
            },
            "id": "1783",
            "properties": {
             "code": "1783",
             "fid": 75,
             "gemeentena": "Westland"
            },
            "type": "Feature"
           },
           {
            "geometry": {
             "coordinates": [
              [
               [
                5.404233,
                51.548292
               ],
               [
                5.423843,
                51.534055
               ],
               [
                5.447508,
                51.512069
               ],
               [
                5.442571,
                51.493927
               ],
               [
                5.401583,
                51.485956
               ],
               [
                5.391187,
                51.471756
               ],
               [
                5.389937,
                51.487533
               ],
               [
                5.355887,
                51.496107
               ],
               [
                5.349402,
                51.51706
               ],
               [
                5.356911,
                51.544717
               ],
               [
                5.404233,
                51.548292
               ]
              ]
             ],
             "type": "Polygon"
            },
            "id": "0753",
            "properties": {
             "code": "0753",
             "fid": 76,
             "gemeentena": "Best"
            },
            "type": "Feature"
           },
           {
            "geometry": {
             "coordinates": [
              [
               [
                [
                 6.286981,
                 53.341382
                ],
                [
                 6.178588,
                 53.364828
                ],
                [
                 6.167945,
                 53.390759
                ],
                [
                 6.19142,
                 53.411043
                ],
                [
                 6.260163,
                 53.414348
                ],
                [
                 6.306612,
                 53.39279
                ],
                [
                 6.339209,
                 53.406462
                ],
                [
                 6.412815,
                 53.422501
                ],
                [
                 6.577869,
                 53.43352
                ],
                [
                 6.648301,
                 53.454586
                ],
                [
                 6.754419,
                 53.466001
                ],
                [
                 6.79925,
                 53.455657
                ],
                [
                 6.814488,
                 53.463348
                ],
                [
                 6.882614,
                 53.440236
                ],
                [
                 6.875061,
                 53.408023
                ],
                [
                 6.843718,
                 53.42242
                ],
                [
                 6.792455,
                 53.403596
                ],
                [
                 6.778614,
                 53.410788
                ],
                [
                 6.697033,
                 53.362903
                ],
                [
                 6.630953,
                 53.362648
                ],
                [
                 6.595831,
                 53.347141
                ],
                [
                 6.619862,
                 53.314428
                ],
                [
                 6.654053,
                 53.308645
                ],
                [
                 6.619297,
                 53.249448
                ],
                [
                 6.553945,
                 53.262126
                ],
                [
                 6.50824,
                 53.257574
                ],
                [
                 6.504062,
                 53.295695
                ],
                [
                 6.474748,
                 53.323861
                ],
                [
                 6.441293,
                 53.316807
                ],
                [
                 6.367591,
                 53.321623
                ],
                [
                 6.324354,
                 53.315648
                ],
                [
                 6.286981,
                 53.341382
                ]
               ]
              ],
              [
               [
                [
                 6.474624,
                 53.518769
                ],
                [
                 6.459387,
                 53.539319
                ],
                [
                 6.48147,
                 53.552426
                ],
                [
                 6.505841,
                 53.537503
                ],
                [
                 6.474624,
                 53.518769
                ]
               ]
              ]
             ],
             "type": "MultiPolygon"
            },
            "id": "1966",
            "properties": {
             "code": "1966",
             "fid": 77,
             "gemeentena": "Het Hogeland"
            },
            "type": "Feature"
           },
           {
            "geometry": {
             "coordinates": [
              [
               [
                3.633626,
                51.58934
               ],
               [
                3.653128,
                51.568463
               ],
               [
                3.694674,
                51.550167
               ],
               [
                3.696382,
                51.535184
               ],
               [
                3.65884,
                51.519261
               ],
               [
                3.613158,
                51.535142
               ],
               [
                3.583684,
                51.519627
               ],
               [
                3.586979,
                51.479253
               ],
               [
                3.526856,
                51.463047
               ],
               [
                3.495815,
                51.493973
               ],
               [
                3.433373,
                51.527096
               ],
               [
                3.436351,
                51.540627
               ],
               [
                3.550886,
                51.589063
               ],
               [
                3.577343,
                51.594108
               ],
               [
                3.633626,
                51.58934
               ]
              ]
             ],
             "type": "Polygon"
            },
            "id": "0717",
            "properties": {
             "code": "0717",
             "fid": 78,
             "gemeentena": "Veere"
            },
            "type": "Feature"
           },
           {
            "geometry": {
             "coordinates": [
              [
               [
                5.106785,
                52.774734
               ],
               [
                5.148986,
                52.73945
               ],
               [
                5.192832,
                52.75527
               ],
               [
                5.272245,
                52.746886
               ],
               [
                5.257501,
                52.716181
               ],
               [
                5.210971,
                52.71691
               ],
               [
                5.187023,
                52.707452
               ],
               [
                5.091752,
                52.678924
               ],
               [
                5.034763,
                52.666556
               ],
               [
                4.979205,
                52.679679
               ],
               [
                4.988271,
                52.713382
               ],
               [
                5.011164,
                52.722907
               ],
               [
                4.99686,
                52.752065
               ],
               [
                5.045917,
                52.753356
               ],
               [
                5.069723,
                52.768103
               ],
               [
                5.106785,
                52.774734
               ]
              ]
             ],
             "type": "Polygon"
            },
            "id": "0420",
            "properties": {
             "code": "0420",
             "fid": 79,
             "gemeentena": "Medemblik"
            },
            "type": "Feature"
           },
           {
            "geometry": {
             "coordinates": [
              [
               [
                6.000788,
                52.500149
               ],
               [
                6.027857,
                52.509606
               ],
               [
                6.098271,
                52.471183
               ],
               [
                6.103546,
                52.453964
               ],
               [
                6.022667,
                52.444103
               ],
               [
                6.036945,
                52.470243
               ],
               [
                6.000788,
                52.500149
               ]
              ]
             ],
             "type": "Polygon"
            },
            "id": "0244",
            "properties": {
             "code": "0244",
             "fid": 80,
             "gemeentena": "Hattem"
            },
            "type": "Feature"
           },
           {
            "geometry": {
             "coordinates": [
              [
               [
                7.072205,
                52.372803
               ],
               [
                7.026453,
                52.291968
               ],
               [
                7.02752,
                52.277986
               ],
               [
                7.061284,
                52.234711
               ],
               [
                6.9811,
                52.220737
               ],
               [
                6.96589,
                52.230419
               ],
               [
                6.969015,
                52.267399
               ],
               [
                6.939171,
                52.283869
               ],
               [
                6.950139,
                52.319357
               ],
               [
                6.937531,
                52.332836
               ],
               [
                6.970259,
                52.348767
               ],
               [
                6.97093,
                52.37986
               ],
               [
                7.00783,
                52.363825
               ],
               [
                7.072205,
                52.372803
               ]
              ]
             ],
             "type": "Polygon"
            },
            "id": "0168",
            "properties": {
             "code": "0168",
             "fid": 81,
             "gemeentena": "Losser"
            },
            "type": "Feature"
           },
           {
            "geometry": {
             "coordinates": [
              [
               [
                4.79208,
                52.122287
               ],
               [
                4.832858,
                52.144762
               ],
               [
                4.874518,
                52.138831
               ],
               [
                4.892178,
                52.161798
               ],
               [
                4.909638,
                52.161871
               ],
               [
                4.943916,
                52.127537
               ],
               [
                4.970096,
                52.122442
               ],
               [
                5.005011,
                52.088485
               ],
               [
                4.999498,
                52.066131
               ],
               [
                4.936143,
                52.07992
               ],
               [
                4.8732,
                52.068745
               ],
               [
                4.826276,
                52.074644
               ],
               [
                4.825315,
                52.107151
               ],
               [
                4.79208,
                52.122287
               ]
              ]
             ],
             "type": "Polygon"
            },
            "id": "0632",
            "properties": {
             "code": "0632",
             "fid": 82,
             "gemeentena": "Woerden"
            },
            "type": "Feature"
           },
           {
            "geometry": {
             "coordinates": [
              [
               [
                6.736337,
                52.878691
               ],
               [
                6.724175,
                52.937288
               ],
               [
                6.727712,
                52.95472
               ],
               [
                6.788759,
                52.962775
               ],
               [
                6.841916,
                52.978647
               ],
               [
                6.935685,
                52.993353
               ],
               [
                7.026854,
                52.919037
               ],
               [
                7.045571,
                52.915909
               ],
               [
                7.014799,
                52.872987
               ],
               [
                6.957566,
                52.861796
               ],
               [
                6.948784,
                52.848727
               ],
               [
                6.858512,
                52.813703
               ],
               [
                6.849806,
                52.804634
               ],
               [
                6.765601,
                52.849926
               ],
               [
                6.736337,
                52.878691
               ]
              ]
             ],
             "type": "Polygon"
            },
            "id": "1681",
            "properties": {
             "code": "1681",
             "fid": 83,
             "gemeentena": "Borger-Odoorn"
            },
            "type": "Feature"
           },
           {
            "geometry": {
             "coordinates": [
              [
               [
                3.586979,
                51.479253
               ],
               [
                3.666891,
                51.469615
               ],
               [
                3.703648,
                51.48227
               ],
               [
                3.70565,
                51.476967
               ],
               [
                3.702654,
                51.47483
               ],
               [
                3.706258,
                51.47095
               ],
               [
                3.657789,
                51.456076
               ],
               [
                3.64096,
                51.443981
               ],
               [
                3.573815,
                51.439507
               ],
               [
                3.526856,
                51.463047
               ],
               [
                3.586979,
                51.479253
               ]
              ]
             ],
             "type": "Polygon"
            },
            "id": "0718",
            "properties": {
             "code": "0718",
             "fid": 84,
             "gemeentena": "Vlissingen"
            },
            "type": "Feature"
           },
           {
            "geometry": {
             "coordinates": [
              [
               [
                5.667853,
                51.865927
               ],
               [
                5.678111,
                51.843147
               ],
               [
                5.764732,
                51.832291
               ],
               [
                5.800949,
                51.795151
               ],
               [
                5.729745,
                51.772851
               ],
               [
                5.71123,
                51.775034
               ],
               [
                5.665512,
                51.793634
               ],
               [
                5.638113,
                51.819025
               ],
               [
                5.597977,
                51.828049
               ],
               [
                5.609835,
                51.836274
               ],
               [
                5.635931,
                51.847458
               ],
               [
                5.636177,
                51.867362
               ],
               [
                5.667853,
                51.865927
               ]
              ]
             ],
             "type": "Polygon"
            },
            "id": "0296",
            "properties": {
             "code": "0296",
             "fid": 85,
             "gemeentena": "Wijchen"
            },
            "type": "Feature"
           },
           {
            "geometry": {
             "coordinates": [
              [
               [
                4.738857,
                52.106507
               ],
               [
                4.79208,
                52.122287
               ],
               [
                4.825315,
                52.107151
               ],
               [
                4.826276,
                52.074644
               ],
               [
                4.8732,
                52.068745
               ],
               [
                4.868225,
                52.063446
               ],
               [
                4.82949,
                52.049813
               ],
               [
                4.7987,
                52.022272
               ],
               [
                4.750991,
                52.013899
               ],
               [
                4.706039,
                52.04012
               ],
               [
                4.677311,
                52.043971
               ],
               [
                4.659968,
                52.064104
               ],
               [
                4.715202,
                52.080967
               ],
               [
                4.708758,
                52.093644
               ],
               [
                4.738857,
                52.106507
               ]
              ]
             ],
             "type": "Polygon"
            },
            "id": "1901",
            "properties": {
             "code": "1901",
             "fid": 86,
             "gemeentena": "Bodegraven-Reeuwijk"
            },
            "type": "Feature"
           },
           {
            "geometry": {
             "coordinates": [
              [
               [
                4.706039,
                52.04012
               ],
               [
                4.750991,
                52.013899
               ],
               [
                4.688685,
                51.996258
               ],
               [
                4.666607,
                52.012971
               ],
               [
                4.667279,
                52.025078
               ],
               [
                4.706039,
                52.04012
               ]
              ]
             ],
             "type": "Polygon"
            },
            "id": "0513",
            "properties": {
             "code": "0513",
             "fid": 87,
             "gemeentena": "Gouda"
            },
            "type": "Feature"
           },
           {
            "geometry": {
             "coordinates": [
              [
               [
                4.841878,
                51.480736
               ],
               [
                4.780906,
                51.504047
               ],
               [
                4.760023,
                51.502373
               ],
               [
                4.747081,
                51.515275
               ],
               [
                4.83077,
                51.550352
               ],
               [
                4.862985,
                51.55727
               ],
               [
                4.866232,
                51.538067
               ],
               [
                4.911063,
                51.510081
               ],
               [
                4.962573,
                51.525864
               ],
               [
                4.992298,
                51.512248
               ],
               [
                4.987993,
                51.483045
               ],
               [
                5.016522,
                51.475439
               ],
               [
                5.010463,
                51.458244
               ],
               [
                4.932399,
                51.459135
               ],
               [
                4.891295,
                51.478217
               ],
               [
                4.841878,
                51.480736
               ]
              ]
             ],
             "type": "Polygon"
            },
            "id": "1723",
            "properties": {
             "code": "1723",
             "fid": 88,
             "gemeentena": "Alphen-Chaam"
            },
            "type": "Feature"
           },
           {
            "geometry": {
             "coordinates": [
              [
               [
                4.443999,
                51.569095
               ],
               [
                4.500204,
                51.558536
               ],
               [
                4.523192,
                51.542557
               ],
               [
                4.50218,
                51.516724
               ],
               [
                4.486682,
                51.477353
               ],
               [
                4.391083,
                51.451487
               ],
               [
                4.366966,
                51.456719
               ],
               [
                4.372798,
                51.487724
               ],
               [
                4.34954,
                51.503481
               ],
               [
                4.317978,
                51.551216
               ],
               [
                4.375362,
                51.543721
               ],
               [
                4.441078,
                51.558492
               ],
               [
                4.443999,
                51.569095
               ]
              ]
             ],
             "type": "Polygon"
            },
            "id": "1674",
            "properties": {
             "code": "1674",
             "fid": 89,
             "gemeentena": "Roosendaal"
            },
            "type": "Feature"
           },
           {
            "geometry": {
             "coordinates": [
              [
               [
                5.064412,
                52.280738
               ],
               [
                5.102066,
                52.279891
               ],
               [
                5.139605,
                52.254015
               ],
               [
                5.145141,
                52.196637
               ],
               [
                5.124111,
                52.180827
               ],
               [
                5.115294,
                52.179853
               ],
               [
                5.046421,
                52.165929
               ],
               [
                5.035008,
                52.186943
               ],
               [
                5.036666,
                52.22436
               ],
               [
                5.056224,
                52.234979
               ],
               [
                5.034413,
                52.252922
               ],
               [
                5.033278,
                52.275412
               ],
               [
                5.064412,
                52.280738
               ]
              ]
             ],
             "type": "Polygon"
            },
            "id": "1696",
            "properties": {
             "code": "1696",
             "fid": 90,
             "gemeentena": "Wijdemeren"
            },
            "type": "Feature"
           },
           {
            "geometry": {
             "coordinates": [
              [
               [
                5.758615,
                51.593947
               ],
               [
                5.750478,
                51.622683
               ],
               [
                5.747676,
                51.632668
               ],
               [
                5.79035,
                51.649938
               ],
               [
                5.842805,
                51.67997
               ],
               [
                5.859903,
                51.669914
               ],
               [
                5.855798,
                51.662206
               ],
               [
                5.925766,
                51.63215
               ],
               [
                5.939617,
                51.612422
               ],
               [
                5.931853,
                51.596861
               ],
               [
                5.877236,
                51.578166
               ],
               [
                5.870892,
                51.562644
               ],
               [
                5.838238,
                51.566415
               ],
               [
                5.800586,
                51.578622
               ],
               [
                5.786678,
                51.598208
               ],
               [
                5.758615,
                51.593947
               ]
              ]
             ],
             "type": "Polygon"
            },
            "id": "1702",
            "properties": {
             "code": "1702",
             "fid": 91,
             "gemeentena": "Sint Anthonis"
            },
            "type": "Feature"
           },
           {
            "geometry": {
             "coordinates": [
              [
               [
                5.931288,
                51.384753
               ],
               [
                5.957897,
                51.37805
               ],
               [
                6.018766,
                51.382257
               ],
               [
                6.073126,
                51.395729
               ],
               [
                6.077587,
                51.378173
               ],
               [
                6.123254,
                51.34337
               ],
               [
                6.116233,
                51.323206
               ],
               [
                6.084717,
                51.297454
               ],
               [
                6.009612,
                51.265759
               ],
               [
                6.008255,
                51.277543
               ],
               [
                5.954706,
                51.30028
               ],
               [
                5.877823,
                51.316578
               ],
               [
                5.852142,
                51.320702
               ],
               [
                5.840194,
                51.346877
               ],
               [
                5.87036,
                51.352535
               ],
               [
                5.931288,
                51.384753
               ]
              ]
             ],
             "type": "Polygon"
            },
            "id": "1894",
            "properties": {
             "code": "1894",
             "fid": 92,
             "gemeentena": "Peel en Maas"
            },
            "type": "Feature"
           },
           {
            "geometry": {
             "coordinates": [
              [
               [
                6.595188,
                52.480303
               ],
               [
                6.505469,
                52.490963
               ],
               [
                6.450098,
                52.461256
               ],
               [
                6.428777,
                52.438687
               ],
               [
                6.390315,
                52.428145
               ],
               [
                6.380573,
                52.429816
               ],
               [
                6.378494,
                52.456417
               ],
               [
                6.342616,
                52.456905
               ],
               [
                6.344025,
                52.481829
               ],
               [
                6.331516,
                52.522075
               ],
               [
                6.360584,
                52.524165
               ],
               [
                6.323413,
                52.592527
               ],
               [
                6.402645,
                52.591403
               ],
               [
                6.415015,
                52.570012
               ],
               [
                6.488356,
                52.569001
               ],
               [
                6.521827,
                52.560586
               ],
               [
                6.545992,
                52.51585
               ],
               [
                6.609644,
                52.492505
               ],
               [
                6.595188,
                52.480303
               ]
              ]
             ],
             "type": "Polygon"
            },
            "id": "0175",
            "properties": {
             "code": "0175",
             "fid": 93,
             "gemeentena": "Ommen"
            },
            "type": "Feature"
           },
           {
            "geometry": {
             "coordinates": [
              [
               [
                6.527269,
                51.966024
               ],
               [
                6.559199,
                51.974367
               ],
               [
                6.638916,
                51.962547
               ],
               [
                6.634153,
                51.9353
               ],
               [
                6.668733,
                51.913863
               ],
               [
                6.58578,
                51.894082
               ],
               [
                6.556137,
                51.881699
               ],
               [
                6.464384,
                51.855287
               ],
               [
                6.484013,
                51.878131
               ],
               [
                6.472627,
                51.907065
               ],
               [
                6.488664,
                51.912866
               ],
               [
                6.504781,
                51.945984
               ],
               [
                6.527269,
                51.966024
               ]
              ]
             ],
             "type": "Polygon"
            },
            "id": "0197",
            "properties": {
             "code": "0197",
             "fid": 94,
             "gemeentena": "Aalten"
            },
            "type": "Feature"
           },
           {
            "geometry": {
             "coordinates": [
              [
               [
                4.924864,
                51.839718
               ],
               [
                4.938399,
                51.863629
               ],
               [
                4.998685,
                51.852277
               ],
               [
                5.031415,
                51.841085
               ],
               [
                5.026352,
                51.818857
               ],
               [
                5.000364,
                51.820933
               ],
               [
                4.926987,
                51.828306
               ],
               [
                4.924864,
                51.839718
               ]
              ]
             ],
             "type": "Polygon"
            },
            "id": "0512",
            "properties": {
             "code": "0512",
             "fid": 95,
             "gemeentena": "Gorinchem"
            },
            "type": "Feature"
           },
           {
            "geometry": {
             "coordinates": [
              [
               [
                5.626568,
                51.623401
               ],
               [
                5.651357,
                51.58236
               ],
               [
                5.652486,
                51.569679
               ],
               [
                5.627214,
                51.555277
               ],
               [
                5.58425,
                51.562714
               ],
               [
                5.533083,
                51.557804
               ],
               [
                5.547437,
                51.537732
               ],
               [
                5.530864,
                51.525049
               ],
               [
                5.500261,
                51.521397
               ],
               [
                5.487146,
                51.541848
               ],
               [
                5.423843,
                51.534055
               ],
               [
                5.404233,
                51.548292
               ],
               [
                5.40016,
                51.575673
               ],
               [
                5.380529,
                51.602902
               ],
               [
                5.391087,
                51.616446
               ],
               [
                5.371868,
                51.641931
               ],
               [
                5.42339,
                51.653783
               ],
               [
                5.467781,
                51.64228
               ],
               [
                5.497202,
                51.626686
               ],
               [
                5.524397,
                51.630439
               ],
               [
                5.5703,
                51.651434
               ],
               [
                5.602274,
                51.629414
               ],
               [
                5.626568,
                51.623401
               ]
              ]
             ],
             "type": "Polygon"
            },
            "id": "1948",
            "properties": {
             "code": "1948",
             "fid": 96,
             "gemeentena": "Meierijstad"
            },
            "type": "Feature"
           },
           {
            "geometry": {
             "coordinates": [
              [
               [
                5.865562,
                52.51858
               ],
               [
                5.887854,
                52.516331
               ],
               [
                5.925559,
                52.474058
               ],
               [
                5.965258,
                52.476463
               ],
               [
                6.000788,
                52.500149
               ],
               [
                6.036945,
                52.470243
               ],
               [
                6.022667,
                52.444103
               ],
               [
                5.951024,
                52.398437
               ],
               [
                5.924339,
                52.391393
               ],
               [
                5.841454,
                52.470725
               ],
               [
                5.865562,
                52.51858
               ]
              ]
             ],
             "type": "Polygon"
            },
            "id": "0269",
            "properties": {
             "code": "0269",
             "fid": 97,
             "gemeentena": "Oldebroek"
            },
            "type": "Feature"
           },
           {
            "geometry": {
             "coordinates": [
              [
               [
                5.515774,
                51.295203
               ],
               [
                5.566077,
                51.320543
               ],
               [
                5.605317,
                51.331805
               ],
               [
                5.631295,
                51.327541
               ],
               [
                5.654707,
                51.353877
               ],
               [
                5.672111,
                51.315094
               ],
               [
                5.643997,
                51.290575
               ],
               [
                5.625972,
                51.273602
               ],
               [
                5.618782,
                51.229425
               ],
               [
                5.566045,
                51.220909
               ],
               [
                5.557931,
                51.262464
               ],
               [
                5.515774,
                51.295203
               ]
              ]
             ],
             "type": "Polygon"
            },
            "id": "1706",
            "properties": {
             "code": "1706",
             "fid": 98,
             "gemeentena": "Cranendonck"
            },
            "type": "Feature"
           },
           {
            "geometry": {
             "coordinates": [
              [
               [
                5.976607,
                51.643783
               ],
               [
                6.031945,
                51.676165
               ],
               [
                6.087888,
                51.65985
               ],
               [
                6.109412,
                51.646867
               ],
               [
                6.091387,
                51.605936
               ],
               [
                6.157032,
                51.566575
               ],
               [
                6.176902,
                51.538556
               ],
               [
                6.213361,
                51.507818
               ],
               [
                6.169193,
                51.503082
               ],
               [
                6.141094,
                51.51952
               ],
               [
                6.114178,
                51.54363
               ],
               [
                6.048121,
                51.558463
               ],
               [
                6.026281,
                51.595577
               ],
               [
                6.02063,
                51.621291
               ],
               [
                5.976607,
                51.643783
               ]
              ]
             ],
             "type": "Polygon"
            },
            "id": "0893",
            "properties": {
             "code": "0893",
             "fid": 99,
             "gemeentena": "Bergen (L.)"
            },
            "type": "Feature"
           },
           {
            "geometry": {
             "coordinates": [
              [
               [
                5.721718,
                51.485131
               ],
               [
                5.773439,
                51.488638
               ],
               [
                5.852574,
                51.504144
               ],
               [
                5.874966,
                51.446558
               ],
               [
                5.931288,
                51.384753
               ],
               [
                5.87036,
                51.352535
               ],
               [
                5.831877,
                51.39959
               ],
               [
                5.787863,
                51.412657
               ],
               [
                5.755699,
                51.434268
               ],
               [
                5.718245,
                51.438734
               ],
               [
                5.721718,
                51.485131
               ]
              ]
             ],
             "type": "Polygon"
            },
            "id": "0762",
            "properties": {
             "code": "0762",
             "fid": 100,
             "gemeentena": "Deurne"
            },
            "type": "Feature"
           },
           {
            "geometry": {
             "coordinates": [
              [
               [
                4.842368,
                51.679654
               ],
               [
                4.836905,
                51.712612
               ],
               [
                4.873055,
                51.719998
               ],
               [
                4.917991,
                51.719959
               ],
               [
                4.933169,
                51.67675
               ],
               [
                4.925032,
                51.673009
               ],
               [
                4.842368,
                51.679654
               ]
              ]
             ],
             "type": "Polygon"
            },
            "id": "0779",
            "properties": {
             "code": "0779",
             "fid": 101,
             "gemeentena": "Geertruidenberg"
            },
            "type": "Feature"
           },
           {
            "geometry": {
             "coordinates": [
              [
               [
                4.440478,
                52.155653
               ],
               [
                4.442989,
                52.145346
               ],
               [
                4.401159,
                52.11187
               ],
               [
                4.372709,
                52.094773
               ],
               [
                4.342318,
                52.097482
               ],
               [
                4.302862,
                52.128355
               ],
               [
                4.374138,
                52.187001
               ],
               [
                4.411059,
                52.164137
               ],
               [
                4.440478,
                52.155653
               ]
              ]
             ],
             "type": "Polygon"
            },
            "id": "0629",
            "properties": {
             "code": "0629",
             "fid": 102,
             "gemeentena": "Wassenaar"
            },
            "type": "Feature"
           },
           {
            "geometry": {
             "coordinates": [
              [
               [
                6.834299,
                53.343308
               ],
               [
                6.882551,
                53.338041
               ],
               [
                6.887377,
                53.297882
               ],
               [
                6.845806,
                53.290126
               ],
               [
                6.814345,
                53.297592
               ],
               [
                6.810833,
                53.32516
               ],
               [
                6.834299,
                53.343308
               ]
              ]
             ],
             "type": "Polygon"
            },
            "id": "0003",
            "properties": {
             "code": "0003",
             "fid": 103,
             "gemeentena": "Appingedam"
            },
            "type": "Feature"
           },
           {
            "geometry": {
             "coordinates": [
              [
               [
                6.141094,
                51.51952
               ],
               [
                6.169193,
                51.503082
               ],
               [
                6.178129,
                51.464448
               ],
               [
                6.15524,
                51.442673
               ],
               [
                6.158327,
                51.424809
               ],
               [
                6.077696,
                51.420171
               ],
               [
                6.073126,
                51.395729
               ],
               [
                6.018766,
                51.382257
               ],
               [
                5.957897,
                51.37805
               ],
               [
                5.931288,
                51.384753
               ],
               [
                5.874966,
                51.446558
               ],
               [
                5.99412,
                51.475213
               ],
               [
                6.068082,
                51.48837
               ],
               [
                6.066774,
                51.523694
               ],
               [
                6.141094,
                51.51952
               ]
              ]
             ],
             "type": "Polygon"
            },
            "id": "1507",
            "properties": {
             "code": "1507",
             "fid": 104,
             "gemeentena": "Horst aan de Maas"
            },
            "type": "Feature"
           },
           {
            "geometry": {
             "coordinates": [
              [
               [
                5.312278,
                52.232829
               ],
               [
                5.330541,
                52.214732
               ],
               [
                5.314282,
                52.203023
               ],
               [
                5.270216,
                52.188526
               ],
               [
                5.243173,
                52.170076
               ],
               [
                5.224999,
                52.1657
               ],
               [
                5.212076,
                52.176374
               ],
               [
                5.215501,
                52.204273
               ],
               [
                5.21896,
                52.212129
               ],
               [
                5.22473,
                52.225197
               ],
               [
                5.30097,
                52.223524
               ],
               [
                5.312278,
                52.232829
               ]
              ]
             ],
             "type": "Polygon"
            },
            "id": "0308",
            "properties": {
             "code": "0308",
             "fid": 105,
             "gemeentena": "Baarn"
            },
            "type": "Feature"
           },
           {
            "geometry": {
             "coordinates": [
              [
               [
                4.617704,
                51.93105
               ],
               [
                4.635768,
                51.91023
               ],
               [
                4.576328,
                51.903032
               ],
               [
                4.549901,
                51.906728
               ],
               [
                4.617704,
                51.93105
               ]
              ]
             ],
             "type": "Polygon"
            },
            "id": "0542",
            "properties": {
             "code": "0542",
             "fid": 106,
             "gemeentena": "Krimpen aan den IJssel"
            },
            "type": "Feature"
           },
           {
            "geometry": {
             "coordinates": [
              [
               [
                5.813374,
                52.024071
               ],
               [
                5.850045,
                52.051602
               ],
               [
                5.899401,
                52.049958
               ],
               [
                5.946103,
                52.077891
               ],
               [
                5.955931,
                52.073339
               ],
               [
                5.937099,
                52.048533
               ],
               [
                5.951526,
                51.999638
               ],
               [
                5.99034,
                51.974406
               ],
               [
                5.950488,
                51.96205
               ],
               [
                5.955225,
                51.948754
               ],
               [
                5.9169,
                51.950521
               ],
               [
                5.897918,
                51.934358
               ],
               [
                5.829928,
                51.945237
               ],
               [
                5.835343,
                51.973559
               ],
               [
                5.863737,
                51.977965
               ],
               [
                5.86374,
                51.99589
               ],
               [
                5.802961,
                52.004054
               ],
               [
                5.813374,
                52.024071
               ]
              ]
             ],
             "type": "Polygon"
            },
            "id": "0202",
            "properties": {
             "code": "0202",
             "fid": 107,
             "gemeentena": "Arnhem"
            },
            "type": "Feature"
           },
           {
            "geometry": {
             "coordinates": [
              [
               [
                5.456873,
                51.687591
               ],
               [
                5.42339,
                51.653783
               ],
               [
                5.371868,
                51.641931
               ],
               [
                5.391087,
                51.616446
               ],
               [
                5.380529,
                51.602902
               ],
               [
                5.352929,
                51.600691
               ],
               [
                5.317732,
                51.634634
               ],
               [
                5.319057,
                51.670372
               ],
               [
                5.353693,
                51.671073
               ],
               [
                5.359437,
                51.698707
               ],
               [
                5.43933,
                51.700434
               ],
               [
                5.456873,
                51.687591
               ]
              ]
             ],
             "type": "Polygon"
            },
            "id": "0845",
            "properties": {
             "code": "0845",
             "fid": 108,
             "gemeentena": "Sint-Michielsgestel"
            },
            "type": "Feature"
           },
           {
            "geometry": {
             "coordinates": [
              [
               [
                6.513386,
                53.196937
               ],
               [
                6.548188,
                53.181098
               ],
               [
                6.563687,
                53.157638
               ],
               [
                6.619053,
                53.13151
               ],
               [
                6.637052,
                53.108258
               ],
               [
                6.695367,
                53.121176
               ],
               [
                6.737451,
                53.119462
               ],
               [
                6.776509,
                53.094761
               ],
               [
                6.642291,
                53.045799
               ],
               [
                6.631221,
                53.026105
               ],
               [
                6.603015,
                53.033087
               ],
               [
                6.603265,
                53.05951
               ],
               [
                6.555213,
                53.058608
               ],
               [
                6.547307,
                53.035067
               ],
               [
                6.50513,
                53.046355
               ],
               [
                6.513356,
                53.07228
               ],
               [
                6.4803,
                53.120787
               ],
               [
                6.539081,
                53.132506
               ],
               [
                6.536265,
                53.168002
               ],
               [
                6.513386,
                53.196937
               ]
              ]
             ],
             "type": "Polygon"
            },
            "id": "1730",
            "properties": {
             "code": "1730",
             "fid": 109,
             "gemeentena": "Tynaarlo"
            },
            "type": "Feature"
           },
           {
            "geometry": {
             "coordinates": [
              [
               [
                5.92847,
                50.936612
               ],
               [
                6.011696,
                50.926439
               ],
               [
                5.994809,
                50.895575
               ],
               [
                6.017142,
                50.870467
               ],
               [
                6.017959,
                50.843805
               ],
               [
                6.023723,
                50.818403
               ],
               [
                5.969362,
                50.86008
               ],
               [
                5.923405,
                50.904406
               ],
               [
                5.895506,
                50.920135
               ],
               [
                5.92847,
                50.936612
               ]
              ]
             ],
             "type": "Polygon"
            },
            "id": "0917",
            "properties": {
             "code": "0917",
             "fid": 110,
             "gemeentena": "Heerlen"
            },
            "type": "Feature"
           },
           {
            "geometry": {
             "coordinates": [
              [
               [
                4.524038,
                52.147398
               ],
               [
                4.550733,
                52.13838
               ],
               [
                4.535323,
                52.120432
               ],
               [
                4.530555,
                52.080511
               ],
               [
                4.492219,
                52.09001
               ],
               [
                4.472975,
                52.118952
               ],
               [
                4.524038,
                52.147398
               ]
              ]
             ],
             "type": "Polygon"
            },
            "id": "0638",
            "properties": {
             "code": "0638",
             "fid": 111,
             "gemeentena": "Zoeterwoude"
            },
            "type": "Feature"
           },
           {
            "geometry": {
             "coordinates": [
              [
               [
                6.416082,
                51.972622
               ],
               [
                6.46785,
                51.978219
               ],
               [
                6.527269,
                51.966024
               ],
               [
                6.504781,
                51.945984
               ],
               [
                6.488664,
                51.912866
               ],
               [
                6.472627,
                51.907065
               ],
               [
                6.484013,
                51.878131
               ],
               [
                6.464384,
                51.855287
               ],
               [
                6.412329,
                51.871078
               ],
               [
                6.407163,
                51.829057
               ],
               [
                6.3636,
                51.835051
               ],
               [
                6.347207,
                51.850681
               ],
               [
                6.306203,
                51.849078
               ],
               [
                6.299006,
                51.867826
               ],
               [
                6.331633,
                51.874821
               ],
               [
                6.290971,
                51.922601
               ],
               [
                6.305763,
                51.938821
               ],
               [
                6.361013,
                51.923014
               ],
               [
                6.416082,
                51.972622
               ]
              ]
             ],
             "type": "Polygon"
            },
            "id": "1509",
            "properties": {
             "code": "1509",
             "fid": 112,
             "gemeentena": "Oude IJsselstreek"
            },
            "type": "Feature"
           },
           {
            "geometry": {
             "coordinates": [
              [
               [
                4.55718,
                52.061239
               ],
               [
                4.565043,
                52.058569
               ],
               [
                4.547686,
                51.972807
               ],
               [
                4.518586,
                51.960286
               ],
               [
                4.469012,
                51.980549
               ],
               [
                4.427898,
                51.976466
               ],
               [
                4.458717,
                52.002196
               ],
               [
                4.457373,
                52.02227
               ],
               [
                4.476706,
                52.031642
               ],
               [
                4.504675,
                52.031959
               ],
               [
                4.55718,
                52.061239
               ]
              ]
             ],
             "type": "Polygon"
            },
            "id": "1621",
            "properties": {
             "code": "1621",
             "fid": 113,
             "gemeentena": "Lansingerland"
            },
            "type": "Feature"
           },
           {
            "geometry": {
             "coordinates": [
              [
               [
                4.868225,
                52.063446
               ],
               [
                4.8732,
                52.068745
               ],
               [
                4.936143,
                52.07992
               ],
               [
                4.999498,
                52.066131
               ],
               [
                5.017075,
                52.061143
               ],
               [
                4.99011,
                52.052199
               ],
               [
                4.995195,
                52.02172
               ],
               [
                4.920045,
                52.010014
               ],
               [
                4.926681,
                52.029987
               ],
               [
                4.868225,
                52.063446
               ]
              ]
             ],
             "type": "Polygon"
            },
            "id": "0335",
            "properties": {
             "code": "0335",
             "fid": 114,
             "gemeentena": "Montfoort"
            },
            "type": "Feature"
           },
           {
            "geometry": {
             "coordinates": [
              [
               [
                4.464082,
                52.215964
               ],
               [
                4.463471,
                52.200202
               ],
               [
                4.448368,
                52.162052
               ],
               [
                4.440478,
                52.155653
               ],
               [
                4.411059,
                52.164137
               ],
               [
                4.374138,
                52.187001
               ],
               [
                4.404877,
                52.219944
               ],
               [
                4.440188,
                52.207356
               ],
               [
                4.464082,
                52.215964
               ]
              ]
             ],
             "type": "Polygon"
            },
            "id": "0537",
            "properties": {
             "code": "0537",
             "fid": 115,
             "gemeentena": "Katwijk"
            },
            "type": "Feature"
           },
           {
            "geometry": {
             "coordinates": [
              [
               [
                5.665989,
                51.952799
               ],
               [
                5.722606,
                51.964051
               ],
               [
                5.747876,
                51.969609
               ],
               [
                5.786773,
                51.960159
               ],
               [
                5.835343,
                51.973559
               ],
               [
                5.829928,
                51.945237
               ],
               [
                5.897918,
                51.934358
               ],
               [
                5.891199,
                51.907263
               ],
               [
                5.857124,
                51.894621
               ],
               [
                5.838308,
                51.893694
               ],
               [
                5.817075,
                51.870265
               ],
               [
                5.706659,
                51.893292
               ],
               [
                5.681211,
                51.91832
               ],
               [
                5.665989,
                51.952799
               ]
              ]
             ],
             "type": "Polygon"
            },
            "id": "1734",
            "properties": {
             "code": "1734",
             "fid": 116,
             "gemeentena": "Overbetuwe"
            },
            "type": "Feature"
           },
           {
            "geometry": {
             "coordinates": [
              [
               [
                5.400633,
                51.837659
               ],
               [
                5.414885,
                51.82129
               ],
               [
                5.401706,
                51.820893
               ],
               [
                5.365319,
                51.784857
               ],
               [
                5.353514,
                51.755477
               ],
               [
                5.295997,
                51.736718
               ],
               [
                5.245335,
                51.734178
               ],
               [
                5.206494,
                51.741477
               ],
               [
                5.1857,
                51.741918
               ],
               [
                5.173672,
                51.76402
               ],
               [
                5.269948,
                51.774325
               ],
               [
                5.288171,
                51.800177
               ],
               [
                5.281718,
                51.821208
               ],
               [
                5.319806,
                51.820563
               ],
               [
                5.364192,
                51.807027
               ],
               [
                5.400633,
                51.837659
               ]
              ]
             ],
             "type": "Polygon"
            },
            "id": "0263",
            "properties": {
             "code": "0263",
             "fid": 117,
             "gemeentena": "Maasdriel"
            },
            "type": "Feature"
           },
           {
            "geometry": {
             "coordinates": [
              [
               [
                5.107093,
                52.133211
               ],
               [
                5.146916,
                52.120383
               ],
               [
                5.160612,
                52.094783
               ],
               [
                5.192752,
                52.086076
               ],
               [
                5.195155,
                52.077346
               ],
               [
                5.160546,
                52.078047
               ],
               [
                5.153031,
                52.056757
               ],
               [
                5.126832,
                52.054918
               ],
               [
                5.075629,
                52.062228
               ],
               [
                5.062801,
                52.026823
               ],
               [
                5.017075,
                52.061143
               ],
               [
                4.999498,
                52.066131
               ],
               [
                5.005011,
                52.088485
               ],
               [
                4.970096,
                52.122442
               ],
               [
                5.002154,
                52.141759
               ],
               [
                5.032676,
                52.116768
               ],
               [
                5.087165,
                52.135671
               ],
               [
                5.107093,
                52.133211
               ]
              ]
             ],
             "type": "Polygon"
            },
            "id": "0344",
            "properties": {
             "code": "0344",
             "fid": 118,
             "gemeentena": "Utrecht"
            },
            "type": "Feature"
           },
           {
            "geometry": {
             "coordinates": [
              [
               [
                6.121502,
                52.034617
               ],
               [
                6.137469,
                52.059181
               ],
               [
                6.174899,
                52.089667
               ],
               [
                6.217899,
                52.097881
               ],
               [
                6.235921,
                52.113717
               ],
               [
                6.328314,
                52.137712
               ],
               [
                6.423999,
                52.096908
               ],
               [
                6.400539,
                52.083811
               ],
               [
                6.440027,
                52.027148
               ],
               [
                6.462185,
                52.021701
               ],
               [
                6.475756,
                51.988125
               ],
               [
                6.46785,
                51.978219
               ],
               [
                6.416082,
                51.972622
               ],
               [
                6.381505,
                51.967986
               ],
               [
                6.327728,
                51.977287
               ],
               [
                6.312219,
                51.993971
               ],
               [
                6.249883,
                51.976012
               ],
               [
                6.160483,
                51.981037
               ],
               [
                6.159251,
                51.99974
               ],
               [
                6.176547,
                52.019228
               ],
               [
                6.175527,
                52.039374
               ],
               [
                6.121502,
                52.034617
               ]
              ]
             ],
             "type": "Polygon"
            },
            "id": "1876",
            "properties": {
             "code": "1876",
             "fid": 119,
             "gemeentena": "Bronckhorst"
            },
            "type": "Feature"
           },
           {
            "geometry": {
             "coordinates": [
              [
               [
                5.017933,
                52.323192
               ],
               [
                5.039391,
                52.329106
               ],
               [
                5.098849,
                52.311131
               ],
               [
                5.104646,
                52.285385
               ],
               [
                5.102066,
                52.279891
               ],
               [
                5.064412,
                52.280738
               ],
               [
                5.021867,
                52.282653
               ],
               [
                5.021543,
                52.302457
               ],
               [
                5.017933,
                52.323192
               ]
              ]
             ],
             "type": "Polygon"
            },
            "id": "0457",
            "properties": {
             "code": "0457",
             "fid": 120,
             "gemeentena": "Weesp"
            },
            "type": "Feature"
           },
           {
            "geometry": {
             "coordinates": [
              [
               [
                6.021399,
                52.641431
               ],
               [
                6.085563,
                52.663274
               ],
               [
                6.119566,
                52.667937
               ],
               [
                6.096848,
                52.635626
               ],
               [
                6.105848,
                52.603696
               ],
               [
                6.147419,
                52.584408
               ],
               [
                6.166814,
                52.565252
               ],
               [
                6.140527,
                52.552102
               ],
               [
                6.109791,
                52.561115
               ],
               [
                6.0894,
                52.551841
               ],
               [
                6.063154,
                52.56728
               ],
               [
                6.033038,
                52.559403
               ],
               [
                6.012688,
                52.585636
               ],
               [
                5.982941,
                52.577514
               ],
               [
                5.971341,
                52.594157
               ],
               [
                5.986184,
                52.625151
               ],
               [
                6.021399,
                52.641431
               ]
              ]
             ],
             "type": "Polygon"
            },
            "id": "1896",
            "properties": {
             "code": "1896",
             "fid": 121,
             "gemeentena": "Zwartewaterland"
            },
            "type": "Feature"
           },
           {
            "geometry": {
             "coordinates": [
              [
               [
                6.043966,
                53.243502
               ],
               [
                6.019791,
                53.240914
               ],
               [
                5.955974,
                53.228056
               ],
               [
                5.882245,
                53.276782
               ],
               [
                5.896565,
                53.301742
               ],
               [
                5.963858,
                53.322853
               ],
               [
                5.975853,
                53.306927
               ],
               [
                6.021122,
                53.308844
               ],
               [
                6.022438,
                53.324031
               ],
               [
                6.067568,
                53.323648
               ],
               [
                6.043966,
                53.243502
               ]
              ]
             ],
             "type": "Polygon"
            },
            "id": "1891",
            "properties": {
             "code": "1891",
             "fid": 122,
             "gemeentena": "Dantumadiel"
            },
            "type": "Feature"
           },
           {
            "geometry": {
             "coordinates": [
              [
               [
                4.049091,
                51.83161
               ],
               [
                4.048474,
                51.832166
               ],
               [
                4.067286,
                51.845403
               ],
               [
                4.117245,
                51.857958
               ],
               [
                4.155279,
                51.881603
               ],
               [
                4.185273,
                51.849708
               ],
               [
                4.222048,
                51.826662
               ],
               [
                4.19422,
                51.804123
               ],
               [
                4.155193,
                51.822589
               ],
               [
                4.121245,
                51.820146
               ],
               [
                4.072079,
                51.842581
               ],
               [
                4.049091,
                51.83161
               ]
              ]
             ],
             "type": "Polygon"
            },
            "id": "0530",
            "properties": {
             "code": "0530",
             "fid": 123,
             "gemeentena": "Hellevoetsluis"
            },
            "type": "Feature"
           },
           {
            "geometry": {
             "coordinates": [
              [
               [
                5.667853,
                51.865927
               ],
               [
                5.685014,
                51.895648
               ],
               [
                5.706659,
                51.893292
               ],
               [
                5.817075,
                51.870265
               ],
               [
                5.787218,
                51.840929
               ],
               [
                5.764732,
                51.832291
               ],
               [
                5.678111,
                51.843147
               ],
               [
                5.667853,
                51.865927
               ]
              ]
             ],
             "type": "Polygon"
            },
            "id": "0209",
            "properties": {
             "code": "0209",
             "fid": 124,
             "gemeentena": "Beuningen"
            },
            "type": "Feature"
           },
           {
            "geometry": {
             "coordinates": [
              [
               [
                5.613885,
                53.453721
               ],
               [
                5.66536,
                53.471454
               ],
               [
                5.694425,
                53.462508
               ],
               [
                5.776683,
                53.460788
               ],
               [
                5.930304,
                53.468116
               ],
               [
                5.89169,
                53.451478
               ],
               [
                5.80342,
                53.43733
               ],
               [
                5.732613,
                53.442892
               ],
               [
                5.680543,
                53.424524
               ],
               [
                5.649741,
                53.424281
               ],
               [
                5.616226,
                53.440567
               ],
               [
                5.613885,
                53.453721
               ]
              ]
             ],
             "type": "Polygon"
            },
            "id": "0060",
            "properties": {
             "code": "0060",
             "fid": 125,
             "gemeentena": "Ameland"
            },
            "type": "Feature"
           },
           {
            "geometry": {
             "coordinates": [
              [
               [
                5.94346,
                53.121614
               ],
               [
                6.019773,
                53.155365
               ],
               [
                6.105013,
                53.151799
               ],
               [
                6.17675,
                53.159505
               ],
               [
                6.185717,
                53.129213
               ],
               [
                6.12465,
                53.100923
               ],
               [
                6.088358,
                53.070908
               ],
               [
                6.024399,
                53.073361
               ],
               [
                6.00247,
                53.080653
               ],
               [
                5.927581,
                53.078395
               ],
               [
                5.874643,
                53.08507
               ],
               [
                5.882006,
                53.106939
               ],
               [
                5.933019,
                53.109389
               ],
               [
                5.94346,
                53.121614
               ]
              ]
             ],
             "type": "Polygon"
            },
            "id": "0090",
            "properties": {
             "code": "0090",
             "fid": 126,
             "gemeentena": "Smallingerland"
            },
            "type": "Feature"
           },
           {
            "geometry": {
             "coordinates": [
              [
               [
                4.665072,
                51.634319
               ],
               [
                4.69906,
                51.638073
               ],
               [
                4.731389,
                51.642994
               ],
               [
                4.787506,
                51.637048
               ],
               [
                4.842683,
                51.616986
               ],
               [
                4.842622,
                51.585829
               ],
               [
                4.864239,
                51.579089
               ],
               [
                4.862985,
                51.55727
               ],
               [
                4.83077,
                51.550352
               ],
               [
                4.747081,
                51.515275
               ],
               [
                4.760023,
                51.502373
               ],
               [
                4.733997,
                51.485548
               ],
               [
                4.741836,
                51.531355
               ],
               [
                4.694187,
                51.544848
               ],
               [
                4.682106,
                51.598893
               ],
               [
                4.663872,
                51.604069
               ],
               [
                4.665072,
                51.634319
               ]
              ]
             ],
             "type": "Polygon"
            },
            "id": "0758",
            "properties": {
             "code": "0758",
             "fid": 127,
             "gemeentena": "Breda"
            },
            "type": "Feature"
           },
           {
            "geometry": {
             "coordinates": [
              [
               [
                5.87911,
                51.80953
               ],
               [
                5.837108,
                51.806076
               ],
               [
                5.800949,
                51.795151
               ],
               [
                5.764732,
                51.832291
               ],
               [
                5.787218,
                51.840929
               ],
               [
                5.817075,
                51.870265
               ],
               [
                5.838308,
                51.893694
               ],
               [
                5.857124,
                51.894621
               ],
               [
                5.886766,
                51.865203
               ],
               [
                5.880299,
                51.844948
               ],
               [
                5.908347,
                51.829302
               ],
               [
                5.87911,
                51.80953
               ]
              ]
             ],
             "type": "Polygon"
            },
            "id": "0268",
            "properties": {
             "code": "0268",
             "fid": 128,
             "gemeentena": "Nijmegen"
            },
            "type": "Feature"
           },
           {
            "geometry": {
             "coordinates": [
              [
               [
                5.575999,
                52.326455
               ],
               [
                5.608707,
                52.319052
               ],
               [
                5.630264,
                52.326851
               ],
               [
                5.678124,
                52.301492
               ],
               [
                5.706171,
                52.328382
               ],
               [
                5.750748,
                52.317074
               ],
               [
                5.749227,
                52.268273
               ],
               [
                5.761449,
                52.248304
               ],
               [
                5.726389,
                52.242503
               ],
               [
                5.683642,
                52.240617
               ],
               [
                5.637049,
                52.272495
               ],
               [
                5.587536,
                52.278812
               ],
               [
                5.547734,
                52.291988
               ],
               [
                5.575999,
                52.326455
               ]
              ]
             ],
             "type": "Polygon"
            },
            "id": "0233",
            "properties": {
             "code": "0233",
             "fid": 129,
             "gemeentena": "Ermelo"
            },
            "type": "Feature"
           },
           {
            "geometry": {
             "coordinates": [
              [
               [
                4.571481,
                52.153109
               ],
               [
                4.681209,
                52.167504
               ],
               [
                4.705929,
                52.151682
               ],
               [
                4.741839,
                52.162673
               ],
               [
                4.759025,
                52.135143
               ],
               [
                4.738857,
                52.106507
               ],
               [
                4.708758,
                52.093644
               ],
               [
                4.715202,
                52.080967
               ],
               [
                4.659968,
                52.064104
               ],
               [
                4.636851,
                52.073737
               ],
               [
                4.607427,
                52.065527
               ],
               [
                4.565043,
                52.058569
               ],
               [
                4.55718,
                52.061239
               ],
               [
                4.530555,
                52.080511
               ],
               [
                4.535323,
                52.120432
               ],
               [
                4.550733,
                52.13838
               ],
               [
                4.571481,
                52.153109
               ]
              ]
             ],
             "type": "Polygon"
            },
            "id": "0484",
            "properties": {
             "code": "0484",
             "fid": 130,
             "gemeentena": "Alphen aan den Rijn"
            },
            "type": "Feature"
           },
           {
            "geometry": {
             "coordinates": [
              [
               [
                5.237705,
                51.428559
               ],
               [
                5.281898,
                51.40437
               ],
               [
                5.28924,
                51.388909
               ],
               [
                5.275299,
                51.362723
               ],
               [
                5.285973,
                51.336339
               ],
               [
                5.263411,
                51.319282
               ],
               [
                5.241118,
                51.305665
               ],
               [
                5.200255,
                51.322661
               ],
               [
                5.193865,
                51.345226
               ],
               [
                5.19102,
                51.430216
               ],
               [
                5.191025,
                51.430225
               ],
               [
                5.237705,
                51.428559
               ]
              ]
             ],
             "type": "Polygon"
            },
            "id": "1728",
            "properties": {
             "code": "1728",
             "fid": 131,
             "gemeentena": "Bladel"
            },
            "type": "Feature"
           },
           {
            "geometry": {
             "coordinates": [
              [
               [
                5.414885,
                51.82129
               ],
               [
                5.400633,
                51.837659
               ],
               [
                5.415234,
                51.851801
               ],
               [
                5.433538,
                51.877226
               ],
               [
                5.463917,
                51.889009
               ],
               [
                5.531363,
                51.894753
               ],
               [
                5.566437,
                51.883948
               ],
               [
                5.585013,
                51.839107
               ],
               [
                5.609835,
                51.836274
               ],
               [
                5.597977,
                51.828049
               ],
               [
                5.561278,
                51.827829
               ],
               [
                5.539479,
                51.81622
               ],
               [
                5.494556,
                51.830732
               ],
               [
                5.474215,
                51.814641
               ],
               [
                5.432155,
                51.810629
               ],
               [
                5.414885,
                51.82129
               ]
              ]
             ],
             "type": "Polygon"
            },
            "id": "0668",
            "properties": {
             "code": "0668",
             "fid": 132,
             "gemeentena": "West Maas en Waal"
            },
            "type": "Feature"
           },
           {
            "geometry": {
             "coordinates": [
              [
               [
                4.868225,
                52.063446
               ],
               [
                4.926681,
                52.029987
               ],
               [
                4.920045,
                52.010014
               ],
               [
                4.835218,
                51.986143
               ],
               [
                4.817806,
                51.999767
               ],
               [
                4.846875,
                52.018165
               ],
               [
                4.7987,
                52.022272
               ],
               [
                4.82949,
                52.049813
               ],
               [
                4.868225,
                52.063446
               ]
              ]
             ],
             "type": "Polygon"
            },
            "id": "0589",
            "properties": {
             "code": "0589",
             "fid": 133,
             "gemeentena": "Oudewater"
            },
            "type": "Feature"
           },
           {
            "geometry": {
             "coordinates": [
              [
               [
                6.687981,
                52.044365
               ],
               [
                6.687853,
                52.039856
               ],
               [
                6.662209,
                52.017299
               ],
               [
                6.654475,
                51.974834
               ],
               [
                6.638916,
                51.962547
               ],
               [
                6.559199,
                51.974367
               ],
               [
                6.527269,
                51.966024
               ],
               [
                6.46785,
                51.978219
               ],
               [
                6.475756,
                51.988125
               ],
               [
                6.462185,
                52.021701
               ],
               [
                6.517288,
                52.042414
               ],
               [
                6.538989,
                52.025197
               ],
               [
                6.574314,
                52.031933
               ],
               [
                6.605481,
                52.051855
               ],
               [
                6.606237,
                52.065155
               ],
               [
                6.658971,
                52.063041
               ],
               [
                6.687981,
                52.044365
               ]
              ]
             ],
             "type": "Polygon"
            },
            "id": "1586",
            "properties": {
             "code": "1586",
             "fid": 134,
             "gemeentena": "Oost Gelre"
            },
            "type": "Feature"
           },
           {
            "geometry": {
             "coordinates": [
              [
               [
                5.272334,
                51.683937
               ],
               [
                5.272225,
                51.683949
               ],
               [
                5.226158,
                51.690031
               ],
               [
                5.231032,
                51.724086
               ],
               [
                5.206494,
                51.741477
               ],
               [
                5.245335,
                51.734178
               ],
               [
                5.295997,
                51.736718
               ],
               [
                5.353514,
                51.755477
               ],
               [
                5.438816,
                51.76503
               ],
               [
                5.474244,
                51.728965
               ],
               [
                5.492386,
                51.706101
               ],
               [
                5.456873,
                51.687591
               ],
               [
                5.43933,
                51.700434
               ],
               [
                5.359437,
                51.698707
               ],
               [
                5.353693,
                51.671073
               ],
               [
                5.319057,
                51.670372
               ],
               [
                5.272334,
                51.683937
               ]
              ]
             ],
             "type": "Polygon"
            },
            "id": "0796",
            "properties": {
             "code": "0796",
             "fid": 135,
             "gemeentena": "'s-Hertogenbosch"
            },
            "type": "Feature"
           },
           {
            "geometry": {
             "coordinates": [
              [
               [
                4.794697,
                52.260682
               ],
               [
                4.852053,
                52.242013
               ],
               [
                4.794576,
                52.226731
               ],
               [
                4.728766,
                52.209819
               ],
               [
                4.723764,
                52.216574
               ],
               [
                4.773272,
                52.241034
               ],
               [
                4.794697,
                52.260682
               ]
              ]
             ],
             "type": "Polygon"
            },
            "id": "0451",
            "properties": {
             "code": "0451",
             "fid": 136,
             "gemeentena": "Uithoorn"
            },
            "type": "Feature"
           },
           {
            "geometry": {
             "coordinates": [
              [
               [
                5.529348,
                52.040202
               ],
               [
                5.557903,
                52.048865
               ],
               [
                5.586712,
                52.03129
               ],
               [
                5.589489,
                52.009456
               ],
               [
                5.553229,
                51.999031
               ],
               [
                5.512592,
                52.018516
               ],
               [
                5.529348,
                52.040202
               ]
              ]
             ],
             "type": "Polygon"
            },
            "id": "0345",
            "properties": {
             "code": "0345",
             "fid": 137,
             "gemeentena": "Veenendaal"
            },
            "type": "Feature"
           },
           {
            "geometry": {
             "coordinates": [
              [
               [
                5.388907,
                51.37646
               ],
               [
                5.421801,
                51.38341
               ],
               [
                5.423207,
                51.374866
               ],
               [
                5.424291,
                51.33076
               ],
               [
                5.394262,
                51.308785
               ],
               [
                5.387804,
                51.285239
               ],
               [
                5.417412,
                51.262286
               ],
               [
                5.34614,
                51.275764
               ],
               [
                5.336476,
                51.263067
               ],
               [
                5.296154,
                51.261482
               ],
               [
                5.225972,
                51.26826
               ],
               [
                5.241118,
                51.305665
               ],
               [
                5.263411,
                51.319282
               ],
               [
                5.316672,
                51.323389
               ],
               [
                5.347121,
                51.337453
               ],
               [
                5.346101,
                51.357901
               ],
               [
                5.388907,
                51.37646
               ]
              ]
             ],
             "type": "Polygon"
            },
            "id": "1724",
            "properties": {
             "code": "1724",
             "fid": 138,
             "gemeentena": "Bergeijk"
            },
            "type": "Feature"
           },
           {
            "geometry": {
             "coordinates": [
              [
               [
                [
                 3.83902,
                 51.758332
                ],
                [
                 3.842326,
                 51.756394
                ],
                [
                 3.855095,
                 51.738508
                ],
                [
                 3.887536,
                 51.744113
                ],
                [
                 3.916382,
                 51.731208
                ],
                [
                 3.973212,
                 51.733341
                ],
                [
                 4.015283,
                 51.686574
                ],
                [
                 4.042739,
                 51.684876
                ],
                [
                 4.097837,
                 51.665427
                ],
                [
                 4.096101,
                 51.647237
                ],
                [
                 4.069971,
                 51.631956
                ],
                [
                 4.008851,
                 51.617468
                ],
                [
                 3.968111,
                 51.614039
                ],
                [
                 3.928676,
                 51.628283
                ],
                [
                 3.889707,
                 51.632607
                ],
                [
                 3.876344,
                 51.666724
                ],
                [
                 3.823486,
                 51.683771
                ],
                [
                 3.809587,
                 51.696909
                ],
                [
                 3.757479,
                 51.673886
                ],
                [
                 3.72547,
                 51.666602
                ],
                [
                 3.696915,
                 51.672813
                ],
                [
                 3.680101,
                 51.708966
                ],
                [
                 3.709087,
                 51.731477
                ],
                [
                 3.763004,
                 51.742455
                ],
                [
                 3.817678,
                 51.740522
                ],
                [
                 3.83902,
                 51.758332
                ]
               ]
              ],
              [
               [
                [
                 4.155301,
                 51.683507
                ],
                [
                 4.157517,
                 51.682407
                ],
                [
                 4.168245,
                 51.654742
                ],
                [
                 4.19622,
                 51.640462
                ],
                [
                 4.193484,
                 51.638849
                ],
                [
                 4.152603,
                 51.655043
                ],
                [
                 4.155301,
                 51.683507
                ]
               ]
              ]
             ],
             "type": "MultiPolygon"
            },
            "id": "1676",
            "properties": {
             "code": "1676",
             "fid": 139,
             "gemeentena": "Schouwen-Duiveland"
            },
            "type": "Feature"
           },
           {
            "geometry": {
             "coordinates": [
              [
               [
                4.193484,
                51.638849
               ],
               [
                4.19622,
                51.640462
               ],
               [
                4.236166,
                51.633626
               ],
               [
                4.207211,
                51.624733
               ],
               [
                4.192232,
                51.593902
               ],
               [
                4.236119,
                51.550366
               ],
               [
                4.218927,
                51.504858
               ],
               [
                4.230328,
                51.488904
               ],
               [
                4.217547,
                51.48767
               ],
               [
                4.178078,
                51.500793
               ],
               [
                4.164817,
                51.522517
               ],
               [
                4.073655,
                51.527352
               ],
               [
                4.050491,
                51.55221
               ],
               [
                3.983416,
                51.581331
               ],
               [
                3.98919,
                51.592339
               ],
               [
                4.074146,
                51.613095
               ],
               [
                4.121148,
                51.653762
               ],
               [
                4.193484,
                51.638849
               ]
              ]
             ],
             "type": "Polygon"
            },
            "id": "0716",
            "properties": {
             "code": "0716",
             "fid": 140,
             "gemeentena": "Tholen"
            },
            "type": "Feature"
           },
           {
            "geometry": {
             "coordinates": [
              [
               [
                5.955225,
                51.948754
               ],
               [
                5.950488,
                51.96205
               ],
               [
                5.99034,
                51.974406
               ],
               [
                6.001965,
                51.98065
               ],
               [
                6.001733,
                51.977552
               ],
               [
                5.986396,
                51.968935
               ],
               [
                5.984364,
                51.943021
               ],
               [
                5.965775,
                51.938768
               ],
               [
                5.955225,
                51.948754
               ]
              ]
             ],
             "type": "Polygon"
            },
            "id": "0293",
            "properties": {
             "code": "0293",
             "fid": 141,
             "gemeentena": "Westervoort"
            },
            "type": "Feature"
           },
           {
            "geometry": {
             "coordinates": [
              [
               [
                4.553934,
                52.222205
               ],
               [
                4.524934,
                52.235553
               ],
               [
                4.513523,
                52.255006
               ],
               [
                4.54255,
                52.286644
               ],
               [
                4.572749,
                52.27124
               ],
               [
                4.553934,
                52.222205
               ]
              ]
             ],
             "type": "Polygon"
            },
            "id": "0553",
            "properties": {
             "code": "0553",
             "fid": 142,
             "gemeentena": "Lisse"
            },
            "type": "Feature"
           },
           {
            "geometry": {
             "coordinates": [
              [
               [
                5.306459,
                52.110271
               ],
               [
                5.282138,
                52.112063
               ],
               [
                5.255916,
                52.136724
               ],
               [
                5.243173,
                52.170076
               ],
               [
                5.270216,
                52.188526
               ],
               [
                5.314282,
                52.203023
               ],
               [
                5.349898,
                52.175605
               ],
               [
                5.331268,
                52.12663
               ],
               [
                5.306459,
                52.110271
               ]
              ]
             ],
             "type": "Polygon"
            },
            "id": "0342",
            "properties": {
             "code": "0342",
             "fid": 143,
             "gemeentena": "Soest"
            },
            "type": "Feature"
           },
           {
            "geometry": {
             "coordinates": [
              [
               [
                6.654053,
                53.308645
               ],
               [
                6.619862,
                53.314428
               ],
               [
                6.595831,
                53.347141
               ],
               [
                6.630953,
                53.362648
               ],
               [
                6.697033,
                53.362903
               ],
               [
                6.778614,
                53.410788
               ],
               [
                6.792455,
                53.403596
               ],
               [
                6.777166,
                53.397965
               ],
               [
                6.800842,
                53.366089
               ],
               [
                6.834299,
                53.343308
               ],
               [
                6.810833,
                53.32516
               ],
               [
                6.814345,
                53.297592
               ],
               [
                6.772527,
                53.283087
               ],
               [
                6.764621,
                53.298134
               ],
               [
                6.708863,
                53.309911
               ],
               [
                6.689592,
                53.297449
               ],
               [
                6.654053,
                53.308645
               ]
              ]
             ],
             "type": "Polygon"
            },
            "id": "0024",
            "properties": {
             "code": "0024",
             "fid": 144,
             "gemeentena": "Loppersum"
            },
            "type": "Feature"
           },
           {
            "geometry": {
             "coordinates": [
              [
               [
                5.126832,
                52.054918
               ],
               [
                5.153031,
                52.056757
               ],
               [
                5.191556,
                52.043036
               ],
               [
                5.201992,
                52.01747
               ],
               [
                5.243191,
                51.998793
               ],
               [
                5.256271,
                51.970941
               ],
               [
                5.23978,
                51.97894
               ],
               [
                5.205989,
                51.959432
               ],
               [
                5.180227,
                51.967448
               ],
               [
                5.155094,
                51.971586
               ],
               [
                5.119563,
                51.999924
               ],
               [
                5.126832,
                52.054918
               ]
              ]
             ],
             "type": "Polygon"
            },
            "id": "0321",
            "properties": {
             "code": "0321",
             "fid": 145,
             "gemeentena": "Houten"
            },
            "type": "Feature"
           },
           {
            "geometry": {
             "coordinates": [
              [
               [
                5.477664,
                51.983473
               ],
               [
                5.586617,
                51.950829
               ],
               [
                5.547545,
                51.942292
               ],
               [
                5.553877,
                51.922959
               ],
               [
                5.493557,
                51.918507
               ],
               [
                5.453385,
                51.922761
               ],
               [
                5.411257,
                51.912009
               ],
               [
                5.399824,
                51.898576
               ],
               [
                5.339024,
                51.874034
               ],
               [
                5.295016,
                51.900114
               ],
               [
                5.255062,
                51.935483
               ],
               [
                5.241922,
                51.945516
               ],
               [
                5.270374,
                51.965427
               ],
               [
                5.333118,
                51.957201
               ],
               [
                5.361845,
                51.970966
               ],
               [
                5.390976,
                51.97073
               ],
               [
                5.433266,
                51.984552
               ],
               [
                5.477664,
                51.983473
               ]
              ]
             ],
             "type": "Polygon"
            },
            "id": "0214",
            "properties": {
             "code": "0214",
             "fid": 146,
             "gemeentena": "Buren"
            },
            "type": "Feature"
           },
           {
            "geometry": {
             "coordinates": [
              [
               [
                4.580783,
                52.489447
               ],
               [
                4.653333,
                52.477155
               ],
               [
                4.674848,
                52.45552
               ],
               [
                4.721983,
                52.433336
               ],
               [
                4.682476,
                52.413849
               ],
               [
                4.650769,
                52.42857
               ],
               [
                4.631648,
                52.411666
               ],
               [
                4.624992,
                52.423492
               ],
               [
                4.559255,
                52.438104
               ],
               [
                4.552928,
                52.459903
               ],
               [
                4.580783,
                52.489447
               ]
              ]
             ],
             "type": "Polygon"
            },
            "id": "0453",
            "properties": {
             "code": "0453",
             "fid": 147,
             "gemeentena": "Velsen"
            },
            "type": "Feature"
           },
           {
            "geometry": {
             "coordinates": [
              [
               [
                4.842368,
                51.679654
               ],
               [
                4.925032,
                51.673009
               ],
               [
                4.932745,
                51.650618
               ],
               [
                4.910028,
                51.62946
               ],
               [
                4.911882,
                51.615399
               ],
               [
                4.913786,
                51.59809
               ],
               [
                4.864239,
                51.579089
               ],
               [
                4.842622,
                51.585829
               ],
               [
                4.842683,
                51.616986
               ],
               [
                4.787506,
                51.637048
               ],
               [
                4.781071,
                51.663902
               ],
               [
                4.842368,
                51.679654
               ]
              ]
             ],
             "type": "Polygon"
            },
            "id": "0826",
            "properties": {
             "code": "0826",
             "fid": 148,
             "gemeentena": "Oosterhout"
            },
            "type": "Feature"
           },
           {
            "geometry": {
             "coordinates": [
              [
               [
                5.472192,
                53.146614
               ],
               [
                5.411186,
                53.151787
               ],
               [
                5.437334,
                53.209835
               ],
               [
                5.487617,
                53.193657
               ],
               [
                5.486716,
                53.165072
               ],
               [
                5.472192,
                53.146614
               ]
              ]
             ],
             "type": "Polygon"
            },
            "id": "0072",
            "properties": {
             "code": "0072",
             "fid": 149,
             "gemeentena": "Harlingen"
            },
            "type": "Feature"
           },
           {
            "geometry": {
             "coordinates": [
              [
               [
                4.480403,
                51.862328
               ],
               [
                4.549383,
                51.874027
               ],
               [
                4.571058,
                51.847117
               ],
               [
                4.553609,
                51.829897
               ],
               [
                4.489094,
                51.835396
               ],
               [
                4.480403,
                51.862328
               ]
              ]
             ],
             "type": "Polygon"
            },
            "id": "0489",
            "properties": {
             "code": "0489",
             "fid": 150,
             "gemeentena": "Barendrecht"
            },
            "type": "Feature"
           },
           {
            "geometry": {
             "coordinates": [
              [
               [
                5.838649,
                53.274949
               ],
               [
                5.882245,
                53.276782
               ],
               [
                5.955974,
                53.228056
               ],
               [
                6.019791,
                53.240914
               ],
               [
                6.0304,
                53.229534
               ],
               [
                6.086289,
                53.215026
               ],
               [
                6.082254,
                53.198429
               ],
               [
                6.114593,
                53.175978
               ],
               [
                6.105013,
                53.151799
               ],
               [
                6.019773,
                53.155365
               ],
               [
                5.94346,
                53.121614
               ],
               [
                5.908629,
                53.14478
               ],
               [
                5.919409,
                53.16857
               ],
               [
                5.861937,
                53.171519
               ],
               [
                5.857728,
                53.204063
               ],
               [
                5.880656,
                53.224976
               ],
               [
                5.83216,
                53.242857
               ],
               [
                5.838649,
                53.274949
               ]
              ]
             ],
             "type": "Polygon"
            },
            "id": "0737",
            "properties": {
             "code": "0737",
             "fid": 151,
             "gemeentena": "Tytsjerksteradiel"
            },
            "type": "Feature"
           },
           {
            "geometry": {
             "coordinates": [
              [
               [
                5.010463,
                51.458244
               ],
               [
                5.004582,
                51.443925
               ],
               [
                4.963219,
                51.422293
               ],
               [
                4.928684,
                51.395899
               ],
               [
                4.883028,
                51.416371
               ],
               [
                4.789334,
                51.408987
               ],
               [
                4.786572,
                51.432519
               ],
               [
                4.828609,
                51.423748
               ],
               [
                4.823363,
                51.448619
               ],
               [
                4.841878,
                51.480736
               ],
               [
                4.891295,
                51.478217
               ],
               [
                4.932399,
                51.459135
               ],
               [
                5.010463,
                51.458244
               ]
              ]
             ],
             "type": "Polygon"
            },
            "id": "0744",
            "properties": {
             "code": "0744",
             "fid": 152,
             "gemeentena": "Baarle-Nassau"
            },
            "type": "Feature"
           },
           {
            "geometry": {
             "coordinates": [
              [
               [
                6.00588,
                51.258683
               ],
               [
                6.027856,
                51.245547
               ],
               [
                6.072664,
                51.24256
               ],
               [
                6.073141,
                51.182825
               ],
               [
                6.063566,
                51.165524
               ],
               [
                6.000162,
                51.162269
               ],
               [
                5.980695,
                51.174592
               ],
               [
                5.955478,
                51.159044
               ],
               [
                5.921628,
                51.171264
               ],
               [
                5.951325,
                51.201165
               ],
               [
                6.005523,
                51.2381
               ],
               [
                6.00588,
                51.258683
               ]
              ]
             ],
             "type": "Polygon"
            },
            "id": "0957",
            "properties": {
             "code": "0957",
             "fid": 153,
             "gemeentena": "Roermond"
            },
            "type": "Feature"
           },
           {
            "geometry": {
             "coordinates": [
              [
               [
                4.350671,
                51.951507
               ],
               [
                4.379309,
                51.963407
               ],
               [
                4.408958,
                51.935568
               ],
               [
                4.41371,
                51.900755
               ],
               [
                4.370623,
                51.899356
               ],
               [
                4.350671,
                51.951507
               ]
              ]
             ],
             "type": "Polygon"
            },
            "id": "0606",
            "properties": {
             "code": "0606",
             "fid": 154,
             "gemeentena": "Schiedam"
            },
            "type": "Feature"
           },
           {
            "geometry": {
             "coordinates": [
              [
               [
                6.154915,
                52.453183
               ],
               [
                6.162495,
                52.474388
               ],
               [
                6.278241,
                52.457043
               ],
               [
                6.291825,
                52.434721
               ],
               [
                6.3494,
                52.424852
               ],
               [
                6.380573,
                52.429816
               ],
               [
                6.390315,
                52.428145
               ],
               [
                6.40517,
                52.415542
               ],
               [
                6.38841,
                52.379782
               ],
               [
                6.343082,
                52.370032
               ],
               [
                6.333502,
                52.351398
               ],
               [
                6.356016,
                52.318219
               ],
               [
                6.32653,
                52.301632
               ],
               [
                6.267239,
                52.300805
               ],
               [
                6.235355,
                52.31982
               ],
               [
                6.222961,
                52.347237
               ],
               [
                6.197015,
                52.352119
               ],
               [
                6.203988,
                52.386899
               ],
               [
                6.226139,
                52.388001
               ],
               [
                6.230958,
                52.4235
               ],
               [
                6.177428,
                52.431149
               ],
               [
                6.154915,
                52.453183
               ]
              ]
             ],
             "type": "Polygon"
            },
            "id": "0177",
            "properties": {
             "code": "0177",
             "fid": 155,
             "gemeentena": "Raalte"
            },
            "type": "Feature"
           },
           {
            "geometry": {
             "coordinates": [
              [
               [
                5.224435,
                51.517148
               ],
               [
                5.228444,
                51.4987
               ],
               [
                5.191025,
                51.430225
               ],
               [
                5.19102,
                51.430216
               ],
               [
                5.102021,
                51.428923
               ],
               [
                5.07897,
                51.471518
               ],
               [
                5.049741,
                51.471108
               ],
               [
                5.05158,
                51.487132
               ],
               [
                5.100947,
                51.52052
               ],
               [
                5.109821,
                51.539383
               ],
               [
                5.130196,
                51.530298
               ],
               [
                5.190138,
                51.507409
               ],
               [
                5.224435,
                51.517148
               ]
              ]
             ],
             "type": "Polygon"
            },
            "id": "0798",
            "properties": {
             "code": "0798",
             "fid": 156,
             "gemeentena": "Hilvarenbeek"
            },
            "type": "Feature"
           },
           {
            "geometry": {
             "coordinates": [
              [
               [
                5.75734,
                50.855291
               ],
               [
                5.800667,
                50.84835
               ],
               [
                5.82361,
                50.830358
               ],
               [
                5.859461,
                50.833684
               ],
               [
                5.839239,
                50.807588
               ],
               [
                5.81941,
                50.805242
               ],
               [
                5.845038,
                50.765371
               ],
               [
                5.807356,
                50.75619
               ],
               [
                5.776648,
                50.782247
               ],
               [
                5.694789,
                50.754777
               ],
               [
                5.693817,
                50.81045
               ],
               [
                5.743474,
                50.82132
               ],
               [
                5.75734,
                50.855291
               ]
              ]
             ],
             "type": "Polygon"
            },
            "id": "1903",
            "properties": {
             "code": "1903",
             "fid": 157,
             "gemeentena": "Eijsden-Margraten"
            },
            "type": "Feature"
           },
           {
            "geometry": {
             "coordinates": [
              [
               [
                5.652486,
                51.569679
               ],
               [
                5.684144,
                51.5077
               ],
               [
                5.634822,
                51.494883
               ],
               [
                5.609654,
                51.509217
               ],
               [
                5.57673,
                51.499453
               ],
               [
                5.557652,
                51.50937
               ],
               [
                5.547437,
                51.537732
               ],
               [
                5.533083,
                51.557804
               ],
               [
                5.58425,
                51.562714
               ],
               [
                5.627214,
                51.555277
               ],
               [
                5.652486,
                51.569679
               ]
              ]
             ],
             "type": "Polygon"
            },
            "id": "1659",
            "properties": {
             "code": "1659",
             "fid": 158,
             "gemeentena": "Laarbeek"
            },
            "type": "Feature"
           },
           {
            "geometry": {
             "coordinates": [
              [
               [
                3.971382,
                51.528325
               ],
               [
                4.013658,
                51.518448
               ],
               [
                4.004731,
                51.504843
               ],
               [
                4.007323,
                51.458634
               ],
               [
                3.992858,
                51.451201
               ],
               [
                3.975128,
                51.462274
               ],
               [
                3.934081,
                51.448148
               ],
               [
                3.912878,
                51.479122
               ],
               [
                3.965231,
                51.506469
               ],
               [
                3.971382,
                51.528325
               ]
              ]
             ],
             "type": "Polygon"
            },
            "id": "0678",
            "properties": {
             "code": "0678",
             "fid": 159,
             "gemeentena": "Kapelle"
            },
            "type": "Feature"
           },
           {
            "geometry": {
             "coordinates": [
              [
               [
                6.121502,
                52.034617
               ],
               [
                6.175527,
                52.039374
               ],
               [
                6.176547,
                52.019228
               ],
               [
                6.159251,
                51.99974
               ],
               [
                6.109591,
                51.996437
               ],
               [
                6.12596,
                52.010127
               ],
               [
                6.121502,
                52.034617
               ]
              ]
             ],
             "type": "Polygon"
            },
            "id": "0221",
            "properties": {
             "code": "0221",
             "fid": 160,
             "gemeentena": "Doesburg"
            },
            "type": "Feature"
           },
           {
            "geometry": {
             "coordinates": [
              [
               [
                4.607427,
                52.065527
               ],
               [
                4.636851,
                52.073737
               ],
               [
                4.659968,
                52.064104
               ],
               [
                4.677311,
                52.043971
               ],
               [
                4.706039,
                52.04012
               ],
               [
                4.667279,
                52.025078
               ],
               [
                4.666607,
                52.012971
               ],
               [
                4.624736,
                52.014722
               ],
               [
                4.591089,
                52.035087
               ],
               [
                4.607427,
                52.065527
               ]
              ]
             ],
             "type": "Polygon"
            },
            "id": "0627",
            "properties": {
             "code": "0627",
             "fid": 161,
             "gemeentena": "Waddinxveen"
            },
            "type": "Feature"
           },
           {
            "geometry": {
             "coordinates": [
              [
               [
                6.50513,
                53.046355
               ],
               [
                6.547307,
                53.035067
               ],
               [
                6.555213,
                53.058608
               ],
               [
                6.603265,
                53.05951
               ],
               [
                6.603015,
                53.033087
               ],
               [
                6.631221,
                53.026105
               ],
               [
                6.596043,
                52.972658
               ],
               [
                6.561505,
                52.946652
               ],
               [
                6.535915,
                52.932591
               ],
               [
                6.496972,
                52.951566
               ],
               [
                6.485502,
                52.972985
               ],
               [
                6.488212,
                53.005405
               ],
               [
                6.50513,
                53.046355
               ]
              ]
             ],
             "type": "Polygon"
            },
            "id": "0106",
            "properties": {
             "code": "0106",
             "fid": 162,
             "gemeentena": "Assen"
            },
            "type": "Feature"
           },
           {
            "geometry": {
             "coordinates": [
              [
               [
                6.006085,
                52.066349
               ],
               [
                6.008849,
                52.074014
               ],
               [
                6.051118,
                52.124203
               ],
               [
                6.076067,
                52.143938
               ],
               [
                6.16166,
                52.161467
               ],
               [
                6.184679,
                52.161223
               ],
               [
                6.163985,
                52.146352
               ],
               [
                6.187989,
                52.1157
               ],
               [
                6.217899,
                52.097881
               ],
               [
                6.174899,
                52.089667
               ],
               [
                6.137469,
                52.059181
               ],
               [
                6.068281,
                52.088246
               ],
               [
                6.006085,
                52.066349
               ]
              ]
             ],
             "type": "Polygon"
            },
            "id": "0213",
            "properties": {
             "code": "0213",
             "fid": 163,
             "gemeentena": "Brummen"
            },
            "type": "Feature"
           },
           {
            "geometry": {
             "coordinates": [
              [
               [
                5.864469,
                51.757682
               ],
               [
                5.893409,
                51.777853
               ],
               [
                5.915285,
                51.752287
               ],
               [
                5.938299,
                51.741593
               ],
               [
                5.91947,
                51.717671
               ],
               [
                5.886635,
                51.726266
               ],
               [
                5.864469,
                51.757682
               ]
              ]
             ],
             "type": "Polygon"
            },
            "id": "0944",
            "properties": {
             "code": "0944",
             "fid": 164,
             "gemeentena": "Mook en Middelaar"
            },
            "type": "Feature"
           },
           {
            "geometry": {
             "coordinates": [
              [
               [
                5.839892,
                50.950191
               ],
               [
                5.85693,
                50.944001
               ],
               [
                5.841498,
                50.919607
               ],
               [
                5.801715,
                50.91413
               ],
               [
                5.770938,
                50.927928
               ],
               [
                5.788108,
                50.948606
               ],
               [
                5.839892,
                50.950191
               ]
              ]
             ],
             "type": "Polygon"
            },
            "id": "0888",
            "properties": {
             "code": "0888",
             "fid": 165,
             "gemeentena": "Beek"
            },
            "type": "Feature"
           },
           {
            "geometry": {
             "coordinates": [
              [
               [
                4.800509,
                52.660241
               ],
               [
                4.779026,
                52.676484
               ],
               [
                4.741742,
                52.680807
               ],
               [
                4.728854,
                52.691404
               ],
               [
                4.769647,
                52.698793
               ],
               [
                4.77249,
                52.718916
               ],
               [
                4.826242,
                52.717436
               ],
               [
                4.827075,
                52.676437
               ],
               [
                4.800509,
                52.660241
               ]
              ]
             ],
             "type": "Polygon"
            },
            "id": "0416",
            "properties": {
             "code": "0416",
             "fid": 166,
             "gemeentena": "Langedijk"
            },
            "type": "Feature"
           },
           {
            "geometry": {
             "coordinates": [
              [
               [
                4.422072,
                52.051673
               ],
               [
                4.420833,
                52.06258
               ],
               [
                4.492219,
                52.09001
               ],
               [
                4.530555,
                52.080511
               ],
               [
                4.55718,
                52.061239
               ],
               [
                4.504675,
                52.031959
               ],
               [
                4.476706,
                52.031642
               ],
               [
                4.450564,
                52.04921
               ],
               [
                4.422072,
                52.051673
               ]
              ]
             ],
             "type": "Polygon"
            },
            "id": "0637",
            "properties": {
             "code": "0637",
             "fid": 167,
             "gemeentena": "Zoetermeer"
            },
            "type": "Feature"
           },
           {
            "geometry": {
             "coordinates": [
              [
               [
                [
                 4.944716,
                 52.32713
                ],
                [
                 5.016134,
                 52.324512
                ],
                [
                 5.017933,
                 52.323192
                ],
                [
                 5.021543,
                 52.302457
                ],
                [
                 4.955241,
                 52.278305
                ],
                [
                 4.929473,
                 52.307414
                ],
                [
                 4.944716,
                 52.32713
                ]
               ]
              ],
              [
               [
                [
                 4.862677,
                 52.429941
                ],
                [
                 4.898741,
                 52.42449
                ],
                [
                 4.93112,
                 52.411693
                ],
                [
                 4.947789,
                 52.421562
                ],
                [
                 5.000717,
                 52.425293
                ],
                [
                 5.06852,
                 52.416447
                ],
                [
                 5.031783,
                 52.400948
                ],
                [
                 5.025564,
                 52.387774
                ],
                [
                 4.980462,
                 52.373641
                ],
                [
                 5.012428,
                 52.344364
                ],
                [
                 4.974804,
                 52.354507
                ],
                [
                 4.94986,
                 52.338528
                ],
                [
                 4.912932,
                 52.33051
                ],
                [
                 4.909135,
                 52.318253
                ],
                [
                 4.818753,
                 52.32556
                ],
                [
                 4.75733,
                 52.355203
                ],
                [
                 4.757858,
                 52.396587
                ],
                [
                 4.728759,
                 52.400711
                ],
                [
                 4.739208,
                 52.431064
                ],
                [
                 4.856078,
                 52.416662
                ],
                [
                 4.862677,
                 52.429941
                ]
               ]
              ]
             ],
             "type": "MultiPolygon"
            },
            "id": "0363",
            "properties": {
             "code": "0363",
             "fid": 168,
             "gemeentena": "Amsterdam"
            },
            "type": "Feature"
           },
           {
            "geometry": {
             "coordinates": [
              [
               [
                5.801715,
                50.91413
               ],
               [
                5.799842,
                50.885673
               ],
               [
                5.76266,
                50.86651
               ],
               [
                5.733366,
                50.874746
               ],
               [
                5.714854,
                50.908458
               ],
               [
                5.745993,
                50.943411
               ],
               [
                5.770938,
                50.927928
               ],
               [
                5.801715,
                50.91413
               ]
              ]
             ],
             "type": "Polygon"
            },
            "id": "0938",
            "properties": {
             "code": "0938",
             "fid": 169,
             "gemeentena": "Meerssen"
            },
            "type": "Feature"
           },
           {
            "geometry": {
             "coordinates": [
              [
               [
                5.531543,
                52.102267
               ],
               [
                5.550343,
                52.10542
               ],
               [
                5.562746,
                52.078278
               ],
               [
                5.557903,
                52.048865
               ],
               [
                5.529348,
                52.040202
               ],
               [
                5.497876,
                52.057018
               ],
               [
                5.496128,
                52.071678
               ],
               [
                5.537118,
                52.088644
               ],
               [
                5.531543,
                52.102267
               ]
              ]
             ],
             "type": "Polygon"
            },
            "id": "0339",
            "properties": {
             "code": "0339",
             "fid": 170,
             "gemeentena": "Renswoude"
            },
            "type": "Feature"
           },
           {
            "geometry": {
             "coordinates": [
              [
               [
                4.694187,
                51.544848
               ],
               [
                4.741836,
                51.531355
               ],
               [
                4.733997,
                51.485548
               ],
               [
                4.693097,
                51.45173
               ],
               [
                4.666586,
                51.444399
               ],
               [
                4.66969,
                51.426363
               ],
               [
                4.574728,
                51.432849
               ],
               [
                4.535409,
                51.42303
               ],
               [
                4.529896,
                51.449521
               ],
               [
                4.548161,
                51.473313
               ],
               [
                4.638716,
                51.524413
               ],
               [
                4.659112,
                51.525494
               ],
               [
                4.694187,
                51.544848
               ]
              ]
             ],
             "type": "Polygon"
            },
            "id": "0879",
            "properties": {
             "code": "0879",
             "fid": 171,
             "gemeentena": "Zundert"
            },
            "type": "Feature"
           },
           {
            "geometry": {
             "coordinates": [
              [
               [
                6.742886,
                52.283113
               ],
               [
                6.775516,
                52.293153
               ],
               [
                6.802039,
                52.313586
               ],
               [
                6.846639,
                52.291174
               ],
               [
                6.840492,
                52.276312
               ],
               [
                6.842562,
                52.253909
               ],
               [
                6.813754,
                52.229483
               ],
               [
                6.774434,
                52.238456
               ],
               [
                6.755893,
                52.217396
               ],
               [
                6.766801,
                52.191065
               ],
               [
                6.712388,
                52.206331
               ],
               [
                6.724336,
                52.252714
               ],
               [
                6.75296,
                52.25237
               ],
               [
                6.742886,
                52.283113
               ]
              ]
             ],
             "type": "Polygon"
            },
            "id": "0164",
            "properties": {
             "code": "0164",
             "fid": 172,
             "gemeentena": "Hengelo"
            },
            "type": "Feature"
           },
           {
            "geometry": {
             "coordinates": [
              [
               [
                5.813374,
                52.024071
               ],
               [
                5.802961,
                52.004054
               ],
               [
                5.86374,
                51.99589
               ],
               [
                5.863737,
                51.977965
               ],
               [
                5.835343,
                51.973559
               ],
               [
                5.786773,
                51.960159
               ],
               [
                5.747876,
                51.969609
               ],
               [
                5.722606,
                51.964051
               ],
               [
                5.724363,
                52.000708
               ],
               [
                5.745137,
                52.019769
               ],
               [
                5.813374,
                52.024071
               ]
              ]
             ],
             "type": "Polygon"
            },
            "id": "0274",
            "properties": {
             "code": "0274",
             "fid": 173,
             "gemeentena": "Renkum"
            },
            "type": "Feature"
           },
           {
            "geometry": {
             "coordinates": [
              [
               [
                4.639648,
                52.338906
               ],
               [
                4.636626,
                52.361484
               ],
               [
                4.605724,
                52.363405
               ],
               [
                4.631648,
                52.411666
               ],
               [
                4.650769,
                52.42857
               ],
               [
                4.682476,
                52.413849
               ],
               [
                4.686921,
                52.387444
               ],
               [
                4.676446,
                52.354287
               ],
               [
                4.639648,
                52.338906
               ]
              ]
             ],
             "type": "Polygon"
            },
            "id": "0392",
            "properties": {
             "code": "0392",
             "fid": 174,
             "gemeentena": "Haarlem"
            },
            "type": "Feature"
           },
           {
            "geometry": {
             "coordinates": [
              [
               [
                3.696382,
                51.535184
               ],
               [
                3.713607,
                51.530367
               ],
               [
                3.745245,
                51.512472
               ],
               [
                3.705536,
                51.502456
               ],
               [
                3.703648,
                51.48227
               ],
               [
                3.666891,
                51.469615
               ],
               [
                3.586979,
                51.479253
               ],
               [
                3.583684,
                51.519627
               ],
               [
                3.613158,
                51.535142
               ],
               [
                3.65884,
                51.519261
               ],
               [
                3.696382,
                51.535184
               ]
              ]
             ],
             "type": "Polygon"
            },
            "id": "0687",
            "properties": {
             "code": "0687",
             "fid": 175,
             "gemeentena": "Middelburg"
            },
            "type": "Feature"
           },
           {
            "geometry": {
             "coordinates": [
              [
               [
                5.474244,
                51.728965
               ],
               [
                5.540502,
                51.739248
               ],
               [
                5.580881,
                51.731448
               ],
               [
                5.597041,
                51.701987
               ],
               [
                5.56224,
                51.663152
               ],
               [
                5.5703,
                51.651434
               ],
               [
                5.524397,
                51.630439
               ],
               [
                5.497202,
                51.626686
               ],
               [
                5.467781,
                51.64228
               ],
               [
                5.42339,
                51.653783
               ],
               [
                5.456873,
                51.687591
               ],
               [
                5.492386,
                51.706101
               ],
               [
                5.474244,
                51.728965
               ]
              ]
             ],
             "type": "Polygon"
            },
            "id": "1721",
            "properties": {
             "code": "1721",
             "fid": 176,
             "gemeentena": "Bernheze"
            },
            "type": "Feature"
           },
           {
            "geometry": {
             "coordinates": [
              [
               [
                5.390976,
                51.97073
               ],
               [
                5.361845,
                51.970966
               ],
               [
                5.333118,
                51.957201
               ],
               [
                5.270374,
                51.965427
               ],
               [
                5.256271,
                51.970941
               ],
               [
                5.243191,
                51.998793
               ],
               [
                5.27991,
                52.010722
               ],
               [
                5.314649,
                52.027001
               ],
               [
                5.381647,
                52.002138
               ],
               [
                5.390976,
                51.97073
               ]
              ]
             ],
             "type": "Polygon"
            },
            "id": "0352",
            "properties": {
             "code": "0352",
             "fid": 177,
             "gemeentena": "Wijk bij Duurstede"
            },
            "type": "Feature"
           },
           {
            "geometry": {
             "coordinates": [
              [
               [
                4.239383,
                51.872986
               ],
               [
                4.185273,
                51.849708
               ],
               [
                4.155279,
                51.881603
               ],
               [
                4.135763,
                51.906156
               ],
               [
                4.14489,
                51.931409
               ],
               [
                4.216271,
                51.898731
               ],
               [
                4.239383,
                51.872986
               ]
              ]
             ],
             "type": "Polygon"
            },
            "id": "0501",
            "properties": {
             "code": "0501",
             "fid": 178,
             "gemeentena": "Brielle"
            },
            "type": "Feature"
           },
           {
            "geometry": {
             "coordinates": [
              [
               [
                6.019791,
                53.240914
               ],
               [
                6.043966,
                53.243502
               ],
               [
                6.141058,
                53.264383
               ],
               [
                6.19379,
                53.270037
               ],
               [
                6.232173,
                53.256747
               ],
               [
                6.217978,
                53.241932
               ],
               [
                6.22999,
                53.217839
               ],
               [
                6.199542,
                53.198164
               ],
               [
                6.17675,
                53.159505
               ],
               [
                6.105013,
                53.151799
               ],
               [
                6.114593,
                53.175978
               ],
               [
                6.082254,
                53.198429
               ],
               [
                6.086289,
                53.215026
               ],
               [
                6.0304,
                53.229534
               ],
               [
                6.019791,
                53.240914
               ]
              ]
             ],
             "type": "Polygon"
            },
            "id": "0059",
            "properties": {
             "code": "0059",
             "fid": 179,
             "gemeentena": "Achtkarspelen"
            },
            "type": "Feature"
           },
           {
            "geometry": {
             "coordinates": [
              [
               [
                5.479922,
                52.165815
               ],
               [
                5.485472,
                52.181639
               ],
               [
                5.530808,
                52.191539
               ],
               [
                5.565022,
                52.178072
               ],
               [
                5.577699,
                52.194797
               ],
               [
                5.625651,
                52.192724
               ],
               [
                5.633267,
                52.208167
               ],
               [
                5.68127,
                52.225339
               ],
               [
                5.683642,
                52.240617
               ],
               [
                5.726389,
                52.242503
               ],
               [
                5.750585,
                52.193731
               ],
               [
                5.788566,
                52.196536
               ],
               [
                5.809843,
                52.151415
               ],
               [
                5.720349,
                52.14626
               ],
               [
                5.72152,
                52.137994
               ],
               [
                5.561235,
                52.120251
               ],
               [
                5.550343,
                52.10542
               ],
               [
                5.531543,
                52.102267
               ],
               [
                5.493862,
                52.111097
               ],
               [
                5.486447,
                52.11536
               ],
               [
                5.511685,
                52.137496
               ],
               [
                5.481342,
                52.150501
               ],
               [
                5.479922,
                52.165815
               ]
              ]
             ],
             "type": "Polygon"
            },
            "id": "0203",
            "properties": {
             "code": "0203",
             "fid": 180,
             "gemeentena": "Barneveld"
            },
            "type": "Feature"
           },
           {
            "geometry": {
             "coordinates": [
              [
               [
                4.292611,
                51.921236
               ],
               [
                4.350671,
                51.951507
               ],
               [
                4.370623,
                51.899356
               ],
               [
                4.333844,
                51.894281
               ],
               [
                4.267571,
                51.905335
               ],
               [
                4.292611,
                51.921236
               ]
              ]
             ],
             "type": "Polygon"
            },
            "id": "0622",
            "properties": {
             "code": "0622",
             "fid": 181,
             "gemeentena": "Vlaardingen"
            },
            "type": "Feature"
           },
           {
            "geometry": {
             "coordinates": [
              [
               [
                5.933785,
                51.71614
               ],
               [
                5.91947,
                51.717671
               ],
               [
                5.938299,
                51.741593
               ],
               [
                5.953288,
                51.748024
               ],
               [
                6.028965,
                51.725753
               ],
               [
                6.031945,
                51.676165
               ],
               [
                5.976607,
                51.643783
               ],
               [
                5.963276,
                51.661429
               ],
               [
                5.956179,
                51.707248
               ],
               [
                5.933785,
                51.71614
               ]
              ]
             ],
             "type": "Polygon"
            },
            "id": "0907",
            "properties": {
             "code": "0907",
             "fid": 182,
             "gemeentena": "Gennep"
            },
            "type": "Feature"
           },
           {
            "geometry": {
             "coordinates": [
              [
               [
                5.865562,
                52.51858
               ],
               [
                5.857165,
                52.544162
               ],
               [
                5.856092,
                52.54688
               ],
               [
                5.834107,
                52.575691
               ],
               [
                5.839652,
                52.609601
               ],
               [
                5.840176,
                52.610088
               ],
               [
                5.841188,
                52.610503
               ],
               [
                5.900812,
                52.618585
               ],
               [
                5.915379,
                52.613766
               ],
               [
                5.915803,
                52.613545
               ],
               [
                5.986184,
                52.625151
               ],
               [
                5.971341,
                52.594157
               ],
               [
                5.982941,
                52.577514
               ],
               [
                6.012688,
                52.585636
               ],
               [
                6.033038,
                52.559403
               ],
               [
                6.01867,
                52.525919
               ],
               [
                6.027857,
                52.509606
               ],
               [
                6.000788,
                52.500149
               ],
               [
                5.965258,
                52.476463
               ],
               [
                5.925559,
                52.474058
               ],
               [
                5.887854,
                52.516331
               ],
               [
                5.865562,
                52.51858
               ]
              ]
             ],
             "type": "Polygon"
            },
            "id": "0166",
            "properties": {
             "code": "0166",
             "fid": 183,
             "gemeentena": "Kampen"
            },
            "type": "Feature"
           },
           {
            "geometry": {
             "coordinates": [
              [
               [
                5.437334,
                53.209835
               ],
               [
                5.481637,
                53.240734
               ],
               [
                5.522787,
                53.256005
               ],
               [
                5.596651,
                53.304507
               ],
               [
                5.717377,
                53.3389
               ],
               [
                5.722394,
                53.322293
               ],
               [
                5.749301,
                53.313555
               ],
               [
                5.735384,
                53.294721
               ],
               [
                5.720303,
                53.274545
               ],
               [
                5.745074,
                53.185416
               ],
               [
                5.727799,
                53.167566
               ],
               [
                5.683128,
                53.181144
               ],
               [
                5.6587,
                53.168316
               ],
               [
                5.637348,
                53.124149
               ],
               [
                5.51294,
                53.138581
               ],
               [
                5.472192,
                53.146614
               ],
               [
                5.486716,
                53.165072
               ],
               [
                5.487617,
                53.193657
               ],
               [
                5.437334,
                53.209835
               ]
              ]
             ],
             "type": "Polygon"
            },
            "id": "1949",
            "properties": {
             "code": "1949",
             "fid": 184,
             "gemeentena": "Waadhoeke"
            },
            "type": "Feature"
           },
           {
            "geometry": {
             "coordinates": [
              [
               [
                5.714854,
                50.908458
               ],
               [
                5.733366,
                50.874746
               ],
               [
                5.76266,
                50.86651
               ],
               [
                5.75734,
                50.855291
               ],
               [
                5.743474,
                50.82132
               ],
               [
                5.693817,
                50.81045
               ],
               [
                5.664272,
                50.817187
               ],
               [
                5.639219,
                50.846334
               ],
               [
                5.651323,
                50.875092
               ],
               [
                5.714854,
                50.908458
               ]
              ]
             ],
             "type": "Polygon"
            },
            "id": "0935",
            "properties": {
             "code": "0935",
             "fid": 185,
             "gemeentena": "Maastricht"
            },
            "type": "Feature"
           },
           {
            "geometry": {
             "coordinates": [
              [
               [
                4.695736,
                52.526728
               ],
               [
                4.69256,
                52.510677
               ],
               [
                4.720367,
                52.494954
               ],
               [
                4.707969,
                52.486332
               ],
               [
                4.666302,
                52.500744
               ],
               [
                4.604314,
                52.494389
               ],
               [
                4.586493,
                52.499175
               ],
               [
                4.598185,
                52.531162
               ],
               [
                4.695736,
                52.526728
               ]
              ]
             ],
             "type": "Polygon"
            },
            "id": "0396",
            "properties": {
             "code": "0396",
             "fid": 186,
             "gemeentena": "Heemskerk"
            },
            "type": "Feature"
           },
           {
            "geometry": {
             "coordinates": [
              [
               [
                5.224435,
                51.517148
               ],
               [
                5.273271,
                51.552821
               ],
               [
                5.356911,
                51.544717
               ],
               [
                5.349402,
                51.51706
               ],
               [
                5.355887,
                51.496107
               ],
               [
                5.389937,
                51.487533
               ],
               [
                5.391187,
                51.471756
               ],
               [
                5.369447,
                51.465317
               ],
               [
                5.334728,
                51.465875
               ],
               [
                5.248396,
                51.445631
               ],
               [
                5.237705,
                51.428559
               ],
               [
                5.191025,
                51.430225
               ],
               [
                5.228444,
                51.4987
               ],
               [
                5.224435,
                51.517148
               ]
              ]
             ],
             "type": "Polygon"
            },
            "id": "0823",
            "properties": {
             "code": "0823",
             "fid": 187,
             "gemeentena": "Oirschot"
            },
            "type": "Feature"
           },
           {
            "geometry": {
             "coordinates": [
              [
               [
                4.987267,
                51.654609
               ],
               [
                4.957897,
                51.651532
               ],
               [
                4.933169,
                51.67675
               ],
               [
                4.917991,
                51.719959
               ],
               [
                4.960894,
                51.722413
               ],
               [
                5.027446,
                51.711074
               ],
               [
                5.08176,
                51.722344
               ],
               [
                5.106855,
                51.710861
               ],
               [
                5.101509,
                51.676835
               ],
               [
                5.049178,
                51.661623
               ],
               [
                4.992246,
                51.676251
               ],
               [
                4.987267,
                51.654609
               ]
              ]
             ],
             "type": "Polygon"
            },
            "id": "0867",
            "properties": {
             "code": "0867",
             "fid": 188,
             "gemeentena": "Waalwijk"
            },
            "type": "Feature"
           },
           {
            "geometry": {
             "coordinates": [
              [
               [
                5.597041,
                51.701987
               ],
               [
                5.580881,
                51.731448
               ],
               [
                5.576271,
                51.744877
               ],
               [
                5.648219,
                51.76364
               ],
               [
                5.690858,
                51.759131
               ],
               [
                5.713139,
                51.726415
               ],
               [
                5.69996,
                51.711452
               ],
               [
                5.734359,
                51.677622
               ],
               [
                5.742546,
                51.650062
               ],
               [
                5.731348,
                51.673935
               ],
               [
                5.672991,
                51.666249
               ],
               [
                5.62258,
                51.699094
               ],
               [
                5.597041,
                51.701987
               ]
              ]
             ],
             "type": "Polygon"
            },
            "id": "1685",
            "properties": {
             "code": "1685",
             "fid": 189,
             "gemeentena": "Landerd"
            },
            "type": "Feature"
           },
           {
            "geometry": {
             "coordinates": [
              [
               [
                6.849806,
                52.804634
               ],
               [
                6.858512,
                52.813703
               ],
               [
                6.948784,
                52.848727
               ],
               [
                6.957566,
                52.861796
               ],
               [
                7.014799,
                52.872987
               ],
               [
                7.040242,
                52.872903
               ],
               [
                7.072178,
                52.845159
               ],
               [
                7.09274,
                52.838196
               ],
               [
                7.071551,
                52.810421
               ],
               [
                7.054755,
                52.644423
               ],
               [
                7.041922,
                52.632808
               ],
               [
                6.974542,
                52.645885
               ],
               [
                6.939976,
                52.637992
               ],
               [
                6.896813,
                52.651417
               ],
               [
                6.861875,
                52.649691
               ],
               [
                6.849529,
                52.699354
               ],
               [
                6.826361,
                52.730888
               ],
               [
                6.839694,
                52.760996
               ],
               [
                6.831261,
                52.778649
               ],
               [
                6.849806,
                52.804634
               ]
              ]
             ],
             "type": "Polygon"
            },
            "id": "0114",
            "properties": {
             "code": "0114",
             "fid": 190,
             "gemeentena": "Emmen"
            },
            "type": "Feature"
           },
           {
            "geometry": {
             "coordinates": [
              [
               [
                5.821823,
                52.449154
               ],
               [
                5.82202,
                52.450023
               ],
               [
                5.841454,
                52.470725
               ],
               [
                5.924339,
                52.391393
               ],
               [
                5.876009,
                52.357873
               ],
               [
                5.864792,
                52.359658
               ],
               [
                5.811672,
                52.402799
               ],
               [
                5.770748,
                52.395515
               ],
               [
                5.75702,
                52.406771
               ],
               [
                5.810561,
                52.43569
               ],
               [
                5.821823,
                52.449154
               ]
              ]
             ],
             "type": "Polygon"
            },
            "id": "0230",
            "properties": {
             "code": "0230",
             "fid": 191,
             "gemeentena": "Elburg"
            },
            "type": "Feature"
           },
           {
            "geometry": {
             "coordinates": [
              [
               [
                4.665072,
                51.634319
               ],
               [
                4.663872,
                51.604069
               ],
               [
                4.682106,
                51.598893
               ],
               [
                4.694187,
                51.544848
               ],
               [
                4.659112,
                51.525494
               ],
               [
                4.638716,
                51.524413
               ],
               [
                4.624766,
                51.55226
               ],
               [
                4.591761,
                51.561032
               ],
               [
                4.596755,
                51.590298
               ],
               [
                4.613883,
                51.608008
               ],
               [
                4.601233,
                51.625239
               ],
               [
                4.665072,
                51.634319
               ]
              ]
             ],
             "type": "Polygon"
            },
            "id": "0777",
            "properties": {
             "code": "0777",
             "fid": 192,
             "gemeentena": "Etten-Leur"
            },
            "type": "Feature"
           },
           {
            "geometry": {
             "coordinates": [
              [
               [
                3.869159,
                51.541902
               ],
               [
                3.834503,
                51.553018
               ],
               [
                3.793582,
                51.54248
               ],
               [
                3.762857,
                51.553417
               ],
               [
                3.713607,
                51.530367
               ],
               [
                3.696382,
                51.535184
               ],
               [
                3.694674,
                51.550167
               ],
               [
                3.653128,
                51.568463
               ],
               [
                3.633626,
                51.58934
               ],
               [
                3.679448,
                51.599967
               ],
               [
                3.683208,
                51.600786
               ],
               [
                3.715145,
                51.592091
               ],
               [
                3.839178,
                51.605068
               ],
               [
                3.873382,
                51.592234
               ],
               [
                3.899544,
                51.562872
               ],
               [
                3.869159,
                51.541902
               ]
              ]
             ],
             "type": "Polygon"
            },
            "id": "1695",
            "properties": {
             "code": "1695",
             "fid": 193,
             "gemeentena": "Noord-Beveland"
            },
            "type": "Feature"
           },
           {
            "geometry": {
             "coordinates": [
              [
               [
                5.586617,
                51.950829
               ],
               [
                5.60594,
                51.943125
               ],
               [
                5.640271,
                51.938828
               ],
               [
                5.665989,
                51.952799
               ],
               [
                5.681211,
                51.91832
               ],
               [
                5.706659,
                51.893292
               ],
               [
                5.685014,
                51.895648
               ],
               [
                5.553907,
                51.900777
               ],
               [
                5.531363,
                51.894753
               ],
               [
                5.463917,
                51.889009
               ],
               [
                5.453385,
                51.922761
               ],
               [
                5.493557,
                51.918507
               ],
               [
                5.553877,
                51.922959
               ],
               [
                5.547545,
                51.942292
               ],
               [
                5.586617,
                51.950829
               ]
              ]
             ],
             "type": "Polygon"
            },
            "id": "1740",
            "properties": {
             "code": "1740",
             "fid": 194,
             "gemeentena": "Neder-Betuwe"
            },
            "type": "Feature"
           },
           {
            "geometry": {
             "coordinates": [
              [
               [
                4.013658,
                51.518448
               ],
               [
                4.04371,
                51.502112
               ],
               [
                4.055415,
                51.480943
               ],
               [
                4.09326,
                51.446533
               ],
               [
                4.132646,
                51.432479
               ],
               [
                4.18224,
                51.443931
               ],
               [
                4.22361,
                51.438664
               ],
               [
                4.217547,
                51.48767
               ],
               [
                4.230328,
                51.488904
               ],
               [
                4.265432,
                51.439681
               ],
               [
                4.268382,
                51.383546
               ],
               [
                4.277425,
                51.376035
               ],
               [
                4.24219,
                51.374774
               ],
               [
                4.231676,
                51.394308
               ],
               [
                4.200069,
                51.406237
               ],
               [
                4.156885,
                51.39483
               ],
               [
                4.079675,
                51.407026
               ],
               [
                3.992858,
                51.451201
               ],
               [
                4.007323,
                51.458634
               ],
               [
                4.004731,
                51.504843
               ],
               [
                4.013658,
                51.518448
               ]
              ]
             ],
             "type": "Polygon"
            },
            "id": "0703",
            "properties": {
             "code": "0703",
             "fid": 195,
             "gemeentena": "Reimerswaal"
            },
            "type": "Feature"
           },
           {
            "geometry": {
             "coordinates": [
              [
               [
                4.35779,
                52.026863
               ],
               [
                4.325956,
                52.012793
               ],
               [
                4.309819,
                52.015634
               ],
               [
                4.307639,
                52.018151
               ],
               [
                4.290952,
                52.041573
               ],
               [
                4.340047,
                52.061806
               ],
               [
                4.35779,
                52.026863
               ]
              ]
             ],
             "type": "Polygon"
            },
            "id": "0603",
            "properties": {
             "code": "0603",
             "fid": 196,
             "gemeentena": "Rijswijk"
            },
            "type": "Feature"
           },
           {
            "geometry": {
             "coordinates": [
              [
               [
                4.265432,
                51.439681
               ],
               [
                4.311167,
                51.460173
               ],
               [
                4.366966,
                51.456719
               ],
               [
                4.391083,
                51.451487
               ],
               [
                4.391611,
                51.408171
               ],
               [
                4.431692,
                51.375049
               ],
               [
                4.384543,
                51.354352
               ],
               [
                4.341354,
                51.357563
               ],
               [
                4.334505,
                51.377641
               ],
               [
                4.277425,
                51.376035
               ],
               [
                4.268382,
                51.383546
               ],
               [
                4.265432,
                51.439681
               ]
              ]
             ],
             "type": "Polygon"
            },
            "id": "0873",
            "properties": {
             "code": "0873",
             "fid": 197,
             "gemeentena": "Woensdrecht"
            },
            "type": "Feature"
           },
           {
            "geometry": {
             "coordinates": [
              [
               [
                5.244081,
                52.254663
               ],
               [
                5.22473,
                52.225197
               ],
               [
                5.21896,
                52.212129
               ],
               [
                5.188853,
                52.247651
               ],
               [
                5.203822,
                52.267115
               ],
               [
                5.244081,
                52.254663
               ]
              ]
             ],
             "type": "Polygon"
            },
            "id": "0417",
            "properties": {
             "code": "0417",
             "fid": 198,
             "gemeentena": "Laren"
            },
            "type": "Feature"
           },
           {
            "geometry": {
             "coordinates": [
              [
               [
                3.842326,
                51.756394
               ],
               [
                3.83902,
                51.758332
               ],
               [
                3.865411,
                51.781503
               ],
               [
                3.854983,
                51.803429
               ],
               [
                3.866682,
                51.818836
               ],
               [
                4.000913,
                51.849022
               ],
               [
                4.035757,
                51.823656
               ],
               [
                4.048474,
                51.832166
               ],
               [
                4.049091,
                51.83161
               ],
               [
                4.046819,
                51.821846
               ],
               [
                4.16461,
                51.779595
               ],
               [
                4.190978,
                51.774618
               ],
               [
                4.271204,
                51.724248
               ],
               [
                4.32963,
                51.702713
               ],
               [
                4.386346,
                51.702558
               ],
               [
                4.397719,
                51.711456
               ],
               [
                4.398475,
                51.711276
               ],
               [
                4.403679,
                51.698735
               ],
               [
                4.394214,
                51.693617
               ],
               [
                4.355797,
                51.670559
               ],
               [
                4.272055,
                51.654463
               ],
               [
                4.237407,
                51.658374
               ],
               [
                4.219904,
                51.673789
               ],
               [
                4.157517,
                51.682407
               ],
               [
                4.155301,
                51.683507
               ],
               [
                4.15638,
                51.696046
               ],
               [
                4.122787,
                51.706507
               ],
               [
                4.050945,
                51.71114
               ],
               [
                4.01888,
                51.7551
               ],
               [
                4.019924,
                51.778877
               ],
               [
                3.988552,
                51.802024
               ],
               [
                3.949909,
                51.803277
               ],
               [
                3.895738,
                51.793124
               ],
               [
                3.842326,
                51.756394
               ]
              ]
             ],
             "type": "Polygon"
            },
            "id": "1924",
            "properties": {
             "code": "1924",
             "fid": 199,
             "gemeentena": "Goeree-Overflakkee"
            },
            "type": "Feature"
           },
           {
            "geometry": {
             "coordinates": [
              [
               [
                6.001733,
                51.977552
               ],
               [
                6.06111,
                51.981763
               ],
               [
                6.043076,
                51.916831
               ],
               [
                5.987063,
                51.913314
               ],
               [
                5.965775,
                51.938768
               ],
               [
                5.984364,
                51.943021
               ],
               [
                5.986396,
                51.968935
               ],
               [
                6.001733,
                51.977552
               ]
              ]
             ],
             "type": "Polygon"
            },
            "id": "0226",
            "properties": {
             "code": "0226",
             "fid": 200,
             "gemeentena": "Duiven"
            },
            "type": "Feature"
           },
           {
            "geometry": {
             "coordinates": [
              [
               [
                5.923405,
                50.904406
               ],
               [
                5.969362,
                50.86008
               ],
               [
                5.954816,
                50.845924
               ],
               [
                5.887993,
                50.847034
               ],
               [
                5.861618,
                50.882418
               ],
               [
                5.880575,
                50.882475
               ],
               [
                5.923405,
                50.904406
               ]
              ]
             ],
             "type": "Polygon"
            },
            "id": "0986",
            "properties": {
             "code": "0986",
             "fid": 201,
             "gemeentena": "Voerendaal"
            },
            "type": "Feature"
           },
           {
            "geometry": {
             "coordinates": [
              [
               [
                5.913888,
                51.1332
               ],
               [
                5.955478,
                51.159044
               ],
               [
                5.980695,
                51.174592
               ],
               [
                6.000162,
                51.162269
               ],
               [
                6.063566,
                51.165524
               ],
               [
                6.073141,
                51.182825
               ],
               [
                6.08219,
                51.171634
               ],
               [
                6.138802,
                51.173339
               ],
               [
                6.16066,
                51.149269
               ],
               [
                6.091684,
                51.13454
               ],
               [
                6.036463,
                51.096531
               ],
               [
                6.021983,
                51.113371
               ],
               [
                5.984807,
                51.120655
               ],
               [
                5.926755,
                51.113774
               ],
               [
                5.913888,
                51.1332
               ]
              ]
             ],
             "type": "Polygon"
            },
            "id": "1669",
            "properties": {
             "code": "1669",
             "fid": 202,
             "gemeentena": "Roerdalen"
            },
            "type": "Feature"
           },
           {
            "geometry": {
             "coordinates": [
              [
               [
                3.941755,
                51.365427
               ],
               [
                3.982546,
                51.406517
               ],
               [
                4.016016,
                51.401409
               ],
               [
                4.050272,
                51.366286
               ],
               [
                4.08521,
                51.36412
               ],
               [
                4.12888,
                51.350236
               ],
               [
                4.151348,
                51.367631
               ],
               [
                4.207093,
                51.37441
               ],
               [
                4.235267,
                51.348519
               ],
               [
                4.166132,
                51.292893
               ],
               [
                4.064077,
                51.247492
               ],
               [
                4.005693,
                51.241876
               ],
               [
                3.982237,
                51.24911
               ],
               [
                3.978879,
                51.300815
               ],
               [
                3.953662,
                51.30771
               ],
               [
                3.961729,
                51.332896
               ],
               [
                3.941755,
                51.365427
               ]
              ]
             ],
             "type": "Polygon"
            },
            "id": "0677",
            "properties": {
             "code": "0677",
             "fid": 203,
             "gemeentena": "Hulst"
            },
            "type": "Feature"
           },
           {
            "geometry": {
             "coordinates": [
              [
               [
                4.926925,
                52.606697
               ],
               [
                4.94985,
                52.595285
               ],
               [
                4.997165,
                52.575158
               ],
               [
                4.976489,
                52.561098
               ],
               [
                4.956999,
                52.52911
               ],
               [
                4.934352,
                52.511641
               ],
               [
                4.842956,
                52.526982
               ],
               [
                4.83391,
                52.53896
               ],
               [
                4.898923,
                52.601688
               ],
               [
                4.926925,
                52.606697
               ]
              ]
             ],
             "type": "Polygon"
            },
            "id": "0370",
            "properties": {
             "code": "0370",
             "fid": 204,
             "gemeentena": "Beemster"
            },
            "type": "Feature"
           },
           {
            "geometry": {
             "coordinates": [
              [
               [
                4.497562,
                52.183983
               ],
               [
                4.518369,
                52.182116
               ],
               [
                4.524038,
                52.147398
               ],
               [
                4.472975,
                52.118952
               ],
               [
                4.464492,
                52.127311
               ],
               [
                4.442989,
                52.145346
               ],
               [
                4.440478,
                52.155653
               ],
               [
                4.448368,
                52.162052
               ],
               [
                4.497562,
                52.183983
               ]
              ]
             ],
             "type": "Polygon"
            },
            "id": "0546",
            "properties": {
             "code": "0546",
             "fid": 205,
             "gemeentena": "Leiden"
            },
            "type": "Feature"
           },
           {
            "geometry": {
             "coordinates": [
              [
               [
                4.926301,
                51.950928
               ],
               [
                4.877793,
                51.938031
               ],
               [
                4.860936,
                51.967476
               ],
               [
                4.835218,
                51.986143
               ],
               [
                4.920045,
                52.010014
               ],
               [
                4.995195,
                52.02172
               ],
               [
                5.020295,
                52.025627
               ],
               [
                5.034063,
                52.003846
               ],
               [
                5.062638,
                51.991233
               ],
               [
                5.034055,
                51.97017
               ],
               [
                5.00301,
                51.978138
               ],
               [
                4.968664,
                51.959523
               ],
               [
                4.926301,
                51.950928
               ]
              ]
             ],
             "type": "Polygon"
            },
            "id": "0331",
            "properties": {
             "code": "0331",
             "fid": 206,
             "gemeentena": "Lopik"
            },
            "type": "Feature"
           },
           {
            "geometry": {
             "coordinates": [
              [
               [
                4.464492,
                52.127311
               ],
               [
                4.427903,
                52.10147
               ],
               [
                4.401159,
                52.11187
               ],
               [
                4.442989,
                52.145346
               ],
               [
                4.464492,
                52.127311
               ]
              ]
             ],
             "type": "Polygon"
            },
            "id": "0626",
            "properties": {
             "code": "0626",
             "fid": 207,
             "gemeentena": "Voorschoten"
            },
            "type": "Feature"
           },
           {
            "geometry": {
             "coordinates": [
              [
               [
                6.717707,
                52.478132
               ],
               [
                6.774587,
                52.459601
               ],
               [
                6.854298,
                52.459706
               ],
               [
                6.861816,
                52.451358
               ],
               [
                6.9473,
                52.436621
               ],
               [
                6.853411,
                52.427062
               ],
               [
                6.862338,
                52.407816
               ],
               [
                6.863585,
                52.363731
               ],
               [
                6.783399,
                52.360116
               ],
               [
                6.759035,
                52.332061
               ],
               [
                6.720846,
                52.341208
               ],
               [
                6.713415,
                52.376497
               ],
               [
                6.698635,
                52.393741
               ],
               [
                6.669848,
                52.417231
               ],
               [
                6.717707,
                52.478132
               ]
              ]
             ],
             "type": "Polygon"
            },
            "id": "0183",
            "properties": {
             "code": "0183",
             "fid": 208,
             "gemeentena": "Tubbergen"
            },
            "type": "Feature"
           },
           {
            "geometry": {
             "coordinates": [
              [
               [
                6.167912,
                51.900942
               ],
               [
                6.091427,
                51.938721
               ],
               [
                6.090394,
                51.967844
               ],
               [
                6.144688,
                51.9805
               ],
               [
                6.163026,
                51.955381
               ],
               [
                6.203123,
                51.942196
               ],
               [
                6.302066,
                51.944134
               ],
               [
                6.305763,
                51.938821
               ],
               [
                6.290971,
                51.922601
               ],
               [
                6.331633,
                51.874821
               ],
               [
                6.299006,
                51.867826
               ],
               [
                6.215057,
                51.867626
               ],
               [
                6.167912,
                51.900942
               ]
              ]
             ],
             "type": "Polygon"
            },
            "id": "1955",
            "properties": {
             "code": "1955",
             "fid": 209,
             "gemeentena": "Montferland"
            },
            "type": "Feature"
           },
           {
            "geometry": {
             "coordinates": [
              [
               [
                4.782476,
                52.519581
               ],
               [
                4.789861,
                52.519236
               ],
               [
                4.798843,
                52.491105
               ],
               [
                4.852505,
                52.470367
               ],
               [
                4.842951,
                52.452261
               ],
               [
                4.862677,
                52.429941
               ],
               [
                4.856078,
                52.416662
               ],
               [
                4.739208,
                52.431064
               ],
               [
                4.721983,
                52.433336
               ],
               [
                4.674848,
                52.45552
               ],
               [
                4.707969,
                52.486332
               ],
               [
                4.720367,
                52.494954
               ],
               [
                4.782476,
                52.519581
               ]
              ]
             ],
             "type": "Polygon"
            },
            "id": "0479",
            "properties": {
             "code": "0479",
             "fid": 210,
             "gemeentena": "Zaanstad"
            },
            "type": "Feature"
           },
           {
            "geometry": {
             "coordinates": [
              [
               [
                5.257819,
                52.435949
               ],
               [
                5.279331,
                52.42215
               ],
               [
                5.350772,
                52.400209
               ],
               [
                5.301244,
                52.381986
               ],
               [
                5.379211,
                52.313995
               ],
               [
                5.333505,
                52.314274
               ],
               [
                5.316461,
                52.303146
               ],
               [
                5.265855,
                52.322891
               ],
               [
                5.197831,
                52.336316
               ],
               [
                5.150042,
                52.328677
               ],
               [
                5.135177,
                52.337903
               ],
               [
                5.125119,
                52.381608
               ],
               [
                5.160744,
                52.399637
               ],
               [
                5.22646,
                52.419519
               ],
               [
                5.257819,
                52.435949
               ]
              ]
             ],
             "type": "Polygon"
            },
            "id": "0034",
            "properties": {
             "code": "0034",
             "fid": 211,
             "gemeentena": "Almere"
            },
            "type": "Feature"
           },
           {
            "geometry": {
             "coordinates": [
              [
               [
                4.500204,
                51.558536
               ],
               [
                4.443999,
                51.569095
               ],
               [
                4.430871,
                51.586842
               ],
               [
                4.437828,
                51.617119
               ],
               [
                4.481505,
                51.619912
               ],
               [
                4.519132,
                51.607834
               ],
               [
                4.570849,
                51.630407
               ],
               [
                4.601233,
                51.625239
               ],
               [
                4.613883,
                51.608008
               ],
               [
                4.596755,
                51.590298
               ],
               [
                4.591761,
                51.561032
               ],
               [
                4.533483,
                51.549269
               ],
               [
                4.500204,
                51.558536
               ]
              ]
             ],
             "type": "Polygon"
            },
            "id": "1655",
            "properties": {
             "code": "1655",
             "fid": 212,
             "gemeentena": "Halderberge"
            },
            "type": "Feature"
           },
           {
            "geometry": {
             "coordinates": [
              [
               [
                5.937847,
                52.91174
               ],
               [
                5.953671,
                52.925521
               ],
               [
                6.00397,
                52.933612
               ],
               [
                6.037312,
                52.918219
               ],
               [
                6.084848,
                52.936274
               ],
               [
                6.110545,
                52.913244
               ],
               [
                6.145295,
                52.928274
               ],
               [
                6.200817,
                52.939068
               ],
               [
                6.21363,
                52.925794
               ],
               [
                6.247259,
                52.923347
               ],
               [
                6.2069,
                52.890744
               ],
               [
                6.11982,
                52.854215
               ],
               [
                6.031168,
                52.814991
               ],
               [
                5.996643,
                52.816621
               ],
               [
                5.972438,
                52.841917
               ],
               [
                5.932631,
                52.835431
               ],
               [
                5.878763,
                52.800849
               ],
               [
                5.819744,
                52.817278
               ],
               [
                5.856768,
                52.870791
               ],
               [
                5.886216,
                52.894379
               ],
               [
                5.937847,
                52.91174
               ]
              ]
             ],
             "type": "Polygon"
            },
            "id": "0098",
            "properties": {
             "code": "0098",
             "fid": 213,
             "gemeentena": "Weststellingwerf"
            },
            "type": "Feature"
           },
           {
            "geometry": {
             "coordinates": [
              [
               [
                7.090353,
                53.256322
               ],
               [
                7.207306,
                53.236303
               ],
               [
                7.217623,
                53.197817
               ],
               [
                7.189244,
                53.154883
               ],
               [
                7.139635,
                53.154365
               ],
               [
                7.080654,
                53.14376
               ],
               [
                7.029754,
                53.115097
               ],
               [
                6.965295,
                53.110831
               ],
               [
                6.950381,
                53.158895
               ],
               [
                6.913075,
                53.176955
               ],
               [
                6.929399,
                53.212817
               ],
               [
                6.911344,
                53.243015
               ],
               [
                6.995472,
                53.266954
               ],
               [
                7.041674,
                53.259266
               ],
               [
                7.067522,
                53.242378
               ],
               [
                7.090353,
                53.256322
               ]
              ]
             ],
             "type": "Polygon"
            },
            "id": "1895",
            "properties": {
             "code": "1895",
             "fid": 214,
             "gemeentena": "Oldambt"
            },
            "type": "Feature"
           },
           {
            "geometry": {
             "coordinates": [
              [
               [
                6.185717,
                53.129213
               ],
               [
                6.205048,
                53.115484
               ],
               [
                6.258372,
                53.114371
               ],
               [
                6.315157,
                53.094053
               ],
               [
                6.332055,
                53.075279
               ],
               [
                6.222837,
                53.039187
               ],
               [
                6.205424,
                53.037931
               ],
               [
                6.176812,
                53.021049
               ],
               [
                6.131188,
                53.011879
               ],
               [
                6.06976,
                52.974194
               ],
               [
                6.020726,
                52.965866
               ],
               [
                5.958105,
                52.972935
               ],
               [
                5.979669,
                52.997852
               ],
               [
                5.98454,
                53.025451
               ],
               [
                5.940199,
                53.04218
               ],
               [
                5.947328,
                53.06248
               ],
               [
                5.927581,
                53.078395
               ],
               [
                6.00247,
                53.080653
               ],
               [
                6.024399,
                53.073361
               ],
               [
                6.088358,
                53.070908
               ],
               [
                6.12465,
                53.100923
               ],
               [
                6.185717,
                53.129213
               ]
              ]
             ],
             "type": "Polygon"
            },
            "id": "0086",
            "properties": {
             "code": "0086",
             "fid": 215,
             "gemeentena": "Opsterland"
            },
            "type": "Feature"
           },
           {
            "geometry": {
             "coordinates": [
              [
               [
                6.147419,
                52.584408
               ],
               [
                6.202138,
                52.584949
               ],
               [
                6.210811,
                52.567798
               ],
               [
                6.181967,
                52.519421
               ],
               [
                6.200167,
                52.490882
               ],
               [
                6.162495,
                52.474388
               ],
               [
                6.154915,
                52.453183
               ],
               [
                6.10958,
                52.440531
               ],
               [
                6.103546,
                52.453964
               ],
               [
                6.098271,
                52.471183
               ],
               [
                6.027857,
                52.509606
               ],
               [
                6.01867,
                52.525919
               ],
               [
                6.033038,
                52.559403
               ],
               [
                6.063154,
                52.56728
               ],
               [
                6.0894,
                52.551841
               ],
               [
                6.109791,
                52.561115
               ],
               [
                6.140527,
                52.552102
               ],
               [
                6.166814,
                52.565252
               ],
               [
                6.147419,
                52.584408
               ]
              ]
             ],
             "type": "Polygon"
            },
            "id": "0193",
            "properties": {
             "code": "0193",
             "fid": 216,
             "gemeentena": "Zwolle"
            },
            "type": "Feature"
           },
           {
            "geometry": {
             "coordinates": [
              [
               [
                5.976681,
                50.80337
               ],
               [
                6.026047,
                50.775544
               ],
               [
                6.021009,
                50.754288
               ],
               [
                5.935758,
                50.756979
               ],
               [
                5.942151,
                50.789247
               ],
               [
                5.976681,
                50.80337
               ]
              ]
             ],
             "type": "Polygon"
            },
            "id": "0981",
            "properties": {
             "code": "0981",
             "fid": 217,
             "gemeentena": "Vaals"
            },
            "type": "Feature"
           },
           {
            "geometry": {
             "coordinates": [
              [
               [
                5.547734,
                52.291988
               ],
               [
                5.587536,
                52.278812
               ],
               [
                5.637049,
                52.272495
               ],
               [
                5.683642,
                52.240617
               ],
               [
                5.68127,
                52.225339
               ],
               [
                5.633267,
                52.208167
               ],
               [
                5.549917,
                52.202336
               ],
               [
                5.515461,
                52.234214
               ],
               [
                5.48369,
                52.239244
               ],
               [
                5.47862,
                52.257805
               ],
               [
                5.527465,
                52.263831
               ],
               [
                5.547734,
                52.291988
               ]
              ]
             ],
             "type": "Polygon"
            },
            "id": "0273",
            "properties": {
             "code": "0273",
             "fid": 218,
             "gemeentena": "Putten"
            },
            "type": "Feature"
           },
           {
            "geometry": {
             "coordinates": [
              [
               [
                4.394214,
                51.693617
               ],
               [
                4.403679,
                51.698735
               ],
               [
                4.424016,
                51.700573
               ],
               [
                4.48996,
                51.683102
               ],
               [
                4.519793,
                51.683713
               ],
               [
                4.607442,
                51.699224
               ],
               [
                4.636221,
                51.717308
               ],
               [
                4.645137,
                51.719067
               ],
               [
                4.684903,
                51.666366
               ],
               [
                4.69906,
                51.638073
               ],
               [
                4.665072,
                51.634319
               ],
               [
                4.601233,
                51.625239
               ],
               [
                4.570849,
                51.630407
               ],
               [
                4.519132,
                51.607834
               ],
               [
                4.481505,
                51.619912
               ],
               [
                4.437828,
                51.617119
               ],
               [
                4.368259,
                51.658418
               ],
               [
                4.393543,
                51.677682
               ],
               [
                4.394214,
                51.693617
               ]
              ]
             ],
             "type": "Polygon"
            },
            "id": "1709",
            "properties": {
             "code": "1709",
             "fid": 219,
             "gemeentena": "Moerdijk"
            },
            "type": "Feature"
           },
           {
            "geometry": {
             "coordinates": [
              [
               [
                4.90647,
                52.479826
               ],
               [
                4.920651,
                52.490434
               ],
               [
                4.948316,
                52.484005
               ],
               [
                4.947789,
                52.421562
               ],
               [
                4.93112,
                52.411693
               ],
               [
                4.898741,
                52.42449
               ],
               [
                4.893319,
                52.457276
               ],
               [
                4.90647,
                52.479826
               ]
              ]
             ],
             "type": "Polygon"
            },
            "id": "0415",
            "properties": {
             "code": "0415",
             "fid": 220,
             "gemeentena": "Landsmeer"
            },
            "type": "Feature"
           },
           {
            "geometry": {
             "coordinates": [
              [
               [
                6.205424,
                53.037931
               ],
               [
                6.222837,
                53.039187
               ],
               [
                6.332055,
                53.075279
               ],
               [
                6.367811,
                53.06736
               ],
               [
                6.362521,
                53.033969
               ],
               [
                6.41328,
                52.985523
               ],
               [
                6.427615,
                52.971815
               ],
               [
                6.393436,
                52.932843
               ],
               [
                6.369026,
                52.921976
               ],
               [
                6.333281,
                52.906356
               ],
               [
                6.302985,
                52.924972
               ],
               [
                6.247259,
                52.923347
               ],
               [
                6.21363,
                52.925794
               ],
               [
                6.200817,
                52.939068
               ],
               [
                6.145295,
                52.928274
               ],
               [
                6.110545,
                52.913244
               ],
               [
                6.084848,
                52.936274
               ],
               [
                6.128589,
                52.953954
               ],
               [
                6.15903,
                52.975965
               ],
               [
                6.202206,
                52.99031
               ],
               [
                6.205424,
                53.037931
               ]
              ]
             ],
             "type": "Polygon"
            },
            "id": "0085",
            "properties": {
             "code": "0085",
             "fid": 221,
             "gemeentena": "Ooststellingwerf"
            },
            "type": "Feature"
           },
           {
            "geometry": {
             "coordinates": [
              [
               [
                6.912127,
                52.285506
               ],
               [
                6.939171,
                52.283869
               ],
               [
                6.969015,
                52.267399
               ],
               [
                6.96589,
                52.230419
               ],
               [
                6.9811,
                52.220737
               ],
               [
                6.951245,
                52.181058
               ],
               [
                6.911852,
                52.177145
               ],
               [
                6.88975,
                52.161206
               ],
               [
                6.827991,
                52.171007
               ],
               [
                6.805581,
                52.1666
               ],
               [
                6.766801,
                52.191065
               ],
               [
                6.755893,
                52.217396
               ],
               [
                6.774434,
                52.238456
               ],
               [
                6.813754,
                52.229483
               ],
               [
                6.842562,
                52.253909
               ],
               [
                6.840492,
                52.276312
               ],
               [
                6.868327,
                52.272962
               ],
               [
                6.912127,
                52.285506
               ]
              ]
             ],
             "type": "Polygon"
            },
            "id": "0153",
            "properties": {
             "code": "0153",
             "fid": 222,
             "gemeentena": "Enschede"
            },
            "type": "Feature"
           },
           {
            "geometry": {
             "coordinates": [
              [
               [
                6.369026,
                52.921976
               ],
               [
                6.393436,
                52.932843
               ],
               [
                6.427615,
                52.971815
               ],
               [
                6.41328,
                52.985523
               ],
               [
                6.488212,
                53.005405
               ],
               [
                6.485502,
                52.972985
               ],
               [
                6.496972,
                52.951566
               ],
               [
                6.535915,
                52.932591
               ],
               [
                6.561505,
                52.946652
               ],
               [
                6.585828,
                52.919452
               ],
               [
                6.666734,
                52.909449
               ],
               [
                6.686374,
                52.875331
               ],
               [
                6.714564,
                52.868159
               ],
               [
                6.728629,
                52.853966
               ],
               [
                6.675143,
                52.797126
               ],
               [
                6.660879,
                52.801233
               ],
               [
                6.587467,
                52.73569
               ],
               [
                6.5574,
                52.745365
               ],
               [
                6.566385,
                52.765579
               ],
               [
                6.512729,
                52.762084
               ],
               [
                6.490669,
                52.770885
               ],
               [
                6.491805,
                52.793123
               ],
               [
                6.455451,
                52.800556
               ],
               [
                6.480026,
                52.836944
               ],
               [
                6.430888,
                52.850385
               ],
               [
                6.419993,
                52.882322
               ],
               [
                6.359557,
                52.89453
               ],
               [
                6.369026,
                52.921976
               ]
              ]
             ],
             "type": "Polygon"
            },
            "id": "1731",
            "properties": {
             "code": "1731",
             "fid": 223,
             "gemeentena": "Midden-Drenthe"
            },
            "type": "Feature"
           },
           {
            "geometry": {
             "coordinates": [
              [
               [
                4.714587,
                52.624782
               ],
               [
                4.739451,
                52.613868
               ],
               [
                4.752139,
                52.591891
               ],
               [
                4.739993,
                52.578928
               ],
               [
                4.685317,
                52.580977
               ],
               [
                4.672581,
                52.590904
               ],
               [
                4.689993,
                52.623751
               ],
               [
                4.714587,
                52.624782
               ]
              ]
             ],
             "type": "Polygon"
            },
            "id": "0399",
            "properties": {
             "code": "0399",
             "fid": 224,
             "gemeentena": "Heiloo"
            },
            "type": "Feature"
           },
           {
            "geometry": {
             "coordinates": [
              [
               [
                4.635261,
                51.869711
               ],
               [
                4.626391,
                51.880658
               ],
               [
                4.664439,
                51.874948
               ],
               [
                4.683191,
                51.848491
               ],
               [
                4.672606,
                51.83865
               ],
               [
                4.635261,
                51.869711
               ]
              ]
             ],
             "type": "Polygon"
            },
            "id": "0482",
            "properties": {
             "code": "0482",
             "fid": 225,
             "gemeentena": "Alblasserdam"
            },
            "type": "Feature"
           },
           {
            "geometry": {
             "coordinates": [
              [
               [
                6.202138,
                52.584949
               ],
               [
                6.303064,
                52.597141
               ],
               [
                6.323413,
                52.592527
               ],
               [
                6.360584,
                52.524165
               ],
               [
                6.331516,
                52.522075
               ],
               [
                6.344025,
                52.481829
               ],
               [
                6.342616,
                52.456905
               ],
               [
                6.378494,
                52.456417
               ],
               [
                6.380573,
                52.429816
               ],
               [
                6.3494,
                52.424852
               ],
               [
                6.291825,
                52.434721
               ],
               [
                6.278241,
                52.457043
               ],
               [
                6.162495,
                52.474388
               ],
               [
                6.200167,
                52.490882
               ],
               [
                6.181967,
                52.519421
               ],
               [
                6.210811,
                52.567798
               ],
               [
                6.202138,
                52.584949
               ]
              ]
             ],
             "type": "Polygon"
            },
            "id": "0148",
            "properties": {
             "code": "0148",
             "fid": 226,
             "gemeentena": "Dalfsen"
            },
            "type": "Feature"
           },
           {
            "geometry": {
             "coordinates": [
              [
               [
                4.518369,
                52.182116
               ],
               [
                4.538154,
                52.180085
               ],
               [
                4.571481,
                52.153109
               ],
               [
                4.550733,
                52.13838
               ],
               [
                4.524038,
                52.147398
               ],
               [
                4.518369,
                52.182116
               ]
              ]
             ],
             "type": "Polygon"
            },
            "id": "0547",
            "properties": {
             "code": "0547",
             "fid": 227,
             "gemeentena": "Leiderdorp"
            },
            "type": "Feature"
           },
           {
            "geometry": {
             "coordinates": [
              [
               [
                4.646054,
                52.756594
               ],
               [
                4.678892,
                52.808623
               ],
               [
                4.709441,
                52.883588
               ],
               [
                4.770939,
                52.878626
               ],
               [
                4.782563,
                52.851436
               ],
               [
                4.809647,
                52.836899
               ],
               [
                4.834476,
                52.807799
               ],
               [
                4.829036,
                52.775618
               ],
               [
                4.806946,
                52.770268
               ],
               [
                4.847685,
                52.720259
               ],
               [
                4.826242,
                52.717436
               ],
               [
                4.77249,
                52.718916
               ],
               [
                4.769647,
                52.698793
               ],
               [
                4.728854,
                52.691404
               ],
               [
                4.689822,
                52.732992
               ],
               [
                4.646054,
                52.756594
               ]
              ]
             ],
             "type": "Polygon"
            },
            "id": "0441",
            "properties": {
             "code": "0441",
             "fid": 228,
             "gemeentena": "Schagen"
            },
            "type": "Feature"
           },
           {
            "geometry": {
             "coordinates": [
              [
               [
                6.073126,
                51.395729
               ],
               [
                6.077696,
                51.420171
               ],
               [
                6.158327,
                51.424809
               ],
               [
                6.15524,
                51.442673
               ],
               [
                6.178129,
                51.464448
               ],
               [
                6.169193,
                51.503082
               ],
               [
                6.213361,
                51.507818
               ],
               [
                6.223557,
                51.474965
               ],
               [
                6.205257,
                51.39952
               ],
               [
                6.22639,
                51.360336
               ],
               [
                6.169378,
                51.329374
               ],
               [
                6.124758,
                51.27755
               ],
               [
                6.084717,
                51.297454
               ],
               [
                6.116233,
                51.323206
               ],
               [
                6.123254,
                51.34337
               ],
               [
                6.077587,
                51.378173
               ],
               [
                6.073126,
                51.395729
               ]
              ]
             ],
             "type": "Polygon"
            },
            "id": "0983",
            "properties": {
             "code": "0983",
             "fid": 229,
             "gemeentena": "Venlo"
            },
            "type": "Feature"
           },
           {
            "geometry": {
             "coordinates": [
              [
               [
                4.549383,
                51.874027
               ],
               [
                4.568912,
                51.878052
               ],
               [
                4.576328,
                51.903032
               ],
               [
                4.619572,
                51.889523
               ],
               [
                4.626391,
                51.880658
               ],
               [
                4.635261,
                51.869711
               ],
               [
                4.646948,
                51.856661
               ],
               [
                4.600155,
                51.83873
               ],
               [
                4.571058,
                51.847117
               ],
               [
                4.549383,
                51.874027
               ]
              ]
             ],
             "type": "Polygon"
            },
            "id": "0597",
            "properties": {
             "code": "0597",
             "fid": 230,
             "gemeentena": "Ridderkerk"
            },
            "type": "Feature"
           },
           {
            "geometry": {
             "coordinates": [
              [
               [
                5.886766,
                51.865203
               ],
               [
                5.923633,
                51.874623
               ],
               [
                5.967448,
                51.854452
               ],
               [
                6.007828,
                51.881489
               ],
               [
                6.046285,
                51.870913
               ],
               [
                6.063486,
                51.865451
               ],
               [
                6.055305,
                51.852354
               ],
               [
                5.987827,
                51.830614
               ],
               [
                5.945045,
                51.823544
               ],
               [
                5.979065,
                51.797651
               ],
               [
                5.990501,
                51.766277
               ],
               [
                5.953288,
                51.748024
               ],
               [
                5.938299,
                51.741593
               ],
               [
                5.915285,
                51.752287
               ],
               [
                5.893409,
                51.777853
               ],
               [
                5.87911,
                51.80953
               ],
               [
                5.908347,
                51.829302
               ],
               [
                5.880299,
                51.844948
               ],
               [
                5.886766,
                51.865203
               ]
              ]
             ],
             "type": "Polygon"
            },
            "id": "1945",
            "properties": {
             "code": "1945",
             "fid": 231,
             "gemeentena": "Berg en Dal"
            },
            "type": "Feature"
           },
           {
            "geometry": {
             "coordinates": [
              [
               [
                5.226158,
                51.690031
               ],
               [
                5.272225,
                51.683949
               ],
               [
                5.272334,
                51.683937
               ],
               [
                5.319057,
                51.670372
               ],
               [
                5.317732,
                51.634634
               ],
               [
                5.310955,
                51.633672
               ],
               [
                5.277677,
                51.619197
               ],
               [
                5.246496,
                51.632764
               ],
               [
                5.24255,
                51.649447
               ],
               [
                5.204777,
                51.669822
               ],
               [
                5.226158,
                51.690031
               ]
              ]
             ],
             "type": "Polygon"
            },
            "id": "0865",
            "properties": {
             "code": "0865",
             "fid": 232,
             "gemeentena": "Vught"
            },
            "type": "Feature"
           },
           {
            "geometry": {
             "coordinates": [
              [
               [
                [
                 4.432482,
                 51.837046
                ],
                [
                 4.489094,
                 51.835396
                ],
                [
                 4.553609,
                 51.829897
                ],
                [
                 4.579552,
                 51.808004
                ],
                [
                 4.621222,
                 51.800804
                ],
                [
                 4.631356,
                 51.749185
                ],
                [
                 4.624182,
                 51.722736
                ],
                [
                 4.558687,
                 51.704534
                ],
                [
                 4.525532,
                 51.700699
                ],
                [
                 4.466739,
                 51.714702
                ],
                [
                 4.407587,
                 51.722073
                ],
                [
                 4.398475,
                 51.711276
                ],
                [
                 4.397719,
                 51.711456
                ],
                [
                 4.404149,
                 51.723441
                ],
                [
                 4.344444,
                 51.744855
                ],
                [
                 4.247372,
                 51.765701
                ],
                [
                 4.234643,
                 51.783545
                ],
                [
                 4.263213,
                 51.802657
                ],
                [
                 4.353342,
                 51.819055
                ],
                [
                 4.432482,
                 51.837046
                ]
               ]
              ],
              [
               [
                [
                 4.264092,
                 51.754321
                ],
                [
                 4.356351,
                 51.735401
                ],
                [
                 4.301494,
                 51.730054
                ],
                [
                 4.264092,
                 51.754321
                ]
               ]
              ]
             ],
             "type": "MultiPolygon"
            },
            "id": "1963",
            "properties": {
             "code": "1963",
             "fid": 233,
             "gemeentena": "Hoeksche Waard"
            },
            "type": "Feature"
           },
           {
            "geometry": {
             "coordinates": [
              [
               [
                4.682476,
                52.413849
               ],
               [
                4.721983,
                52.433336
               ],
               [
                4.739208,
                52.431064
               ],
               [
                4.728759,
                52.400711
               ],
               [
                4.757858,
                52.396587
               ],
               [
                4.75733,
                52.355203
               ],
               [
                4.818753,
                52.32556
               ],
               [
                4.809884,
                52.305776
               ],
               [
                4.780114,
                52.283245
               ],
               [
                4.746548,
                52.272197
               ],
               [
                4.670348,
                52.230756
               ],
               [
                4.631977,
                52.216046
               ],
               [
                4.558433,
                52.218799
               ],
               [
                4.553934,
                52.222205
               ],
               [
                4.572749,
                52.27124
               ],
               [
                4.611676,
                52.31356
               ],
               [
                4.611384,
                52.322205
               ],
               [
                4.639648,
                52.338906
               ],
               [
                4.676446,
                52.354287
               ],
               [
                4.686921,
                52.387444
               ],
               [
                4.682476,
                52.413849
               ]
              ]
             ],
             "type": "Polygon"
            },
            "id": "0394",
            "properties": {
             "code": "0394",
             "fid": 234,
             "gemeentena": "Haarlemmermeer"
            },
            "type": "Feature"
           },
           {
            "geometry": {
             "coordinates": [
              [
               [
                6.185717,
                53.129213
               ],
               [
                6.17675,
                53.159505
               ],
               [
                6.199542,
                53.198164
               ],
               [
                6.22999,
                53.217839
               ],
               [
                6.217978,
                53.241932
               ],
               [
                6.232173,
                53.256747
               ],
               [
                6.253187,
                53.287859
               ],
               [
                6.278307,
                53.302731
               ],
               [
                6.286981,
                53.341382
               ],
               [
                6.324354,
                53.315648
               ],
               [
                6.367591,
                53.321623
               ],
               [
                6.441293,
                53.316807
               ],
               [
                6.474748,
                53.323861
               ],
               [
                6.504062,
                53.295695
               ],
               [
                6.50824,
                53.257574
               ],
               [
                6.48038,
                53.244895
               ],
               [
                6.463461,
                53.200058
               ],
               [
                6.405805,
                53.176763
               ],
               [
                6.382612,
                53.14957
               ],
               [
                6.344433,
                53.087135
               ],
               [
                6.315157,
                53.094053
               ],
               [
                6.258372,
                53.114371
               ],
               [
                6.205048,
                53.115484
               ],
               [
                6.185717,
                53.129213
               ]
              ]
             ],
             "type": "Polygon"
            },
            "id": "1969",
            "properties": {
             "code": "1969",
             "fid": 235,
             "gemeentena": "Westerkwartier"
            },
            "type": "Feature"
           },
           {
            "geometry": {
             "coordinates": [
              [
               [
                5.102021,
                51.428923
               ],
               [
                5.19102,
                51.430216
               ],
               [
                5.193865,
                51.345226
               ],
               [
                5.200255,
                51.322661
               ],
               [
                5.16264,
                51.310317
               ],
               [
                5.134353,
                51.3155
               ],
               [
                5.131687,
                51.347045
               ],
               [
                5.071182,
                51.393487
               ],
               [
                5.102021,
                51.428923
               ]
              ]
             ],
             "type": "Polygon"
            },
            "id": "1667",
            "properties": {
             "code": "1667",
             "fid": 236,
             "gemeentena": "Reusel-De Mierden"
            },
            "type": "Feature"
           },
           {
            "geometry": {
             "coordinates": [
              [
               [
                6.907703,
                53.038881
               ],
               [
                6.95579,
                53.013861
               ],
               [
                7.015446,
                53.071774
               ],
               [
                7.080351,
                53.059428
               ],
               [
                7.080371,
                53.030043
               ],
               [
                7.100013,
                53.016444
               ],
               [
                7.072058,
                53.003787
               ],
               [
                7.063539,
                52.930978
               ],
               [
                7.026854,
                52.919037
               ],
               [
                6.935685,
                52.993353
               ],
               [
                6.861287,
                53.040874
               ],
               [
                6.907703,
                53.038881
               ]
              ]
             ],
             "type": "Polygon"
            },
            "id": "0037",
            "properties": {
             "code": "0037",
             "fid": 237,
             "gemeentena": "Stadskanaal"
            },
            "type": "Feature"
           },
           {
            "geometry": {
             "coordinates": [
              [
               [
                5.550343,
                52.10542
               ],
               [
                5.561235,
                52.120251
               ],
               [
                5.72152,
                52.137994
               ],
               [
                5.720349,
                52.14626
               ],
               [
                5.809843,
                52.151415
               ],
               [
                5.859545,
                52.148749
               ],
               [
                5.883449,
                52.106342
               ],
               [
                5.946185,
                52.0993
               ],
               [
                5.946103,
                52.077891
               ],
               [
                5.899401,
                52.049958
               ],
               [
                5.850045,
                52.051602
               ],
               [
                5.813374,
                52.024071
               ],
               [
                5.745137,
                52.019769
               ],
               [
                5.724363,
                52.000708
               ],
               [
                5.683093,
                51.993911
               ],
               [
                5.606017,
                51.994164
               ],
               [
                5.589489,
                52.009456
               ],
               [
                5.586712,
                52.03129
               ],
               [
                5.557903,
                52.048865
               ],
               [
                5.562746,
                52.078278
               ],
               [
                5.550343,
                52.10542
               ]
              ]
             ],
             "type": "Polygon"
            },
            "id": "0228",
            "properties": {
             "code": "0228",
             "fid": 238,
             "gemeentena": "Ede"
            },
            "type": "Feature"
           },
           {
            "geometry": {
             "coordinates": [
              [
               [
                6.103546,
                52.453964
               ],
               [
                6.10958,
                52.440531
               ],
               [
                6.110844,
                52.407755
               ],
               [
                6.129583,
                52.397982
               ],
               [
                6.117073,
                52.378033
               ],
               [
                6.077845,
                52.364297
               ],
               [
                6.041784,
                52.356512
               ],
               [
                5.951024,
                52.398437
               ],
               [
                6.022667,
                52.444103
               ],
               [
                6.103546,
                52.453964
               ]
              ]
             ],
             "type": "Polygon"
            },
            "id": "0246",
            "properties": {
             "code": "0246",
             "fid": 239,
             "gemeentena": "Heerde"
            },
            "type": "Feature"
           },
           {
            "geometry": {
             "coordinates": [
              [
               [
                6.328314,
                52.137712
               ],
               [
                6.235921,
                52.113717
               ],
               [
                6.217899,
                52.097881
               ],
               [
                6.187989,
                52.1157
               ],
               [
                6.163985,
                52.146352
               ],
               [
                6.184679,
                52.161223
               ],
               [
                6.192799,
                52.169801
               ],
               [
                6.237988,
                52.146031
               ],
               [
                6.32404,
                52.152762
               ],
               [
                6.328314,
                52.137712
               ]
              ]
             ],
             "type": "Polygon"
            },
            "id": "0301",
            "properties": {
             "code": "0301",
             "fid": 240,
             "gemeentena": "Zutphen"
            },
            "type": "Feature"
           },
           {
            "geometry": {
             "coordinates": [
              [
               [
                5.575999,
                52.326455
               ],
               [
                5.601853,
                52.339293
               ],
               [
                5.61328,
                52.361385
               ],
               [
                5.615842,
                52.362761
               ],
               [
                5.678064,
                52.37876
               ],
               [
                5.678922,
                52.378841
               ],
               [
                5.679316,
                52.377002
               ],
               [
                5.680142,
                52.375871
               ],
               [
                5.695606,
                52.36074
               ],
               [
                5.712501,
                52.331914
               ],
               [
                5.706171,
                52.328382
               ],
               [
                5.678124,
                52.301492
               ],
               [
                5.630264,
                52.326851
               ],
               [
                5.608707,
                52.319052
               ],
               [
                5.575999,
                52.326455
               ]
              ]
             ],
             "type": "Polygon"
            },
            "id": "0243",
            "properties": {
             "code": "0243",
             "fid": 241,
             "gemeentena": "Harderwijk"
            },
            "type": "Feature"
           },
           {
            "geometry": {
             "coordinates": [
              [
               [
                5.332251,
                52.084163
               ],
               [
                5.322462,
                52.101901
               ],
               [
                5.401332,
                52.089334
               ],
               [
                5.443807,
                52.107075
               ],
               [
                5.486447,
                52.11536
               ],
               [
                5.493862,
                52.111097
               ],
               [
                5.496128,
                52.071678
               ],
               [
                5.497876,
                52.057018
               ],
               [
                5.445703,
                52.045259
               ],
               [
                5.438303,
                52.070215
               ],
               [
                5.332251,
                52.084163
               ]
              ]
             ],
             "type": "Polygon"
            },
            "id": "0351",
            "properties": {
             "code": "0351",
             "fid": 242,
             "gemeentena": "Woudenberg"
            },
            "type": "Feature"
           },
           {
            "geometry": {
             "coordinates": [
              [
               [
                5.826417,
                51.166834
               ],
               [
                5.777646,
                51.151304
               ],
               [
                5.776728,
                51.178486
               ],
               [
                5.745641,
                51.189499
               ],
               [
                5.751904,
                51.213725
               ],
               [
                5.781767,
                51.220139
               ],
               [
                5.79177,
                51.237537
               ],
               [
                5.853445,
                51.24474
               ],
               [
                5.833798,
                51.27477
               ],
               [
                5.860725,
                51.310802
               ],
               [
                5.877823,
                51.316578
               ],
               [
                5.954706,
                51.30028
               ],
               [
                6.008255,
                51.277543
               ],
               [
                6.009612,
                51.265759
               ],
               [
                6.00588,
                51.258683
               ],
               [
                6.005523,
                51.2381
               ],
               [
                5.951325,
                51.201165
               ],
               [
                5.894875,
                51.216
               ],
               [
                5.873733,
                51.190942
               ],
               [
                5.826417,
                51.166834
               ]
              ]
             ],
             "type": "Polygon"
            },
            "id": "1640",
            "properties": {
             "code": "1640",
             "fid": 243,
             "gemeentena": "Leudal"
            },
            "type": "Feature"
           },
           {
            "geometry": {
             "coordinates": [
              [
               [
                4.911882,
                51.615399
               ],
               [
                4.947846,
                51.61117
               ],
               [
                4.968737,
                51.602057
               ],
               [
                4.96899,
                51.571305
               ],
               [
                4.951668,
                51.560884
               ],
               [
                4.97546,
                51.540133
               ],
               [
                4.962573,
                51.525864
               ],
               [
                4.911063,
                51.510081
               ],
               [
                4.866232,
                51.538067
               ],
               [
                4.862985,
                51.55727
               ],
               [
                4.864239,
                51.579089
               ],
               [
                4.913786,
                51.59809
               ],
               [
                4.911882,
                51.615399
               ]
              ]
             ],
             "type": "Polygon"
            },
            "id": "0784",
            "properties": {
             "code": "0784",
             "fid": 244,
             "gemeentena": "Gilze en Rijen"
            },
            "type": "Feature"
           },
           {
            "geometry": {
             "coordinates": [
              [
               [
                4.925032,
                51.673009
               ],
               [
                4.933169,
                51.67675
               ],
               [
                4.957897,
                51.651532
               ],
               [
                4.987267,
                51.654609
               ],
               [
                5.004492,
                51.607887
               ],
               [
                4.947846,
                51.61117
               ],
               [
                4.911882,
                51.615399
               ],
               [
                4.910028,
                51.62946
               ],
               [
                4.932745,
                51.650618
               ],
               [
                4.925032,
                51.673009
               ]
              ]
             ],
             "type": "Polygon"
            },
            "id": "0766",
            "properties": {
             "code": "0766",
             "fid": 245,
             "gemeentena": "Dongen"
            },
            "type": "Feature"
           },
           {
            "geometry": {
             "coordinates": [
              [
               [
                5.012428,
                52.344364
               ],
               [
                5.028183,
                52.337938
               ],
               [
                5.016134,
                52.324512
               ],
               [
                4.944716,
                52.32713
               ],
               [
                4.94986,
                52.338528
               ],
               [
                4.974804,
                52.354507
               ],
               [
                5.012428,
                52.344364
               ]
              ]
             ],
             "type": "Polygon"
            },
            "id": "0384",
            "properties": {
             "code": "0384",
             "fid": 246,
             "gemeentena": "Diemen"
            },
            "type": "Feature"
           },
           {
            "geometry": {
             "coordinates": [
              [
               [
                5.204777,
                51.669822
               ],
               [
                5.24255,
                51.649447
               ],
               [
                5.246496,
                51.632764
               ],
               [
                5.277677,
                51.619197
               ],
               [
                5.310955,
                51.633672
               ],
               [
                5.300503,
                51.606332
               ],
               [
                5.262726,
                51.599812
               ],
               [
                5.247241,
                51.58704
               ],
               [
                5.214187,
                51.585557
               ],
               [
                5.179539,
                51.597664
               ],
               [
                5.144938,
                51.640512
               ],
               [
                5.166798,
                51.669047
               ],
               [
                5.204777,
                51.669822
               ]
              ]
             ],
             "type": "Polygon"
            },
            "id": "0788",
            "properties": {
             "code": "0788",
             "fid": 247,
             "gemeentena": "Haaren"
            },
            "type": "Feature"
           },
           {
            "geometry": {
             "coordinates": [
              [
               [
                6.011696,
                50.926439
               ],
               [
                6.018202,
                50.934701
               ],
               [
                6.092331,
                50.9177
               ],
               [
                6.079813,
                50.90577
               ],
               [
                6.042897,
                50.900409
               ],
               [
                6.017142,
                50.870467
               ],
               [
                5.994809,
                50.895575
               ],
               [
                6.011696,
                50.926439
               ]
              ]
             ],
             "type": "Polygon"
            },
            "id": "0882",
            "properties": {
             "code": "0882",
             "fid": 248,
             "gemeentena": "Landgraaf"
            },
            "type": "Feature"
           },
           {
            "geometry": {
             "coordinates": [
              [
               [
                3.703648,
                51.48227
               ],
               [
                3.705536,
                51.502456
               ],
               [
                3.762506,
                51.498873
               ],
               [
                3.803684,
                51.484471
               ],
               [
                3.912878,
                51.479122
               ],
               [
                3.934081,
                51.448148
               ],
               [
                3.904131,
                51.399779
               ],
               [
                3.812357,
                51.385351
               ],
               [
                3.753779,
                51.414783
               ],
               [
                3.711708,
                51.424636
               ],
               [
                3.713572,
                51.43077
               ],
               [
                3.713488,
                51.430829
               ],
               [
                3.709747,
                51.433427
               ],
               [
                3.70845,
                51.43481
               ],
               [
                3.704695,
                51.45033
               ],
               [
                3.710273,
                51.454602
               ],
               [
                3.7149,
                51.463711
               ],
               [
                3.715519,
                51.466224
               ],
               [
                3.715596,
                51.466538
               ],
               [
                3.712999,
                51.470909
               ],
               [
                3.711955,
                51.471214
               ],
               [
                3.70565,
                51.476967
               ],
               [
                3.703648,
                51.48227
               ]
              ]
             ],
             "type": "Polygon"
            },
            "id": "0654",
            "properties": {
             "code": "0654",
             "fid": 249,
             "gemeentena": "Borsele"
            },
            "type": "Feature"
           },
           {
            "geometry": {
             "coordinates": [
              [
               [
                [
                 5.165559,
                 53.000093
                ],
                [
                 5.167396,
                 52.99882
                ],
                [
                 5.044358,
                 52.935115
                ],
                [
                 5.165559,
                 53.000093
                ]
               ]
              ],
              [
               [
                [
                 5.106785,
                 52.774734
                ],
                [
                 5.069723,
                 52.768103
                ],
                [
                 5.045917,
                 52.753356
                ],
                [
                 4.99686,
                 52.752065
                ],
                [
                 4.944386,
                 52.753659
                ],
                [
                 4.898669,
                 52.706832
                ],
                [
                 4.847685,
                 52.720259
                ],
                [
                 4.806946,
                 52.770268
                ],
                [
                 4.829036,
                 52.775618
                ],
                [
                 4.834476,
                 52.807799
                ],
                [
                 4.809647,
                 52.836899
                ],
                [
                 4.782563,
                 52.851436
                ],
                [
                 4.770939,
                 52.878626
                ],
                [
                 4.806956,
                 52.912949
                ],
                [
                 4.875984,
                 52.888333
                ],
                [
                 4.937029,
                 52.903858
                ],
                [
                 4.971026,
                 52.930923
                ],
                [
                 5.044358,
                 52.935115
                ],
                [
                 5.048685,
                 52.924188
                ],
                [
                 5.114479,
                 52.845761
                ],
                [
                 5.106785,
                 52.774734
                ]
               ]
              ]
             ],
             "type": "MultiPolygon"
            },
            "id": "1911",
            "properties": {
             "code": "1911",
             "fid": 250,
             "gemeentena": "Hollands Kroon"
            },
            "type": "Feature"
           },
           {
            "geometry": {
             "coordinates": [
              [
               [
                6.937531,
                52.332836
               ],
               [
                6.950139,
                52.319357
               ],
               [
                6.939171,
                52.283869
               ],
               [
                6.912127,
                52.285506
               ],
               [
                6.861349,
                52.306367
               ],
               [
                6.900646,
                52.33346
               ],
               [
                6.937531,
                52.332836
               ]
              ]
             ],
             "type": "Polygon"
            },
            "id": "0173",
            "properties": {
             "code": "0173",
             "fid": 251,
             "gemeentena": "Oldenzaal"
            },
            "type": "Feature"
           },
           {
            "geometry": {
             "coordinates": [
              [
               [
                4.497562,
                52.183983
               ],
               [
                4.448368,
                52.162052
               ],
               [
                4.463471,
                52.200202
               ],
               [
                4.491447,
                52.203687
               ],
               [
                4.497562,
                52.183983
               ]
              ]
             ],
             "type": "Polygon"
            },
            "id": "0579",
            "properties": {
             "code": "0579",
             "fid": 252,
             "gemeentena": "Oegstgeest"
            },
            "type": "Feature"
           },
           {
            "geometry": {
             "coordinates": [
              [
               [
                5.713139,
                51.726415
               ],
               [
                5.729112,
                51.719925
               ],
               [
                5.79244,
                51.720559
               ],
               [
                5.805339,
                51.700511
               ],
               [
                5.842805,
                51.67997
               ],
               [
                5.79035,
                51.649938
               ],
               [
                5.747676,
                51.632668
               ],
               [
                5.742546,
                51.650062
               ],
               [
                5.734359,
                51.677622
               ],
               [
                5.69996,
                51.711452
               ],
               [
                5.713139,
                51.726415
               ]
              ]
             ],
             "type": "Polygon"
            },
            "id": "0815",
            "properties": {
             "code": "0815",
             "fid": 253,
             "gemeentena": "Mill en Sint Hubert"
            },
            "type": "Feature"
           },
           {
            "geometry": {
             "coordinates": [
              [
               [
                4.742764,
                51.841003
               ],
               [
                4.729639,
                51.822169
               ],
               [
                4.671709,
                51.820854
               ],
               [
                4.670439,
                51.823589
               ],
               [
                4.672606,
                51.83865
               ],
               [
                4.683191,
                51.848491
               ],
               [
                4.742764,
                51.841003
               ]
              ]
             ],
             "type": "Polygon"
            },
            "id": "0590",
            "properties": {
             "code": "0590",
             "fid": 254,
             "gemeentena": "Papendrecht"
            },
            "type": "Feature"
           },
           {
            "geometry": {
             "coordinates": [
              [
               [
                5.228545,
                52.311069
               ],
               [
                5.288244,
                52.297856
               ],
               [
                5.203822,
                52.267115
               ],
               [
                5.201117,
                52.26814
               ],
               [
                5.195855,
                52.29925
               ],
               [
                5.228545,
                52.311069
               ]
              ]
             ],
             "type": "Polygon"
            },
            "id": "0406",
            "properties": {
             "code": "0406",
             "fid": 255,
             "gemeentena": "Huizen"
            },
            "type": "Feature"
           },
           {
            "geometry": {
             "coordinates": [
              [
               [
                4.777733,
                52.533745
               ],
               [
                4.782476,
                52.519581
               ],
               [
                4.720367,
                52.494954
               ],
               [
                4.69256,
                52.510677
               ],
               [
                4.695736,
                52.526728
               ],
               [
                4.71886,
                52.551643
               ],
               [
                4.777733,
                52.533745
               ]
              ]
             ],
             "type": "Polygon"
            },
            "id": "0450",
            "properties": {
             "code": "0450",
             "fid": 256,
             "gemeentena": "Uitgeest"
            },
            "type": "Feature"
           },
           {
            "geometry": {
             "coordinates": [
              [
               [
                4.368259,
                51.658418
               ],
               [
                4.437828,
                51.617119
               ],
               [
                4.430871,
                51.586842
               ],
               [
                4.443999,
                51.569095
               ],
               [
                4.441078,
                51.558492
               ],
               [
                4.375362,
                51.543721
               ],
               [
                4.317978,
                51.551216
               ],
               [
                4.252008,
                51.570661
               ],
               [
                4.236119,
                51.550366
               ],
               [
                4.192232,
                51.593902
               ],
               [
                4.207211,
                51.624733
               ],
               [
                4.236166,
                51.633626
               ],
               [
                4.252588,
                51.630891
               ],
               [
                4.309467,
                51.645244
               ],
               [
                4.351315,
                51.648355
               ],
               [
                4.368259,
                51.658418
               ]
              ]
             ],
             "type": "Polygon"
            },
            "id": "0851",
            "properties": {
             "code": "0851",
             "fid": 257,
             "gemeentena": "Steenbergen"
            },
            "type": "Feature"
           },
           {
            "geometry": {
             "coordinates": [
              [
               [
                4.956999,
                52.52911
               ],
               [
                4.976489,
                52.561098
               ],
               [
                4.997165,
                52.575158
               ],
               [
                4.94985,
                52.595285
               ],
               [
                5.004881,
                52.597573
               ],
               [
                5.019305,
                52.612447
               ],
               [
                5.033232,
                52.565813
               ],
               [
                5.086035,
                52.503722
               ],
               [
                5.060524,
                52.485724
               ],
               [
                5.024792,
                52.484863
               ],
               [
                4.997964,
                52.494733
               ],
               [
                4.99227,
                52.519733
               ],
               [
                4.956999,
                52.52911
               ]
              ]
             ],
             "type": "Polygon"
            },
            "id": "0385",
            "properties": {
             "code": "0385",
             "fid": 258,
             "gemeentena": "Edam-Volendam"
            },
            "type": "Feature"
           },
           {
            "geometry": {
             "coordinates": [
              [
               [
                6.712388,
                52.206331
               ],
               [
                6.634454,
                52.185955
               ],
               [
                6.645041,
                52.174194
               ],
               [
                6.590841,
                52.182371
               ],
               [
                6.492401,
                52.177372
               ],
               [
                6.431947,
                52.220935
               ],
               [
                6.416422,
                52.242166
               ],
               [
                6.48526,
                52.274606
               ],
               [
                6.554009,
                52.283313
               ],
               [
                6.568191,
                52.270144
               ],
               [
                6.605363,
                52.270689
               ],
               [
                6.626066,
                52.289974
               ],
               [
                6.69094,
                52.308391
               ],
               [
                6.742886,
                52.283113
               ],
               [
                6.75296,
                52.25237
               ],
               [
                6.724336,
                52.252714
               ],
               [
                6.712388,
                52.206331
               ]
              ]
             ],
             "type": "Polygon"
            },
            "id": "1735",
            "properties": {
             "code": "1735",
             "fid": 259,
             "gemeentena": "Hof van Twente"
            },
            "type": "Feature"
           },
           {
            "geometry": {
             "coordinates": [
              [
               [
                6.172906,
                52.773054
               ],
               [
                6.201453,
                52.729786
               ],
               [
                6.231439,
                52.741709
               ],
               [
                6.216904,
                52.703158
               ],
               [
                6.248392,
                52.708197
               ],
               [
                6.286618,
                52.699177
               ],
               [
                6.265501,
                52.667988
               ],
               [
                6.214096,
                52.686316
               ],
               [
                6.179903,
                52.675606
               ],
               [
                6.158976,
                52.692154
               ],
               [
                6.120332,
                52.750149
               ],
               [
                6.172906,
                52.773054
               ]
              ]
             ],
             "type": "Polygon"
            },
            "id": "0119",
            "properties": {
             "code": "0119",
             "fid": 260,
             "gemeentena": "Meppel"
            },
            "type": "Feature"
           },
           {
            "geometry": {
             "coordinates": [
              [
               [
                5.076208,
                53.295857
               ],
               [
                4.971842,
                53.264434
               ],
               [
                4.980348,
                53.248347
               ],
               [
                4.918465,
                53.215641
               ],
               [
                4.851723,
                53.221158
               ],
               [
                4.928508,
                53.253293
               ],
               [
                4.990291,
                53.284702
               ],
               [
                5.041063,
                53.303956
               ],
               [
                5.076208,
                53.295857
               ]
              ]
             ],
             "type": "Polygon"
            },
            "id": "0096",
            "properties": {
             "code": "0096",
             "fid": 261,
             "gemeentena": "Vlieland"
            },
            "type": "Feature"
           },
           {
            "geometry": {
             "coordinates": [
              [
               [
                5.826417,
                51.166834
               ],
               [
                5.873733,
                51.190942
               ],
               [
                5.894875,
                51.216
               ],
               [
                5.951325,
                51.201165
               ],
               [
                5.921628,
                51.171264
               ],
               [
                5.955478,
                51.159044
               ],
               [
                5.913888,
                51.1332
               ],
               [
                5.872282,
                51.135109
               ],
               [
                5.833507,
                51.099555
               ],
               [
                5.80985,
                51.118422
               ],
               [
                5.846785,
                51.141381
               ],
               [
                5.826417,
                51.166834
               ]
              ]
             ],
             "type": "Polygon"
            },
            "id": "1641",
            "properties": {
             "code": "1641",
             "fid": 262,
             "gemeentena": "Maasgouw"
            },
            "type": "Feature"
           },
           {
            "geometry": {
             "coordinates": [
              [
               [
                5.153031,
                52.056757
               ],
               [
                5.160546,
                52.078047
               ],
               [
                5.195155,
                52.077346
               ],
               [
                5.247423,
                52.058647
               ],
               [
                5.263239,
                52.02438
               ],
               [
                5.27991,
                52.010722
               ],
               [
                5.243191,
                51.998793
               ],
               [
                5.201992,
                52.01747
               ],
               [
                5.191556,
                52.043036
               ],
               [
                5.153031,
                52.056757
               ]
              ]
             ],
             "type": "Polygon"
            },
            "id": "0312",
            "properties": {
             "code": "0312",
             "fid": 263,
             "gemeentena": "Bunnik"
            },
            "type": "Feature"
           },
           {
            "geometry": {
             "coordinates": [
              [
               [
                6.381851,
                52.246113
               ],
               [
                6.416422,
                52.242166
               ],
               [
                6.431947,
                52.220935
               ],
               [
                6.492401,
                52.177372
               ],
               [
                6.481224,
                52.142479
               ],
               [
                6.492109,
                52.124005
               ],
               [
                6.478946,
                52.101351
               ],
               [
                6.455205,
                52.10798
               ],
               [
                6.423999,
                52.096908
               ],
               [
                6.328314,
                52.137712
               ],
               [
                6.32404,
                52.152762
               ],
               [
                6.237988,
                52.146031
               ],
               [
                6.192799,
                52.169801
               ],
               [
                6.156258,
                52.197031
               ],
               [
                6.189597,
                52.207732
               ],
               [
                6.166269,
                52.231014
               ],
               [
                6.217224,
                52.226401
               ],
               [
                6.338708,
                52.227153
               ],
               [
                6.350892,
                52.24168
               ],
               [
                6.381851,
                52.246113
               ]
              ]
             ],
             "type": "Polygon"
            },
            "id": "0262",
            "properties": {
             "code": "0262",
             "fid": 264,
             "gemeentena": "Lochem"
            },
            "type": "Feature"
           },
           {
            "geometry": {
             "coordinates": [
              [
               [
                5.693983,
                51.43924
               ],
               [
                5.718245,
                51.438734
               ],
               [
                5.755699,
                51.434268
               ],
               [
                5.787863,
                51.412657
               ],
               [
                5.831877,
                51.39959
               ],
               [
                5.87036,
                51.352535
               ],
               [
                5.840194,
                51.346877
               ],
               [
                5.770449,
                51.333805
               ],
               [
                5.737032,
                51.388201
               ],
               [
                5.702877,
                51.412541
               ],
               [
                5.693983,
                51.43924
               ]
              ]
             ],
             "type": "Polygon"
            },
            "id": "0743",
            "properties": {
             "code": "0743",
             "fid": 265,
             "gemeentena": "Asten"
            },
            "type": "Feature"
           },
           {
            "geometry": {
             "coordinates": [
              [
               [
                4.422072,
                52.051673
               ],
               [
                4.450564,
                52.04921
               ],
               [
                4.476706,
                52.031642
               ],
               [
                4.457373,
                52.02227
               ],
               [
                4.458717,
                52.002196
               ],
               [
                4.427898,
                51.976466
               ],
               [
                4.407911,
                51.968199
               ],
               [
                4.379735,
                52.026733
               ],
               [
                4.394445,
                52.054054
               ],
               [
                4.422072,
                52.051673
               ]
              ]
             ],
             "type": "Polygon"
            },
            "id": "1926",
            "properties": {
             "code": "1926",
             "fid": 266,
             "gemeentena": "Pijnacker-Nootdorp"
            },
            "type": "Feature"
           },
           {
            "geometry": {
             "coordinates": [
              [
               [
                5.597041,
                51.701987
               ],
               [
                5.62258,
                51.699094
               ],
               [
                5.672991,
                51.666249
               ],
               [
                5.731348,
                51.673935
               ],
               [
                5.742546,
                51.650062
               ],
               [
                5.747676,
                51.632668
               ],
               [
                5.750478,
                51.622683
               ],
               [
                5.664907,
                51.628337
               ],
               [
                5.626568,
                51.623401
               ],
               [
                5.602274,
                51.629414
               ],
               [
                5.5703,
                51.651434
               ],
               [
                5.56224,
                51.663152
               ],
               [
                5.597041,
                51.701987
               ]
              ]
             ],
             "type": "Polygon"
            },
            "id": "0856",
            "properties": {
             "code": "0856",
             "fid": 267,
             "gemeentena": "Uden"
            },
            "type": "Feature"
           },
           {
            "geometry": {
             "coordinates": [
              [
               [
                4.794576,
                52.226731
               ],
               [
                4.811752,
                52.201736
               ],
               [
                4.843809,
                52.180189
               ],
               [
                4.892178,
                52.161798
               ],
               [
                4.874518,
                52.138831
               ],
               [
                4.832858,
                52.144762
               ],
               [
                4.79208,
                52.122287
               ],
               [
                4.738857,
                52.106507
               ],
               [
                4.759025,
                52.135143
               ],
               [
                4.741839,
                52.162673
               ],
               [
                4.705929,
                52.151682
               ],
               [
                4.681209,
                52.167504
               ],
               [
                4.688847,
                52.191542
               ],
               [
                4.728766,
                52.209819
               ],
               [
                4.794576,
                52.226731
               ]
              ]
             ],
             "type": "Polygon"
            },
            "id": "0569",
            "properties": {
             "code": "0569",
             "fid": 268,
             "gemeentena": "Nieuwkoop"
            },
            "type": "Feature"
           },
           {
            "geometry": {
             "coordinates": [
              [
               [
                6.10132,
                52.301225
               ],
               [
                6.16874,
                52.308307
               ],
               [
                6.206487,
                52.321122
               ],
               [
                6.235355,
                52.31982
               ],
               [
                6.267239,
                52.300805
               ],
               [
                6.32653,
                52.301632
               ],
               [
                6.328842,
                52.281103
               ],
               [
                6.370775,
                52.260006
               ],
               [
                6.381851,
                52.246113
               ],
               [
                6.350892,
                52.24168
               ],
               [
                6.338708,
                52.227153
               ],
               [
                6.217224,
                52.226401
               ],
               [
                6.166269,
                52.231014
               ],
               [
                6.14751,
                52.227778
               ],
               [
                6.10132,
                52.301225
               ]
              ]
             ],
             "type": "Polygon"
            },
            "id": "0150",
            "properties": {
             "code": "0150",
             "fid": 269,
             "gemeentena": "Deventer"
            },
            "type": "Feature"
           },
           {
            "geometry": {
             "coordinates": [
              [
               [
                5.630008,
                52.637445
               ],
               [
                5.593415,
                52.6604
               ],
               [
                5.593221,
                52.676281
               ],
               [
                5.607825,
                52.681656
               ],
               [
                5.607881,
                52.681683
               ],
               [
                5.643057,
                52.682456
               ],
               [
                5.655379,
                52.66595
               ],
               [
                5.630008,
                52.637445
               ]
              ]
             ],
             "type": "Polygon"
            },
            "id": "0184",
            "properties": {
             "code": "0184",
             "fid": 270,
             "gemeentena": "Urk"
            },
            "type": "Feature"
           },
           {
            "geometry": {
             "coordinates": [
              [
               [
                5.773407,
                51.018999
               ],
               [
                5.788108,
                50.948606
               ],
               [
                5.770938,
                50.927928
               ],
               [
                5.745993,
                50.943411
               ],
               [
                5.720127,
                50.962421
               ],
               [
                5.767628,
                50.999738
               ],
               [
                5.773407,
                51.018999
               ]
              ]
             ],
             "type": "Polygon"
            },
            "id": "0971",
            "properties": {
             "code": "0971",
             "fid": 271,
             "gemeentena": "Stein"
            },
            "type": "Feature"
           },
           {
            "geometry": {
             "coordinates": [
              [
               [
                5.411186,
                53.151787
               ],
               [
                5.472192,
                53.146614
               ],
               [
                5.51294,
                53.138581
               ],
               [
                5.637348,
                53.124149
               ],
               [
                5.659484,
                53.115985
               ],
               [
                5.729668,
                53.120304
               ],
               [
                5.784615,
                53.09903
               ],
               [
                5.771384,
                53.089106
               ],
               [
                5.771012,
                53.046968
               ],
               [
                5.736705,
                53.030152
               ],
               [
                5.742258,
                53.002301
               ],
               [
                5.68752,
                52.981002
               ],
               [
                5.688191,
                52.937633
               ],
               [
                5.642455,
                52.936167
               ],
               [
                5.639978,
                52.922469
               ],
               [
                5.59426,
                52.915412
               ],
               [
                5.564779,
                52.947481
               ],
               [
                5.515507,
                52.928678
               ],
               [
                5.476965,
                52.902237
               ],
               [
                5.501819,
                52.880043
               ],
               [
                5.47718,
                52.868787
               ],
               [
                5.432404,
                52.87461
               ],
               [
                5.441024,
                52.850868
               ],
               [
                5.426396,
                52.848111
               ],
               [
                5.368291,
                52.872119
               ],
               [
                5.370183,
                52.899324
               ],
               [
                5.406736,
                52.910172
               ],
               [
                5.400885,
                52.93927
               ],
               [
                5.412683,
                52.96352
               ],
               [
                5.399983,
                52.98897
               ],
               [
                5.404534,
                53.019798
               ],
               [
                5.365307,
                53.069346
               ],
               [
                5.299972,
                53.067883
               ],
               [
                5.167396,
                52.99882
               ],
               [
                5.165559,
                53.000093
               ],
               [
                5.200678,
                53.020086
               ],
               [
                5.205436,
                53.022571
               ],
               [
                5.291373,
                53.065828
               ],
               [
                5.324749,
                53.07458
               ],
               [
                5.32354,
                53.077864
               ],
               [
                5.334614,
                53.07849
               ],
               [
                5.337161,
                53.076549
               ],
               [
                5.380658,
                53.098331
               ],
               [
                5.408185,
                53.131136
               ],
               [
                5.411186,
                53.151787
               ]
              ]
             ],
             "type": "Polygon"
            },
            "id": "1900",
            "properties": {
             "code": "1900",
             "fid": 272,
             "gemeentena": "SÃºdwest-FryslÃ¢n"
            },
            "type": "Feature"
           },
           {
            "geometry": {
             "coordinates": [
              [
               [
                5.690858,
                51.759131
               ],
               [
                5.71123,
                51.775034
               ],
               [
                5.729745,
                51.772851
               ],
               [
                5.747848,
                51.757599
               ],
               [
                5.790534,
                51.753509
               ],
               [
                5.79244,
                51.720559
               ],
               [
                5.729112,
                51.719925
               ],
               [
                5.713139,
                51.726415
               ],
               [
                5.690858,
                51.759131
               ]
              ]
             ],
             "type": "Polygon"
            },
            "id": "0786",
            "properties": {
             "code": "0786",
             "fid": 273,
             "gemeentena": "Grave"
            },
            "type": "Feature"
           },
           {
            "geometry": {
             "coordinates": [
              [
               [
                6.006054,
                50.957535
               ],
               [
                6.018202,
                50.934701
               ],
               [
                6.011696,
                50.926439
               ],
               [
                5.92847,
                50.936612
               ],
               [
                5.965862,
                50.962418
               ],
               [
                6.006054,
                50.957535
               ]
              ]
             ],
             "type": "Polygon"
            },
            "id": "0899",
            "properties": {
             "code": "0899",
             "fid": 274,
             "gemeentena": "Brunssum"
            },
            "type": "Feature"
           },
           {
            "geometry": {
             "coordinates": [
              [
               [
                4.670348,
                52.230756
               ],
               [
                4.72432,
                52.231963
               ],
               [
                4.723764,
                52.216574
               ],
               [
                4.728766,
                52.209819
               ],
               [
                4.688847,
                52.191542
               ],
               [
                4.681209,
                52.167504
               ],
               [
                4.571481,
                52.153109
               ],
               [
                4.538154,
                52.180085
               ],
               [
                4.558433,
                52.218799
               ],
               [
                4.631977,
                52.216046
               ],
               [
                4.670348,
                52.230756
               ]
              ]
             ],
             "type": "Polygon"
            },
            "id": "1884",
            "properties": {
             "code": "1884",
             "fid": 275,
             "gemeentena": "Kaag en Braassem"
            },
            "type": "Feature"
           },
           {
            "geometry": {
             "coordinates": [
              [
               [
                5.414885,
                51.82129
               ],
               [
                5.432155,
                51.810629
               ],
               [
                5.474215,
                51.814641
               ],
               [
                5.494556,
                51.830732
               ],
               [
                5.539479,
                51.81622
               ],
               [
                5.561278,
                51.827829
               ],
               [
                5.597977,
                51.828049
               ],
               [
                5.638113,
                51.819025
               ],
               [
                5.665512,
                51.793634
               ],
               [
                5.71123,
                51.775034
               ],
               [
                5.690858,
                51.759131
               ],
               [
                5.648219,
                51.76364
               ],
               [
                5.576271,
                51.744877
               ],
               [
                5.580881,
                51.731448
               ],
               [
                5.540502,
                51.739248
               ],
               [
                5.474244,
                51.728965
               ],
               [
                5.438816,
                51.76503
               ],
               [
                5.353514,
                51.755477
               ],
               [
                5.365319,
                51.784857
               ],
               [
                5.401706,
                51.820893
               ],
               [
                5.414885,
                51.82129
               ]
              ]
             ],
             "type": "Polygon"
            },
            "id": "0828",
            "properties": {
             "code": "0828",
             "fid": 276,
             "gemeentena": "Oss"
            },
            "type": "Feature"
           },
           {
            "geometry": {
             "coordinates": [
              [
               [
                5.512592,
                52.018516
               ],
               [
                5.553229,
                51.999031
               ],
               [
                5.589489,
                52.009456
               ],
               [
                5.606017,
                51.994164
               ],
               [
                5.626064,
                51.97407
               ],
               [
                5.627309,
                51.952473
               ],
               [
                5.60594,
                51.943125
               ],
               [
                5.586617,
                51.950829
               ],
               [
                5.477664,
                51.983473
               ],
               [
                5.512592,
                52.018516
               ]
              ]
             ],
             "type": "Polygon"
            },
            "id": "0340",
            "properties": {
             "code": "0340",
             "fid": 277,
             "gemeentena": "Rhenen"
            },
            "type": "Feature"
           },
           {
            "geometry": {
             "coordinates": [
              [
               [
                5.876009,
                52.357873
               ],
               [
                5.924339,
                52.391393
               ],
               [
                5.951024,
                52.398437
               ],
               [
                6.041784,
                52.356512
               ],
               [
                6.077845,
                52.364297
               ],
               [
                6.073681,
                52.330569
               ],
               [
                6.052948,
                52.330907
               ],
               [
                6.035717,
                52.296399
               ],
               [
                6.036395,
                52.26853
               ],
               [
                6.028002,
                52.276583
               ],
               [
                5.936211,
                52.274419
               ],
               [
                5.879593,
                52.264991
               ],
               [
                5.850811,
                52.268695
               ],
               [
                5.840831,
                52.304398
               ],
               [
                5.880951,
                52.335186
               ],
               [
                5.876009,
                52.357873
               ]
              ]
             ],
             "type": "Polygon"
            },
            "id": "0232",
            "properties": {
             "code": "0232",
             "fid": 278,
             "gemeentena": "Epe"
            },
            "type": "Feature"
           },
           {
            "geometry": {
             "coordinates": [
              [
               [
                5.796386,
                53.058839
               ],
               [
                5.819274,
                53.075862
               ],
               [
                5.874643,
                53.08507
               ],
               [
                5.927581,
                53.078395
               ],
               [
                5.947328,
                53.06248
               ],
               [
                5.940199,
                53.04218
               ],
               [
                5.98454,
                53.025451
               ],
               [
                5.979669,
                52.997852
               ],
               [
                5.958105,
                52.972935
               ],
               [
                6.020726,
                52.965866
               ],
               [
                6.06976,
                52.974194
               ],
               [
                6.131188,
                53.011879
               ],
               [
                6.176812,
                53.021049
               ],
               [
                6.205424,
                53.037931
               ],
               [
                6.202206,
                52.99031
               ],
               [
                6.15903,
                52.975965
               ],
               [
                6.128589,
                52.953954
               ],
               [
                6.084848,
                52.936274
               ],
               [
                6.037312,
                52.918219
               ],
               [
                6.00397,
                52.933612
               ],
               [
                5.953671,
                52.925521
               ],
               [
                5.937847,
                52.91174
               ],
               [
                5.89741,
                52.963083
               ],
               [
                5.871061,
                52.964426
               ],
               [
                5.857603,
                53.017008
               ],
               [
                5.797947,
                53.049809
               ],
               [
                5.796386,
                53.058839
               ]
              ]
             ],
             "type": "Polygon"
            },
            "id": "0074",
            "properties": {
             "code": "0074",
             "fid": 279,
             "gemeentena": "Heerenveen"
            },
            "type": "Feature"
           },
           {
            "geometry": {
             "coordinates": [
              [
               [
                5.799339,
                51.060072
               ],
               [
                5.877,
                51.032042
               ],
               [
                5.905517,
                51.002172
               ],
               [
                5.897086,
                50.974865
               ],
               [
                5.839892,
                50.950191
               ],
               [
                5.788108,
                50.948606
               ],
               [
                5.773407,
                51.018999
               ],
               [
                5.758002,
                51.033666
               ],
               [
                5.774656,
                51.062977
               ],
               [
                5.799339,
                51.060072
               ]
              ]
             ],
             "type": "Polygon"
            },
            "id": "1883",
            "properties": {
             "code": "1883",
             "fid": 280,
             "gemeentena": "Sittard-Geleen"
            },
            "type": "Feature"
           },
           {
            "geometry": {
             "coordinates": [
              [
               [
                6.048121,
                51.558463
               ],
               [
                6.114178,
                51.54363
               ],
               [
                6.141094,
                51.51952
               ],
               [
                6.066774,
                51.523694
               ],
               [
                6.068082,
                51.48837
               ],
               [
                5.99412,
                51.475213
               ],
               [
                5.874966,
                51.446558
               ],
               [
                5.852574,
                51.504144
               ],
               [
                5.838238,
                51.566415
               ],
               [
                5.870892,
                51.562644
               ],
               [
                5.906663,
                51.552031
               ],
               [
                5.935445,
                51.5536
               ],
               [
                6.004253,
                51.570244
               ],
               [
                6.048121,
                51.558463
               ]
              ]
             ],
             "type": "Polygon"
            },
            "id": "0984",
            "properties": {
             "code": "0984",
             "fid": 281,
             "gemeentena": "Venray"
            },
            "type": "Feature"
           },
           {
            "geometry": {
             "coordinates": [
              [
               [
                4.219529,
                51.9414
               ],
               [
                4.240317,
                51.942872
               ],
               [
                4.257822,
                51.92881
               ],
               [
                4.292611,
                51.921236
               ],
               [
                4.267571,
                51.905335
               ],
               [
                4.212718,
                51.933727
               ],
               [
                4.219529,
                51.9414
               ]
              ]
             ],
             "type": "Polygon"
            },
            "id": "0556",
            "properties": {
             "code": "0556",
             "fid": 282,
             "gemeentena": "Maassluis"
            },
            "type": "Feature"
           },
           {
            "geometry": {
             "coordinates": [
              [
               [
                5.281718,
                51.821208
               ],
               [
                5.288171,
                51.800177
               ],
               [
                5.269948,
                51.774325
               ],
               [
                5.173672,
                51.76402
               ],
               [
                5.1857,
                51.741918
               ],
               [
                5.128055,
                51.737607
               ],
               [
                5.142714,
                51.75521
               ],
               [
                5.135095,
                51.773828
               ],
               [
                5.100278,
                51.787151
               ],
               [
                5.066966,
                51.780553
               ],
               [
                5.052344,
                51.795694
               ],
               [
                5.000364,
                51.820933
               ],
               [
                5.026352,
                51.818857
               ],
               [
                5.09319,
                51.826244
               ],
               [
                5.140907,
                51.814119
               ],
               [
                5.220787,
                51.810916
               ],
               [
                5.281718,
                51.821208
               ]
              ]
             ],
             "type": "Polygon"
            },
            "id": "0297",
            "properties": {
             "code": "0297",
             "fid": 283,
             "gemeentena": "Zaltbommel"
            },
            "type": "Feature"
           },
           {
            "geometry": {
             "coordinates": [
              [
               [
                5.102066,
                52.279891
               ],
               [
                5.104646,
                52.285385
               ],
               [
                5.141297,
                52.277446
               ],
               [
                5.162129,
                52.255796
               ],
               [
                5.201117,
                52.26814
               ],
               [
                5.203822,
                52.267115
               ],
               [
                5.188853,
                52.247651
               ],
               [
                5.21896,
                52.212129
               ],
               [
                5.215501,
                52.204273
               ],
               [
                5.192586,
                52.177833
               ],
               [
                5.124111,
                52.180827
               ],
               [
                5.145141,
                52.196637
               ],
               [
                5.139605,
                52.254015
               ],
               [
                5.102066,
                52.279891
               ]
              ]
             ],
             "type": "Polygon"
            },
            "id": "0402",
            "properties": {
             "code": "0402",
             "fid": 284,
             "gemeentena": "Hilversum"
            },
            "type": "Feature"
           },
           {
            "geometry": {
             "coordinates": [
              [
               [
                4.809223,
                52.914022
               ],
               [
                4.807614,
                52.913617
               ],
               [
                4.806956,
                52.912949
               ],
               [
                4.770939,
                52.878626
               ],
               [
                4.709441,
                52.883588
               ],
               [
                4.714442,
                52.939133
               ],
               [
                4.730969,
                52.962214
               ],
               [
                4.763942,
                52.965569
               ],
               [
                4.801711,
                52.953114
               ],
               [
                4.791144,
                52.935572
               ],
               [
                4.809223,
                52.914022
               ]
              ]
             ],
             "type": "Polygon"
            },
            "id": "0400",
            "properties": {
             "code": "0400",
             "fid": 285,
             "gemeentena": "Den Helder"
            },
            "type": "Feature"
           },
           {
            "geometry": {
             "coordinates": [
              [
               [
                6.598851,
                52.383658
               ],
               [
                6.651752,
                52.398725
               ],
               [
                6.698635,
                52.393741
               ],
               [
                6.713415,
                52.376497
               ],
               [
                6.720846,
                52.341208
               ],
               [
                6.69094,
                52.308391
               ],
               [
                6.626066,
                52.289974
               ],
               [
                6.601768,
                52.337282
               ],
               [
                6.615512,
                52.361261
               ],
               [
                6.598851,
                52.383658
               ]
              ]
             ],
             "type": "Polygon"
            },
            "id": "0141",
            "properties": {
             "code": "0141",
             "fid": 286,
             "gemeentena": "Almelo"
            },
            "type": "Feature"
           },
           {
            "geometry": {
             "coordinates": [
              [
               [
                3.693051,
                51.36527
               ],
               [
                3.718784,
                51.349764
               ],
               [
                3.79044,
                51.349195
               ],
               [
                3.813341,
                51.336935
               ],
               [
                3.866676,
                51.336246
               ],
               [
                3.87539,
                51.345831
               ],
               [
                3.941755,
                51.365427
               ],
               [
                3.961729,
                51.332896
               ],
               [
                3.953662,
                51.30771
               ],
               [
                3.978879,
                51.300815
               ],
               [
                3.982237,
                51.24911
               ],
               [
                4.005693,
                51.241876
               ],
               [
                3.959074,
                51.21621
               ],
               [
                3.886298,
                51.200182
               ],
               [
                3.859574,
                51.210831
               ],
               [
                3.791333,
                51.213955
               ],
               [
                3.795473,
                51.256053
               ],
               [
                3.755714,
                51.269344
               ],
               [
                3.693934,
                51.276039
               ],
               [
                3.703582,
                51.309943
               ],
               [
                3.666204,
                51.319812
               ],
               [
                3.644149,
                51.341831
               ],
               [
                3.693051,
                51.36527
               ]
              ]
             ],
             "type": "Polygon"
            },
            "id": "0715",
            "properties": {
             "code": "0715",
             "fid": 287,
             "gemeentena": "Terneuzen"
            },
            "type": "Feature"
           },
           {
            "geometry": {
             "coordinates": [
              [
               [
                5.256271,
                51.970941
               ],
               [
                5.270374,
                51.965427
               ],
               [
                5.241922,
                51.945516
               ],
               [
                5.255062,
                51.935483
               ],
               [
                5.232974,
                51.923554
               ],
               [
                5.142433,
                51.924937
               ],
               [
                5.180227,
                51.967448
               ],
               [
                5.205989,
                51.959432
               ],
               [
                5.23978,
                51.97894
               ],
               [
                5.256271,
                51.970941
               ]
              ]
             ],
             "type": "Polygon"
            },
            "id": "0216",
            "properties": {
             "code": "0216",
             "fid": 288,
             "gemeentena": "Culemborg"
            },
            "type": "Feature"
           },
           {
            "geometry": {
             "coordinates": [
              [
               [
                3.380224,
                51.379934
               ],
               [
                3.380738,
                51.380126
               ],
               [
                3.440129,
                51.388971
               ],
               [
                3.520414,
                51.407584
               ],
               [
                3.566281,
                51.400628
               ],
               [
                3.586408,
                51.387208
               ],
               [
                3.693051,
                51.36527
               ],
               [
                3.644149,
                51.341831
               ],
               [
                3.666204,
                51.319812
               ],
               [
                3.703582,
                51.309943
               ],
               [
                3.693934,
                51.276039
               ],
               [
                3.590832,
                51.304417
               ],
               [
                3.515415,
                51.287151
               ],
               [
                3.527594,
                51.24604
               ],
               [
                3.448479,
                51.241561
               ],
               [
                3.406291,
                51.257777
               ],
               [
                3.387172,
                51.273639
               ],
               [
                3.376839,
                51.302448
               ],
               [
                3.358378,
                51.314981
               ],
               [
                3.38534,
                51.334125
               ],
               [
                3.370603,
                51.372906
               ],
               [
                3.380224,
                51.379934
               ]
              ]
             ],
             "type": "Polygon"
            },
            "id": "1714",
            "properties": {
             "code": "1714",
             "fid": 289,
             "gemeentena": "Sluis"
            },
            "type": "Feature"
           },
           {
            "geometry": {
             "coordinates": [
              [
               [
                6.776509,
                53.094761
               ],
               [
                6.813945,
                53.070972
               ],
               [
                6.861287,
                53.040874
               ],
               [
                6.935685,
                52.993353
               ],
               [
                6.841916,
                52.978647
               ],
               [
                6.788759,
                52.962775
               ],
               [
                6.727712,
                52.95472
               ],
               [
                6.724175,
                52.937288
               ],
               [
                6.736337,
                52.878691
               ],
               [
                6.714564,
                52.868159
               ],
               [
                6.686374,
                52.875331
               ],
               [
                6.666734,
                52.909449
               ],
               [
                6.585828,
                52.919452
               ],
               [
                6.561505,
                52.946652
               ],
               [
                6.596043,
                52.972658
               ],
               [
                6.631221,
                53.026105
               ],
               [
                6.642291,
                53.045799
               ],
               [
                6.776509,
                53.094761
               ]
              ]
             ],
             "type": "Polygon"
            },
            "id": "1680",
            "properties": {
             "code": "1680",
             "fid": 290,
             "gemeentena": "Aa en Hunze"
            },
            "type": "Feature"
           },
           {
            "geometry": {
             "coordinates": [
              [
               [
                4.611384,
                52.322205
               ],
               [
                4.611676,
                52.31356
               ],
               [
                4.563707,
                52.309298
               ],
               [
                4.547322,
                52.313997
               ],
               [
                4.591659,
                52.391716
               ],
               [
                4.541213,
                52.401423
               ],
               [
                4.559255,
                52.438104
               ],
               [
                4.624992,
                52.423492
               ],
               [
                4.631648,
                52.411666
               ],
               [
                4.605724,
                52.363405
               ],
               [
                4.590186,
                52.328353
               ],
               [
                4.611384,
                52.322205
               ]
              ]
             ],
             "type": "Polygon"
            },
            "id": "0377",
            "properties": {
             "code": "0377",
             "fid": 291,
             "gemeentena": "Bloemendaal"
            },
            "type": "Feature"
           },
           {
            "geometry": {
             "coordinates": [
              [
               [
                5.423843,
                51.534055
               ],
               [
                5.487146,
                51.541848
               ],
               [
                5.500261,
                51.521397
               ],
               [
                5.530864,
                51.525049
               ],
               [
                5.546273,
                51.512696
               ],
               [
                5.511424,
                51.496922
               ],
               [
                5.442571,
                51.493927
               ],
               [
                5.447508,
                51.512069
               ],
               [
                5.423843,
                51.534055
               ]
              ]
             ],
             "type": "Polygon"
            },
            "id": "0848",
            "properties": {
             "code": "0848",
             "fid": 292,
             "gemeentena": "Son en Breugel"
            },
            "type": "Feature"
           },
           {
            "geometry": {
             "coordinates": [
              [
               [
                4.826242,
                52.717436
               ],
               [
                4.847685,
                52.720259
               ],
               [
                4.898669,
                52.706832
               ],
               [
                4.89986,
                52.697587
               ],
               [
                4.877691,
                52.687262
               ],
               [
                4.863179,
                52.656469
               ],
               [
                4.873399,
                52.634446
               ],
               [
                4.830225,
                52.632678
               ],
               [
                4.785587,
                52.639163
               ],
               [
                4.800509,
                52.660241
               ],
               [
                4.827075,
                52.676437
               ],
               [
                4.826242,
                52.717436
               ]
              ]
             ],
             "type": "Polygon"
            },
            "id": "0398",
            "properties": {
             "code": "0398",
             "fid": 293,
             "gemeentena": "Heerhugowaard"
            },
            "type": "Feature"
           },
           {
            "geometry": {
             "coordinates": [
              [
               [
                4.987267,
                51.654609
               ],
               [
                4.992246,
                51.676251
               ],
               [
                5.049178,
                51.661623
               ],
               [
                5.101509,
                51.676835
               ],
               [
                5.106137,
                51.635956
               ],
               [
                5.093745,
                51.611249
               ],
               [
                5.004492,
                51.607887
               ],
               [
                4.987267,
                51.654609
               ]
              ]
             ],
             "type": "Polygon"
            },
            "id": "0809",
            "properties": {
             "code": "0809",
             "fid": 294,
             "gemeentena": "Loon op Zand"
            },
            "type": "Feature"
           },
           {
            "geometry": {
             "coordinates": [
              [
               [
                6.001733,
                51.977552
               ],
               [
                6.001965,
                51.98065
               ],
               [
                6.061781,
                52.014982
               ],
               [
                6.092734,
                51.992751
               ],
               [
                6.109591,
                51.996437
               ],
               [
                6.159251,
                51.99974
               ],
               [
                6.160483,
                51.981037
               ],
               [
                6.144688,
                51.9805
               ],
               [
                6.090394,
                51.967844
               ],
               [
                6.091427,
                51.938721
               ],
               [
                6.167912,
                51.900942
               ],
               [
                6.137859,
                51.885027
               ],
               [
                6.167,
                51.861622
               ],
               [
                6.16656,
                51.840722
               ],
               [
                6.092589,
                51.851431
               ],
               [
                6.063486,
                51.865451
               ],
               [
                6.046285,
                51.870913
               ],
               [
                6.013711,
                51.901608
               ],
               [
                5.987063,
                51.913314
               ],
               [
                6.043076,
                51.916831
               ],
               [
                6.06111,
                51.981763
               ],
               [
                6.001733,
                51.977552
               ]
              ]
             ],
             "type": "Polygon"
            },
            "id": "0299",
            "properties": {
             "code": "0299",
             "fid": 295,
             "gemeentena": "Zevenaar"
            },
            "type": "Feature"
           },
           {
            "geometry": {
             "coordinates": [
              [
               [
                4.583992,
                51.965369
               ],
               [
                4.619489,
                51.933492
               ],
               [
                4.617704,
                51.93105
               ],
               [
                4.549901,
                51.906728
               ],
               [
                4.566239,
                51.925909
               ],
               [
                4.56155,
                51.956648
               ],
               [
                4.583992,
                51.965369
               ]
              ]
             ],
             "type": "Polygon"
            },
            "id": "0502",
            "properties": {
             "code": "0502",
             "fid": 296,
             "gemeentena": "Capelle aan den IJssel"
            },
            "type": "Feature"
           },
           {
            "geometry": {
             "coordinates": [
              [
               [
                4.955241,
                52.278305
               ],
               [
                5.021543,
                52.302457
               ],
               [
                5.021867,
                52.282653
               ],
               [
                5.007463,
                52.231705
               ],
               [
                4.980414,
                52.226847
               ],
               [
                4.928606,
                52.1672
               ],
               [
                4.909638,
                52.161871
               ],
               [
                4.892178,
                52.161798
               ],
               [
                4.843809,
                52.180189
               ],
               [
                4.811752,
                52.201736
               ],
               [
                4.794576,
                52.226731
               ],
               [
                4.852053,
                52.242013
               ],
               [
                4.870121,
                52.253282
               ],
               [
                4.911027,
                52.25271
               ],
               [
                4.933864,
                52.280884
               ],
               [
                4.955241,
                52.278305
               ]
              ]
             ],
             "type": "Polygon"
            },
            "id": "0736",
            "properties": {
             "code": "0736",
             "fid": 297,
             "gemeentena": "De Ronde Venen"
            },
            "type": "Feature"
           },
           {
            "geometry": {
             "coordinates": [
              [
               [
                5.771012,
                53.046968
               ],
               [
                5.796386,
                53.058839
               ],
               [
                5.797947,
                53.049809
               ],
               [
                5.857603,
                53.017008
               ],
               [
                5.871061,
                52.964426
               ],
               [
                5.89741,
                52.963083
               ],
               [
                5.937847,
                52.91174
               ],
               [
                5.886216,
                52.894379
               ],
               [
                5.856768,
                52.870791
               ],
               [
                5.819744,
                52.817278
               ],
               [
                5.795177,
                52.806522
               ],
               [
                5.748807,
                52.83968
               ],
               [
                5.713082,
                52.838027
               ],
               [
                5.657388,
                52.843672
               ],
               [
                5.644561,
                52.860278
               ],
               [
                5.58278,
                52.84698
               ],
               [
                5.545143,
                52.833007
               ],
               [
                5.492167,
                52.847891
               ],
               [
                5.441024,
                52.850868
               ],
               [
                5.432404,
                52.87461
               ],
               [
                5.47718,
                52.868787
               ],
               [
                5.501819,
                52.880043
               ],
               [
                5.476965,
                52.902237
               ],
               [
                5.515507,
                52.928678
               ],
               [
                5.564779,
                52.947481
               ],
               [
                5.59426,
                52.915412
               ],
               [
                5.639978,
                52.922469
               ],
               [
                5.642455,
                52.936167
               ],
               [
                5.688191,
                52.937633
               ],
               [
                5.68752,
                52.981002
               ],
               [
                5.742258,
                53.002301
               ],
               [
                5.736705,
                53.030152
               ],
               [
                5.771012,
                53.046968
               ]
              ]
             ],
             "type": "Polygon"
            },
            "id": "1940",
            "properties": {
             "code": "1940",
             "fid": 298,
             "gemeentena": "De Fryske Marren"
            },
            "type": "Feature"
           },
           {
            "geometry": {
             "coordinates": [
              [
               [
                5.356917,
                51.438204
               ],
               [
                5.369447,
                51.465317
               ],
               [
                5.391187,
                51.471756
               ],
               [
                5.401583,
                51.485956
               ],
               [
                5.442571,
                51.493927
               ],
               [
                5.511424,
                51.496922
               ],
               [
                5.509152,
                51.469198
               ],
               [
                5.548679,
                51.434677
               ],
               [
                5.525167,
                51.427854
               ],
               [
                5.525815,
                51.404697
               ],
               [
                5.504874,
                51.400155
               ],
               [
                5.427277,
                51.402654
               ],
               [
                5.426785,
                51.429542
               ],
               [
                5.356917,
                51.438204
               ]
              ]
             ],
             "type": "Polygon"
            },
            "id": "0772",
            "properties": {
             "code": "0772",
             "fid": 299,
             "gemeentena": "Eindhoven"
            },
            "type": "Feature"
           },
           {
            "geometry": {
             "coordinates": [
              [
               [
                5.062801,
                52.026823
               ],
               [
                5.075629,
                52.062228
               ],
               [
                5.126832,
                52.054918
               ],
               [
                5.119563,
                51.999924
               ],
               [
                5.077535,
                51.997452
               ],
               [
                5.062801,
                52.026823
               ]
              ]
             ],
             "type": "Polygon"
            },
            "id": "0356",
            "properties": {
             "code": "0356",
             "fid": 300,
             "gemeentena": "Nieuwegein"
            },
            "type": "Feature"
           },
           {
            "geometry": {
             "coordinates": [
              [
               [
                5.356917,
                51.438204
               ],
               [
                5.426785,
                51.429542
               ],
               [
                5.427277,
                51.402654
               ],
               [
                5.421801,
                51.38341
               ],
               [
                5.388907,
                51.37646
               ],
               [
                5.354363,
                51.408783
               ],
               [
                5.323664,
                51.406187
               ],
               [
                5.319371,
                51.423795
               ],
               [
                5.356917,
                51.438204
               ]
              ]
             ],
             "type": "Polygon"
            },
            "id": "0861",
            "properties": {
             "code": "0861",
             "fid": 301,
             "gemeentena": "Veldhoven"
            },
            "type": "Feature"
           },
           {
            "geometry": {
             "coordinates": [
              [
               [
                4.383665,
                51.842118
               ],
               [
                4.393378,
                51.871971
               ],
               [
                4.480403,
                51.862328
               ],
               [
                4.489094,
                51.835396
               ],
               [
                4.432482,
                51.837046
               ],
               [
                4.383665,
                51.842118
               ]
              ]
             ],
             "type": "Polygon"
            },
            "id": "0613",
            "properties": {
             "code": "0613",
             "fid": 302,
             "gemeentena": "Albrandswaard"
            },
            "type": "Feature"
           },
           {
            "geometry": {
             "coordinates": [
              [
               [
                5.224999,
                52.1657
               ],
               [
                5.243173,
                52.170076
               ],
               [
                5.255916,
                52.136724
               ],
               [
                5.282138,
                52.112063
               ],
               [
                5.306459,
                52.110271
               ],
               [
                5.31092,
                52.108384
               ],
               [
                5.322462,
                52.101901
               ],
               [
                5.332251,
                52.084163
               ],
               [
                5.29076,
                52.086568
               ],
               [
                5.247423,
                52.058647
               ],
               [
                5.195155,
                52.077346
               ],
               [
                5.192752,
                52.086076
               ],
               [
                5.23093,
                52.116789
               ],
               [
                5.224999,
                52.1657
               ]
              ]
             ],
             "type": "Polygon"
            },
            "id": "0355",
            "properties": {
             "code": "0355",
             "fid": 303,
             "gemeentena": "Zeist"
            },
            "type": "Feature"
           },
           {
            "geometry": {
             "coordinates": [
              [
               [
                6.720846,
                52.341208
               ],
               [
                6.759035,
                52.332061
               ],
               [
                6.802039,
                52.313586
               ],
               [
                6.775516,
                52.293153
               ],
               [
                6.742886,
                52.283113
               ],
               [
                6.69094,
                52.308391
               ],
               [
                6.720846,
                52.341208
               ]
              ]
             ],
             "type": "Polygon"
            },
            "id": "0147",
            "properties": {
             "code": "0147",
             "fid": 304,
             "gemeentena": "Borne"
            },
            "type": "Feature"
           },
           {
            "geometry": {
             "coordinates": [
              [
               [
                5.288244,
                52.297856
               ],
               [
                5.306143,
                52.277464
               ],
               [
                5.265978,
                52.281926
               ],
               [
                5.244081,
                52.254663
               ],
               [
                5.203822,
                52.267115
               ],
               [
                5.288244,
                52.297856
               ]
              ]
             ],
             "type": "Polygon"
            },
            "id": "0376",
            "properties": {
             "code": "0376",
             "fid": 305,
             "gemeentena": "Blaricum"
            },
            "type": "Feature"
           },
           {
            "geometry": {
             "coordinates": [
              [
               [
                5.259232,
                52.686739
               ],
               [
                5.257501,
                52.716181
               ],
               [
                5.272245,
                52.746886
               ],
               [
                5.283907,
                52.742448
               ],
               [
                5.287407,
                52.691158
               ],
               [
                5.286838,
                52.689788
               ],
               [
                5.259232,
                52.686739
               ]
              ]
             ],
             "type": "Polygon"
            },
            "id": "0388",
            "properties": {
             "code": "0388",
             "fid": 306,
             "gemeentena": "Enkhuizen"
            },
            "type": "Feature"
           },
           {
            "geometry": {
             "coordinates": [
              [
               [
                4.729639,
                51.822169
               ],
               [
                4.767944,
                51.815719
               ],
               [
                4.811416,
                51.818658
               ],
               [
                4.884643,
                51.816471
               ],
               [
                4.845984,
                51.798757
               ],
               [
                4.797194,
                51.79977
               ],
               [
                4.75524,
                51.781611
               ],
               [
                4.744788,
                51.763487
               ],
               [
                4.676304,
                51.724924
               ],
               [
                4.645137,
                51.719067
               ],
               [
                4.636221,
                51.717308
               ],
               [
                4.624182,
                51.722736
               ],
               [
                4.631356,
                51.749185
               ],
               [
                4.621222,
                51.800804
               ],
               [
                4.671709,
                51.820854
               ],
               [
                4.729639,
                51.822169
               ]
              ]
             ],
             "type": "Polygon"
            },
            "id": "0505",
            "properties": {
             "code": "0505",
             "fid": 307,
             "gemeentena": "Dordrecht"
            },
            "type": "Feature"
           },
           {
            "geometry": {
             "coordinates": [
              [
               [
                4.372709,
                52.094773
               ],
               [
                4.401159,
                52.11187
               ],
               [
                4.427903,
                52.10147
               ],
               [
                4.464492,
                52.127311
               ],
               [
                4.472975,
                52.118952
               ],
               [
                4.492219,
                52.09001
               ],
               [
                4.420833,
                52.06258
               ],
               [
                4.403924,
                52.077845
               ],
               [
                4.35542,
                52.068085
               ],
               [
                4.372709,
                52.094773
               ]
              ]
             ],
             "type": "Polygon"
            },
            "id": "1916",
            "properties": {
             "code": "1916",
             "fid": 308,
             "gemeentena": "Leidschendam-Voorburg"
            },
            "type": "Feature"
           },
           {
            "geometry": {
             "coordinates": [
              [
               [
                5.735384,
                53.294721
               ],
               [
                5.763197,
                53.294492
               ],
               [
                5.838649,
                53.274949
               ],
               [
                5.83216,
                53.242857
               ],
               [
                5.880656,
                53.224976
               ],
               [
                5.857728,
                53.204063
               ],
               [
                5.861937,
                53.171519
               ],
               [
                5.919409,
                53.16857
               ],
               [
                5.908629,
                53.14478
               ],
               [
                5.94346,
                53.121614
               ],
               [
                5.933019,
                53.109389
               ],
               [
                5.882006,
                53.106939
               ],
               [
                5.874643,
                53.08507
               ],
               [
                5.819274,
                53.075862
               ],
               [
                5.796386,
                53.058839
               ],
               [
                5.771012,
                53.046968
               ],
               [
                5.771384,
                53.089106
               ],
               [
                5.784615,
                53.09903
               ],
               [
                5.729668,
                53.120304
               ],
               [
                5.659484,
                53.115985
               ],
               [
                5.637348,
                53.124149
               ],
               [
                5.6587,
                53.168316
               ],
               [
                5.683128,
                53.181144
               ],
               [
                5.727799,
                53.167566
               ],
               [
                5.745074,
                53.185416
               ],
               [
                5.720303,
                53.274545
               ],
               [
                5.735384,
                53.294721
               ]
              ]
             ],
             "type": "Polygon"
            },
            "id": "0080",
            "properties": {
             "code": "0080",
             "fid": 309,
             "gemeentena": "Leeuwarden"
            },
            "type": "Feature"
           },
           {
            "geometry": {
             "coordinates": [
              [
               [
                5.060524,
                52.485724
               ],
               [
                5.050034,
                52.439979
               ],
               [
                5.07864,
                52.436706
               ],
               [
                5.06852,
                52.416447
               ],
               [
                5.000717,
                52.425293
               ],
               [
                4.947789,
                52.421562
               ],
               [
                4.948316,
                52.484005
               ],
               [
                4.974247,
                52.470435
               ],
               [
                4.997964,
                52.494733
               ],
               [
                5.024792,
                52.484863
               ],
               [
                5.060524,
                52.485724
               ]
              ]
             ],
             "type": "Polygon"
            },
            "id": "0852",
            "properties": {
             "code": "0852",
             "fid": 310,
             "gemeentena": "Waterland"
            },
            "type": "Feature"
           },
           {
            "geometry": {
             "coordinates": [
              [
               [
                4.600155,
                51.83873
               ],
               [
                4.646948,
                51.856661
               ],
               [
                4.635261,
                51.869711
               ],
               [
                4.672606,
                51.83865
               ],
               [
                4.670439,
                51.823589
               ],
               [
                4.637209,
                51.825348
               ],
               [
                4.600155,
                51.83873
               ]
              ]
             ],
             "type": "Polygon"
            },
            "id": "0531",
            "properties": {
             "code": "0531",
             "fid": 311,
             "gemeentena": "Hendrik-Ido-Ambacht"
            },
            "type": "Feature"
           },
           {
            "geometry": {
             "coordinates": [
              [
               [
                5.106137,
                51.635956
               ],
               [
                5.144938,
                51.640512
               ],
               [
                5.179539,
                51.597664
               ],
               [
                5.137355,
                51.562581
               ],
               [
                5.146948,
                51.546634
               ],
               [
                5.130196,
                51.530298
               ],
               [
                5.109821,
                51.539383
               ],
               [
                4.97546,
                51.540133
               ],
               [
                4.951668,
                51.560884
               ],
               [
                4.96899,
                51.571305
               ],
               [
                4.968737,
                51.602057
               ],
               [
                4.947846,
                51.61117
               ],
               [
                5.004492,
                51.607887
               ],
               [
                5.093745,
                51.611249
               ],
               [
                5.106137,
                51.635956
               ]
              ]
             ],
             "type": "Polygon"
            },
            "id": "0855",
            "properties": {
             "code": "0855",
             "fid": 312,
             "gemeentena": "Tilburg"
            },
            "type": "Feature"
           },
           {
            "geometry": {
             "coordinates": [
              [
               [
                5.516418,
                51.378336
               ],
               [
                5.504874,
                51.400155
               ],
               [
                5.525815,
                51.404697
               ],
               [
                5.560661,
                51.405768
               ],
               [
                5.594032,
                51.417245
               ],
               [
                5.639016,
                51.422456
               ],
               [
                5.63892,
                51.389173
               ],
               [
                5.654707,
                51.353877
               ],
               [
                5.631295,
                51.327541
               ],
               [
                5.605317,
                51.331805
               ],
               [
                5.566077,
                51.320543
               ],
               [
                5.515774,
                51.295203
               ],
               [
                5.484859,
                51.3
               ],
               [
                5.491258,
                51.314661
               ],
               [
                5.473605,
                51.333943
               ],
               [
                5.516418,
                51.378336
               ]
              ]
             ],
             "type": "Polygon"
            },
            "id": "1658",
            "properties": {
             "code": "1658",
             "fid": 313,
             "gemeentena": "Heeze-Leende"
            },
            "type": "Feature"
           },
           {
            "geometry": {
             "coordinates": [
              [
               [
                4.729639,
                51.822169
               ],
               [
                4.742764,
                51.841003
               ],
               [
                4.803379,
                51.846353
               ],
               [
                4.811416,
                51.818658
               ],
               [
                4.767944,
                51.815719
               ],
               [
                4.729639,
                51.822169
               ]
              ]
             ],
             "type": "Polygon"
            },
            "id": "0610",
            "properties": {
             "code": "0610",
             "fid": 314,
             "gemeentena": "Sliedrecht"
            },
            "type": "Feature"
           },
           {
            "geometry": {
             "coordinates": [
              [
               [
                6.961735,
                53.110021
               ],
               [
                6.965295,
                53.110831
               ],
               [
                7.029754,
                53.115097
               ],
               [
                7.042633,
                53.101687
               ],
               [
                7.015446,
                53.071774
               ],
               [
                6.95579,
                53.013861
               ],
               [
                6.907703,
                53.038881
               ],
               [
                6.933344,
                53.049613
               ],
               [
                6.929088,
                53.070799
               ],
               [
                6.960652,
                53.095962
               ],
               [
                6.961735,
                53.110021
               ]
              ]
             ],
             "type": "Polygon"
            },
            "id": "0765",
            "properties": {
             "code": "0765",
             "fid": 315,
             "gemeentena": "Pekela"
            },
            "type": "Feature"
           },
           {
            "geometry": {
             "coordinates": [
              [
               [
                [
                 5.572733,
                 52.596508
                ],
                [
                 5.640242,
                 52.60773
                ],
                [
                 5.657791,
                 52.596537
                ],
                [
                 5.756215,
                 52.581836
                ],
                [
                 5.811125,
                 52.578336
                ],
                [
                 5.856092,
                 52.54688
                ],
                [
                 5.857165,
                 52.544162
                ],
                [
                 5.849702,
                 52.495898
                ],
                [
                 5.796133,
                 52.438547
                ],
                [
                 5.747164,
                 52.414476
                ],
                [
                 5.720091,
                 52.415976
                ],
                [
                 5.660756,
                 52.397597
                ],
                [
                 5.615811,
                 52.370178
                ],
                [
                 5.622733,
                 52.407607
                ],
                [
                 5.58907,
                 52.411187
                ],
                [
                 5.566637,
                 52.435863
                ],
                [
                 5.586389,
                 52.447711
                ],
                [
                 5.56542,
                 52.470281
                ],
                [
                 5.605871,
                 52.48452
                ],
                [
                 5.591293,
                 52.500036
                ],
                [
                 5.587386,
                 52.563456
                ],
                [
                 5.572733,
                 52.596508
                ]
               ]
              ],
              [
               [
                [
                 5.680739,
                 52.379014
                ],
                [
                 5.678922,
                 52.378841
                ],
                [
                 5.678064,
                 52.37876
                ],
                [
                 5.678602,
                 52.379307
                ],
                [
                 5.680739,
                 52.379014
                ]
               ]
              ]
             ],
             "type": "MultiPolygon"
            },
            "id": "0303",
            "properties": {
             "code": "0303",
             "fid": 316,
             "gemeentena": "Dronten"
            },
            "type": "Feature"
           },
           {
            "geometry": {
             "coordinates": [
              [
               [
                5.886766,
                51.865203
               ],
               [
                5.857124,
                51.894621
               ],
               [
                5.891199,
                51.907263
               ],
               [
                5.897918,
                51.934358
               ],
               [
                5.9169,
                51.950521
               ],
               [
                5.955225,
                51.948754
               ],
               [
                5.965775,
                51.938768
               ],
               [
                5.987063,
                51.913314
               ],
               [
                6.013711,
                51.901608
               ],
               [
                6.046285,
                51.870913
               ],
               [
                6.007828,
                51.881489
               ],
               [
                5.967448,
                51.854452
               ],
               [
                5.923633,
                51.874623
               ],
               [
                5.886766,
                51.865203
               ]
              ]
             ],
             "type": "Polygon"
            },
            "id": "1705",
            "properties": {
             "code": "1705",
             "fid": 317,
             "gemeentena": "Lingewaard"
            },
            "type": "Feature"
           },
           {
            "geometry": {
             "coordinates": [
              [
               [
                5.566045,
                51.220909
               ],
               [
                5.618782,
                51.229425
               ],
               [
                5.625972,
                51.273602
               ],
               [
                5.643997,
                51.290575
               ],
               [
                5.656958,
                51.279732
               ],
               [
                5.723565,
                51.282658
               ],
               [
                5.79177,
                51.237537
               ],
               [
                5.781767,
                51.220139
               ],
               [
                5.751904,
                51.213725
               ],
               [
                5.745641,
                51.189499
               ],
               [
                5.708004,
                51.182055
               ],
               [
                5.658044,
                51.184745
               ],
               [
                5.636708,
                51.202778
               ],
               [
                5.566045,
                51.220909
               ]
              ]
             ],
             "type": "Polygon"
            },
            "id": "0988",
            "properties": {
             "code": "0988",
             "fid": 318,
             "gemeentena": "Weert"
            },
            "type": "Feature"
           },
           {
            "geometry": {
             "coordinates": [
              [
               [
                4.580783,
                52.489447
               ],
               [
                4.586493,
                52.499175
               ],
               [
                4.604314,
                52.494389
               ],
               [
                4.666302,
                52.500744
               ],
               [
                4.707969,
                52.486332
               ],
               [
                4.674848,
                52.45552
               ],
               [
                4.653333,
                52.477155
               ],
               [
                4.580783,
                52.489447
               ]
              ]
             ],
             "type": "Polygon"
            },
            "id": "0375",
            "properties": {
             "code": "0375",
             "fid": 319,
             "gemeentena": "Beverwijk"
            },
            "type": "Feature"
           },
           {
            "geometry": {
             "coordinates": [
              [
               [
                6.10958,
                52.440531
               ],
               [
                6.154915,
                52.453183
               ],
               [
                6.177428,
                52.431149
               ],
               [
                6.230958,
                52.4235
               ],
               [
                6.226139,
                52.388001
               ],
               [
                6.203988,
                52.386899
               ],
               [
                6.197015,
                52.352119
               ],
               [
                6.222961,
                52.347237
               ],
               [
                6.235355,
                52.31982
               ],
               [
                6.206487,
                52.321122
               ],
               [
                6.16874,
                52.308307
               ],
               [
                6.10132,
                52.301225
               ],
               [
                6.084126,
                52.301567
               ],
               [
                6.073681,
                52.330569
               ],
               [
                6.077845,
                52.364297
               ],
               [
                6.117073,
                52.378033
               ],
               [
                6.129583,
                52.397982
               ],
               [
                6.110844,
                52.407755
               ],
               [
                6.10958,
                52.440531
               ]
              ]
             ],
             "type": "Polygon"
            },
            "id": "1773",
            "properties": {
             "code": "1773",
             "fid": 320,
             "gemeentena": "Olst-Wijhe"
            },
            "type": "Feature"
           },
           {
            "geometry": {
             "coordinates": [
              [
               [
                5.57673,
                51.499453
               ],
               [
                5.609654,
                51.509217
               ],
               [
                5.634822,
                51.494883
               ],
               [
                5.684144,
                51.5077
               ],
               [
                5.721718,
                51.485131
               ],
               [
                5.718245,
                51.438734
               ],
               [
                5.693983,
                51.43924
               ],
               [
                5.656468,
                51.45656
               ],
               [
                5.608057,
                51.449717
               ],
               [
                5.584708,
                51.460509
               ],
               [
                5.57673,
                51.499453
               ]
              ]
             ],
             "type": "Polygon"
            },
            "id": "0794",
            "properties": {
             "code": "0794",
             "fid": 321,
             "gemeentena": "Helmond"
            },
            "type": "Feature"
           },
           {
            "geometry": {
             "coordinates": [
              [
               [
                6.11982,
                52.854215
               ],
               [
                6.201731,
                52.793696
               ],
               [
                6.172906,
                52.773054
               ],
               [
                6.120332,
                52.750149
               ],
               [
                6.158976,
                52.692154
               ],
               [
                6.119566,
                52.667937
               ],
               [
                6.085563,
                52.663274
               ],
               [
                6.021399,
                52.641431
               ],
               [
                5.981766,
                52.658719
               ],
               [
                5.974676,
                52.66271
               ],
               [
                5.974429,
                52.662849
               ],
               [
                5.97331,
                52.663573
               ],
               [
                5.967742,
                52.666042
               ],
               [
                5.965812,
                52.666345
               ],
               [
                5.964171,
                52.666256
               ],
               [
                5.963515,
                52.66634
               ],
               [
                5.958299,
                52.667783
               ],
               [
                5.958139,
                52.667808
               ],
               [
                5.955262,
                52.667715
               ],
               [
                5.952746,
                52.667952
               ],
               [
                5.9409,
                52.670475
               ],
               [
                5.940023,
                52.670094
               ],
               [
                5.943838,
                52.681393
               ],
               [
                5.944104,
                52.68155
               ],
               [
                5.950582,
                52.685307
               ],
               [
                5.952959,
                52.685394
               ],
               [
                5.959498,
                52.689965
               ],
               [
                5.961309,
                52.690233
               ],
               [
                5.965051,
                52.695004
               ],
               [
                5.965001,
                52.695691
               ],
               [
                5.964604,
                52.698323
               ],
               [
                5.95541,
                52.703781
               ],
               [
                5.955104,
                52.705708
               ],
               [
                5.922574,
                52.750692
               ],
               [
                5.849699,
                52.784739
               ],
               [
                5.818792,
                52.784697
               ],
               [
                5.795177,
                52.806522
               ],
               [
                5.819744,
                52.817278
               ],
               [
                5.878763,
                52.800849
               ],
               [
                5.932631,
                52.835431
               ],
               [
                5.972438,
                52.841917
               ],
               [
                5.996643,
                52.816621
               ],
               [
                6.031168,
                52.814991
               ],
               [
                6.11982,
                52.854215
               ]
              ]
             ],
             "type": "Polygon"
            },
            "id": "1708",
            "properties": {
             "code": "1708",
             "fid": 322,
             "gemeentena": "Steenwijkerland"
            },
            "type": "Feature"
           },
           {
            "geometry": {
             "coordinates": [
              [
               [
                6.9473,
                52.436621
               ],
               [
                6.977534,
                52.465681
               ],
               [
                6.993907,
                52.465485
               ],
               [
                7.010768,
                52.429188
               ],
               [
                7.034652,
                52.403957
               ],
               [
                7.058728,
                52.39941
               ],
               [
                7.072205,
                52.372803
               ],
               [
                7.00783,
                52.363825
               ],
               [
                6.97093,
                52.37986
               ],
               [
                6.970259,
                52.348767
               ],
               [
                6.937531,
                52.332836
               ],
               [
                6.900646,
                52.33346
               ],
               [
                6.861349,
                52.306367
               ],
               [
                6.912127,
                52.285506
               ],
               [
                6.868327,
                52.272962
               ],
               [
                6.840492,
                52.276312
               ],
               [
                6.846639,
                52.291174
               ],
               [
                6.802039,
                52.313586
               ],
               [
                6.759035,
                52.332061
               ],
               [
                6.783399,
                52.360116
               ],
               [
                6.863585,
                52.363731
               ],
               [
                6.862338,
                52.407816
               ],
               [
                6.853411,
                52.427062
               ],
               [
                6.9473,
                52.436621
               ]
              ]
             ],
             "type": "Polygon"
            },
            "id": "1774",
            "properties": {
             "code": "1774",
             "fid": 323,
             "gemeentena": "Dinkelland"
            },
            "type": "Feature"
           },
           {
            "geometry": {
             "coordinates": [
              [
               [
                5.626568,
                51.623401
               ],
               [
                5.664907,
                51.628337
               ],
               [
                5.750478,
                51.622683
               ],
               [
                5.758615,
                51.593947
               ],
               [
                5.699386,
                51.584117
               ],
               [
                5.651357,
                51.58236
               ],
               [
                5.626568,
                51.623401
               ]
              ]
             ],
             "type": "Polygon"
            },
            "id": "0755",
            "properties": {
             "code": "0755",
             "fid": 324,
             "gemeentena": "Boekel"
            },
            "type": "Feature"
           },
           {
            "geometry": {
             "coordinates": [
              [
               [
                6.687853,
                52.039856
               ],
               [
                6.752977,
                52.028406
               ],
               [
                6.826607,
                51.993527
               ],
               [
                6.828529,
                51.964105
               ],
               [
                6.798873,
                51.958744
               ],
               [
                6.793991,
                51.935294
               ],
               [
                6.770036,
                51.916199
               ],
               [
                6.721969,
                51.896063
               ],
               [
                6.69265,
                51.914717
               ],
               [
                6.668733,
                51.913863
               ],
               [
                6.634153,
                51.9353
               ],
               [
                6.638916,
                51.962547
               ],
               [
                6.654475,
                51.974834
               ],
               [
                6.662209,
                52.017299
               ],
               [
                6.687853,
                52.039856
               ]
              ]
             ],
             "type": "Polygon"
            },
            "id": "0294",
            "properties": {
             "code": "0294",
             "fid": 325,
             "gemeentena": "Winterswijk"
            },
            "type": "Feature"
           },
           {
            "geometry": {
             "coordinates": [
              [
               [
                6.714564,
                52.868159
               ],
               [
                6.736337,
                52.878691
               ],
               [
                6.765601,
                52.849926
               ],
               [
                6.849806,
                52.804634
               ],
               [
                6.831261,
                52.778649
               ],
               [
                6.839694,
                52.760996
               ],
               [
                6.826361,
                52.730888
               ],
               [
                6.849529,
                52.699354
               ],
               [
                6.861875,
                52.649691
               ],
               [
                6.783648,
                52.652517
               ],
               [
                6.741984,
                52.645333
               ],
               [
                6.710053,
                52.62782
               ],
               [
                6.708547,
                52.648715
               ],
               [
                6.629453,
                52.669688
               ],
               [
                6.629937,
                52.712727
               ],
               [
                6.595794,
                52.713218
               ],
               [
                6.587467,
                52.73569
               ],
               [
                6.660879,
                52.801233
               ],
               [
                6.675143,
                52.797126
               ],
               [
                6.728629,
                52.853966
               ],
               [
                6.714564,
                52.868159
               ]
              ]
             ],
             "type": "Polygon"
            },
            "id": "0109",
            "properties": {
             "code": "0109",
             "fid": 326,
             "gemeentena": "Coevorden"
            },
            "type": "Feature"
           },
           {
            "geometry": {
             "coordinates": [
              [
               [
                5.395522,
                52.219154
               ],
               [
                5.403519,
                52.246788
               ],
               [
                5.47862,
                52.257805
               ],
               [
                5.48369,
                52.239244
               ],
               [
                5.515461,
                52.234214
               ],
               [
                5.549917,
                52.202336
               ],
               [
                5.633267,
                52.208167
               ],
               [
                5.625651,
                52.192724
               ],
               [
                5.577699,
                52.194797
               ],
               [
                5.565022,
                52.178072
               ],
               [
                5.530808,
                52.191539
               ],
               [
                5.485472,
                52.181639
               ],
               [
                5.479922,
                52.165815
               ],
               [
                5.439876,
                52.171197
               ],
               [
                5.439356,
                52.200687
               ],
               [
                5.395522,
                52.219154
               ]
              ]
             ],
             "type": "Polygon"
            },
            "id": "0267",
            "properties": {
             "code": "0267",
             "fid": 327,
             "gemeentena": "Nijkerk"
            },
            "type": "Feature"
           },
           {
            "geometry": {
             "coordinates": [
              [
               [
                4.563707,
                52.309298
               ],
               [
                4.611676,
                52.31356
               ],
               [
                4.572749,
                52.27124
               ],
               [
                4.54255,
                52.286644
               ],
               [
                4.563707,
                52.309298
               ]
              ]
             ],
             "type": "Polygon"
            },
            "id": "0534",
            "properties": {
             "code": "0534",
             "fid": 328,
             "gemeentena": "Hillegom"
            },
            "type": "Feature"
           },
           {
            "geometry": {
             "coordinates": [
              [
               [
                5.107093,
                52.133211
               ],
               [
                5.09489,
                52.155349
               ],
               [
                5.115294,
                52.179853
               ],
               [
                5.124111,
                52.180827
               ],
               [
                5.192586,
                52.177833
               ],
               [
                5.215501,
                52.204273
               ],
               [
                5.212076,
                52.176374
               ],
               [
                5.224999,
                52.1657
               ],
               [
                5.23093,
                52.116789
               ],
               [
                5.192752,
                52.086076
               ],
               [
                5.160612,
                52.094783
               ],
               [
                5.146916,
                52.120383
               ],
               [
                5.107093,
                52.133211
               ]
              ]
             ],
             "type": "Polygon"
            },
            "id": "0310",
            "properties": {
             "code": "0310",
             "fid": 329,
             "gemeentena": "De Bilt"
            },
            "type": "Feature"
           },
           {
            "geometry": {
             "coordinates": [
              [
               [
                4.553609,
                51.829897
               ],
               [
                4.571058,
                51.847117
               ],
               [
                4.600155,
                51.83873
               ],
               [
                4.637209,
                51.825348
               ],
               [
                4.670439,
                51.823589
               ],
               [
                4.671709,
                51.820854
               ],
               [
                4.621222,
                51.800804
               ],
               [
                4.579552,
                51.808004
               ],
               [
                4.553609,
                51.829897
               ]
              ]
             ],
             "type": "Polygon"
            },
            "id": "0642",
            "properties": {
             "code": "0642",
             "fid": 330,
             "gemeentena": "Zwijndrecht"
            },
            "type": "Feature"
           },
           {
            "geometry": {
             "coordinates": [
              [
               [
                5.109821,
                51.539383
               ],
               [
                5.100947,
                51.52052
               ],
               [
                5.05158,
                51.487132
               ],
               [
                5.049741,
                51.471108
               ],
               [
                5.016522,
                51.475439
               ],
               [
                4.987993,
                51.483045
               ],
               [
                4.992298,
                51.512248
               ],
               [
                4.962573,
                51.525864
               ],
               [
                4.97546,
                51.540133
               ],
               [
                5.109821,
                51.539383
               ]
              ]
             ],
             "type": "Polygon"
            },
            "id": "0785",
            "properties": {
             "code": "0785",
             "fid": 331,
             "gemeentena": "Goirle"
            },
            "type": "Feature"
           },
           {
            "geometry": {
             "coordinates": [
              [
               [
                5.799842,
                50.885673
               ],
               [
                5.861618,
                50.882418
               ],
               [
                5.887993,
                50.847034
               ],
               [
                5.859461,
                50.833684
               ],
               [
                5.82361,
                50.830358
               ],
               [
                5.800667,
                50.84835
               ],
               [
                5.75734,
                50.855291
               ],
               [
                5.76266,
                50.86651
               ],
               [
                5.799842,
                50.885673
               ]
              ]
             ],
             "type": "Polygon"
            },
            "id": "0994",
            "properties": {
             "code": "0994",
             "fid": 332,
             "gemeentena": "Valkenburg aan de Geul"
            },
            "type": "Feature"
           },
           {
            "geometry": {
             "coordinates": [
              [
               [
                5.58907,
                52.411187
               ],
               [
                5.622733,
                52.407607
               ],
               [
                5.615811,
                52.370178
               ],
               [
                5.615842,
                52.362761
               ],
               [
                5.61328,
                52.361385
               ],
               [
                5.563821,
                52.367356
               ],
               [
                5.537427,
                52.346281
               ],
               [
                5.552691,
                52.32014
               ],
               [
                5.529002,
                52.275327
               ],
               [
                5.472507,
                52.263304
               ],
               [
                5.469108,
                52.263041
               ],
               [
                5.40131,
                52.253302
               ],
               [
                5.316461,
                52.303146
               ],
               [
                5.333505,
                52.314274
               ],
               [
                5.379211,
                52.313995
               ],
               [
                5.301244,
                52.381986
               ],
               [
                5.350772,
                52.400209
               ],
               [
                5.438783,
                52.442646
               ],
               [
                5.5095,
                52.397355
               ],
               [
                5.537298,
                52.385
               ],
               [
                5.58907,
                52.411187
               ]
              ]
             ],
             "type": "Polygon"
            },
            "id": "0050",
            "properties": {
             "code": "0050",
             "fid": 333,
             "gemeentena": "Zeewolde"
            },
            "type": "Feature"
           },
           {
            "geometry": {
             "coordinates": [
              [
               [
                5.809843,
                52.151415
               ],
               [
                5.788566,
                52.196536
               ],
               [
                5.750585,
                52.193731
               ],
               [
                5.726389,
                52.242503
               ],
               [
                5.761449,
                52.248304
               ],
               [
                5.749227,
                52.268273
               ],
               [
                5.821427,
                52.272672
               ],
               [
                5.850811,
                52.268695
               ],
               [
                5.879593,
                52.264991
               ],
               [
                5.936211,
                52.274419
               ],
               [
                6.028002,
                52.276583
               ],
               [
                6.036395,
                52.26853
               ],
               [
                6.028472,
                52.239043
               ],
               [
                6.056109,
                52.198242
               ],
               [
                6.049403,
                52.184669
               ],
               [
                6.076067,
                52.143938
               ],
               [
                6.051118,
                52.124203
               ],
               [
                6.008849,
                52.074014
               ],
               [
                5.955931,
                52.073339
               ],
               [
                5.946103,
                52.077891
               ],
               [
                5.946185,
                52.0993
               ],
               [
                5.883449,
                52.106342
               ],
               [
                5.859545,
                52.148749
               ],
               [
                5.809843,
                52.151415
               ]
              ]
             ],
             "type": "Polygon"
            },
            "id": "0200",
            "properties": {
             "code": "0200",
             "fid": 334,
             "gemeentena": "Apeldoorn"
            },
            "type": "Feature"
           },
           {
            "geometry": {
             "coordinates": [
              [
               [
                5.404233,
                51.548292
               ],
               [
                5.356911,
                51.544717
               ],
               [
                5.273271,
                51.552821
               ],
               [
                5.247241,
                51.58704
               ],
               [
                5.262726,
                51.599812
               ],
               [
                5.300503,
                51.606332
               ],
               [
                5.310955,
                51.633672
               ],
               [
                5.317732,
                51.634634
               ],
               [
                5.352929,
                51.600691
               ],
               [
                5.380529,
                51.602902
               ],
               [
                5.40016,
                51.575673
               ],
               [
                5.404233,
                51.548292
               ]
              ]
             ],
             "type": "Polygon"
            },
            "id": "0757",
            "properties": {
             "code": "0757",
             "fid": 335,
             "gemeentena": "Boxtel"
            },
            "type": "Feature"
           },
           {
            "geometry": {
             "coordinates": [
              [
               [
                5.244081,
                52.254663
               ],
               [
                5.265978,
                52.281926
               ],
               [
                5.306143,
                52.277464
               ],
               [
                5.331193,
                52.273538
               ],
               [
                5.312278,
                52.232829
               ],
               [
                5.30097,
                52.223524
               ],
               [
                5.22473,
                52.225197
               ],
               [
                5.244081,
                52.254663
               ]
              ]
             ],
             "type": "Polygon"
            },
            "id": "0317",
            "properties": {
             "code": "0317",
             "fid": 336,
             "gemeentena": "Eemnes"
            },
            "type": "Feature"
           },
           {
            "geometry": {
             "coordinates": [
              [
               [
                6.017142,
                50.870467
               ],
               [
                6.042897,
                50.900409
               ],
               [
                6.079813,
                50.90577
               ],
               [
                6.088073,
                50.872293
               ],
               [
                6.057222,
                50.852021
               ],
               [
                6.017959,
                50.843805
               ],
               [
                6.017142,
                50.870467
               ]
              ]
             ],
             "type": "Polygon"
            },
            "id": "0928",
            "properties": {
             "code": "0928",
             "fid": 337,
             "gemeentena": "Kerkrade"
            },
            "type": "Feature"
           },
           {
            "geometry": {
             "coordinates": [
              [
               [
                6.073681,
                52.330569
               ],
               [
                6.084126,
                52.301567
               ],
               [
                6.10132,
                52.301225
               ],
               [
                6.14751,
                52.227778
               ],
               [
                6.166269,
                52.231014
               ],
               [
                6.189597,
                52.207732
               ],
               [
                6.156258,
                52.197031
               ],
               [
                6.192799,
                52.169801
               ],
               [
                6.184679,
                52.161223
               ],
               [
                6.16166,
                52.161467
               ],
               [
                6.076067,
                52.143938
               ],
               [
                6.049403,
                52.184669
               ],
               [
                6.056109,
                52.198242
               ],
               [
                6.028472,
                52.239043
               ],
               [
                6.036395,
                52.26853
               ],
               [
                6.035717,
                52.296399
               ],
               [
                6.052948,
                52.330907
               ],
               [
                6.073681,
                52.330569
               ]
              ]
             ],
             "type": "Polygon"
            },
            "id": "0285",
            "properties": {
             "code": "0285",
             "fid": 338,
             "gemeentena": "Voorst"
            },
            "type": "Feature"
           },
           {
            "geometry": {
             "coordinates": [
              [
               [
                5.584708,
                51.460509
               ],
               [
                5.608057,
                51.449717
               ],
               [
                5.656468,
                51.45656
               ],
               [
                5.639016,
                51.422456
               ],
               [
                5.594032,
                51.417245
               ],
               [
                5.560661,
                51.405768
               ],
               [
                5.525815,
                51.404697
               ],
               [
                5.525167,
                51.427854
               ],
               [
                5.548679,
                51.434677
               ],
               [
                5.584708,
                51.460509
               ]
              ]
             ],
             "type": "Polygon"
            },
            "id": "1771",
            "properties": {
             "code": "1771",
             "fid": 339,
             "gemeentena": "Geldrop-Mierlo"
            },
            "type": "Feature"
           },
           {
            "geometry": {
             "coordinates": [
              [
               [
                4.995195,
                52.02172
               ],
               [
                4.99011,
                52.052199
               ],
               [
                5.017075,
                52.061143
               ],
               [
                5.062801,
                52.026823
               ],
               [
                5.077535,
                51.997452
               ],
               [
                5.062638,
                51.991233
               ],
               [
                5.034063,
                52.003846
               ],
               [
                5.020295,
                52.025627
               ],
               [
                4.995195,
                52.02172
               ]
              ]
             ],
             "type": "Polygon"
            },
            "id": "0353",
            "properties": {
             "code": "0353",
             "fid": 340,
             "gemeentena": "IJsselstein"
            },
            "type": "Feature"
           },
           {
            "geometry": {
             "coordinates": [
              [
               [
                6.961735,
                53.110021
               ],
               [
                6.960652,
                53.095962
               ],
               [
                6.929088,
                53.070799
               ],
               [
                6.933344,
                53.049613
               ],
               [
                6.907703,
                53.038881
               ],
               [
                6.861287,
                53.040874
               ],
               [
                6.813945,
                53.070972
               ],
               [
                6.801674,
                53.119172
               ],
               [
                6.823101,
                53.126219
               ],
               [
                6.886254,
                53.1286
               ],
               [
                6.959339,
                53.120176
               ],
               [
                6.961735,
                53.110021
               ]
              ]
             ],
             "type": "Polygon"
            },
            "id": "0047",
            "properties": {
             "code": "0047",
             "fid": 341,
             "gemeentena": "Veendam"
            },
            "type": "Feature"
           },
           {
            "geometry": {
             "coordinates": [
              [
               [
                5.339024,
                51.874034
               ],
               [
                5.399824,
                51.898576
               ],
               [
                5.411257,
                51.912009
               ],
               [
                5.453385,
                51.922761
               ],
               [
                5.463917,
                51.889009
               ],
               [
                5.433538,
                51.877226
               ],
               [
                5.415234,
                51.851801
               ],
               [
                5.339024,
                51.874034
               ]
              ]
             ],
             "type": "Polygon"
            },
            "id": "0281",
            "properties": {
             "code": "0281",
             "fid": 342,
             "gemeentena": "Tiel"
            },
            "type": "Feature"
           },
           {
            "geometry": {
             "coordinates": [
              [
               [
                4.99686,
                52.752065
               ],
               [
                5.011164,
                52.722907
               ],
               [
                4.988271,
                52.713382
               ],
               [
                4.979205,
                52.679679
               ],
               [
                4.95289,
                52.67213
               ],
               [
                4.905618,
                52.686419
               ],
               [
                4.89986,
                52.697587
               ],
               [
                4.898669,
                52.706832
               ],
               [
                4.944386,
                52.753659
               ],
               [
                4.99686,
                52.752065
               ]
              ]
             ],
             "type": "Polygon"
            },
            "id": "0432",
            "properties": {
             "code": "0432",
             "fid": 343,
             "gemeentena": "Opmeer"
            },
            "type": "Feature"
           },
           {
            "geometry": {
             "coordinates": [
              [
               [
                4.547686,
                51.972807
               ],
               [
                4.565043,
                52.058569
               ],
               [
                4.607427,
                52.065527
               ],
               [
                4.591089,
                52.035087
               ],
               [
                4.624736,
                52.014722
               ],
               [
                4.666607,
                52.012971
               ],
               [
                4.688685,
                51.996258
               ],
               [
                4.619489,
                51.933492
               ],
               [
                4.583992,
                51.965369
               ],
               [
                4.547686,
                51.972807
               ]
              ]
             ],
             "type": "Polygon"
            },
            "id": "1892",
            "properties": {
             "code": "1892",
             "fid": 344,
             "gemeentena": "Zuidplas"
            },
            "type": "Feature"
           },
           {
            "geometry": {
             "coordinates": [
              [
               [
                5.572733,
                52.596508
               ],
               [
                5.587386,
                52.563456
               ],
               [
                5.591293,
                52.500036
               ],
               [
                5.605871,
                52.48452
               ],
               [
                5.56542,
                52.470281
               ],
               [
                5.586389,
                52.447711
               ],
               [
                5.566637,
                52.435863
               ],
               [
                5.58907,
                52.411187
               ],
               [
                5.537298,
                52.385
               ],
               [
                5.5095,
                52.397355
               ],
               [
                5.438783,
                52.442646
               ],
               [
                5.350772,
                52.400209
               ],
               [
                5.279331,
                52.42215
               ],
               [
                5.257819,
                52.435949
               ],
               [
                5.436502,
                52.513325
               ],
               [
                5.430061,
                52.529514
               ],
               [
                5.456075,
                52.550604
               ],
               [
                5.498755,
                52.555346
               ],
               [
                5.572733,
                52.596508
               ]
              ]
             ],
             "type": "Polygon"
            },
            "id": "0995",
            "properties": {
             "code": "0995",
             "fid": 345,
             "gemeentena": "Lelystad"
            },
            "type": "Feature"
           },
           {
            "geometry": {
             "coordinates": [
              [
               [
                4.236119,
                51.550366
               ],
               [
                4.252008,
                51.570661
               ],
               [
                4.317978,
                51.551216
               ],
               [
                4.34954,
                51.503481
               ],
               [
                4.372798,
                51.487724
               ],
               [
                4.366966,
                51.456719
               ],
               [
                4.311167,
                51.460173
               ],
               [
                4.265432,
                51.439681
               ],
               [
                4.230328,
                51.488904
               ],
               [
                4.218927,
                51.504858
               ],
               [
                4.236119,
                51.550366
               ]
              ]
             ],
             "type": "Polygon"
            },
            "id": "0748",
            "properties": {
             "code": "0748",
             "fid": 346,
             "gemeentena": "Bergen op Zoom"
            },
            "type": "Feature"
           },
           {
            "geometry": {
             "coordinates": [
              [
               [
                5.034763,
                52.666556
               ],
               [
                5.091752,
                52.678924
               ],
               [
                5.117078,
                52.649986
               ],
               [
                5.100815,
                52.634756
               ],
               [
                5.046074,
                52.641479
               ],
               [
                5.019699,
                52.629963
               ],
               [
                5.038137,
                52.648929
               ],
               [
                5.034763,
                52.666556
               ]
              ]
             ],
             "type": "Polygon"
            },
            "id": "0405",
            "properties": {
             "code": "0405",
             "fid": 347,
             "gemeentena": "Hoorn"
            },
            "type": "Feature"
           },
           {
            "geometry": {
             "coordinates": [
              [
               [
                5.257501,
                52.716181
               ],
               [
                5.259232,
                52.686739
               ],
               [
                5.247083,
                52.684972
               ],
               [
                5.209663,
                52.683933
               ],
               [
                5.187023,
                52.707452
               ],
               [
                5.210971,
                52.71691
               ],
               [
                5.257501,
                52.716181
               ]
              ]
             ],
             "type": "Polygon"
            },
            "id": "0532",
            "properties": {
             "code": "0532",
             "fid": 348,
             "gemeentena": "Stede Broec"
            },
            "type": "Feature"
           },
           {
            "geometry": {
             "coordinates": [
              [
               [
                5.639016,
                51.422456
               ],
               [
                5.656468,
                51.45656
               ],
               [
                5.693983,
                51.43924
               ],
               [
                5.702877,
                51.412541
               ],
               [
                5.737032,
                51.388201
               ],
               [
                5.770449,
                51.333805
               ],
               [
                5.672111,
                51.315094
               ],
               [
                5.654707,
                51.353877
               ],
               [
                5.63892,
                51.389173
               ],
               [
                5.639016,
                51.422456
               ]
              ]
             ],
             "type": "Polygon"
            },
            "id": "0847",
            "properties": {
             "code": "0847",
             "fid": 349,
             "gemeentena": "Someren"
            },
            "type": "Feature"
           },
           {
            "geometry": {
             "coordinates": [
              [
               [
                5.652486,
                51.569679
               ],
               [
                5.651357,
                51.58236
               ],
               [
                5.699386,
                51.584117
               ],
               [
                5.758615,
                51.593947
               ],
               [
                5.786678,
                51.598208
               ],
               [
                5.800586,
                51.578622
               ],
               [
                5.838238,
                51.566415
               ],
               [
                5.852574,
                51.504144
               ],
               [
                5.773439,
                51.488638
               ],
               [
                5.721718,
                51.485131
               ],
               [
                5.684144,
                51.5077
               ],
               [
                5.652486,
                51.569679
               ]
              ]
             ],
             "type": "Polygon"
            },
            "id": "1652",
            "properties": {
             "code": "1652",
             "fid": 350,
             "gemeentena": "Gemert-Bakel"
            },
            "type": "Feature"
           },
           {
            "geometry": {
             "coordinates": [
              [
               [
                5.833507,
                51.099555
               ],
               [
                5.872282,
                51.135109
               ],
               [
                5.913888,
                51.1332
               ],
               [
                5.926755,
                51.113774
               ],
               [
                5.984807,
                51.120655
               ],
               [
                6.021983,
                51.113371
               ],
               [
                6.036463,
                51.096531
               ],
               [
                6.009524,
                51.090844
               ],
               [
                5.969978,
                51.060704
               ],
               [
                5.967838,
                51.044759
               ],
               [
                5.938129,
                51.035117
               ],
               [
                5.913208,
                51.066883
               ],
               [
                5.887199,
                51.052179
               ],
               [
                5.877,
                51.032042
               ],
               [
                5.799339,
                51.060072
               ],
               [
                5.795107,
                51.089623
               ],
               [
                5.833507,
                51.099555
               ]
              ]
             ],
             "type": "Polygon"
            },
            "id": "1711",
            "properties": {
             "code": "1711",
             "fid": 351,
             "gemeentena": "Echt-Susteren"
            },
            "type": "Feature"
           },
           {
            "geometry": {
             "coordinates": [
              [
               [
                5.897086,
                50.974865
               ],
               [
                5.955185,
                50.988417
               ],
               [
                5.968731,
                50.97947
               ],
               [
                6.026802,
                50.981309
               ],
               [
                6.006054,
                50.957535
               ],
               [
                5.965862,
                50.962418
               ],
               [
                5.92847,
                50.936612
               ],
               [
                5.895506,
                50.920135
               ],
               [
                5.923405,
                50.904406
               ],
               [
                5.880575,
                50.882475
               ],
               [
                5.861618,
                50.882418
               ],
               [
                5.799842,
                50.885673
               ],
               [
                5.801715,
                50.91413
               ],
               [
                5.841498,
                50.919607
               ],
               [
                5.85693,
                50.944001
               ],
               [
                5.839892,
                50.950191
               ],
               [
                5.897086,
                50.974865
               ]
              ]
             ],
             "type": "Polygon"
            },
            "id": "1954",
            "properties": {
             "code": "1954",
             "fid": 352,
             "gemeentena": "Beekdaelen"
            },
            "type": "Feature"
           },
           {
            "geometry": {
             "coordinates": [
              [
               [
                5.000364,
                51.820933
               ],
               [
                5.052344,
                51.795694
               ],
               [
                5.066966,
                51.780553
               ],
               [
                5.100278,
                51.787151
               ],
               [
                5.135095,
                51.773828
               ],
               [
                5.142714,
                51.75521
               ],
               [
                5.128055,
                51.737607
               ],
               [
                5.08176,
                51.722344
               ],
               [
                5.027446,
                51.711074
               ],
               [
                4.960894,
                51.722413
               ],
               [
                4.917991,
                51.719959
               ],
               [
                4.873055,
                51.719998
               ],
               [
                4.836905,
                51.712612
               ],
               [
                4.853126,
                51.750748
               ],
               [
                4.764199,
                51.759857
               ],
               [
                4.733651,
                51.736507
               ],
               [
                4.698553,
                51.721992
               ],
               [
                4.676304,
                51.724924
               ],
               [
                4.744788,
                51.763487
               ],
               [
                4.75524,
                51.781611
               ],
               [
                4.797194,
                51.79977
               ],
               [
                4.845984,
                51.798757
               ],
               [
                4.884643,
                51.816471
               ],
               [
                4.926987,
                51.828306
               ],
               [
                5.000364,
                51.820933
               ]
              ]
             ],
             "type": "Polygon"
            },
            "id": "1959",
            "properties": {
             "code": "1959",
             "fid": 353,
             "gemeentena": "Altena"
            },
            "type": "Feature"
           },
           {
            "geometry": {
             "coordinates": [
              [
               [
                5.142433,
                51.924937
               ],
               [
                5.232974,
                51.923554
               ],
               [
                5.255062,
                51.935483
               ],
               [
                5.295016,
                51.900114
               ],
               [
                5.339024,
                51.874034
               ],
               [
                5.415234,
                51.851801
               ],
               [
                5.400633,
                51.837659
               ],
               [
                5.364192,
                51.807027
               ],
               [
                5.319806,
                51.820563
               ],
               [
                5.281718,
                51.821208
               ],
               [
                5.220787,
                51.810916
               ],
               [
                5.140907,
                51.814119
               ],
               [
                5.09319,
                51.826244
               ],
               [
                5.026352,
                51.818857
               ],
               [
                5.031415,
                51.841085
               ],
               [
                4.998685,
                51.852277
               ],
               [
                5.026908,
                51.858608
               ],
               [
                5.05416,
                51.872349
               ],
               [
                5.112737,
                51.887776
               ],
               [
                5.142433,
                51.924937
               ]
              ]
             ],
             "type": "Polygon"
            },
            "id": "1960",
            "properties": {
             "code": "1960",
             "fid": 354,
             "gemeentena": "West Betuwe"
            },
            "type": "Feature"
           },
           {
            "geometry": {
             "coordinates": [
              [
               [
                4.926301,
                51.950928
               ],
               [
                4.968664,
                51.959523
               ],
               [
                5.00301,
                51.978138
               ],
               [
                5.034055,
                51.97017
               ],
               [
                5.062638,
                51.991233
               ],
               [
                5.077535,
                51.997452
               ],
               [
                5.119563,
                51.999924
               ],
               [
                5.155094,
                51.971586
               ],
               [
                5.180227,
                51.967448
               ],
               [
                5.142433,
                51.924937
               ],
               [
                5.112737,
                51.887776
               ],
               [
                5.05416,
                51.872349
               ],
               [
                5.026908,
                51.858608
               ],
               [
                4.996797,
                51.873552
               ],
               [
                4.994968,
                51.902292
               ],
               [
                4.956157,
                51.915591
               ],
               [
                4.926301,
                51.950928
               ]
              ]
             ],
             "type": "Polygon"
            },
            "id": "1961",
            "properties": {
             "code": "1961",
             "fid": 355,
             "gemeentena": "Vijfheerenlanden"
            },
            "type": "Feature"
           }
          ],
          "type": "FeatureCollection"
         },
         "hovertemplate": "<b>%{hovertext}</b><br><br>bike theft=%{customdata[2]}<extra></extra>",
         "hovertext": [
          "Assen",
          "Coevorden",
          "Emmen",
          "Hoogeveen",
          "Meppel",
          "Aa en Hunze",
          "Borger-Odoorn",
          "De Wolden",
          "Noordenveld",
          "Westerveld",
          "Tynaarlo",
          "Midden-Drenthe",
          "Almere",
          "Zeewolde",
          "Noordoostpolder",
          "Urk",
          "Dronten",
          "Lelystad",
          "Achtkarspelen",
          "Ameland",
          "Harlingen",
          "Heerenveen",
          "Leeuwarden",
          "Ooststellingwerf",
          "Opsterland",
          "Schiermonnikoog",
          "Smallingerland",
          "Terschelling",
          "Vlieland",
          "Weststellingwerf",
          "Tytsjerksteradiel",
          "Dantumadiel",
          "Súdwest-Fryslân",
          "De Fryske Marren",
          "Waadhoeke",
          "Noardeast-Fryslân",
          "Aalten",
          "Apeldoorn",
          "Arnhem",
          "Barneveld",
          "Beuningen",
          "Brummen",
          "Buren",
          "Culemborg",
          "Doesburg",
          "Doetinchem",
          "Druten",
          "Duiven",
          "Ede",
          "Elburg",
          "Epe",
          "Ermelo",
          "Harderwijk",
          "Hattem",
          "Heerde",
          "Heumen",
          "Lochem",
          "Maasdriel",
          "Nijkerk",
          "Nijmegen",
          "Oldebroek",
          "Putten",
          "Renkum",
          "Rheden",
          "Rozendaal",
          "Scherpenzeel",
          "Tiel",
          "Voorst",
          "Wageningen",
          "Westervoort",
          "Winterswijk",
          "Wijchen",
          "Zaltbommel",
          "Zevenaar",
          "Zutphen",
          "Nunspeet",
          "West Maas en Waal",
          "Oude IJsselstreek",
          "Oost Gelre",
          "Lingewaard",
          "Overbetuwe",
          "Neder-Betuwe",
          "Berkelland",
          "Bronckhorst",
          "Berg en Dal",
          "Montferland",
          "West Betuwe",
          "Appingedam",
          "Delfzijl",
          "Groningen",
          "Loppersum",
          "Stadskanaal",
          "Veendam",
          "Pekela",
          "Oldambt",
          "Westerwolde",
          "Midden-Groningen",
          "Het Hogeland",
          "Westerkwartier",
          "Landgraaf",
          "Beek",
          "Beesel",
          "Bergen (L.)",
          "Brunssum",
          "Gennep",
          "Heerlen",
          "Kerkrade",
          "Maastricht",
          "Meerssen",
          "Mook en Middelaar",
          "Nederweert",
          "Roermond",
          "Simpelveld",
          "Stein",
          "Vaals",
          "Venlo",
          "Venray",
          "Voerendaal",
          "Weert",
          "Valkenburg aan de Geul",
          "Horst aan de Maas",
          "Leudal",
          "Maasgouw",
          "Roerdalen",
          "Echt-Susteren",
          "Gulpen-Wittem",
          "Sittard-Geleen",
          "Peel en Maas",
          "Eijsden-Margraten",
          "Beekdaelen",
          "Asten",
          "Baarle-Nassau",
          "Bergen op Zoom",
          "Best",
          "Boekel",
          "Boxmeer",
          "Boxtel",
          "Breda",
          "Deurne",
          "Dongen",
          "Eersel",
          "Eindhoven",
          "Etten-Leur",
          "Geertruidenberg",
          "Gilze en Rijen",
          "Goirle",
          "Grave",
          "Haaren",
          "Helmond",
          "'s-Hertogenbosch",
          "Heusden",
          "Hilvarenbeek",
          "Loon op Zand",
          "Mill en Sint Hubert",
          "Nuenen, Gerwen en Nederwetten",
          "Oirschot",
          "Oisterwijk",
          "Oosterhout",
          "Oss",
          "Rucphen",
          "Sint-Michielsgestel",
          "Someren",
          "Son en Breugel",
          "Steenbergen",
          "Tilburg",
          "Uden",
          "Valkenswaard",
          "Veldhoven",
          "Vught",
          "Waalre",
          "Waalwijk",
          "Woensdrecht",
          "Zundert",
          "Gemert-Bakel",
          "Halderberge",
          "Heeze-Leende",
          "Laarbeek",
          "Reusel-De Mierden",
          "Roosendaal",
          "Cuijk",
          "Landerd",
          "Sint Anthonis",
          "Cranendonck",
          "Moerdijk",
          "Drimmelen",
          "Bernheze",
          "Alphen-Chaam",
          "Bergeijk",
          "Bladel",
          "Geldrop-Mierlo",
          "Meierijstad",
          "Altena",
          "Aalsmeer",
          "Alkmaar",
          "Amstelveen",
          "Amsterdam",
          "Beemster",
          "Bergen (NH.)",
          "Beverwijk",
          "Blaricum",
          "Bloemendaal",
          "Castricum",
          "Diemen",
          "Edam-Volendam",
          "Enkhuizen",
          "Haarlem",
          "Haarlemmermeer",
          "Heemskerk",
          "Heemstede",
          "Heerhugowaard",
          "Heiloo",
          "Den Helder",
          "Hilversum",
          "Hoorn",
          "Huizen",
          "Landsmeer",
          "Langedijk",
          "Laren",
          "Medemblik",
          "Oostzaan",
          "Opmeer",
          "Ouder-Amstel",
          "Purmerend",
          "Schagen",
          "Texel",
          "Uitgeest",
          "Uithoorn",
          "Velsen",
          "Weesp",
          "Zandvoort",
          "Zaanstad",
          "Drechterland",
          "Stede Broec",
          "Waterland",
          "Wormerland",
          "Koggenland",
          "Wijdemeren",
          "Hollands Kroon",
          "Gooise Meren",
          "Almelo",
          "Borne",
          "Dalfsen",
          "Deventer",
          "Enschede",
          "Haaksbergen",
          "Hardenberg",
          "Hellendoorn",
          "Hengelo",
          "Kampen",
          "Losser",
          "Oldenzaal",
          "Ommen",
          "Raalte",
          "Staphorst",
          "Tubbergen",
          "Wierden",
          "Zwolle",
          "Twenterand",
          "Steenwijkerland",
          "Hof van Twente",
          "Rijssen-Holten",
          "Olst-Wijhe",
          "Dinkelland",
          "Zwartewaterland",
          "Amersfoort",
          "Baarn",
          "De Bilt",
          "Bunnik",
          "Bunschoten",
          "Eemnes",
          "Houten",
          "Leusden",
          "Lopik",
          "Montfoort",
          "Renswoude",
          "Rhenen",
          "Soest",
          "Utrecht",
          "Veenendaal",
          "Woudenberg",
          "Wijk bij Duurstede",
          "IJsselstein",
          "Zeist",
          "Nieuwegein",
          "Oudewater",
          "Woerden",
          "De Ronde Venen",
          "Utrechtse Heuvelrug",
          "Stichtse Vecht",
          "Vijfheerenlanden",
          "Borsele",
          "Goes",
          "Hulst",
          "Kapelle",
          "Middelburg",
          "Reimerswaal",
          "Terneuzen",
          "Tholen",
          "Veere",
          "Vlissingen",
          "Schouwen-Duiveland",
          "Noord-Beveland",
          "Sluis",
          "Alblasserdam",
          "Alphen aan den Rijn",
          "Barendrecht",
          "Brielle",
          "Capelle aan den IJssel",
          "Delft",
          "Dordrecht",
          "Gorinchem",
          "Gouda",
          "'s-Gravenhage",
          "Hardinxveld-Giessendam",
          "Hellevoetsluis",
          "Hendrik-Ido-Ambacht",
          "Hillegom",
          "Katwijk",
          "Krimpen aan den IJssel",
          "Leiden",
          "Leiderdorp",
          "Lisse",
          "Maassluis",
          "Nieuwkoop",
          "Noordwijk",
          "Oegstgeest",
          "Papendrecht",
          "Ridderkerk",
          "Rotterdam",
          "Rijswijk",
          "Schiedam",
          "Sliedrecht",
          "Albrandswaard",
          "Westvoorne",
          "Vlaardingen",
          "Voorschoten",
          "Waddinxveen",
          "Wassenaar",
          "Zoetermeer",
          "Zoeterwoude",
          "Zwijndrecht",
          "Teylingen",
          "Lansingerland",
          "Westland",
          "Midden-Delfland",
          "Kaag en Braassem",
          "Zuidplas",
          "Bodegraven-Reeuwijk",
          "Leidschendam-Voorburg",
          "Goeree-Overflakkee",
          "Pijnacker-Nootdorp",
          "Nissewaard",
          "Krimpenerwaard",
          "Hoeksche Waard",
          "Molenlanden"
         ],
         "locations": [
          "0106",
          "0109",
          "0114",
          "0118",
          "0119",
          "1680",
          "1681",
          "1690",
          "1699",
          "1701",
          "1730",
          "1731",
          "0034",
          "0050",
          "0171",
          "0184",
          "0303",
          "0995",
          "0059",
          "0060",
          "0072",
          "0074",
          "0080",
          "0085",
          "0086",
          "0088",
          "0090",
          "0093",
          "0096",
          "0098",
          "0737",
          "1891",
          "1900",
          "1940",
          "1949",
          "1970",
          "0197",
          "0200",
          "0202",
          "0203",
          "0209",
          "0213",
          "0214",
          "0216",
          "0221",
          "0222",
          "0225",
          "0226",
          "0228",
          "0230",
          "0232",
          "0233",
          "0243",
          "0244",
          "0246",
          "0252",
          "0262",
          "0263",
          "0267",
          "0268",
          "0269",
          "0273",
          "0274",
          "0275",
          "0277",
          "0279",
          "0281",
          "0285",
          "0289",
          "0293",
          "0294",
          "0296",
          "0297",
          "0299",
          "0301",
          "0302",
          "0668",
          "1509",
          "1586",
          "1705",
          "1734",
          "1740",
          "1859",
          "1876",
          "1945",
          "1955",
          "1960",
          "0003",
          "0010",
          "0014",
          "0024",
          "0037",
          "0047",
          "0765",
          "1895",
          "1950",
          "1952",
          "1966",
          "1969",
          "0882",
          "0888",
          "0889",
          "0893",
          "0899",
          "0907",
          "0917",
          "0928",
          "0935",
          "0938",
          "0944",
          "0946",
          "0957",
          "0965",
          "0971",
          "0981",
          "0983",
          "0984",
          "0986",
          "0988",
          "0994",
          "1507",
          "1640",
          "1641",
          "1669",
          "1711",
          "1729",
          "1883",
          "1894",
          "1903",
          "1954",
          "0743",
          "0744",
          "0748",
          "0753",
          "0755",
          "0756",
          "0757",
          "0758",
          "0762",
          "0766",
          "0770",
          "0772",
          "0777",
          "0779",
          "0784",
          "0785",
          "0786",
          "0788",
          "0794",
          "0796",
          "0797",
          "0798",
          "0809",
          "0815",
          "0820",
          "0823",
          "0824",
          "0826",
          "0828",
          "0840",
          "0845",
          "0847",
          "0848",
          "0851",
          "0855",
          "0856",
          "0858",
          "0861",
          "0865",
          "0866",
          "0867",
          "0873",
          "0879",
          "1652",
          "1655",
          "1658",
          "1659",
          "1667",
          "1674",
          "1684",
          "1685",
          "1702",
          "1706",
          "1709",
          "1719",
          "1721",
          "1723",
          "1724",
          "1728",
          "1771",
          "1948",
          "1959",
          "0358",
          "0361",
          "0362",
          "0363",
          "0370",
          "0373",
          "0375",
          "0376",
          "0377",
          "0383",
          "0384",
          "0385",
          "0388",
          "0392",
          "0394",
          "0396",
          "0397",
          "0398",
          "0399",
          "0400",
          "0402",
          "0405",
          "0406",
          "0415",
          "0416",
          "0417",
          "0420",
          "0431",
          "0432",
          "0437",
          "0439",
          "0441",
          "0448",
          "0450",
          "0451",
          "0453",
          "0457",
          "0473",
          "0479",
          "0498",
          "0532",
          "0852",
          "0880",
          "1598",
          "1696",
          "1911",
          "1942",
          "0141",
          "0147",
          "0148",
          "0150",
          "0153",
          "0158",
          "0160",
          "0163",
          "0164",
          "0166",
          "0168",
          "0173",
          "0175",
          "0177",
          "0180",
          "0183",
          "0189",
          "0193",
          "1700",
          "1708",
          "1735",
          "1742",
          "1773",
          "1774",
          "1896",
          "0307",
          "0308",
          "0310",
          "0312",
          "0313",
          "0317",
          "0321",
          "0327",
          "0331",
          "0335",
          "0339",
          "0340",
          "0342",
          "0344",
          "0345",
          "0351",
          "0352",
          "0353",
          "0355",
          "0356",
          "0589",
          "0632",
          "0736",
          "1581",
          "1904",
          "1961",
          "0654",
          "0664",
          "0677",
          "0678",
          "0687",
          "0703",
          "0715",
          "0716",
          "0717",
          "0718",
          "1676",
          "1695",
          "1714",
          "0482",
          "0484",
          "0489",
          "0501",
          "0502",
          "0503",
          "0505",
          "0512",
          "0513",
          "0518",
          "0523",
          "0530",
          "0531",
          "0534",
          "0537",
          "0542",
          "0546",
          "0547",
          "0553",
          "0556",
          "0569",
          "0575",
          "0579",
          "0590",
          "0597",
          "0599",
          "0603",
          "0606",
          "0610",
          "0613",
          "0614",
          "0622",
          "0626",
          "0627",
          "0629",
          "0637",
          "0638",
          "0642",
          "1525",
          "1621",
          "1783",
          "1842",
          "1884",
          "1892",
          "1901",
          "1916",
          "1924",
          "1926",
          "1930",
          "1931",
          "1963",
          "1978"
         ],
         "marker": {
          "opacity": 0.4
         },
         "name": "",
         "subplot": "mapbox",
         "type": "choroplethmapbox",
         "z": [
          2.4409090820652177,
          1.7853298350107671,
          2.4082399653118496,
          2.1335389083702174,
          1.7481880270062005,
          1.3222192947339193,
          1.2041199826559248,
          1.0413926851582251,
          1.4913616938342726,
          0,
          1.414973347970818,
          1.414973347970818,
          2.66838591669,
          1.2041199826559248,
          1.7853298350107671,
          1.2041199826559248,
          1.7075701760979363,
          2.2695129442179165,
          1.2041199826559248,
          0,
          1.3222192947339193,
          2.0253058652647704,
          2.6910814921229687,
          0.7781512503836436,
          1.2041199826559248,
          0,
          2.2329961103921536,
          0.7781512503836436,
          0.7781512503836436,
          1.3222192947339193,
          1.2041199826559248,
          1.0413926851582251,
          2.1335389083702174,
          1.4913616938342726,
          1.7075701760979363,
          1.4913616938342726,
          1.414973347970818,
          2.6910814921229687,
          2.829946695941636,
          1.9822712330395684,
          1.7481880270062005,
          1.414973347970818,
          1.3222192947339193,
          1.8512583487190752,
          1.2041199826559248,
          2.1335389083702174,
          1.0413926851582251,
          1.6127838567197355,
          2.6444385894678386,
          1.414973347970818,
          1.4913616938342726,
          1.9590413923210936,
          1.9822712330395684,
          0.7781512503836436,
          1.0413926851582251,
          1.662757831681574,
          1.5563025007672873,
          1.4913616938342726,
          1.7853298350107671,
          3.2626883443016963,
          1.3222192947339193,
          1.662757831681574,
          1.6127838567197355,
          2.100370545117563,
          0,
          1.3222192947339193,
          2.303196057420489,
          1.662757831681574,
          2.164352855784437,
          1.414973347970818,
          1.8512583487190752,
          2.0253058652647704,
          1.5563025007672873,
          1.9344984512435677,
          2.44870631990508,
          1.3222192947339193,
          1.0413926851582251,
          1.5563025007672873,
          1.4913616938342726,
          1.6127838567197355,
          1.8512583487190752,
          1.3222192947339193,
          1.3222192947339193,
          1.2041199826559248,
          1.6127838567197355,
          1.8195439355418688,
          1.8808135922807914,
          1.3222192947339193,
          1.414973347970818,
          3.166133970305109,
          0.7781512503836436,
          1.414973347970818,
          1.6127838567197355,
          0.7781512503836436,
          1.8195439355418688,
          1.4913616938342726,
          1.8195439355418688,
          1.5563025007672873,
          1.7853298350107671,
          1.6127838567197355,
          1.4913616938342726,
          1.6127838567197355,
          1.0413926851582251,
          1.6127838567197355,
          1.5563025007672873,
          2.3344537511509307,
          1.9344984512435677,
          2.924795995797912,
          1.4913616938342726,
          1.3222192947339193,
          0.7781512503836436,
          2.399673721481038,
          0.7781512503836436,
          1.414973347970818,
          1.2041199826559248,
          2.782472624166286,
          2.3443922736851106,
          1.0413926851582251,
          2.2576785748691846,
          1.8808135922807914,
          2.0043213737826426,
          1.7481880270062005,
          1.414973347970818,
          1.5563025007672873,
          1.7853298350107671,
          1.7481880270062005,
          2.3344537511509307,
          1.662757831681574,
          1.7075701760979363,
          1.5563025007672873,
          1.662757831681574,
          0.7781512503836436,
          2.2329961103921536,
          1.8195439355418688,
          1.2041199826559248,
          1.9084850188786497,
          2.0644579892269186,
          2.851869600729766,
          2.1789769472931693,
          1.5563025007672873,
          1.4913616938342726,
          3.1792644643390253,
          1.8195439355418688,
          1.6127838567197355,
          1.6127838567197355,
          1.6127838567197355,
          1.414973347970818,
          1.0413926851582251,
          2.6344772701607315,
          2.82020145948564,
          1.6127838567197355,
          1.414973347970818,
          1.8195439355418688,
          1.0413926851582251,
          1.8808135922807914,
          1.4913616938342726,
          1.7481880270062005,
          2.164352855784437,
          2.7371926427047373,
          1.414973347970818,
          1.5563025007672873,
          1.6127838567197355,
          1.414973347970818,
          1.2041199826559248,
          3.1720188094245563,
          2.0644579892269186,
          1.8808135922807914,
          2.164352855784437,
          1.8512583487190752,
          1.5563025007672873,
          1.662757831681574,
          1.2041199826559248,
          1.0413926851582251,
          1.9344984512435677,
          1.4913616938342726,
          1.414973347970818,
          1.5563025007672873,
          1.2041199826559248,
          2.416640507338281,
          1.7853298350107671,
          1.2041199826559248,
          0.7781512503836436,
          1.7075701760979363,
          1.4913616938342726,
          1.4913616938342726,
          1.7075701760979363,
          0.7781512503836436,
          1.3222192947339193,
          1.7075701760979363,
          2.1931245983544616,
          2.2810333672477277,
          1.9590413923210936,
          1.6127838567197355,
          2.48572142648158,
          2.4712917110589387,
          3.92069713446992,
          0.7781512503836436,
          1.662757831681574,
          2.0253058652647704,
          1.2041199826559248,
          2.1335389083702174,
          1.9084850188786497,
          2.1172712956557644,
          1.414973347970818,
          1.8808135922807914,
          2.9425041061680806,
          2.432969290874406,
          1.9084850188786497,
          2.164352855784437,
          2.164352855784437,
          1.7075701760979363,
          2.1931245983544616,
          2.545307116465824,
          2.506505032404872,
          1.7481880270062005,
          1.0413926851582251,
          1.414973347970818,
          1.3222192947339193,
          1.662757831681574,
          0.7781512503836436,
          0.7781512503836436,
          1.9084850188786497,
          1.9590413923210936,
          1.9084850188786497,
          1.2041199826559248,
          1.7075701760979363,
          1.6127838567197355,
          2.2695129442179165,
          1.9084850188786497,
          1.9344984512435677,
          2.663700925389648,
          1.4913616938342726,
          1.8512583487190752,
          1.2041199826559248,
          1.0413926851582251,
          1.3222192947339193,
          1.3222192947339193,
          1.6127838567197355,
          2.416640507338281,
          2.44870631990508,
          1.5563025007672873,
          1.0413926851582251,
          2.4927603890268375,
          3.1690863574870227,
          1.7075701760979363,
          1.9344984512435677,
          1.3222192947339193,
          2.6138418218760693,
          2.1172712956557644,
          1.3222192947339193,
          1.9084850188786497,
          1.2041199826559248,
          1.6127838567197355,
          0.7781512503836436,
          1.0413926851582251,
          1.414973347970818,
          2.6910814921229687,
          1.414973347970818,
          1.7075701760979363,
          1.5563025007672873,
          1.4913616938342726,
          1.414973347970818,
          0.7781512503836436,
          1.2041199826559248,
          2.937517892017347,
          1.7853298350107671,
          2.2810333672477277,
          1.2041199826559248,
          1.8808135922807914,
          0.7781512503836436,
          1.9590413923210936,
          1.7075701760979363,
          0.7781512503836436,
          1.2041199826559248,
          0.7781512503836436,
          1.2041199826559248,
          2.1931245983544616,
          3.4879863311293935,
          2.1172712956557644,
          1.2041199826559248,
          1.3222192947339193,
          2.0043213737826426,
          2.5390760987927767,
          2.2329961103921536,
          1.3222192947339193,
          2.0644579892269186,
          1.6127838567197355,
          2.1492191126553797,
          2.1492191126553797,
          1.7853298350107671,
          0.7781512503836436,
          2.0453229787866576,
          1.2041199826559248,
          1.0413926851582251,
          2.220108088040055,
          1.2041199826559248,
          1.662757831681574,
          1.2041199826559248,
          1.9344984512435677,
          2.1335389083702174,
          1.7075701760979363,
          1.2041199826559248,
          1.414973347970818,
          1.414973347970818,
          2.6242820958356683,
          2.100370545117563,
          1.4913616938342726,
          2.1335389083702174,
          2.8870543780509568,
          2.4712917110589387,
          2.1789769472931693,
          2.4638929889859074,
          3.4893959217271293,
          1.4913616938342726,
          1.8195439355418688,
          1.7853298350107671,
          1.6127838567197355,
          2.4927603890268375,
          1.414973347970818,
          2.8549130223078554,
          1.8808135922807914,
          1.6127838567197355,
          2.1335389083702174,
          1.3222192947339193,
          2.220108088040055,
          1.7075701760979363,
          1.7853298350107671,
          2.0644579892269186,
          3.6330642726914992,
          2.3820170425748683,
          2.6085260335771943,
          1.5563025007672873,
          1.8808135922807914,
          1.2041199826559248,
          2.5327543789924976,
          1.9344984512435677,
          1.8808135922807914,
          1.6127838567197355,
          2.424881636631067,
          0.7781512503836436,
          1.9822712330395684,
          2.1172712956557644,
          2.220108088040055,
          2.5514499979728753,
          1.0413926851582251,
          1.3222192947339193,
          1.7481880270062005,
          1.7853298350107671,
          2.569373909615046,
          1.7853298350107671,
          2.3541084391474008,
          2.3909351071033793,
          1.5563025007672873,
          1.8512583487190752,
          1.2041199826559248
         ]
        }
       ],
       "layout": {
        "coloraxis": {
         "cmax": 3.92069713446992,
         "cmin": 0,
         "colorbar": {
          "title": {
           "text": "log scale"
          }
         },
         "colorscale": [
          [
           0,
           "rgb(252,251,253)"
          ],
          [
           0.125,
           "rgb(239,237,245)"
          ],
          [
           0.25,
           "rgb(218,218,235)"
          ],
          [
           0.375,
           "rgb(188,189,220)"
          ],
          [
           0.5,
           "rgb(158,154,200)"
          ],
          [
           0.625,
           "rgb(128,125,186)"
          ],
          [
           0.75,
           "rgb(106,81,163)"
          ],
          [
           0.875,
           "rgb(84,39,143)"
          ],
          [
           1,
           "rgb(63,0,125)"
          ]
         ]
        },
        "height": 800,
        "legend": {
         "title": {
          "text": "log scale"
         },
         "tracegroupgap": 0
        },
        "mapbox": {
         "center": {
          "lat": 52.153,
          "lon": 5.3842
         },
         "domain": {
          "x": [
           0,
           1
          ],
          "y": [
           0,
           1
          ]
         },
         "style": "carto-positron",
         "zoom": 6.5
        },
        "margin": {
         "t": 60
        },
        "template": {
         "data": {
          "bar": [
           {
            "error_x": {
             "color": "#2a3f5f"
            },
            "error_y": {
             "color": "#2a3f5f"
            },
            "marker": {
             "line": {
              "color": "#E5ECF6",
              "width": 0.5
             },
             "pattern": {
              "fillmode": "overlay",
              "size": 10,
              "solidity": 0.2
             }
            },
            "type": "bar"
           }
          ],
          "barpolar": [
           {
            "marker": {
             "line": {
              "color": "#E5ECF6",
              "width": 0.5
             },
             "pattern": {
              "fillmode": "overlay",
              "size": 10,
              "solidity": 0.2
             }
            },
            "type": "barpolar"
           }
          ],
          "carpet": [
           {
            "aaxis": {
             "endlinecolor": "#2a3f5f",
             "gridcolor": "white",
             "linecolor": "white",
             "minorgridcolor": "white",
             "startlinecolor": "#2a3f5f"
            },
            "baxis": {
             "endlinecolor": "#2a3f5f",
             "gridcolor": "white",
             "linecolor": "white",
             "minorgridcolor": "white",
             "startlinecolor": "#2a3f5f"
            },
            "type": "carpet"
           }
          ],
          "choropleth": [
           {
            "colorbar": {
             "outlinewidth": 0,
             "ticks": ""
            },
            "type": "choropleth"
           }
          ],
          "contour": [
           {
            "colorbar": {
             "outlinewidth": 0,
             "ticks": ""
            },
            "colorscale": [
             [
              0,
              "#0d0887"
             ],
             [
              0.1111111111111111,
              "#46039f"
             ],
             [
              0.2222222222222222,
              "#7201a8"
             ],
             [
              0.3333333333333333,
              "#9c179e"
             ],
             [
              0.4444444444444444,
              "#bd3786"
             ],
             [
              0.5555555555555556,
              "#d8576b"
             ],
             [
              0.6666666666666666,
              "#ed7953"
             ],
             [
              0.7777777777777778,
              "#fb9f3a"
             ],
             [
              0.8888888888888888,
              "#fdca26"
             ],
             [
              1,
              "#f0f921"
             ]
            ],
            "type": "contour"
           }
          ],
          "contourcarpet": [
           {
            "colorbar": {
             "outlinewidth": 0,
             "ticks": ""
            },
            "type": "contourcarpet"
           }
          ],
          "heatmap": [
           {
            "colorbar": {
             "outlinewidth": 0,
             "ticks": ""
            },
            "colorscale": [
             [
              0,
              "#0d0887"
             ],
             [
              0.1111111111111111,
              "#46039f"
             ],
             [
              0.2222222222222222,
              "#7201a8"
             ],
             [
              0.3333333333333333,
              "#9c179e"
             ],
             [
              0.4444444444444444,
              "#bd3786"
             ],
             [
              0.5555555555555556,
              "#d8576b"
             ],
             [
              0.6666666666666666,
              "#ed7953"
             ],
             [
              0.7777777777777778,
              "#fb9f3a"
             ],
             [
              0.8888888888888888,
              "#fdca26"
             ],
             [
              1,
              "#f0f921"
             ]
            ],
            "type": "heatmap"
           }
          ],
          "heatmapgl": [
           {
            "colorbar": {
             "outlinewidth": 0,
             "ticks": ""
            },
            "colorscale": [
             [
              0,
              "#0d0887"
             ],
             [
              0.1111111111111111,
              "#46039f"
             ],
             [
              0.2222222222222222,
              "#7201a8"
             ],
             [
              0.3333333333333333,
              "#9c179e"
             ],
             [
              0.4444444444444444,
              "#bd3786"
             ],
             [
              0.5555555555555556,
              "#d8576b"
             ],
             [
              0.6666666666666666,
              "#ed7953"
             ],
             [
              0.7777777777777778,
              "#fb9f3a"
             ],
             [
              0.8888888888888888,
              "#fdca26"
             ],
             [
              1,
              "#f0f921"
             ]
            ],
            "type": "heatmapgl"
           }
          ],
          "histogram": [
           {
            "marker": {
             "pattern": {
              "fillmode": "overlay",
              "size": 10,
              "solidity": 0.2
             }
            },
            "type": "histogram"
           }
          ],
          "histogram2d": [
           {
            "colorbar": {
             "outlinewidth": 0,
             "ticks": ""
            },
            "colorscale": [
             [
              0,
              "#0d0887"
             ],
             [
              0.1111111111111111,
              "#46039f"
             ],
             [
              0.2222222222222222,
              "#7201a8"
             ],
             [
              0.3333333333333333,
              "#9c179e"
             ],
             [
              0.4444444444444444,
              "#bd3786"
             ],
             [
              0.5555555555555556,
              "#d8576b"
             ],
             [
              0.6666666666666666,
              "#ed7953"
             ],
             [
              0.7777777777777778,
              "#fb9f3a"
             ],
             [
              0.8888888888888888,
              "#fdca26"
             ],
             [
              1,
              "#f0f921"
             ]
            ],
            "type": "histogram2d"
           }
          ],
          "histogram2dcontour": [
           {
            "colorbar": {
             "outlinewidth": 0,
             "ticks": ""
            },
            "colorscale": [
             [
              0,
              "#0d0887"
             ],
             [
              0.1111111111111111,
              "#46039f"
             ],
             [
              0.2222222222222222,
              "#7201a8"
             ],
             [
              0.3333333333333333,
              "#9c179e"
             ],
             [
              0.4444444444444444,
              "#bd3786"
             ],
             [
              0.5555555555555556,
              "#d8576b"
             ],
             [
              0.6666666666666666,
              "#ed7953"
             ],
             [
              0.7777777777777778,
              "#fb9f3a"
             ],
             [
              0.8888888888888888,
              "#fdca26"
             ],
             [
              1,
              "#f0f921"
             ]
            ],
            "type": "histogram2dcontour"
           }
          ],
          "mesh3d": [
           {
            "colorbar": {
             "outlinewidth": 0,
             "ticks": ""
            },
            "type": "mesh3d"
           }
          ],
          "parcoords": [
           {
            "line": {
             "colorbar": {
              "outlinewidth": 0,
              "ticks": ""
             }
            },
            "type": "parcoords"
           }
          ],
          "pie": [
           {
            "automargin": true,
            "type": "pie"
           }
          ],
          "scatter": [
           {
            "fillpattern": {
             "fillmode": "overlay",
             "size": 10,
             "solidity": 0.2
            },
            "type": "scatter"
           }
          ],
          "scatter3d": [
           {
            "line": {
             "colorbar": {
              "outlinewidth": 0,
              "ticks": ""
             }
            },
            "marker": {
             "colorbar": {
              "outlinewidth": 0,
              "ticks": ""
             }
            },
            "type": "scatter3d"
           }
          ],
          "scattercarpet": [
           {
            "marker": {
             "colorbar": {
              "outlinewidth": 0,
              "ticks": ""
             }
            },
            "type": "scattercarpet"
           }
          ],
          "scattergeo": [
           {
            "marker": {
             "colorbar": {
              "outlinewidth": 0,
              "ticks": ""
             }
            },
            "type": "scattergeo"
           }
          ],
          "scattergl": [
           {
            "marker": {
             "colorbar": {
              "outlinewidth": 0,
              "ticks": ""
             }
            },
            "type": "scattergl"
           }
          ],
          "scattermapbox": [
           {
            "marker": {
             "colorbar": {
              "outlinewidth": 0,
              "ticks": ""
             }
            },
            "type": "scattermapbox"
           }
          ],
          "scatterpolar": [
           {
            "marker": {
             "colorbar": {
              "outlinewidth": 0,
              "ticks": ""
             }
            },
            "type": "scatterpolar"
           }
          ],
          "scatterpolargl": [
           {
            "marker": {
             "colorbar": {
              "outlinewidth": 0,
              "ticks": ""
             }
            },
            "type": "scatterpolargl"
           }
          ],
          "scatterternary": [
           {
            "marker": {
             "colorbar": {
              "outlinewidth": 0,
              "ticks": ""
             }
            },
            "type": "scatterternary"
           }
          ],
          "surface": [
           {
            "colorbar": {
             "outlinewidth": 0,
             "ticks": ""
            },
            "colorscale": [
             [
              0,
              "#0d0887"
             ],
             [
              0.1111111111111111,
              "#46039f"
             ],
             [
              0.2222222222222222,
              "#7201a8"
             ],
             [
              0.3333333333333333,
              "#9c179e"
             ],
             [
              0.4444444444444444,
              "#bd3786"
             ],
             [
              0.5555555555555556,
              "#d8576b"
             ],
             [
              0.6666666666666666,
              "#ed7953"
             ],
             [
              0.7777777777777778,
              "#fb9f3a"
             ],
             [
              0.8888888888888888,
              "#fdca26"
             ],
             [
              1,
              "#f0f921"
             ]
            ],
            "type": "surface"
           }
          ],
          "table": [
           {
            "cells": {
             "fill": {
              "color": "#EBF0F8"
             },
             "line": {
              "color": "white"
             }
            },
            "header": {
             "fill": {
              "color": "#C8D4E3"
             },
             "line": {
              "color": "white"
             }
            },
            "type": "table"
           }
          ]
         },
         "layout": {
          "annotationdefaults": {
           "arrowcolor": "#2a3f5f",
           "arrowhead": 0,
           "arrowwidth": 1
          },
          "autotypenumbers": "strict",
          "coloraxis": {
           "colorbar": {
            "outlinewidth": 0,
            "ticks": ""
           }
          },
          "colorscale": {
           "diverging": [
            [
             0,
             "#8e0152"
            ],
            [
             0.1,
             "#c51b7d"
            ],
            [
             0.2,
             "#de77ae"
            ],
            [
             0.3,
             "#f1b6da"
            ],
            [
             0.4,
             "#fde0ef"
            ],
            [
             0.5,
             "#f7f7f7"
            ],
            [
             0.6,
             "#e6f5d0"
            ],
            [
             0.7,
             "#b8e186"
            ],
            [
             0.8,
             "#7fbc41"
            ],
            [
             0.9,
             "#4d9221"
            ],
            [
             1,
             "#276419"
            ]
           ],
           "sequential": [
            [
             0,
             "#0d0887"
            ],
            [
             0.1111111111111111,
             "#46039f"
            ],
            [
             0.2222222222222222,
             "#7201a8"
            ],
            [
             0.3333333333333333,
             "#9c179e"
            ],
            [
             0.4444444444444444,
             "#bd3786"
            ],
            [
             0.5555555555555556,
             "#d8576b"
            ],
            [
             0.6666666666666666,
             "#ed7953"
            ],
            [
             0.7777777777777778,
             "#fb9f3a"
            ],
            [
             0.8888888888888888,
             "#fdca26"
            ],
            [
             1,
             "#f0f921"
            ]
           ],
           "sequentialminus": [
            [
             0,
             "#0d0887"
            ],
            [
             0.1111111111111111,
             "#46039f"
            ],
            [
             0.2222222222222222,
             "#7201a8"
            ],
            [
             0.3333333333333333,
             "#9c179e"
            ],
            [
             0.4444444444444444,
             "#bd3786"
            ],
            [
             0.5555555555555556,
             "#d8576b"
            ],
            [
             0.6666666666666666,
             "#ed7953"
            ],
            [
             0.7777777777777778,
             "#fb9f3a"
            ],
            [
             0.8888888888888888,
             "#fdca26"
            ],
            [
             1,
             "#f0f921"
            ]
           ]
          },
          "colorway": [
           "#636efa",
           "#EF553B",
           "#00cc96",
           "#ab63fa",
           "#FFA15A",
           "#19d3f3",
           "#FF6692",
           "#B6E880",
           "#FF97FF",
           "#FECB52"
          ],
          "font": {
           "color": "#2a3f5f"
          },
          "geo": {
           "bgcolor": "white",
           "lakecolor": "white",
           "landcolor": "#E5ECF6",
           "showlakes": true,
           "showland": true,
           "subunitcolor": "white"
          },
          "hoverlabel": {
           "align": "left"
          },
          "hovermode": "closest",
          "mapbox": {
           "style": "light"
          },
          "paper_bgcolor": "white",
          "plot_bgcolor": "#E5ECF6",
          "polar": {
           "angularaxis": {
            "gridcolor": "white",
            "linecolor": "white",
            "ticks": ""
           },
           "bgcolor": "#E5ECF6",
           "radialaxis": {
            "gridcolor": "white",
            "linecolor": "white",
            "ticks": ""
           }
          },
          "scene": {
           "xaxis": {
            "backgroundcolor": "#E5ECF6",
            "gridcolor": "white",
            "gridwidth": 2,
            "linecolor": "white",
            "showbackground": true,
            "ticks": "",
            "zerolinecolor": "white"
           },
           "yaxis": {
            "backgroundcolor": "#E5ECF6",
            "gridcolor": "white",
            "gridwidth": 2,
            "linecolor": "white",
            "showbackground": true,
            "ticks": "",
            "zerolinecolor": "white"
           },
           "zaxis": {
            "backgroundcolor": "#E5ECF6",
            "gridcolor": "white",
            "gridwidth": 2,
            "linecolor": "white",
            "showbackground": true,
            "ticks": "",
            "zerolinecolor": "white"
           }
          },
          "shapedefaults": {
           "line": {
            "color": "#2a3f5f"
           }
          },
          "ternary": {
           "aaxis": {
            "gridcolor": "white",
            "linecolor": "white",
            "ticks": ""
           },
           "baxis": {
            "gridcolor": "white",
            "linecolor": "white",
            "ticks": ""
           },
           "bgcolor": "#E5ECF6",
           "caxis": {
            "gridcolor": "white",
            "linecolor": "white",
            "ticks": ""
           }
          },
          "title": {
           "x": 0.05
          },
          "xaxis": {
           "automargin": true,
           "gridcolor": "white",
           "linecolor": "white",
           "ticks": "",
           "title": {
            "standoff": 15
           },
           "zerolinecolor": "white",
           "zerolinewidth": 2
          },
          "yaxis": {
           "automargin": true,
           "gridcolor": "white",
           "linecolor": "white",
           "ticks": "",
           "title": {
            "standoff": 15
           },
           "zerolinecolor": "white",
           "zerolinewidth": 2
          }
         }
        },
        "title": {
         "text": "Registered bike theft in The Netherlands in 2020",
         "x": 0.5
        },
        "width": 800
       }
      },
      "text/html": [
       "<div>                            <div id=\"eb69cd73-805d-4196-83cc-99f4f522fcd2\" class=\"plotly-graph-div\" style=\"height:800px; width:800px;\"></div>            <script type=\"text/javascript\">                require([\"plotly\"], function(Plotly) {                    window.PLOTLYENV=window.PLOTLYENV || {};                                    if (document.getElementById(\"eb69cd73-805d-4196-83cc-99f4f522fcd2\")) {                    Plotly.newPlot(                        \"eb69cd73-805d-4196-83cc-99f4f522fcd2\",                        [{\"coloraxis\":\"coloraxis\",\"customdata\":[[\"0106\",2.4409090820652177,275],[\"0109\",1.7853298350107671,60],[\"0114\",2.4082399653118496,255],[\"0118\",2.1335389083702174,135],[\"0119\",1.7481880270062005,55],[\"1680\",1.3222192947339193,20],[\"1681\",1.2041199826559248,15],[\"1690\",1.0413926851582251,10],[\"1699\",1.4913616938342726,30],[\"1701\",0.0,0],[\"1730\",1.414973347970818,25],[\"1731\",1.414973347970818,25],[\"0034\",2.66838591669,465],[\"0050\",1.2041199826559248,15],[\"0171\",1.7853298350107671,60],[\"0184\",1.2041199826559248,15],[\"0303\",1.7075701760979363,50],[\"0995\",2.2695129442179165,185],[\"0059\",1.2041199826559248,15],[\"0060\",0.0,0],[\"0072\",1.3222192947339193,20],[\"0074\",2.0253058652647704,105],[\"0080\",2.6910814921229687,490],[\"0085\",0.7781512503836436,5],[\"0086\",1.2041199826559248,15],[\"0088\",0.0,0],[\"0090\",2.2329961103921536,170],[\"0093\",0.7781512503836436,5],[\"0096\",0.7781512503836436,5],[\"0098\",1.3222192947339193,20],[\"0737\",1.2041199826559248,15],[\"1891\",1.0413926851582251,10],[\"1900\",2.1335389083702174,135],[\"1940\",1.4913616938342726,30],[\"1949\",1.7075701760979363,50],[\"1970\",1.4913616938342726,30],[\"0197\",1.414973347970818,25],[\"0200\",2.6910814921229687,490],[\"0202\",2.829946695941636,675],[\"0203\",1.9822712330395684,95],[\"0209\",1.7481880270062005,55],[\"0213\",1.414973347970818,25],[\"0214\",1.3222192947339193,20],[\"0216\",1.8512583487190752,70],[\"0221\",1.2041199826559248,15],[\"0222\",2.1335389083702174,135],[\"0225\",1.0413926851582251,10],[\"0226\",1.6127838567197355,40],[\"0228\",2.6444385894678386,440],[\"0230\",1.414973347970818,25],[\"0232\",1.4913616938342726,30],[\"0233\",1.9590413923210936,90],[\"0243\",1.9822712330395684,95],[\"0244\",0.7781512503836436,5],[\"0246\",1.0413926851582251,10],[\"0252\",1.662757831681574,45],[\"0262\",1.5563025007672873,35],[\"0263\",1.4913616938342726,30],[\"0267\",1.7853298350107671,60],[\"0268\",3.2626883443016963,1830],[\"0269\",1.3222192947339193,20],[\"0273\",1.662757831681574,45],[\"0274\",1.6127838567197355,40],[\"0275\",2.100370545117563,125],[\"0277\",0.0,0],[\"0279\",1.3222192947339193,20],[\"0281\",2.303196057420489,200],[\"0285\",1.662757831681574,45],[\"0289\",2.164352855784437,145],[\"0293\",1.414973347970818,25],[\"0294\",1.8512583487190752,70],[\"0296\",2.0253058652647704,105],[\"0297\",1.5563025007672873,35],[\"0299\",1.9344984512435677,85],[\"0301\",2.44870631990508,280],[\"0302\",1.3222192947339193,20],[\"0668\",1.0413926851582251,10],[\"1509\",1.5563025007672873,35],[\"1586\",1.4913616938342726,30],[\"1705\",1.6127838567197355,40],[\"1734\",1.8512583487190752,70],[\"1740\",1.3222192947339193,20],[\"1859\",1.3222192947339193,20],[\"1876\",1.2041199826559248,15],[\"1945\",1.6127838567197355,40],[\"1955\",1.8195439355418688,65],[\"1960\",1.8808135922807914,75],[\"0003\",1.3222192947339193,20],[\"0010\",1.414973347970818,25],[\"0014\",3.166133970305109,1465],[\"0024\",0.7781512503836436,5],[\"0037\",1.414973347970818,25],[\"0047\",1.6127838567197355,40],[\"0765\",0.7781512503836436,5],[\"1895\",1.8195439355418688,65],[\"1950\",1.4913616938342726,30],[\"1952\",1.8195439355418688,65],[\"1966\",1.5563025007672873,35],[\"1969\",1.7853298350107671,60],[\"0882\",1.6127838567197355,40],[\"0888\",1.4913616938342726,30],[\"0889\",1.6127838567197355,40],[\"0893\",1.0413926851582251,10],[\"0899\",1.6127838567197355,40],[\"0907\",1.5563025007672873,35],[\"0917\",2.3344537511509307,215],[\"0928\",1.9344984512435677,85],[\"0935\",2.924795995797912,840],[\"0938\",1.4913616938342726,30],[\"0944\",1.3222192947339193,20],[\"0946\",0.7781512503836436,5],[\"0957\",2.399673721481038,250],[\"0965\",0.7781512503836436,5],[\"0971\",1.414973347970818,25],[\"0981\",1.2041199826559248,15],[\"0983\",2.782472624166286,605],[\"0984\",2.3443922736851106,220],[\"0986\",1.0413926851582251,10],[\"0988\",2.2576785748691846,180],[\"0994\",1.8808135922807914,75],[\"1507\",2.0043213737826426,100],[\"1640\",1.7481880270062005,55],[\"1641\",1.414973347970818,25],[\"1669\",1.5563025007672873,35],[\"1711\",1.7853298350107671,60],[\"1729\",1.7481880270062005,55],[\"1883\",2.3344537511509307,215],[\"1894\",1.662757831681574,45],[\"1903\",1.7075701760979363,50],[\"1954\",1.5563025007672873,35],[\"0743\",1.662757831681574,45],[\"0744\",0.7781512503836436,5],[\"0748\",2.2329961103921536,170],[\"0753\",1.8195439355418688,65],[\"0755\",1.2041199826559248,15],[\"0756\",1.9084850188786497,80],[\"0757\",2.0644579892269186,115],[\"0758\",2.851869600729766,710],[\"0762\",2.1789769472931693,150],[\"0766\",1.5563025007672873,35],[\"0770\",1.4913616938342726,30],[\"0772\",3.1792644643390253,1510],[\"0777\",1.8195439355418688,65],[\"0779\",1.6127838567197355,40],[\"0784\",1.6127838567197355,40],[\"0785\",1.6127838567197355,40],[\"0786\",1.414973347970818,25],[\"0788\",1.0413926851582251,10],[\"0794\",2.6344772701607315,430],[\"0796\",2.82020145948564,660],[\"0797\",1.6127838567197355,40],[\"0798\",1.414973347970818,25],[\"0809\",1.8195439355418688,65],[\"0815\",1.0413926851582251,10],[\"0820\",1.8808135922807914,75],[\"0823\",1.4913616938342726,30],[\"0824\",1.7481880270062005,55],[\"0826\",2.164352855784437,145],[\"0828\",2.7371926427047373,545],[\"0840\",1.414973347970818,25],[\"0845\",1.5563025007672873,35],[\"0847\",1.6127838567197355,40],[\"0848\",1.414973347970818,25],[\"0851\",1.2041199826559248,15],[\"0855\",3.1720188094245563,1485],[\"0856\",2.0644579892269186,115],[\"0858\",1.8808135922807914,75],[\"0861\",2.164352855784437,145],[\"0865\",1.8512583487190752,70],[\"0866\",1.5563025007672873,35],[\"0867\",1.662757831681574,45],[\"0873\",1.2041199826559248,15],[\"0879\",1.0413926851582251,10],[\"1652\",1.9344984512435677,85],[\"1655\",1.4913616938342726,30],[\"1658\",1.414973347970818,25],[\"1659\",1.5563025007672873,35],[\"1667\",1.2041199826559248,15],[\"1674\",2.416640507338281,260],[\"1684\",1.7853298350107671,60],[\"1685\",1.2041199826559248,15],[\"1702\",0.7781512503836436,5],[\"1706\",1.7075701760979363,50],[\"1709\",1.4913616938342726,30],[\"1719\",1.4913616938342726,30],[\"1721\",1.7075701760979363,50],[\"1723\",0.7781512503836436,5],[\"1724\",1.3222192947339193,20],[\"1728\",1.7075701760979363,50],[\"1771\",2.1931245983544616,155],[\"1948\",2.2810333672477277,190],[\"1959\",1.9590413923210936,90],[\"0358\",1.6127838567197355,40],[\"0361\",2.48572142648158,305],[\"0362\",2.4712917110589387,295],[\"0363\",3.92069713446992,8330],[\"0370\",0.7781512503836436,5],[\"0373\",1.662757831681574,45],[\"0375\",2.0253058652647704,105],[\"0376\",1.2041199826559248,15],[\"0377\",2.1335389083702174,135],[\"0383\",1.9084850188786497,80],[\"0384\",2.1172712956557644,130],[\"0385\",1.414973347970818,25],[\"0388\",1.8808135922807914,75],[\"0392\",2.9425041061680806,875],[\"0394\",2.432969290874406,270],[\"0396\",1.9084850188786497,80],[\"0397\",2.164352855784437,145],[\"0398\",2.164352855784437,145],[\"0399\",1.7075701760979363,50],[\"0400\",2.1931245983544616,155],[\"0402\",2.545307116465824,350],[\"0405\",2.506505032404872,320],[\"0406\",1.7481880270062005,55],[\"0415\",1.0413926851582251,10],[\"0416\",1.414973347970818,25],[\"0417\",1.3222192947339193,20],[\"0420\",1.662757831681574,45],[\"0431\",0.7781512503836436,5],[\"0432\",0.7781512503836436,5],[\"0437\",1.9084850188786497,80],[\"0439\",1.9590413923210936,90],[\"0441\",1.9084850188786497,80],[\"0448\",1.2041199826559248,15],[\"0450\",1.7075701760979363,50],[\"0451\",1.6127838567197355,40],[\"0453\",2.2695129442179165,185],[\"0457\",1.9084850188786497,80],[\"0473\",1.9344984512435677,85],[\"0479\",2.663700925389648,460],[\"0498\",1.4913616938342726,30],[\"0532\",1.8512583487190752,70],[\"0852\",1.2041199826559248,15],[\"0880\",1.0413926851582251,10],[\"1598\",1.3222192947339193,20],[\"1696\",1.3222192947339193,20],[\"1911\",1.6127838567197355,40],[\"1942\",2.416640507338281,260],[\"0141\",2.44870631990508,280],[\"0147\",1.5563025007672873,35],[\"0148\",1.0413926851582251,10],[\"0150\",2.4927603890268375,310],[\"0153\",3.1690863574870227,1475],[\"0158\",1.7075701760979363,50],[\"0160\",1.9344984512435677,85],[\"0163\",1.3222192947339193,20],[\"0164\",2.6138418218760693,410],[\"0166\",2.1172712956557644,130],[\"0168\",1.3222192947339193,20],[\"0173\",1.9084850188786497,80],[\"0175\",1.2041199826559248,15],[\"0177\",1.6127838567197355,40],[\"0180\",0.7781512503836436,5],[\"0183\",1.0413926851582251,10],[\"0189\",1.414973347970818,25],[\"0193\",2.6910814921229687,490],[\"1700\",1.414973347970818,25],[\"1708\",1.7075701760979363,50],[\"1735\",1.5563025007672873,35],[\"1742\",1.4913616938342726,30],[\"1773\",1.414973347970818,25],[\"1774\",0.7781512503836436,5],[\"1896\",1.2041199826559248,15],[\"0307\",2.937517892017347,865],[\"0308\",1.7853298350107671,60],[\"0310\",2.2810333672477277,190],[\"0312\",1.2041199826559248,15],[\"0313\",1.8808135922807914,75],[\"0317\",0.7781512503836436,5],[\"0321\",1.9590413923210936,90],[\"0327\",1.7075701760979363,50],[\"0331\",0.7781512503836436,5],[\"0335\",1.2041199826559248,15],[\"0339\",0.7781512503836436,5],[\"0340\",1.2041199826559248,15],[\"0342\",2.1931245983544616,155],[\"0344\",3.4879863311293935,3075],[\"0345\",2.1172712956557644,130],[\"0351\",1.2041199826559248,15],[\"0352\",1.3222192947339193,20],[\"0353\",2.0043213737826426,100],[\"0355\",2.5390760987927767,345],[\"0356\",2.2329961103921536,170],[\"0589\",1.3222192947339193,20],[\"0632\",2.0644579892269186,115],[\"0736\",1.6127838567197355,40],[\"1581\",2.1492191126553797,140],[\"1904\",2.1492191126553797,140],[\"1961\",1.7853298350107671,60],[\"0654\",0.7781512503836436,5],[\"0664\",2.0453229787866576,110],[\"0677\",1.2041199826559248,15],[\"0678\",1.0413926851582251,10],[\"0687\",2.220108088040055,165],[\"0703\",1.2041199826559248,15],[\"0715\",1.662757831681574,45],[\"0716\",1.2041199826559248,15],[\"0717\",1.9344984512435677,85],[\"0718\",2.1335389083702174,135],[\"1676\",1.7075701760979363,50],[\"1695\",1.2041199826559248,15],[\"1714\",1.414973347970818,25],[\"0482\",1.414973347970818,25],[\"0484\",2.6242820958356683,420],[\"0489\",2.100370545117563,125],[\"0501\",1.4913616938342726,30],[\"0502\",2.1335389083702174,135],[\"0503\",2.8870543780509568,770],[\"0505\",2.4712917110589387,295],[\"0512\",2.1789769472931693,150],[\"0513\",2.4638929889859074,290],[\"0518\",3.4893959217271293,3085],[\"0523\",1.4913616938342726,30],[\"0530\",1.8195439355418688,65],[\"0531\",1.7853298350107671,60],[\"0534\",1.6127838567197355,40],[\"0537\",2.4927603890268375,310],[\"0542\",1.414973347970818,25],[\"0546\",2.8549130223078554,715],[\"0547\",1.8808135922807914,75],[\"0553\",1.6127838567197355,40],[\"0556\",2.1335389083702174,135],[\"0569\",1.3222192947339193,20],[\"0575\",2.220108088040055,165],[\"0579\",1.7075701760979363,50],[\"0590\",1.7853298350107671,60],[\"0597\",2.0644579892269186,115],[\"0599\",3.6330642726914992,4295],[\"0603\",2.3820170425748683,240],[\"0606\",2.6085260335771943,405],[\"0610\",1.5563025007672873,35],[\"0613\",1.8808135922807914,75],[\"0614\",1.2041199826559248,15],[\"0622\",2.5327543789924976,340],[\"0626\",1.9344984512435677,85],[\"0627\",1.8808135922807914,75],[\"0629\",1.6127838567197355,40],[\"0637\",2.424881636631067,265],[\"0638\",0.7781512503836436,5],[\"0642\",1.9822712330395684,95],[\"1525\",2.1172712956557644,130],[\"1621\",2.220108088040055,165],[\"1783\",2.5514499979728753,355],[\"1842\",1.0413926851582251,10],[\"1884\",1.3222192947339193,20],[\"1892\",1.7481880270062005,55],[\"1901\",1.7853298350107671,60],[\"1916\",2.569373909615046,370],[\"1924\",1.7853298350107671,60],[\"1926\",2.3541084391474008,225],[\"1930\",2.3909351071033793,245],[\"1931\",1.5563025007672873,35],[\"1963\",1.8512583487190752,70],[\"1978\",1.2041199826559248,15]],\"geojson\":{\"type\":\"FeatureCollection\",\"features\":[{\"type\":\"Feature\",\"geometry\":{\"type\":\"Polygon\",\"coordinates\":[[[4.836905,51.712612],[4.842368,51.679654],[4.781071,51.663902],[4.787506,51.637048],[4.731389,51.642994],[4.69906,51.638073],[4.684903,51.666366],[4.645137,51.719067],[4.676304,51.724924],[4.698553,51.721992],[4.733651,51.736507],[4.764199,51.759857],[4.853126,51.750748],[4.836905,51.712612]]]},\"properties\":{\"fid\":1,\"code\":\"1719\",\"gemeentena\":\"Drimmelen\"},\"id\":\"1719\"},{\"type\":\"Feature\",\"geometry\":{\"type\":\"Polygon\",\"coordinates\":[[[4.14489,51.931409],[4.135763,51.906156],[4.155279,51.881603],[4.117245,51.857958],[4.067286,51.845403],[4.030059,51.884463],[4.05306,51.914742],[4.038961,51.923734],[3.992016,51.915495],[4.065845,51.932619],[4.14489,51.931409]]]},\"properties\":{\"fid\":2,\"code\":\"0614\",\"gemeentena\":\"Westvoorne\"},\"id\":\"0614\"},{\"type\":\"Feature\",\"geometry\":{\"type\":\"Polygon\",\"coordinates\":[[[5.493862,52.111097],[5.531543,52.102267],[5.537118,52.088644],[5.496128,52.071678],[5.493862,52.111097]]]},\"properties\":{\"fid\":3,\"code\":\"0279\",\"gemeentena\":\"Scherpenzeel\"},\"id\":\"0279\"},{\"type\":\"Feature\",\"geometry\":{\"type\":\"Polygon\",\"coordinates\":[[[5.859461,50.833684],[5.887993,50.847034],[5.954816,50.845924],[5.983518,50.80973],[5.976681,50.80337],[5.942151,50.789247],[5.935758,50.756979],[5.889738,50.756328],[5.886477,50.770157],[5.845038,50.765371],[5.81941,50.805242],[5.839239,50.807588],[5.859461,50.833684]]]},\"properties\":{\"fid\":4,\"code\":\"1729\",\"gemeentena\":\"Gulpen-Wittem\"},\"id\":\"1729\"},{\"type\":\"Feature\",\"geometry\":{\"type\":\"Polygon\",\"coordinates\":[[[6.629453,52.669688],[6.708547,52.648715],[6.710053,52.62782],[6.727289,52.614928],[6.718772,52.588636],[6.726646,52.563058],[6.716264,52.548525],[6.68088,52.553317],[6.705332,52.521008],[6.697585,52.486298],[6.669301,52.494981],[6.641541,52.471244],[6.612157,52.466001],[6.595188,52.480303],[6.609644,52.492505],[6.545992,52.51585],[6.521827,52.560586],[6.488356,52.569001],[6.415015,52.570012],[6.402645,52.591403],[6.323413,52.592527],[6.303064,52.597141],[6.327798,52.658693],[6.364382,52.642778],[6.383837,52.612198],[6.431243,52.628378],[6.518604,52.614088],[6.513861,52.646294],[6.529381,52.654507],[6.552821,52.665595],[6.614527,52.674049],[6.629453,52.669688]]]},\"properties\":{\"fid\":5,\"code\":\"0160\",\"gemeentena\":\"Hardenberg\"},\"id\":\"0160\"},{\"type\":\"Feature\",\"geometry\":{\"type\":\"Polygon\",\"coordinates\":[[[5.481342,52.150501],[5.511685,52.137496],[5.486447,52.11536],[5.443807,52.107075],[5.401332,52.089334],[5.322462,52.101901],[5.31092,52.108384],[5.355635,52.13683],[5.397125,52.133951],[5.423608,52.157636],[5.481342,52.150501]]]},\"properties\":{\"fid\":6,\"code\":\"0327\",\"gemeentena\":\"Leusden\"},\"id\":\"0327\"},{\"type\":\"Feature\",\"geometry\":{\"type\":\"Polygon\",\"coordinates\":[[[4.688685,51.996258],[4.750991,52.013899],[4.7987,52.022272],[4.846875,52.018165],[4.817806,51.999767],[4.835218,51.986143],[4.860936,51.967476],[4.877793,51.938031],[4.832513,51.938755],[4.811729,51.92473],[4.759858,51.913502],[4.721936,51.897261],[4.668167,51.889585],[4.619572,51.889523],[4.576328,51.903032],[4.635768,51.91023],[4.617704,51.93105],[4.619489,51.933492],[4.688685,51.996258]]]},\"properties\":{\"fid\":7,\"code\":\"1931\",\"gemeentena\":\"Krimpenerwaard\"},\"id\":\"1931\"},{\"type\":\"Feature\",\"geometry\":{\"type\":\"Polygon\",\"coordinates\":[[[6.11982,52.854215],[6.2069,52.890744],[6.247259,52.923347],[6.302985,52.924972],[6.333281,52.906356],[6.369026,52.921976],[6.359557,52.89453],[6.419993,52.882322],[6.430888,52.850385],[6.480026,52.836944],[6.455451,52.800556],[6.44692,52.785889],[6.413106,52.7883],[6.394155,52.777533],[6.36109,52.783236],[6.340498,52.798979],[6.310415,52.795522],[6.296635,52.765926],[6.252028,52.758311],[6.231439,52.741709],[6.201453,52.729786],[6.172906,52.773054],[6.201731,52.793696],[6.11982,52.854215]]]},\"properties\":{\"fid\":8,\"code\":\"1701\",\"gemeentena\":\"Westerveld\"},\"id\":\"1701\"},{\"type\":\"Feature\",\"geometry\":{\"type\":\"Polygon\",\"coordinates\":[[[6.450098,52.461256],[6.505469,52.490963],[6.595188,52.480303],[6.612157,52.466001],[6.641541,52.471244],[6.669301,52.494981],[6.697585,52.486298],[6.717707,52.478132],[6.669848,52.417231],[6.698635,52.393741],[6.651752,52.398725],[6.598851,52.383658],[6.575952,52.417513],[6.598148,52.439029],[6.543152,52.451222],[6.510901,52.437173],[6.475599,52.440857],[6.450098,52.461256]]]},\"properties\":{\"fid\":9,\"code\":\"1700\",\"gemeentena\":\"Twenterand\"},\"id\":\"1700\"},{\"type\":\"Feature\",\"geometry\":{\"type\":\"Polygon\",\"coordinates\":[[[4.646054,52.756594],[4.689822,52.732992],[4.728854,52.691404],[4.741742,52.680807],[4.752411,52.671446],[4.710038,52.642486],[4.714587,52.624782],[4.689993,52.623751],[4.672581,52.590904],[4.609824,52.57376],[4.646054,52.756594]]]},\"properties\":{\"fid\":10,\"code\":\"0373\",\"gemeentena\":\"Bergen (NH.)\"},\"id\":\"0373\"},{\"type\":\"Feature\",\"geometry\":{\"type\":\"Polygon\",\"coordinates\":[[[4.463471,52.200202],[4.464082,52.215964],[4.466066,52.225003],[4.513523,52.255006],[4.524934,52.235553],[4.553934,52.222205],[4.558433,52.218799],[4.538154,52.180085],[4.518369,52.182116],[4.497562,52.183983],[4.491447,52.203687],[4.463471,52.200202]]]},\"properties\":{\"fid\":11,\"code\":\"1525\",\"gemeentena\":\"Teylingen\"},\"id\":\"1525\"},{\"type\":\"Feature\",\"geometry\":{\"type\":\"Polygon\",\"coordinates\":[[[4.302862,52.128355],[4.342318,52.097482],[4.372709,52.094773],[4.35542,52.068085],[4.403924,52.077845],[4.420833,52.06258],[4.422072,52.051673],[4.394445,52.054054],[4.379735,52.026733],[4.35779,52.026863],[4.340047,52.061806],[4.290952,52.041573],[4.307639,52.018151],[4.272663,52.035917],[4.248217,52.025226],[4.213781,52.031784],[4.196329,52.055676],[4.255909,52.099772],[4.302862,52.128355]]]},\"properties\":{\"fid\":12,\"code\":\"0518\",\"gemeentena\":\"'s-Gravenhage\"},\"id\":\"0518\"},{\"type\":\"Feature\",\"geometry\":{\"type\":\"Polygon\",\"coordinates\":[[[6.119566,52.667937],[6.158976,52.692154],[6.179903,52.675606],[6.214096,52.686316],[6.265501,52.667988],[6.327798,52.658693],[6.303064,52.597141],[6.202138,52.584949],[6.147419,52.584408],[6.105848,52.603696],[6.096848,52.635626],[6.119566,52.667937]]]},\"properties\":{\"fid\":13,\"code\":\"0180\",\"gemeentena\":\"Staphorst\"},\"id\":\"0180\"},{\"type\":\"Feature\",\"geometry\":{\"type\":\"Polygon\",\"coordinates\":[[[4.956999,52.52911],[4.99227,52.519733],[4.997964,52.494733],[4.974247,52.470435],[4.948316,52.484005],[4.920651,52.490434],[4.934352,52.511641],[4.956999,52.52911]]]},\"properties\":{\"fid\":14,\"code\":\"0439\",\"gemeentena\":\"Purmerend\"},\"id\":\"0439\"},{\"type\":\"Feature\",\"geometry\":{\"type\":\"Polygon\",\"coordinates\":[[[5.955931,52.073339],[6.008849,52.074014],[6.006085,52.066349],[5.977959,52.05439],[5.995805,52.02622],[5.974514,52.002839],[5.951526,51.999638],[5.937099,52.048533],[5.955931,52.073339]]]},\"properties\":{\"fid\":15,\"code\":\"0277\",\"gemeentena\":\"Rozendaal\"},\"id\":\"0277\"},{\"type\":\"Feature\",\"geometry\":{\"type\":\"Polygon\",\"coordinates\":[[[7.015446,53.071774],[7.042633,53.101687],[7.029754,53.115097],[7.080654,53.14376],[7.139635,53.154365],[7.189244,53.154883],[7.182899,53.121765],[7.202794,53.113411],[7.199219,53.081386],[7.212968,53.010877],[7.181515,52.941584],[7.104385,52.863943],[7.09274,52.838196],[7.072178,52.845159],[7.040242,52.872903],[7.014799,52.872987],[7.045571,52.915909],[7.026854,52.919037],[7.063539,52.930978],[7.072058,53.003787],[7.100013,53.016444],[7.080371,53.030043],[7.080351,53.059428],[7.015446,53.071774]]]},\"properties\":{\"fid\":16,\"code\":\"1950\",\"gemeentena\":\"Westerwolde\"},\"id\":\"1950\"},{\"type\":\"Feature\",\"geometry\":{\"type\":\"Polygon\",\"coordinates\":[[[4.803379,51.846353],[4.838082,51.860735],[4.847671,51.832979],[4.924864,51.839718],[4.926987,51.828306],[4.884643,51.816471],[4.811416,51.818658],[4.803379,51.846353]]]},\"properties\":{\"fid\":17,\"code\":\"0523\",\"gemeentena\":\"Hardinxveld-Giessendam\"},\"id\":\"0523\"},{\"type\":\"Feature\",\"geometry\":{\"type\":\"Polygon\",\"coordinates\":[[[4.809884,52.305776],[4.823793,52.289806],[4.794697,52.260682],[4.773272,52.241034],[4.723764,52.216574],[4.72432,52.231963],[4.670348,52.230756],[4.746548,52.272197],[4.780114,52.283245],[4.809884,52.305776]]]},\"properties\":{\"fid\":18,\"code\":\"0358\",\"gemeentena\":\"Aalsmeer\"},\"id\":\"0358\"},{\"type\":\"Feature\",\"geometry\":{\"type\":\"Polygon\",\"coordinates\":[[[4.877793,51.938031],[4.926301,51.950928],[4.956157,51.915591],[4.994968,51.902292],[4.996797,51.873552],[5.026908,51.858608],[4.998685,51.852277],[4.938399,51.863629],[4.924864,51.839718],[4.847671,51.832979],[4.838082,51.860735],[4.803379,51.846353],[4.742764,51.841003],[4.683191,51.848491],[4.664439,51.874948],[4.626391,51.880658],[4.619572,51.889523],[4.668167,51.889585],[4.721936,51.897261],[4.759858,51.913502],[4.811729,51.92473],[4.832513,51.938755],[4.877793,51.938031]]]},\"properties\":{\"fid\":19,\"code\":\"1978\",\"gemeentena\":\"Molenlanden\"},\"id\":\"1978\"},{\"type\":\"Feature\",\"geometry\":{\"type\":\"Polygon\",\"coordinates\":[[[4.404877,52.219944],[4.444709,52.263523],[4.493822,52.328237],[4.547322,52.313997],[4.563707,52.309298],[4.54255,52.286644],[4.513523,52.255006],[4.466066,52.225003],[4.464082,52.215964],[4.440188,52.207356],[4.404877,52.219944]]]},\"properties\":{\"fid\":20,\"code\":\"0575\",\"gemeentena\":\"Noordwijk\"},\"id\":\"0575\"},{\"type\":\"Feature\",\"geometry\":{\"type\":\"Polygon\",\"coordinates\":[[[4.900937,53.088029],[4.848785,53.034834],[4.819302,53.029412],[4.773265,52.995869],[4.733059,52.987731],[4.713117,52.998533],[4.709037,53.022508],[4.720044,53.061064],[4.751112,53.098907],[4.84411,53.184149],[4.861594,53.183135],[4.908351,53.13485],[4.900937,53.088029]]]},\"properties\":{\"fid\":21,\"code\":\"0448\",\"gemeentena\":\"Texel\"},\"id\":\"0448\"},{\"type\":\"Feature\",\"geometry\":{\"type\":\"Polygon\",\"coordinates\":[[[5.724363,52.000708],[5.722606,51.964051],[5.665989,51.952799],[5.640271,51.938828],[5.60594,51.943125],[5.627309,51.952473],[5.626064,51.97407],[5.606017,51.994164],[5.683093,51.993911],[5.724363,52.000708]]]},\"properties\":{\"fid\":22,\"code\":\"0289\",\"gemeentena\":\"Wageningen\"},\"id\":\"0289\"},{\"type\":\"Feature\",\"geometry\":{\"type\":\"Polygon\",\"coordinates\":[[[5.511424,51.496922],[5.546273,51.512696],[5.530864,51.525049],[5.547437,51.537732],[5.557652,51.50937],[5.57673,51.499453],[5.584708,51.460509],[5.548679,51.434677],[5.509152,51.469198],[5.511424,51.496922]]]},\"properties\":{\"fid\":23,\"code\":\"0820\",\"gemeentena\":\"Nuenen, Gerwen en Nederwetten\"},\"id\":\"0820\"},{\"type\":\"Feature\",\"geometry\":{\"type\":\"Polygon\",\"coordinates\":[[[6.645041,52.174194],[6.634454,52.185955],[6.712388,52.206331],[6.766801,52.191065],[6.805581,52.1666],[6.827991,52.171007],[6.88975,52.161206],[6.855474,52.120462],[6.760572,52.11878],[6.716272,52.11827],[6.663677,52.129816],[6.663676,52.129816],[6.671339,52.165683],[6.645041,52.174194]]]},\"properties\":{\"fid\":24,\"code\":\"0158\",\"gemeentena\":\"Haaksbergen\"},\"id\":\"0158\"},{\"type\":\"Feature\",\"geometry\":{\"type\":\"Polygon\",\"coordinates\":[[[5.314282,52.203023],[5.330541,52.214732],[5.392735,52.205528],[5.395522,52.219154],[5.439356,52.200687],[5.439876,52.171197],[5.479922,52.165815],[5.481342,52.150501],[5.423608,52.157636],[5.397125,52.133951],[5.355635,52.13683],[5.31092,52.108384],[5.306459,52.110271],[5.331268,52.12663],[5.349898,52.175605],[5.314282,52.203023]]]},\"properties\":{\"fid\":25,\"code\":\"0307\",\"gemeentena\":\"Amersfoort\"},\"id\":\"0307\"},{\"type\":\"Feature\",\"geometry\":{\"type\":\"Polygon\",\"coordinates\":[[[5.685014,51.895648],[5.667853,51.865927],[5.636177,51.867362],[5.635931,51.847458],[5.609835,51.836274],[5.585013,51.839107],[5.566437,51.883948],[5.531363,51.894753],[5.553907,51.900777],[5.685014,51.895648]]]},\"properties\":{\"fid\":26,\"code\":\"0225\",\"gemeentena\":\"Druten\"},\"id\":\"0225\"},{\"type\":\"Feature\",\"geometry\":{\"type\":\"Polygon\",\"coordinates\":[[[4.309819,52.015634],[4.325956,52.012793],[4.324112,51.989859],[4.338227,51.974178],[4.402933,51.966316],[4.379309,51.963407],[4.350671,51.951507],[4.292611,51.921236],[4.257822,51.92881],[4.240317,51.942872],[4.303143,51.9799],[4.265431,51.995731],[4.309819,52.015634]]]},\"properties\":{\"fid\":27,\"code\":\"1842\",\"gemeentena\":\"Midden-Delfland\"},\"id\":\"1842\"},{\"type\":\"Feature\",\"geometry\":{\"type\":\"Polygon\",\"coordinates\":[[[6.144688,51.9805],[6.160483,51.981037],[6.249883,51.976012],[6.312219,51.993971],[6.327728,51.977287],[6.381505,51.967986],[6.416082,51.972622],[6.361013,51.923014],[6.305763,51.938821],[6.302066,51.944134],[6.203123,51.942196],[6.163026,51.955381],[6.144688,51.9805]]]},\"properties\":{\"fid\":28,\"code\":\"0222\",\"gemeentena\":\"Doetinchem\"},\"id\":\"0222\"},{\"type\":\"Feature\",\"geometry\":{\"type\":\"Polygon\",\"coordinates\":[[[4.379309,51.963407],[4.402933,51.966316],[4.407911,51.968199],[4.427898,51.976466],[4.469012,51.980549],[4.518586,51.960286],[4.547686,51.972807],[4.583992,51.965369],[4.56155,51.956648],[4.566239,51.925909],[4.549901,51.906728],[4.576328,51.903032],[4.568912,51.878052],[4.549383,51.874027],[4.480403,51.862328],[4.393378,51.871971],[4.383665,51.842118],[4.335554,51.864302],[4.269163,51.864522],[4.239383,51.872986],[4.216271,51.898731],[4.14489,51.931409],[4.065845,51.932619],[3.992016,51.915495],[3.960144,51.959189],[3.98375,51.985054],[4.029588,51.987371],[4.097272,51.97059],[4.094994,51.984296],[4.124988,52.001776],[4.147281,51.981393],[4.187493,51.966837],[4.219529,51.9414],[4.212718,51.933727],[4.267571,51.905335],[4.333844,51.894281],[4.370623,51.899356],[4.41371,51.900755],[4.408958,51.935568],[4.379309,51.963407]]]},\"properties\":{\"fid\":29,\"code\":\"0599\",\"gemeentena\":\"Rotterdam\"},\"id\":\"0599\"},{\"type\":\"Feature\",\"geometry\":{\"type\":\"Polygon\",\"coordinates\":[[[4.500204,51.558536],[4.533483,51.549269],[4.591761,51.561032],[4.624766,51.55226],[4.638716,51.524413],[4.548161,51.473313],[4.538185,51.482398],[4.486682,51.477353],[4.50218,51.516724],[4.523192,51.542557],[4.500204,51.558536]]]},\"properties\":{\"fid\":30,\"code\":\"0840\",\"gemeentena\":\"Rucphen\"},\"id\":\"0840\"},{\"type\":\"Feature\",\"geometry\":{\"type\":\"Polygon\",\"coordinates\":[[[5.859903,51.669914],[5.933785,51.71614],[5.956179,51.707248],[5.963276,51.661429],[5.976607,51.643783],[6.02063,51.621291],[6.026281,51.595577],[6.048121,51.558463],[6.004253,51.570244],[5.935445,51.5536],[5.906663,51.552031],[5.870892,51.562644],[5.877236,51.578166],[5.931853,51.596861],[5.939617,51.612422],[5.925766,51.63215],[5.855798,51.662206],[5.859903,51.669914]]]},\"properties\":{\"fid\":31,\"code\":\"0756\",\"gemeentena\":\"Boxmeer\"},\"id\":\"0756\"},{\"type\":\"Feature\",\"geometry\":{\"type\":\"Polygon\",\"coordinates\":[[[6.468189,52.326462],[6.545253,52.318107],[6.554009,52.283313],[6.48526,52.274606],[6.416422,52.242166],[6.381851,52.246113],[6.370775,52.260006],[6.328842,52.281103],[6.32653,52.301632],[6.356016,52.318219],[6.468189,52.326462]]]},\"properties\":{\"fid\":32,\"code\":\"1742\",\"gemeentena\":\"Rijssen-Holten\"},\"id\":\"1742\"},{\"type\":\"Feature\",\"geometry\":{\"type\":\"Polygon\",\"coordinates\":[[[4.870121,52.253282],[4.852053,52.242013],[4.794697,52.260682],[4.823793,52.289806],[4.809884,52.305776],[4.818753,52.32556],[4.909135,52.318253],[4.878783,52.278903],[4.870121,52.253282]]]},\"properties\":{\"fid\":33,\"code\":\"0362\",\"gemeentena\":\"Amstelveen\"},\"id\":\"0362\"},{\"type\":\"Feature\",\"geometry\":{\"type\":\"Polygon\",\"coordinates\":[[[5.130196,51.530298],[5.146948,51.546634],[5.137355,51.562581],[5.179539,51.597664],[5.214187,51.585557],[5.247241,51.58704],[5.273271,51.552821],[5.224435,51.517148],[5.190138,51.507409],[5.130196,51.530298]]]},\"properties\":{\"fid\":34,\"code\":\"0824\",\"gemeentena\":\"Oisterwijk\"},\"id\":\"0824\"},{\"type\":\"Feature\",\"geometry\":{\"type\":\"Polygon\",\"coordinates\":[[[4.325956,52.012793],[4.35779,52.026863],[4.379735,52.026733],[4.407911,51.968199],[4.402933,51.966316],[4.338227,51.974178],[4.324112,51.989859],[4.325956,52.012793]]]},\"properties\":{\"fid\":35,\"code\":\"0503\",\"gemeentena\":\"Delft\"},\"id\":\"0503\"},{\"type\":\"Feature\",\"geometry\":{\"type\":\"Polygon\",\"coordinates\":[[[3.705536,51.502456],[3.745245,51.512472],[3.713607,51.530367],[3.762857,51.553417],[3.793582,51.54248],[3.834503,51.553018],[3.869159,51.541902],[3.927724,51.543534],[3.961898,51.52996],[3.963466,51.529801],[3.971382,51.528325],[3.965231,51.506469],[3.912878,51.479122],[3.803684,51.484471],[3.762506,51.498873],[3.705536,51.502456]]]},\"properties\":{\"fid\":36,\"code\":\"0664\",\"gemeentena\":\"Goes\"},\"id\":\"0664\"},{\"type\":\"Feature\",\"geometry\":{\"type\":\"Polygon\",\"coordinates\":[[[6.44692,52.785889],[6.455451,52.800556],[6.491805,52.793123],[6.490669,52.770885],[6.512729,52.762084],[6.566385,52.765579],[6.5574,52.745365],[6.587467,52.73569],[6.595794,52.713218],[6.629937,52.712727],[6.629453,52.669688],[6.614527,52.674049],[6.552821,52.665595],[6.529381,52.654507],[6.530556,52.672472],[6.499552,52.673554],[6.48598,52.693633],[6.448677,52.693788],[6.407168,52.706796],[6.423193,52.743],[6.410134,52.764885],[6.44692,52.785889]]]},\"properties\":{\"fid\":37,\"code\":\"0118\",\"gemeentena\":\"Hoogeveen\"},\"id\":\"0118\"},{\"type\":\"Feature\",\"geometry\":{\"type\":\"Polygon\",\"coordinates\":[[[6.772527,53.283087],[6.814345,53.297592],[6.845806,53.290126],[6.887377,53.297882],[6.909103,53.278977],[6.911344,53.243015],[6.929399,53.212817],[6.913075,53.176955],[6.950381,53.158895],[6.965295,53.110831],[6.961735,53.110021],[6.959339,53.120176],[6.886254,53.1286],[6.823101,53.126219],[6.801674,53.119172],[6.813945,53.070972],[6.776509,53.094761],[6.737451,53.119462],[6.695367,53.121176],[6.683501,53.160474],[6.641706,53.185481],[6.698075,53.214749],[6.717686,53.241872],[6.69833,53.256145],[6.772527,53.283087]]]},\"properties\":{\"fid\":38,\"code\":\"1952\",\"gemeentena\":\"Midden-Groningen\"},\"id\":\"1952\"},{\"type\":\"Feature\",\"geometry\":{\"type\":\"Polygon\",\"coordinates\":[[[6.645041,52.174194],[6.671339,52.165683],[6.663676,52.129816],[6.663677,52.129816],[6.716272,52.11827],[6.760572,52.11878],[6.750923,52.085036],[6.695973,52.070142],[6.687981,52.044365],[6.658971,52.063041],[6.606237,52.065155],[6.605481,52.051855],[6.574314,52.031933],[6.538989,52.025197],[6.517288,52.042414],[6.462185,52.021701],[6.440027,52.027148],[6.400539,52.083811],[6.423999,52.096908],[6.455205,52.10798],[6.478946,52.101351],[6.492109,52.124005],[6.481224,52.142479],[6.492401,52.177372],[6.590841,52.182371],[6.645041,52.174194]]]},\"properties\":{\"fid\":39,\"code\":\"1859\",\"gemeentena\":\"Berkelland\"},\"id\":\"1859\"},{\"type\":\"Feature\",\"geometry\":{\"type\":\"Polygon\",\"coordinates\":[[[5.332251,52.084163],[5.438303,52.070215],[5.445703,52.045259],[5.497876,52.057018],[5.529348,52.040202],[5.512592,52.018516],[5.477664,51.983473],[5.433266,51.984552],[5.390976,51.97073],[5.381647,52.002138],[5.314649,52.027001],[5.27991,52.010722],[5.263239,52.02438],[5.247423,52.058647],[5.29076,52.086568],[5.332251,52.084163]]]},\"properties\":{\"fid\":40,\"code\":\"1581\",\"gemeentena\":\"Utrechtse Heuvelrug\"},\"id\":\"1581\"},{\"type\":\"Feature\",\"geometry\":{\"type\":\"Polygon\",\"coordinates\":[[[5.403519,52.246788],[5.395522,52.219154],[5.392735,52.205528],[5.330541,52.214732],[5.312278,52.232829],[5.331193,52.273538],[5.356375,52.269804],[5.403519,52.246788]]]},\"properties\":{\"fid\":41,\"code\":\"0313\",\"gemeentena\":\"Bunschoten\"},\"id\":\"0313\"},{\"type\":\"Feature\",\"geometry\":{\"type\":\"Polygon\",\"coordinates\":[[[5.220625,53.364009],[5.196373,53.348768],[5.15191,53.349808],[5.191231,53.391041],[5.259624,53.405644],[5.484691,53.442521],[5.548489,53.436286],[5.475451,53.417026],[5.453873,53.403967],[5.40455,53.404228],[5.292907,53.370299],[5.260099,53.372464],[5.220625,53.364009]]]},\"properties\":{\"fid\":42,\"code\":\"0093\",\"gemeentena\":\"Terschelling\"},\"id\":\"0093\"},{\"type\":\"Feature\",\"geometry\":{\"type\":\"Polygon\",\"coordinates\":[[[4.752139,52.591891],[4.745084,52.566852],[4.781623,52.557102],[4.777733,52.533745],[4.71886,52.551643],[4.695736,52.526728],[4.598185,52.531162],[4.609824,52.57376],[4.672581,52.590904],[4.685317,52.580977],[4.739993,52.578928],[4.752139,52.591891]]]},\"properties\":{\"fid\":43,\"code\":\"0383\",\"gemeentena\":\"Castricum\"},\"id\":\"0383\"},{\"type\":\"Feature\",\"geometry\":{\"type\":\"Polygon\",\"coordinates\":[[[5.87911,51.80953],[5.893409,51.777853],[5.864469,51.757682],[5.790534,51.753509],[5.747848,51.757599],[5.729745,51.772851],[5.800949,51.795151],[5.837108,51.806076],[5.87911,51.80953]]]},\"properties\":{\"fid\":44,\"code\":\"0252\",\"gemeentena\":\"Heumen\"},\"id\":\"0252\"},{\"type\":\"Feature\",\"geometry\":{\"type\":\"Polygon\",\"coordinates\":[[[4.83391,52.53896],[4.842956,52.526982],[4.934352,52.511641],[4.920651,52.490434],[4.90647,52.479826],[4.852505,52.470367],[4.798843,52.491105],[4.789861,52.519236],[4.83391,52.53896]]]},\"properties\":{\"fid\":45,\"code\":\"0880\",\"gemeentena\":\"Wormerland\"},\"id\":\"0880\"},{\"type\":\"Feature\",\"geometry\":{\"type\":\"Polygon\",\"coordinates\":[[[4.909135,52.318253],[4.912932,52.33051],[4.94986,52.338528],[4.944716,52.32713],[4.929473,52.307414],[4.955241,52.278305],[4.933864,52.280884],[4.911027,52.25271],[4.870121,52.253282],[4.878783,52.278903],[4.909135,52.318253]]]},\"properties\":{\"fid\":46,\"code\":\"0437\",\"gemeentena\":\"Ouder-Amstel\"},\"id\":\"0437\"},{\"type\":\"Feature\",\"geometry\":{\"type\":\"Polygon\",\"coordinates\":[[[6.084717,51.297454],[6.124758,51.27755],[6.072664,51.24256],[6.027856,51.245547],[6.00588,51.258683],[6.009612,51.265759],[6.084717,51.297454]]]},\"properties\":{\"fid\":47,\"code\":\"0889\",\"gemeentena\":\"Beesel\"},\"id\":\"0889\"},{\"type\":\"Feature\",\"geometry\":{\"type\":\"Polygon\",\"coordinates\":[[[6.390315,52.428145],[6.428777,52.438687],[6.450098,52.461256],[6.475599,52.440857],[6.510901,52.437173],[6.543152,52.451222],[6.598148,52.439029],[6.575952,52.417513],[6.515982,52.406122],[6.512607,52.38184],[6.468189,52.326462],[6.356016,52.318219],[6.333502,52.351398],[6.343082,52.370032],[6.38841,52.379782],[6.40517,52.415542],[6.390315,52.428145]]]},\"properties\":{\"fid\":48,\"code\":\"0163\",\"gemeentena\":\"Hellendoorn\"},\"id\":\"0163\"},{\"type\":\"Feature\",\"geometry\":{\"type\":\"Polygon\",\"coordinates\":[[[5.021867,52.282653],[5.064412,52.280738],[5.033278,52.275412],[5.034413,52.252922],[5.056224,52.234979],[5.036666,52.22436],[5.035008,52.186943],[5.046421,52.165929],[5.115294,52.179853],[5.09489,52.155349],[5.107093,52.133211],[5.087165,52.135671],[5.032676,52.116768],[5.002154,52.141759],[4.970096,52.122442],[4.943916,52.127537],[4.909638,52.161871],[4.928606,52.1672],[4.980414,52.226847],[5.007463,52.231705],[5.021867,52.282653]]]},\"properties\":{\"fid\":49,\"code\":\"1904\",\"gemeentena\":\"Stichtse Vecht\"},\"id\":\"1904\"},{\"type\":\"Feature\",\"geometry\":{\"type\":\"Polygon\",\"coordinates\":[[[5.369447,51.465317],[5.356917,51.438204],[5.319371,51.423795],[5.323664,51.406187],[5.354363,51.408783],[5.388907,51.37646],[5.346101,51.357901],[5.347121,51.337453],[5.316672,51.323389],[5.263411,51.319282],[5.285973,51.336339],[5.275299,51.362723],[5.28924,51.388909],[5.281898,51.40437],[5.237705,51.428559],[5.248396,51.445631],[5.334728,51.465875],[5.369447,51.465317]]]},\"properties\":{\"fid\":50,\"code\":\"0770\",\"gemeentena\":\"Eersel\"},\"id\":\"0770\"},{\"type\":\"Feature\",\"geometry\":{\"type\":\"Polygon\",\"coordinates\":[[[5.607825,52.681656],[5.593221,52.676281],[5.59618,52.765975],[5.660371,52.828355],[5.713082,52.838027],[5.748807,52.83968],[5.795177,52.806522],[5.818792,52.784697],[5.849699,52.784739],[5.922574,52.750692],[5.955104,52.705708],[5.95226,52.688304],[5.932747,52.675462],[5.938199,52.668747],[5.983584,52.656004],[5.961994,52.638524],[5.832629,52.61246],[5.65129,52.614715],[5.649911,52.615694],[5.630008,52.637445],[5.655379,52.66595],[5.643057,52.682456],[5.607881,52.681683],[5.607825,52.681656]]]},\"properties\":{\"fid\":51,\"code\":\"0171\",\"gemeentena\":\"Noordoostpolder\"},\"id\":\"0171\"},{\"type\":\"Feature\",\"geometry\":{\"type\":\"Polygon\",\"coordinates\":[[[4.639648,52.338906],[4.611384,52.322205],[4.590186,52.328353],[4.605724,52.363405],[4.636626,52.361484],[4.639648,52.338906]]]},\"properties\":{\"fid\":52,\"code\":\"0397\",\"gemeentena\":\"Heemstede\"},\"id\":\"0397\"},{\"type\":\"Feature\",\"geometry\":{\"type\":\"Polygon\",\"coordinates\":[[[4.383665,51.842118],[4.432482,51.837046],[4.353342,51.819055],[4.263213,51.802657],[4.234643,51.783545],[4.19422,51.804123],[4.222048,51.826662],[4.185273,51.849708],[4.239383,51.872986],[4.269163,51.864522],[4.335554,51.864302],[4.383665,51.842118]]]},\"properties\":{\"fid\":53,\"code\":\"1930\",\"gemeentena\":\"Nissewaard\"},\"id\":\"1930\"},{\"type\":\"Feature\",\"geometry\":{\"type\":\"Polygon\",\"coordinates\":[[[6.513386,53.196937],[6.536265,53.168002],[6.539081,53.132506],[6.4803,53.120787],[6.513356,53.07228],[6.50513,53.046355],[6.488212,53.005405],[6.41328,52.985523],[6.362521,53.033969],[6.367811,53.06736],[6.332055,53.075279],[6.315157,53.094053],[6.344433,53.087135],[6.382612,53.14957],[6.405805,53.176763],[6.463461,53.200058],[6.513386,53.196937]]]},\"properties\":{\"fid\":54,\"code\":\"1699\",\"gemeentena\":\"Noordenveld\"},\"id\":\"1699\"},{\"type\":\"Feature\",\"geometry\":{\"type\":\"Polygon\",\"coordinates\":[[[6.289289,53.491287],[6.263628,53.480753],[6.114688,53.464975],[6.118248,53.482644],[6.160722,53.499718],[6.285931,53.508627],[6.289289,53.491287]]]},\"properties\":{\"fid\":55,\"code\":\"0088\",\"gemeentena\":\"Schiermonnikoog\"},\"id\":\"0088\"},{\"type\":\"Feature\",\"geometry\":{\"type\":\"Polygon\",\"coordinates\":[[[5.08176,51.722344],[5.128055,51.737607],[5.1857,51.741918],[5.206494,51.741477],[5.231032,51.724086],[5.226158,51.690031],[5.204777,51.669822],[5.166798,51.669047],[5.144938,51.640512],[5.106137,51.635956],[5.101509,51.676835],[5.106855,51.710861],[5.08176,51.722344]]]},\"properties\":{\"fid\":56,\"code\":\"0797\",\"gemeentena\":\"Heusden\"},\"id\":\"0797\"},{\"type\":\"Feature\",\"geometry\":{\"type\":\"Polygon\",\"coordinates\":[[[5.504874,51.400155],[5.516418,51.378336],[5.441895,51.367485],[5.423207,51.374866],[5.421801,51.38341],[5.427277,51.402654],[5.504874,51.400155]]]},\"properties\":{\"fid\":57,\"code\":\"0866\",\"gemeentena\":\"Waalre\"},\"id\":\"0866\"},{\"type\":\"Feature\",\"geometry\":{\"type\":\"Polygon\",\"coordinates\":[[[4.752139,52.591891],[4.739451,52.613868],[4.714587,52.624782],[4.710038,52.642486],[4.752411,52.671446],[4.741742,52.680807],[4.779026,52.676484],[4.800509,52.660241],[4.785587,52.639163],[4.830225,52.632678],[4.873399,52.634446],[4.883992,52.613139],[4.926925,52.606697],[4.898923,52.601688],[4.83391,52.53896],[4.789861,52.519236],[4.782476,52.519581],[4.777733,52.533745],[4.781623,52.557102],[4.745084,52.566852],[4.752139,52.591891]]]},\"properties\":{\"fid\":58,\"code\":\"0361\",\"gemeentena\":\"Alkmaar\"},\"id\":\"0361\"},{\"type\":\"Feature\",\"geometry\":{\"type\":\"Polygon\",\"coordinates\":[[[5.423207,51.374866],[5.441895,51.367485],[5.516418,51.378336],[5.473605,51.333943],[5.491258,51.314661],[5.484859,51.3],[5.441782,51.282106],[5.417412,51.262286],[5.387804,51.285239],[5.394262,51.308785],[5.424291,51.33076],[5.423207,51.374866]]]},\"properties\":{\"fid\":59,\"code\":\"0858\",\"gemeentena\":\"Valkenswaard\"},\"id\":\"0858\"},{\"type\":\"Feature\",\"geometry\":{\"type\":\"Polygon\",\"coordinates\":[[[5.79177,51.237537],[5.723565,51.282658],[5.656958,51.279732],[5.643997,51.290575],[5.672111,51.315094],[5.770449,51.333805],[5.840194,51.346877],[5.852142,51.320702],[5.877823,51.316578],[5.860725,51.310802],[5.833798,51.27477],[5.853445,51.24474],[5.79177,51.237537]]]},\"properties\":{\"fid\":60,\"code\":\"0946\",\"gemeentena\":\"Nederweert\"},\"id\":\"0946\"},{\"type\":\"Feature\",\"geometry\":{\"type\":\"Polygon\",\"coordinates\":[[[5.954816,50.845924],[5.969362,50.86008],[6.023723,50.818403],[5.983518,50.80973],[5.954816,50.845924]]]},\"properties\":{\"fid\":61,\"code\":\"0965\",\"gemeentena\":\"Simpelveld\"},\"id\":\"0965\"},{\"type\":\"Feature\",\"geometry\":{\"type\":\"Polygon\",\"coordinates\":[[[4.852505,52.470367],[4.90647,52.479826],[4.893319,52.457276],[4.898741,52.42449],[4.862677,52.429941],[4.842951,52.452261],[4.852505,52.470367]]]},\"properties\":{\"fid\":62,\"code\":\"0431\",\"gemeentena\":\"Oostzaan\"},\"id\":\"0431\"},{\"type\":\"Feature\",\"geometry\":{\"type\":\"Polygon\",\"coordinates\":[[[6.772527,53.283087],[6.69833,53.256145],[6.717686,53.241872],[6.698075,53.214749],[6.641706,53.185481],[6.683501,53.160474],[6.695367,53.121176],[6.637052,53.108258],[6.619053,53.13151],[6.563687,53.157638],[6.548188,53.181098],[6.513386,53.196937],[6.463461,53.200058],[6.48038,53.244895],[6.50824,53.257574],[6.553945,53.262126],[6.619297,53.249448],[6.654053,53.308645],[6.689592,53.297449],[6.708863,53.309911],[6.764621,53.298134],[6.772527,53.283087]]]},\"properties\":{\"fid\":63,\"code\":\"0014\",\"gemeentena\":\"Groningen\"},\"id\":\"0014\"},{\"type\":\"Feature\",\"geometry\":{\"type\":\"MultiPolygon\",\"coordinates\":[[[[5.717377,53.3389],[5.764034,53.350812],[5.858632,53.383575],[5.917348,53.387092],[6.016208,53.403142],[6.069696,53.407552],[6.138429,53.403539],[6.19142,53.411043],[6.167945,53.390759],[6.178588,53.364828],[6.286981,53.341382],[6.278307,53.302731],[6.253187,53.287859],[6.232173,53.256747],[6.19379,53.270037],[6.141058,53.264383],[6.043966,53.243502],[6.067568,53.323648],[6.022438,53.324031],[6.021122,53.308844],[5.975853,53.306927],[5.963858,53.322853],[5.896565,53.301742],[5.882245,53.276782],[5.838649,53.274949],[5.763197,53.294492],[5.735384,53.294721],[5.749301,53.313555],[5.722394,53.322293],[5.717377,53.3389]]],[[[6.057722,53.475902],[6.058382,53.474473],[6.059209,53.472684],[6.062022,53.466593],[6.057722,53.475902]]]]},\"properties\":{\"fid\":64,\"code\":\"1970\",\"gemeentena\":\"Noardeast-Frysl\\u00c3\\u00a2n\"},\"id\":\"1970\"},{\"type\":\"Feature\",\"geometry\":{\"type\":\"Polygon\",\"coordinates\":[[[4.547322,52.313997],[4.493822,52.328237],[4.541213,52.401423],[4.591659,52.391716],[4.547322,52.313997]]]},\"properties\":{\"fid\":65,\"code\":\"0473\",\"gemeentena\":\"Zandvoort\"},\"id\":\"0473\"},{\"type\":\"Feature\",\"geometry\":{\"type\":\"Polygon\",\"coordinates\":[[[4.89986,52.697587],[4.905618,52.686419],[4.95289,52.67213],[4.979205,52.679679],[5.034763,52.666556],[5.038137,52.648929],[5.019699,52.629963],[5.019305,52.612447],[5.004881,52.597573],[4.94985,52.595285],[4.926925,52.606697],[4.883992,52.613139],[4.873399,52.634446],[4.863179,52.656469],[4.877691,52.687262],[4.89986,52.697587]]]},\"properties\":{\"fid\":66,\"code\":\"1598\",\"gemeentena\":\"Koggenland\"},\"id\":\"1598\"},{\"type\":\"Feature\",\"geometry\":{\"type\":\"Polygon\",\"coordinates\":[[[6.006085,52.066349],[6.068281,52.088246],[6.137469,52.059181],[6.121502,52.034617],[6.12596,52.010127],[6.109591,51.996437],[6.092734,51.992751],[6.061781,52.014982],[6.001965,51.98065],[5.99034,51.974406],[5.951526,51.999638],[5.974514,52.002839],[5.995805,52.02622],[5.977959,52.05439],[6.006085,52.066349]]]},\"properties\":{\"fid\":67,\"code\":\"0275\",\"gemeentena\":\"Rheden\"},\"id\":\"0275\"},{\"type\":\"Feature\",\"geometry\":{\"type\":\"Polygon\",\"coordinates\":[[[5.091752,52.678924],[5.187023,52.707452],[5.209663,52.683933],[5.247083,52.684972],[5.236468,52.657134],[5.159238,52.622928],[5.128761,52.619596],[5.100815,52.634756],[5.117078,52.649986],[5.091752,52.678924]]]},\"properties\":{\"fid\":68,\"code\":\"0498\",\"gemeentena\":\"Drechterland\"},\"id\":\"0498\"},{\"type\":\"Feature\",\"geometry\":{\"type\":\"Polygon\",\"coordinates\":[[[6.834299,53.343308],[6.800842,53.366089],[6.777166,53.397965],[6.792455,53.403596],[6.843718,53.42242],[6.875061,53.408023],[6.88885,53.395886],[6.899751,53.351118],[6.943223,53.323983],[7.026199,53.3026],[7.084657,53.297953],[7.076073,53.267632],[7.090353,53.256322],[7.067522,53.242378],[7.041674,53.259266],[6.995472,53.266954],[6.911344,53.243015],[6.909103,53.278977],[6.887377,53.297882],[6.882551,53.338041],[6.834299,53.343308]]]},\"properties\":{\"fid\":69,\"code\":\"0010\",\"gemeentena\":\"Delfzijl\"},\"id\":\"0010\"},{\"type\":\"Feature\",\"geometry\":{\"type\":\"Polygon\",\"coordinates\":[[[5.864469,51.757682],[5.886635,51.726266],[5.91947,51.717671],[5.933785,51.71614],[5.859903,51.669914],[5.842805,51.67997],[5.805339,51.700511],[5.79244,51.720559],[5.790534,51.753509],[5.864469,51.757682]]]},\"properties\":{\"fid\":70,\"code\":\"1684\",\"gemeentena\":\"Cuijk\"},\"id\":\"1684\"},{\"type\":\"Feature\",\"geometry\":{\"type\":\"Polygon\",\"coordinates\":[[[6.575952,52.417513],[6.598851,52.383658],[6.615512,52.361261],[6.601768,52.337282],[6.626066,52.289974],[6.605363,52.270689],[6.568191,52.270144],[6.554009,52.283313],[6.545253,52.318107],[6.468189,52.326462],[6.512607,52.38184],[6.515982,52.406122],[6.575952,52.417513]]]},\"properties\":{\"fid\":71,\"code\":\"0189\",\"gemeentena\":\"Wierden\"},\"id\":\"0189\"},{\"type\":\"Feature\",\"geometry\":{\"type\":\"Polygon\",\"coordinates\":[[[6.231439,52.741709],[6.252028,52.758311],[6.296635,52.765926],[6.310415,52.795522],[6.340498,52.798979],[6.36109,52.783236],[6.394155,52.777533],[6.413106,52.7883],[6.44692,52.785889],[6.410134,52.764885],[6.423193,52.743],[6.407168,52.706796],[6.448677,52.693788],[6.48598,52.693633],[6.499552,52.673554],[6.530556,52.672472],[6.529381,52.654507],[6.513861,52.646294],[6.518604,52.614088],[6.431243,52.628378],[6.383837,52.612198],[6.364382,52.642778],[6.327798,52.658693],[6.265501,52.667988],[6.286618,52.699177],[6.248392,52.708197],[6.216904,52.703158],[6.231439,52.741709]]]},\"properties\":{\"fid\":72,\"code\":\"1690\",\"gemeentena\":\"De Wolden\"},\"id\":\"1690\"},{\"type\":\"Feature\",\"geometry\":{\"type\":\"Polygon\",\"coordinates\":[[[5.017933,52.323192],[5.016134,52.324512],[5.028183,52.337938],[5.093652,52.339009],[5.136564,52.326357],[5.163013,52.305277],[5.228545,52.311069],[5.195855,52.29925],[5.201117,52.26814],[5.162129,52.255796],[5.141297,52.277446],[5.104646,52.285385],[5.098849,52.311131],[5.039391,52.329106],[5.017933,52.323192]]]},\"properties\":{\"fid\":73,\"code\":\"1942\",\"gemeentena\":\"Gooise Meren\"},\"id\":\"1942\"},{\"type\":\"Feature\",\"geometry\":{\"type\":\"Polygon\",\"coordinates\":[[[5.75702,52.406771],[5.770748,52.395515],[5.811672,52.402799],[5.864792,52.359658],[5.876009,52.357873],[5.880951,52.335186],[5.840831,52.304398],[5.850811,52.268695],[5.821427,52.272672],[5.749227,52.268273],[5.750748,52.317074],[5.706171,52.328382],[5.712501,52.331914],[5.695606,52.36074],[5.680142,52.375871],[5.679316,52.377002],[5.678922,52.378841],[5.680739,52.379014],[5.75702,52.406771]]]},\"properties\":{\"fid\":74,\"code\":\"0302\",\"gemeentena\":\"Nunspeet\"},\"id\":\"0302\"},{\"type\":\"Feature\",\"geometry\":{\"type\":\"Polygon\",\"coordinates\":[[[4.190664,52.058564],[4.192396,52.057681],[4.196329,52.055676],[4.213781,52.031784],[4.248217,52.025226],[4.272663,52.035917],[4.307639,52.018151],[4.309819,52.015634],[4.265431,51.995731],[4.303143,51.9799],[4.240317,51.942872],[4.219529,51.9414],[4.187493,51.966837],[4.147281,51.981393],[4.124988,52.001776],[4.190664,52.058564]]]},\"properties\":{\"fid\":75,\"code\":\"1783\",\"gemeentena\":\"Westland\"},\"id\":\"1783\"},{\"type\":\"Feature\",\"geometry\":{\"type\":\"Polygon\",\"coordinates\":[[[5.404233,51.548292],[5.423843,51.534055],[5.447508,51.512069],[5.442571,51.493927],[5.401583,51.485956],[5.391187,51.471756],[5.389937,51.487533],[5.355887,51.496107],[5.349402,51.51706],[5.356911,51.544717],[5.404233,51.548292]]]},\"properties\":{\"fid\":76,\"code\":\"0753\",\"gemeentena\":\"Best\"},\"id\":\"0753\"},{\"type\":\"Feature\",\"geometry\":{\"type\":\"MultiPolygon\",\"coordinates\":[[[[6.286981,53.341382],[6.178588,53.364828],[6.167945,53.390759],[6.19142,53.411043],[6.260163,53.414348],[6.306612,53.39279],[6.339209,53.406462],[6.412815,53.422501],[6.577869,53.43352],[6.648301,53.454586],[6.754419,53.466001],[6.79925,53.455657],[6.814488,53.463348],[6.882614,53.440236],[6.875061,53.408023],[6.843718,53.42242],[6.792455,53.403596],[6.778614,53.410788],[6.697033,53.362903],[6.630953,53.362648],[6.595831,53.347141],[6.619862,53.314428],[6.654053,53.308645],[6.619297,53.249448],[6.553945,53.262126],[6.50824,53.257574],[6.504062,53.295695],[6.474748,53.323861],[6.441293,53.316807],[6.367591,53.321623],[6.324354,53.315648],[6.286981,53.341382]]],[[[6.474624,53.518769],[6.459387,53.539319],[6.48147,53.552426],[6.505841,53.537503],[6.474624,53.518769]]]]},\"properties\":{\"fid\":77,\"code\":\"1966\",\"gemeentena\":\"Het Hogeland\"},\"id\":\"1966\"},{\"type\":\"Feature\",\"geometry\":{\"type\":\"Polygon\",\"coordinates\":[[[3.633626,51.58934],[3.653128,51.568463],[3.694674,51.550167],[3.696382,51.535184],[3.65884,51.519261],[3.613158,51.535142],[3.583684,51.519627],[3.586979,51.479253],[3.526856,51.463047],[3.495815,51.493973],[3.433373,51.527096],[3.436351,51.540627],[3.550886,51.589063],[3.577343,51.594108],[3.633626,51.58934]]]},\"properties\":{\"fid\":78,\"code\":\"0717\",\"gemeentena\":\"Veere\"},\"id\":\"0717\"},{\"type\":\"Feature\",\"geometry\":{\"type\":\"Polygon\",\"coordinates\":[[[5.106785,52.774734],[5.148986,52.73945],[5.192832,52.75527],[5.272245,52.746886],[5.257501,52.716181],[5.210971,52.71691],[5.187023,52.707452],[5.091752,52.678924],[5.034763,52.666556],[4.979205,52.679679],[4.988271,52.713382],[5.011164,52.722907],[4.99686,52.752065],[5.045917,52.753356],[5.069723,52.768103],[5.106785,52.774734]]]},\"properties\":{\"fid\":79,\"code\":\"0420\",\"gemeentena\":\"Medemblik\"},\"id\":\"0420\"},{\"type\":\"Feature\",\"geometry\":{\"type\":\"Polygon\",\"coordinates\":[[[6.000788,52.500149],[6.027857,52.509606],[6.098271,52.471183],[6.103546,52.453964],[6.022667,52.444103],[6.036945,52.470243],[6.000788,52.500149]]]},\"properties\":{\"fid\":80,\"code\":\"0244\",\"gemeentena\":\"Hattem\"},\"id\":\"0244\"},{\"type\":\"Feature\",\"geometry\":{\"type\":\"Polygon\",\"coordinates\":[[[7.072205,52.372803],[7.026453,52.291968],[7.02752,52.277986],[7.061284,52.234711],[6.9811,52.220737],[6.96589,52.230419],[6.969015,52.267399],[6.939171,52.283869],[6.950139,52.319357],[6.937531,52.332836],[6.970259,52.348767],[6.97093,52.37986],[7.00783,52.363825],[7.072205,52.372803]]]},\"properties\":{\"fid\":81,\"code\":\"0168\",\"gemeentena\":\"Losser\"},\"id\":\"0168\"},{\"type\":\"Feature\",\"geometry\":{\"type\":\"Polygon\",\"coordinates\":[[[4.79208,52.122287],[4.832858,52.144762],[4.874518,52.138831],[4.892178,52.161798],[4.909638,52.161871],[4.943916,52.127537],[4.970096,52.122442],[5.005011,52.088485],[4.999498,52.066131],[4.936143,52.07992],[4.8732,52.068745],[4.826276,52.074644],[4.825315,52.107151],[4.79208,52.122287]]]},\"properties\":{\"fid\":82,\"code\":\"0632\",\"gemeentena\":\"Woerden\"},\"id\":\"0632\"},{\"type\":\"Feature\",\"geometry\":{\"type\":\"Polygon\",\"coordinates\":[[[6.736337,52.878691],[6.724175,52.937288],[6.727712,52.95472],[6.788759,52.962775],[6.841916,52.978647],[6.935685,52.993353],[7.026854,52.919037],[7.045571,52.915909],[7.014799,52.872987],[6.957566,52.861796],[6.948784,52.848727],[6.858512,52.813703],[6.849806,52.804634],[6.765601,52.849926],[6.736337,52.878691]]]},\"properties\":{\"fid\":83,\"code\":\"1681\",\"gemeentena\":\"Borger-Odoorn\"},\"id\":\"1681\"},{\"type\":\"Feature\",\"geometry\":{\"type\":\"Polygon\",\"coordinates\":[[[3.586979,51.479253],[3.666891,51.469615],[3.703648,51.48227],[3.70565,51.476967],[3.702654,51.47483],[3.706258,51.47095],[3.657789,51.456076],[3.64096,51.443981],[3.573815,51.439507],[3.526856,51.463047],[3.586979,51.479253]]]},\"properties\":{\"fid\":84,\"code\":\"0718\",\"gemeentena\":\"Vlissingen\"},\"id\":\"0718\"},{\"type\":\"Feature\",\"geometry\":{\"type\":\"Polygon\",\"coordinates\":[[[5.667853,51.865927],[5.678111,51.843147],[5.764732,51.832291],[5.800949,51.795151],[5.729745,51.772851],[5.71123,51.775034],[5.665512,51.793634],[5.638113,51.819025],[5.597977,51.828049],[5.609835,51.836274],[5.635931,51.847458],[5.636177,51.867362],[5.667853,51.865927]]]},\"properties\":{\"fid\":85,\"code\":\"0296\",\"gemeentena\":\"Wijchen\"},\"id\":\"0296\"},{\"type\":\"Feature\",\"geometry\":{\"type\":\"Polygon\",\"coordinates\":[[[4.738857,52.106507],[4.79208,52.122287],[4.825315,52.107151],[4.826276,52.074644],[4.8732,52.068745],[4.868225,52.063446],[4.82949,52.049813],[4.7987,52.022272],[4.750991,52.013899],[4.706039,52.04012],[4.677311,52.043971],[4.659968,52.064104],[4.715202,52.080967],[4.708758,52.093644],[4.738857,52.106507]]]},\"properties\":{\"fid\":86,\"code\":\"1901\",\"gemeentena\":\"Bodegraven-Reeuwijk\"},\"id\":\"1901\"},{\"type\":\"Feature\",\"geometry\":{\"type\":\"Polygon\",\"coordinates\":[[[4.706039,52.04012],[4.750991,52.013899],[4.688685,51.996258],[4.666607,52.012971],[4.667279,52.025078],[4.706039,52.04012]]]},\"properties\":{\"fid\":87,\"code\":\"0513\",\"gemeentena\":\"Gouda\"},\"id\":\"0513\"},{\"type\":\"Feature\",\"geometry\":{\"type\":\"Polygon\",\"coordinates\":[[[4.841878,51.480736],[4.780906,51.504047],[4.760023,51.502373],[4.747081,51.515275],[4.83077,51.550352],[4.862985,51.55727],[4.866232,51.538067],[4.911063,51.510081],[4.962573,51.525864],[4.992298,51.512248],[4.987993,51.483045],[5.016522,51.475439],[5.010463,51.458244],[4.932399,51.459135],[4.891295,51.478217],[4.841878,51.480736]]]},\"properties\":{\"fid\":88,\"code\":\"1723\",\"gemeentena\":\"Alphen-Chaam\"},\"id\":\"1723\"},{\"type\":\"Feature\",\"geometry\":{\"type\":\"Polygon\",\"coordinates\":[[[4.443999,51.569095],[4.500204,51.558536],[4.523192,51.542557],[4.50218,51.516724],[4.486682,51.477353],[4.391083,51.451487],[4.366966,51.456719],[4.372798,51.487724],[4.34954,51.503481],[4.317978,51.551216],[4.375362,51.543721],[4.441078,51.558492],[4.443999,51.569095]]]},\"properties\":{\"fid\":89,\"code\":\"1674\",\"gemeentena\":\"Roosendaal\"},\"id\":\"1674\"},{\"type\":\"Feature\",\"geometry\":{\"type\":\"Polygon\",\"coordinates\":[[[5.064412,52.280738],[5.102066,52.279891],[5.139605,52.254015],[5.145141,52.196637],[5.124111,52.180827],[5.115294,52.179853],[5.046421,52.165929],[5.035008,52.186943],[5.036666,52.22436],[5.056224,52.234979],[5.034413,52.252922],[5.033278,52.275412],[5.064412,52.280738]]]},\"properties\":{\"fid\":90,\"code\":\"1696\",\"gemeentena\":\"Wijdemeren\"},\"id\":\"1696\"},{\"type\":\"Feature\",\"geometry\":{\"type\":\"Polygon\",\"coordinates\":[[[5.758615,51.593947],[5.750478,51.622683],[5.747676,51.632668],[5.79035,51.649938],[5.842805,51.67997],[5.859903,51.669914],[5.855798,51.662206],[5.925766,51.63215],[5.939617,51.612422],[5.931853,51.596861],[5.877236,51.578166],[5.870892,51.562644],[5.838238,51.566415],[5.800586,51.578622],[5.786678,51.598208],[5.758615,51.593947]]]},\"properties\":{\"fid\":91,\"code\":\"1702\",\"gemeentena\":\"Sint Anthonis\"},\"id\":\"1702\"},{\"type\":\"Feature\",\"geometry\":{\"type\":\"Polygon\",\"coordinates\":[[[5.931288,51.384753],[5.957897,51.37805],[6.018766,51.382257],[6.073126,51.395729],[6.077587,51.378173],[6.123254,51.34337],[6.116233,51.323206],[6.084717,51.297454],[6.009612,51.265759],[6.008255,51.277543],[5.954706,51.30028],[5.877823,51.316578],[5.852142,51.320702],[5.840194,51.346877],[5.87036,51.352535],[5.931288,51.384753]]]},\"properties\":{\"fid\":92,\"code\":\"1894\",\"gemeentena\":\"Peel en Maas\"},\"id\":\"1894\"},{\"type\":\"Feature\",\"geometry\":{\"type\":\"Polygon\",\"coordinates\":[[[6.595188,52.480303],[6.505469,52.490963],[6.450098,52.461256],[6.428777,52.438687],[6.390315,52.428145],[6.380573,52.429816],[6.378494,52.456417],[6.342616,52.456905],[6.344025,52.481829],[6.331516,52.522075],[6.360584,52.524165],[6.323413,52.592527],[6.402645,52.591403],[6.415015,52.570012],[6.488356,52.569001],[6.521827,52.560586],[6.545992,52.51585],[6.609644,52.492505],[6.595188,52.480303]]]},\"properties\":{\"fid\":93,\"code\":\"0175\",\"gemeentena\":\"Ommen\"},\"id\":\"0175\"},{\"type\":\"Feature\",\"geometry\":{\"type\":\"Polygon\",\"coordinates\":[[[6.527269,51.966024],[6.559199,51.974367],[6.638916,51.962547],[6.634153,51.9353],[6.668733,51.913863],[6.58578,51.894082],[6.556137,51.881699],[6.464384,51.855287],[6.484013,51.878131],[6.472627,51.907065],[6.488664,51.912866],[6.504781,51.945984],[6.527269,51.966024]]]},\"properties\":{\"fid\":94,\"code\":\"0197\",\"gemeentena\":\"Aalten\"},\"id\":\"0197\"},{\"type\":\"Feature\",\"geometry\":{\"type\":\"Polygon\",\"coordinates\":[[[4.924864,51.839718],[4.938399,51.863629],[4.998685,51.852277],[5.031415,51.841085],[5.026352,51.818857],[5.000364,51.820933],[4.926987,51.828306],[4.924864,51.839718]]]},\"properties\":{\"fid\":95,\"code\":\"0512\",\"gemeentena\":\"Gorinchem\"},\"id\":\"0512\"},{\"type\":\"Feature\",\"geometry\":{\"type\":\"Polygon\",\"coordinates\":[[[5.626568,51.623401],[5.651357,51.58236],[5.652486,51.569679],[5.627214,51.555277],[5.58425,51.562714],[5.533083,51.557804],[5.547437,51.537732],[5.530864,51.525049],[5.500261,51.521397],[5.487146,51.541848],[5.423843,51.534055],[5.404233,51.548292],[5.40016,51.575673],[5.380529,51.602902],[5.391087,51.616446],[5.371868,51.641931],[5.42339,51.653783],[5.467781,51.64228],[5.497202,51.626686],[5.524397,51.630439],[5.5703,51.651434],[5.602274,51.629414],[5.626568,51.623401]]]},\"properties\":{\"fid\":96,\"code\":\"1948\",\"gemeentena\":\"Meierijstad\"},\"id\":\"1948\"},{\"type\":\"Feature\",\"geometry\":{\"type\":\"Polygon\",\"coordinates\":[[[5.865562,52.51858],[5.887854,52.516331],[5.925559,52.474058],[5.965258,52.476463],[6.000788,52.500149],[6.036945,52.470243],[6.022667,52.444103],[5.951024,52.398437],[5.924339,52.391393],[5.841454,52.470725],[5.865562,52.51858]]]},\"properties\":{\"fid\":97,\"code\":\"0269\",\"gemeentena\":\"Oldebroek\"},\"id\":\"0269\"},{\"type\":\"Feature\",\"geometry\":{\"type\":\"Polygon\",\"coordinates\":[[[5.515774,51.295203],[5.566077,51.320543],[5.605317,51.331805],[5.631295,51.327541],[5.654707,51.353877],[5.672111,51.315094],[5.643997,51.290575],[5.625972,51.273602],[5.618782,51.229425],[5.566045,51.220909],[5.557931,51.262464],[5.515774,51.295203]]]},\"properties\":{\"fid\":98,\"code\":\"1706\",\"gemeentena\":\"Cranendonck\"},\"id\":\"1706\"},{\"type\":\"Feature\",\"geometry\":{\"type\":\"Polygon\",\"coordinates\":[[[5.976607,51.643783],[6.031945,51.676165],[6.087888,51.65985],[6.109412,51.646867],[6.091387,51.605936],[6.157032,51.566575],[6.176902,51.538556],[6.213361,51.507818],[6.169193,51.503082],[6.141094,51.51952],[6.114178,51.54363],[6.048121,51.558463],[6.026281,51.595577],[6.02063,51.621291],[5.976607,51.643783]]]},\"properties\":{\"fid\":99,\"code\":\"0893\",\"gemeentena\":\"Bergen (L.)\"},\"id\":\"0893\"},{\"type\":\"Feature\",\"geometry\":{\"type\":\"Polygon\",\"coordinates\":[[[5.721718,51.485131],[5.773439,51.488638],[5.852574,51.504144],[5.874966,51.446558],[5.931288,51.384753],[5.87036,51.352535],[5.831877,51.39959],[5.787863,51.412657],[5.755699,51.434268],[5.718245,51.438734],[5.721718,51.485131]]]},\"properties\":{\"fid\":100,\"code\":\"0762\",\"gemeentena\":\"Deurne\"},\"id\":\"0762\"},{\"type\":\"Feature\",\"geometry\":{\"type\":\"Polygon\",\"coordinates\":[[[4.842368,51.679654],[4.836905,51.712612],[4.873055,51.719998],[4.917991,51.719959],[4.933169,51.67675],[4.925032,51.673009],[4.842368,51.679654]]]},\"properties\":{\"fid\":101,\"code\":\"0779\",\"gemeentena\":\"Geertruidenberg\"},\"id\":\"0779\"},{\"type\":\"Feature\",\"geometry\":{\"type\":\"Polygon\",\"coordinates\":[[[4.440478,52.155653],[4.442989,52.145346],[4.401159,52.11187],[4.372709,52.094773],[4.342318,52.097482],[4.302862,52.128355],[4.374138,52.187001],[4.411059,52.164137],[4.440478,52.155653]]]},\"properties\":{\"fid\":102,\"code\":\"0629\",\"gemeentena\":\"Wassenaar\"},\"id\":\"0629\"},{\"type\":\"Feature\",\"geometry\":{\"type\":\"Polygon\",\"coordinates\":[[[6.834299,53.343308],[6.882551,53.338041],[6.887377,53.297882],[6.845806,53.290126],[6.814345,53.297592],[6.810833,53.32516],[6.834299,53.343308]]]},\"properties\":{\"fid\":103,\"code\":\"0003\",\"gemeentena\":\"Appingedam\"},\"id\":\"0003\"},{\"type\":\"Feature\",\"geometry\":{\"type\":\"Polygon\",\"coordinates\":[[[6.141094,51.51952],[6.169193,51.503082],[6.178129,51.464448],[6.15524,51.442673],[6.158327,51.424809],[6.077696,51.420171],[6.073126,51.395729],[6.018766,51.382257],[5.957897,51.37805],[5.931288,51.384753],[5.874966,51.446558],[5.99412,51.475213],[6.068082,51.48837],[6.066774,51.523694],[6.141094,51.51952]]]},\"properties\":{\"fid\":104,\"code\":\"1507\",\"gemeentena\":\"Horst aan de Maas\"},\"id\":\"1507\"},{\"type\":\"Feature\",\"geometry\":{\"type\":\"Polygon\",\"coordinates\":[[[5.312278,52.232829],[5.330541,52.214732],[5.314282,52.203023],[5.270216,52.188526],[5.243173,52.170076],[5.224999,52.1657],[5.212076,52.176374],[5.215501,52.204273],[5.21896,52.212129],[5.22473,52.225197],[5.30097,52.223524],[5.312278,52.232829]]]},\"properties\":{\"fid\":105,\"code\":\"0308\",\"gemeentena\":\"Baarn\"},\"id\":\"0308\"},{\"type\":\"Feature\",\"geometry\":{\"type\":\"Polygon\",\"coordinates\":[[[4.617704,51.93105],[4.635768,51.91023],[4.576328,51.903032],[4.549901,51.906728],[4.617704,51.93105]]]},\"properties\":{\"fid\":106,\"code\":\"0542\",\"gemeentena\":\"Krimpen aan den IJssel\"},\"id\":\"0542\"},{\"type\":\"Feature\",\"geometry\":{\"type\":\"Polygon\",\"coordinates\":[[[5.813374,52.024071],[5.850045,52.051602],[5.899401,52.049958],[5.946103,52.077891],[5.955931,52.073339],[5.937099,52.048533],[5.951526,51.999638],[5.99034,51.974406],[5.950488,51.96205],[5.955225,51.948754],[5.9169,51.950521],[5.897918,51.934358],[5.829928,51.945237],[5.835343,51.973559],[5.863737,51.977965],[5.86374,51.99589],[5.802961,52.004054],[5.813374,52.024071]]]},\"properties\":{\"fid\":107,\"code\":\"0202\",\"gemeentena\":\"Arnhem\"},\"id\":\"0202\"},{\"type\":\"Feature\",\"geometry\":{\"type\":\"Polygon\",\"coordinates\":[[[5.456873,51.687591],[5.42339,51.653783],[5.371868,51.641931],[5.391087,51.616446],[5.380529,51.602902],[5.352929,51.600691],[5.317732,51.634634],[5.319057,51.670372],[5.353693,51.671073],[5.359437,51.698707],[5.43933,51.700434],[5.456873,51.687591]]]},\"properties\":{\"fid\":108,\"code\":\"0845\",\"gemeentena\":\"Sint-Michielsgestel\"},\"id\":\"0845\"},{\"type\":\"Feature\",\"geometry\":{\"type\":\"Polygon\",\"coordinates\":[[[6.513386,53.196937],[6.548188,53.181098],[6.563687,53.157638],[6.619053,53.13151],[6.637052,53.108258],[6.695367,53.121176],[6.737451,53.119462],[6.776509,53.094761],[6.642291,53.045799],[6.631221,53.026105],[6.603015,53.033087],[6.603265,53.05951],[6.555213,53.058608],[6.547307,53.035067],[6.50513,53.046355],[6.513356,53.07228],[6.4803,53.120787],[6.539081,53.132506],[6.536265,53.168002],[6.513386,53.196937]]]},\"properties\":{\"fid\":109,\"code\":\"1730\",\"gemeentena\":\"Tynaarlo\"},\"id\":\"1730\"},{\"type\":\"Feature\",\"geometry\":{\"type\":\"Polygon\",\"coordinates\":[[[5.92847,50.936612],[6.011696,50.926439],[5.994809,50.895575],[6.017142,50.870467],[6.017959,50.843805],[6.023723,50.818403],[5.969362,50.86008],[5.923405,50.904406],[5.895506,50.920135],[5.92847,50.936612]]]},\"properties\":{\"fid\":110,\"code\":\"0917\",\"gemeentena\":\"Heerlen\"},\"id\":\"0917\"},{\"type\":\"Feature\",\"geometry\":{\"type\":\"Polygon\",\"coordinates\":[[[4.524038,52.147398],[4.550733,52.13838],[4.535323,52.120432],[4.530555,52.080511],[4.492219,52.09001],[4.472975,52.118952],[4.524038,52.147398]]]},\"properties\":{\"fid\":111,\"code\":\"0638\",\"gemeentena\":\"Zoeterwoude\"},\"id\":\"0638\"},{\"type\":\"Feature\",\"geometry\":{\"type\":\"Polygon\",\"coordinates\":[[[6.416082,51.972622],[6.46785,51.978219],[6.527269,51.966024],[6.504781,51.945984],[6.488664,51.912866],[6.472627,51.907065],[6.484013,51.878131],[6.464384,51.855287],[6.412329,51.871078],[6.407163,51.829057],[6.3636,51.835051],[6.347207,51.850681],[6.306203,51.849078],[6.299006,51.867826],[6.331633,51.874821],[6.290971,51.922601],[6.305763,51.938821],[6.361013,51.923014],[6.416082,51.972622]]]},\"properties\":{\"fid\":112,\"code\":\"1509\",\"gemeentena\":\"Oude IJsselstreek\"},\"id\":\"1509\"},{\"type\":\"Feature\",\"geometry\":{\"type\":\"Polygon\",\"coordinates\":[[[4.55718,52.061239],[4.565043,52.058569],[4.547686,51.972807],[4.518586,51.960286],[4.469012,51.980549],[4.427898,51.976466],[4.458717,52.002196],[4.457373,52.02227],[4.476706,52.031642],[4.504675,52.031959],[4.55718,52.061239]]]},\"properties\":{\"fid\":113,\"code\":\"1621\",\"gemeentena\":\"Lansingerland\"},\"id\":\"1621\"},{\"type\":\"Feature\",\"geometry\":{\"type\":\"Polygon\",\"coordinates\":[[[4.868225,52.063446],[4.8732,52.068745],[4.936143,52.07992],[4.999498,52.066131],[5.017075,52.061143],[4.99011,52.052199],[4.995195,52.02172],[4.920045,52.010014],[4.926681,52.029987],[4.868225,52.063446]]]},\"properties\":{\"fid\":114,\"code\":\"0335\",\"gemeentena\":\"Montfoort\"},\"id\":\"0335\"},{\"type\":\"Feature\",\"geometry\":{\"type\":\"Polygon\",\"coordinates\":[[[4.464082,52.215964],[4.463471,52.200202],[4.448368,52.162052],[4.440478,52.155653],[4.411059,52.164137],[4.374138,52.187001],[4.404877,52.219944],[4.440188,52.207356],[4.464082,52.215964]]]},\"properties\":{\"fid\":115,\"code\":\"0537\",\"gemeentena\":\"Katwijk\"},\"id\":\"0537\"},{\"type\":\"Feature\",\"geometry\":{\"type\":\"Polygon\",\"coordinates\":[[[5.665989,51.952799],[5.722606,51.964051],[5.747876,51.969609],[5.786773,51.960159],[5.835343,51.973559],[5.829928,51.945237],[5.897918,51.934358],[5.891199,51.907263],[5.857124,51.894621],[5.838308,51.893694],[5.817075,51.870265],[5.706659,51.893292],[5.681211,51.91832],[5.665989,51.952799]]]},\"properties\":{\"fid\":116,\"code\":\"1734\",\"gemeentena\":\"Overbetuwe\"},\"id\":\"1734\"},{\"type\":\"Feature\",\"geometry\":{\"type\":\"Polygon\",\"coordinates\":[[[5.400633,51.837659],[5.414885,51.82129],[5.401706,51.820893],[5.365319,51.784857],[5.353514,51.755477],[5.295997,51.736718],[5.245335,51.734178],[5.206494,51.741477],[5.1857,51.741918],[5.173672,51.76402],[5.269948,51.774325],[5.288171,51.800177],[5.281718,51.821208],[5.319806,51.820563],[5.364192,51.807027],[5.400633,51.837659]]]},\"properties\":{\"fid\":117,\"code\":\"0263\",\"gemeentena\":\"Maasdriel\"},\"id\":\"0263\"},{\"type\":\"Feature\",\"geometry\":{\"type\":\"Polygon\",\"coordinates\":[[[5.107093,52.133211],[5.146916,52.120383],[5.160612,52.094783],[5.192752,52.086076],[5.195155,52.077346],[5.160546,52.078047],[5.153031,52.056757],[5.126832,52.054918],[5.075629,52.062228],[5.062801,52.026823],[5.017075,52.061143],[4.999498,52.066131],[5.005011,52.088485],[4.970096,52.122442],[5.002154,52.141759],[5.032676,52.116768],[5.087165,52.135671],[5.107093,52.133211]]]},\"properties\":{\"fid\":118,\"code\":\"0344\",\"gemeentena\":\"Utrecht\"},\"id\":\"0344\"},{\"type\":\"Feature\",\"geometry\":{\"type\":\"Polygon\",\"coordinates\":[[[6.121502,52.034617],[6.137469,52.059181],[6.174899,52.089667],[6.217899,52.097881],[6.235921,52.113717],[6.328314,52.137712],[6.423999,52.096908],[6.400539,52.083811],[6.440027,52.027148],[6.462185,52.021701],[6.475756,51.988125],[6.46785,51.978219],[6.416082,51.972622],[6.381505,51.967986],[6.327728,51.977287],[6.312219,51.993971],[6.249883,51.976012],[6.160483,51.981037],[6.159251,51.99974],[6.176547,52.019228],[6.175527,52.039374],[6.121502,52.034617]]]},\"properties\":{\"fid\":119,\"code\":\"1876\",\"gemeentena\":\"Bronckhorst\"},\"id\":\"1876\"},{\"type\":\"Feature\",\"geometry\":{\"type\":\"Polygon\",\"coordinates\":[[[5.017933,52.323192],[5.039391,52.329106],[5.098849,52.311131],[5.104646,52.285385],[5.102066,52.279891],[5.064412,52.280738],[5.021867,52.282653],[5.021543,52.302457],[5.017933,52.323192]]]},\"properties\":{\"fid\":120,\"code\":\"0457\",\"gemeentena\":\"Weesp\"},\"id\":\"0457\"},{\"type\":\"Feature\",\"geometry\":{\"type\":\"Polygon\",\"coordinates\":[[[6.021399,52.641431],[6.085563,52.663274],[6.119566,52.667937],[6.096848,52.635626],[6.105848,52.603696],[6.147419,52.584408],[6.166814,52.565252],[6.140527,52.552102],[6.109791,52.561115],[6.0894,52.551841],[6.063154,52.56728],[6.033038,52.559403],[6.012688,52.585636],[5.982941,52.577514],[5.971341,52.594157],[5.986184,52.625151],[6.021399,52.641431]]]},\"properties\":{\"fid\":121,\"code\":\"1896\",\"gemeentena\":\"Zwartewaterland\"},\"id\":\"1896\"},{\"type\":\"Feature\",\"geometry\":{\"type\":\"Polygon\",\"coordinates\":[[[6.043966,53.243502],[6.019791,53.240914],[5.955974,53.228056],[5.882245,53.276782],[5.896565,53.301742],[5.963858,53.322853],[5.975853,53.306927],[6.021122,53.308844],[6.022438,53.324031],[6.067568,53.323648],[6.043966,53.243502]]]},\"properties\":{\"fid\":122,\"code\":\"1891\",\"gemeentena\":\"Dantumadiel\"},\"id\":\"1891\"},{\"type\":\"Feature\",\"geometry\":{\"type\":\"Polygon\",\"coordinates\":[[[4.049091,51.83161],[4.048474,51.832166],[4.067286,51.845403],[4.117245,51.857958],[4.155279,51.881603],[4.185273,51.849708],[4.222048,51.826662],[4.19422,51.804123],[4.155193,51.822589],[4.121245,51.820146],[4.072079,51.842581],[4.049091,51.83161]]]},\"properties\":{\"fid\":123,\"code\":\"0530\",\"gemeentena\":\"Hellevoetsluis\"},\"id\":\"0530\"},{\"type\":\"Feature\",\"geometry\":{\"type\":\"Polygon\",\"coordinates\":[[[5.667853,51.865927],[5.685014,51.895648],[5.706659,51.893292],[5.817075,51.870265],[5.787218,51.840929],[5.764732,51.832291],[5.678111,51.843147],[5.667853,51.865927]]]},\"properties\":{\"fid\":124,\"code\":\"0209\",\"gemeentena\":\"Beuningen\"},\"id\":\"0209\"},{\"type\":\"Feature\",\"geometry\":{\"type\":\"Polygon\",\"coordinates\":[[[5.613885,53.453721],[5.66536,53.471454],[5.694425,53.462508],[5.776683,53.460788],[5.930304,53.468116],[5.89169,53.451478],[5.80342,53.43733],[5.732613,53.442892],[5.680543,53.424524],[5.649741,53.424281],[5.616226,53.440567],[5.613885,53.453721]]]},\"properties\":{\"fid\":125,\"code\":\"0060\",\"gemeentena\":\"Ameland\"},\"id\":\"0060\"},{\"type\":\"Feature\",\"geometry\":{\"type\":\"Polygon\",\"coordinates\":[[[5.94346,53.121614],[6.019773,53.155365],[6.105013,53.151799],[6.17675,53.159505],[6.185717,53.129213],[6.12465,53.100923],[6.088358,53.070908],[6.024399,53.073361],[6.00247,53.080653],[5.927581,53.078395],[5.874643,53.08507],[5.882006,53.106939],[5.933019,53.109389],[5.94346,53.121614]]]},\"properties\":{\"fid\":126,\"code\":\"0090\",\"gemeentena\":\"Smallingerland\"},\"id\":\"0090\"},{\"type\":\"Feature\",\"geometry\":{\"type\":\"Polygon\",\"coordinates\":[[[4.665072,51.634319],[4.69906,51.638073],[4.731389,51.642994],[4.787506,51.637048],[4.842683,51.616986],[4.842622,51.585829],[4.864239,51.579089],[4.862985,51.55727],[4.83077,51.550352],[4.747081,51.515275],[4.760023,51.502373],[4.733997,51.485548],[4.741836,51.531355],[4.694187,51.544848],[4.682106,51.598893],[4.663872,51.604069],[4.665072,51.634319]]]},\"properties\":{\"fid\":127,\"code\":\"0758\",\"gemeentena\":\"Breda\"},\"id\":\"0758\"},{\"type\":\"Feature\",\"geometry\":{\"type\":\"Polygon\",\"coordinates\":[[[5.87911,51.80953],[5.837108,51.806076],[5.800949,51.795151],[5.764732,51.832291],[5.787218,51.840929],[5.817075,51.870265],[5.838308,51.893694],[5.857124,51.894621],[5.886766,51.865203],[5.880299,51.844948],[5.908347,51.829302],[5.87911,51.80953]]]},\"properties\":{\"fid\":128,\"code\":\"0268\",\"gemeentena\":\"Nijmegen\"},\"id\":\"0268\"},{\"type\":\"Feature\",\"geometry\":{\"type\":\"Polygon\",\"coordinates\":[[[5.575999,52.326455],[5.608707,52.319052],[5.630264,52.326851],[5.678124,52.301492],[5.706171,52.328382],[5.750748,52.317074],[5.749227,52.268273],[5.761449,52.248304],[5.726389,52.242503],[5.683642,52.240617],[5.637049,52.272495],[5.587536,52.278812],[5.547734,52.291988],[5.575999,52.326455]]]},\"properties\":{\"fid\":129,\"code\":\"0233\",\"gemeentena\":\"Ermelo\"},\"id\":\"0233\"},{\"type\":\"Feature\",\"geometry\":{\"type\":\"Polygon\",\"coordinates\":[[[4.571481,52.153109],[4.681209,52.167504],[4.705929,52.151682],[4.741839,52.162673],[4.759025,52.135143],[4.738857,52.106507],[4.708758,52.093644],[4.715202,52.080967],[4.659968,52.064104],[4.636851,52.073737],[4.607427,52.065527],[4.565043,52.058569],[4.55718,52.061239],[4.530555,52.080511],[4.535323,52.120432],[4.550733,52.13838],[4.571481,52.153109]]]},\"properties\":{\"fid\":130,\"code\":\"0484\",\"gemeentena\":\"Alphen aan den Rijn\"},\"id\":\"0484\"},{\"type\":\"Feature\",\"geometry\":{\"type\":\"Polygon\",\"coordinates\":[[[5.237705,51.428559],[5.281898,51.40437],[5.28924,51.388909],[5.275299,51.362723],[5.285973,51.336339],[5.263411,51.319282],[5.241118,51.305665],[5.200255,51.322661],[5.193865,51.345226],[5.19102,51.430216],[5.191025,51.430225],[5.237705,51.428559]]]},\"properties\":{\"fid\":131,\"code\":\"1728\",\"gemeentena\":\"Bladel\"},\"id\":\"1728\"},{\"type\":\"Feature\",\"geometry\":{\"type\":\"Polygon\",\"coordinates\":[[[5.414885,51.82129],[5.400633,51.837659],[5.415234,51.851801],[5.433538,51.877226],[5.463917,51.889009],[5.531363,51.894753],[5.566437,51.883948],[5.585013,51.839107],[5.609835,51.836274],[5.597977,51.828049],[5.561278,51.827829],[5.539479,51.81622],[5.494556,51.830732],[5.474215,51.814641],[5.432155,51.810629],[5.414885,51.82129]]]},\"properties\":{\"fid\":132,\"code\":\"0668\",\"gemeentena\":\"West Maas en Waal\"},\"id\":\"0668\"},{\"type\":\"Feature\",\"geometry\":{\"type\":\"Polygon\",\"coordinates\":[[[4.868225,52.063446],[4.926681,52.029987],[4.920045,52.010014],[4.835218,51.986143],[4.817806,51.999767],[4.846875,52.018165],[4.7987,52.022272],[4.82949,52.049813],[4.868225,52.063446]]]},\"properties\":{\"fid\":133,\"code\":\"0589\",\"gemeentena\":\"Oudewater\"},\"id\":\"0589\"},{\"type\":\"Feature\",\"geometry\":{\"type\":\"Polygon\",\"coordinates\":[[[6.687981,52.044365],[6.687853,52.039856],[6.662209,52.017299],[6.654475,51.974834],[6.638916,51.962547],[6.559199,51.974367],[6.527269,51.966024],[6.46785,51.978219],[6.475756,51.988125],[6.462185,52.021701],[6.517288,52.042414],[6.538989,52.025197],[6.574314,52.031933],[6.605481,52.051855],[6.606237,52.065155],[6.658971,52.063041],[6.687981,52.044365]]]},\"properties\":{\"fid\":134,\"code\":\"1586\",\"gemeentena\":\"Oost Gelre\"},\"id\":\"1586\"},{\"type\":\"Feature\",\"geometry\":{\"type\":\"Polygon\",\"coordinates\":[[[5.272334,51.683937],[5.272225,51.683949],[5.226158,51.690031],[5.231032,51.724086],[5.206494,51.741477],[5.245335,51.734178],[5.295997,51.736718],[5.353514,51.755477],[5.438816,51.76503],[5.474244,51.728965],[5.492386,51.706101],[5.456873,51.687591],[5.43933,51.700434],[5.359437,51.698707],[5.353693,51.671073],[5.319057,51.670372],[5.272334,51.683937]]]},\"properties\":{\"fid\":135,\"code\":\"0796\",\"gemeentena\":\"'s-Hertogenbosch\"},\"id\":\"0796\"},{\"type\":\"Feature\",\"geometry\":{\"type\":\"Polygon\",\"coordinates\":[[[4.794697,52.260682],[4.852053,52.242013],[4.794576,52.226731],[4.728766,52.209819],[4.723764,52.216574],[4.773272,52.241034],[4.794697,52.260682]]]},\"properties\":{\"fid\":136,\"code\":\"0451\",\"gemeentena\":\"Uithoorn\"},\"id\":\"0451\"},{\"type\":\"Feature\",\"geometry\":{\"type\":\"Polygon\",\"coordinates\":[[[5.529348,52.040202],[5.557903,52.048865],[5.586712,52.03129],[5.589489,52.009456],[5.553229,51.999031],[5.512592,52.018516],[5.529348,52.040202]]]},\"properties\":{\"fid\":137,\"code\":\"0345\",\"gemeentena\":\"Veenendaal\"},\"id\":\"0345\"},{\"type\":\"Feature\",\"geometry\":{\"type\":\"Polygon\",\"coordinates\":[[[5.388907,51.37646],[5.421801,51.38341],[5.423207,51.374866],[5.424291,51.33076],[5.394262,51.308785],[5.387804,51.285239],[5.417412,51.262286],[5.34614,51.275764],[5.336476,51.263067],[5.296154,51.261482],[5.225972,51.26826],[5.241118,51.305665],[5.263411,51.319282],[5.316672,51.323389],[5.347121,51.337453],[5.346101,51.357901],[5.388907,51.37646]]]},\"properties\":{\"fid\":138,\"code\":\"1724\",\"gemeentena\":\"Bergeijk\"},\"id\":\"1724\"},{\"type\":\"Feature\",\"geometry\":{\"type\":\"MultiPolygon\",\"coordinates\":[[[[3.83902,51.758332],[3.842326,51.756394],[3.855095,51.738508],[3.887536,51.744113],[3.916382,51.731208],[3.973212,51.733341],[4.015283,51.686574],[4.042739,51.684876],[4.097837,51.665427],[4.096101,51.647237],[4.069971,51.631956],[4.008851,51.617468],[3.968111,51.614039],[3.928676,51.628283],[3.889707,51.632607],[3.876344,51.666724],[3.823486,51.683771],[3.809587,51.696909],[3.757479,51.673886],[3.72547,51.666602],[3.696915,51.672813],[3.680101,51.708966],[3.709087,51.731477],[3.763004,51.742455],[3.817678,51.740522],[3.83902,51.758332]]],[[[4.155301,51.683507],[4.157517,51.682407],[4.168245,51.654742],[4.19622,51.640462],[4.193484,51.638849],[4.152603,51.655043],[4.155301,51.683507]]]]},\"properties\":{\"fid\":139,\"code\":\"1676\",\"gemeentena\":\"Schouwen-Duiveland\"},\"id\":\"1676\"},{\"type\":\"Feature\",\"geometry\":{\"type\":\"Polygon\",\"coordinates\":[[[4.193484,51.638849],[4.19622,51.640462],[4.236166,51.633626],[4.207211,51.624733],[4.192232,51.593902],[4.236119,51.550366],[4.218927,51.504858],[4.230328,51.488904],[4.217547,51.48767],[4.178078,51.500793],[4.164817,51.522517],[4.073655,51.527352],[4.050491,51.55221],[3.983416,51.581331],[3.98919,51.592339],[4.074146,51.613095],[4.121148,51.653762],[4.193484,51.638849]]]},\"properties\":{\"fid\":140,\"code\":\"0716\",\"gemeentena\":\"Tholen\"},\"id\":\"0716\"},{\"type\":\"Feature\",\"geometry\":{\"type\":\"Polygon\",\"coordinates\":[[[5.955225,51.948754],[5.950488,51.96205],[5.99034,51.974406],[6.001965,51.98065],[6.001733,51.977552],[5.986396,51.968935],[5.984364,51.943021],[5.965775,51.938768],[5.955225,51.948754]]]},\"properties\":{\"fid\":141,\"code\":\"0293\",\"gemeentena\":\"Westervoort\"},\"id\":\"0293\"},{\"type\":\"Feature\",\"geometry\":{\"type\":\"Polygon\",\"coordinates\":[[[4.553934,52.222205],[4.524934,52.235553],[4.513523,52.255006],[4.54255,52.286644],[4.572749,52.27124],[4.553934,52.222205]]]},\"properties\":{\"fid\":142,\"code\":\"0553\",\"gemeentena\":\"Lisse\"},\"id\":\"0553\"},{\"type\":\"Feature\",\"geometry\":{\"type\":\"Polygon\",\"coordinates\":[[[5.306459,52.110271],[5.282138,52.112063],[5.255916,52.136724],[5.243173,52.170076],[5.270216,52.188526],[5.314282,52.203023],[5.349898,52.175605],[5.331268,52.12663],[5.306459,52.110271]]]},\"properties\":{\"fid\":143,\"code\":\"0342\",\"gemeentena\":\"Soest\"},\"id\":\"0342\"},{\"type\":\"Feature\",\"geometry\":{\"type\":\"Polygon\",\"coordinates\":[[[6.654053,53.308645],[6.619862,53.314428],[6.595831,53.347141],[6.630953,53.362648],[6.697033,53.362903],[6.778614,53.410788],[6.792455,53.403596],[6.777166,53.397965],[6.800842,53.366089],[6.834299,53.343308],[6.810833,53.32516],[6.814345,53.297592],[6.772527,53.283087],[6.764621,53.298134],[6.708863,53.309911],[6.689592,53.297449],[6.654053,53.308645]]]},\"properties\":{\"fid\":144,\"code\":\"0024\",\"gemeentena\":\"Loppersum\"},\"id\":\"0024\"},{\"type\":\"Feature\",\"geometry\":{\"type\":\"Polygon\",\"coordinates\":[[[5.126832,52.054918],[5.153031,52.056757],[5.191556,52.043036],[5.201992,52.01747],[5.243191,51.998793],[5.256271,51.970941],[5.23978,51.97894],[5.205989,51.959432],[5.180227,51.967448],[5.155094,51.971586],[5.119563,51.999924],[5.126832,52.054918]]]},\"properties\":{\"fid\":145,\"code\":\"0321\",\"gemeentena\":\"Houten\"},\"id\":\"0321\"},{\"type\":\"Feature\",\"geometry\":{\"type\":\"Polygon\",\"coordinates\":[[[5.477664,51.983473],[5.586617,51.950829],[5.547545,51.942292],[5.553877,51.922959],[5.493557,51.918507],[5.453385,51.922761],[5.411257,51.912009],[5.399824,51.898576],[5.339024,51.874034],[5.295016,51.900114],[5.255062,51.935483],[5.241922,51.945516],[5.270374,51.965427],[5.333118,51.957201],[5.361845,51.970966],[5.390976,51.97073],[5.433266,51.984552],[5.477664,51.983473]]]},\"properties\":{\"fid\":146,\"code\":\"0214\",\"gemeentena\":\"Buren\"},\"id\":\"0214\"},{\"type\":\"Feature\",\"geometry\":{\"type\":\"Polygon\",\"coordinates\":[[[4.580783,52.489447],[4.653333,52.477155],[4.674848,52.45552],[4.721983,52.433336],[4.682476,52.413849],[4.650769,52.42857],[4.631648,52.411666],[4.624992,52.423492],[4.559255,52.438104],[4.552928,52.459903],[4.580783,52.489447]]]},\"properties\":{\"fid\":147,\"code\":\"0453\",\"gemeentena\":\"Velsen\"},\"id\":\"0453\"},{\"type\":\"Feature\",\"geometry\":{\"type\":\"Polygon\",\"coordinates\":[[[4.842368,51.679654],[4.925032,51.673009],[4.932745,51.650618],[4.910028,51.62946],[4.911882,51.615399],[4.913786,51.59809],[4.864239,51.579089],[4.842622,51.585829],[4.842683,51.616986],[4.787506,51.637048],[4.781071,51.663902],[4.842368,51.679654]]]},\"properties\":{\"fid\":148,\"code\":\"0826\",\"gemeentena\":\"Oosterhout\"},\"id\":\"0826\"},{\"type\":\"Feature\",\"geometry\":{\"type\":\"Polygon\",\"coordinates\":[[[5.472192,53.146614],[5.411186,53.151787],[5.437334,53.209835],[5.487617,53.193657],[5.486716,53.165072],[5.472192,53.146614]]]},\"properties\":{\"fid\":149,\"code\":\"0072\",\"gemeentena\":\"Harlingen\"},\"id\":\"0072\"},{\"type\":\"Feature\",\"geometry\":{\"type\":\"Polygon\",\"coordinates\":[[[4.480403,51.862328],[4.549383,51.874027],[4.571058,51.847117],[4.553609,51.829897],[4.489094,51.835396],[4.480403,51.862328]]]},\"properties\":{\"fid\":150,\"code\":\"0489\",\"gemeentena\":\"Barendrecht\"},\"id\":\"0489\"},{\"type\":\"Feature\",\"geometry\":{\"type\":\"Polygon\",\"coordinates\":[[[5.838649,53.274949],[5.882245,53.276782],[5.955974,53.228056],[6.019791,53.240914],[6.0304,53.229534],[6.086289,53.215026],[6.082254,53.198429],[6.114593,53.175978],[6.105013,53.151799],[6.019773,53.155365],[5.94346,53.121614],[5.908629,53.14478],[5.919409,53.16857],[5.861937,53.171519],[5.857728,53.204063],[5.880656,53.224976],[5.83216,53.242857],[5.838649,53.274949]]]},\"properties\":{\"fid\":151,\"code\":\"0737\",\"gemeentena\":\"Tytsjerksteradiel\"},\"id\":\"0737\"},{\"type\":\"Feature\",\"geometry\":{\"type\":\"Polygon\",\"coordinates\":[[[5.010463,51.458244],[5.004582,51.443925],[4.963219,51.422293],[4.928684,51.395899],[4.883028,51.416371],[4.789334,51.408987],[4.786572,51.432519],[4.828609,51.423748],[4.823363,51.448619],[4.841878,51.480736],[4.891295,51.478217],[4.932399,51.459135],[5.010463,51.458244]]]},\"properties\":{\"fid\":152,\"code\":\"0744\",\"gemeentena\":\"Baarle-Nassau\"},\"id\":\"0744\"},{\"type\":\"Feature\",\"geometry\":{\"type\":\"Polygon\",\"coordinates\":[[[6.00588,51.258683],[6.027856,51.245547],[6.072664,51.24256],[6.073141,51.182825],[6.063566,51.165524],[6.000162,51.162269],[5.980695,51.174592],[5.955478,51.159044],[5.921628,51.171264],[5.951325,51.201165],[6.005523,51.2381],[6.00588,51.258683]]]},\"properties\":{\"fid\":153,\"code\":\"0957\",\"gemeentena\":\"Roermond\"},\"id\":\"0957\"},{\"type\":\"Feature\",\"geometry\":{\"type\":\"Polygon\",\"coordinates\":[[[4.350671,51.951507],[4.379309,51.963407],[4.408958,51.935568],[4.41371,51.900755],[4.370623,51.899356],[4.350671,51.951507]]]},\"properties\":{\"fid\":154,\"code\":\"0606\",\"gemeentena\":\"Schiedam\"},\"id\":\"0606\"},{\"type\":\"Feature\",\"geometry\":{\"type\":\"Polygon\",\"coordinates\":[[[6.154915,52.453183],[6.162495,52.474388],[6.278241,52.457043],[6.291825,52.434721],[6.3494,52.424852],[6.380573,52.429816],[6.390315,52.428145],[6.40517,52.415542],[6.38841,52.379782],[6.343082,52.370032],[6.333502,52.351398],[6.356016,52.318219],[6.32653,52.301632],[6.267239,52.300805],[6.235355,52.31982],[6.222961,52.347237],[6.197015,52.352119],[6.203988,52.386899],[6.226139,52.388001],[6.230958,52.4235],[6.177428,52.431149],[6.154915,52.453183]]]},\"properties\":{\"fid\":155,\"code\":\"0177\",\"gemeentena\":\"Raalte\"},\"id\":\"0177\"},{\"type\":\"Feature\",\"geometry\":{\"type\":\"Polygon\",\"coordinates\":[[[5.224435,51.517148],[5.228444,51.4987],[5.191025,51.430225],[5.19102,51.430216],[5.102021,51.428923],[5.07897,51.471518],[5.049741,51.471108],[5.05158,51.487132],[5.100947,51.52052],[5.109821,51.539383],[5.130196,51.530298],[5.190138,51.507409],[5.224435,51.517148]]]},\"properties\":{\"fid\":156,\"code\":\"0798\",\"gemeentena\":\"Hilvarenbeek\"},\"id\":\"0798\"},{\"type\":\"Feature\",\"geometry\":{\"type\":\"Polygon\",\"coordinates\":[[[5.75734,50.855291],[5.800667,50.84835],[5.82361,50.830358],[5.859461,50.833684],[5.839239,50.807588],[5.81941,50.805242],[5.845038,50.765371],[5.807356,50.75619],[5.776648,50.782247],[5.694789,50.754777],[5.693817,50.81045],[5.743474,50.82132],[5.75734,50.855291]]]},\"properties\":{\"fid\":157,\"code\":\"1903\",\"gemeentena\":\"Eijsden-Margraten\"},\"id\":\"1903\"},{\"type\":\"Feature\",\"geometry\":{\"type\":\"Polygon\",\"coordinates\":[[[5.652486,51.569679],[5.684144,51.5077],[5.634822,51.494883],[5.609654,51.509217],[5.57673,51.499453],[5.557652,51.50937],[5.547437,51.537732],[5.533083,51.557804],[5.58425,51.562714],[5.627214,51.555277],[5.652486,51.569679]]]},\"properties\":{\"fid\":158,\"code\":\"1659\",\"gemeentena\":\"Laarbeek\"},\"id\":\"1659\"},{\"type\":\"Feature\",\"geometry\":{\"type\":\"Polygon\",\"coordinates\":[[[3.971382,51.528325],[4.013658,51.518448],[4.004731,51.504843],[4.007323,51.458634],[3.992858,51.451201],[3.975128,51.462274],[3.934081,51.448148],[3.912878,51.479122],[3.965231,51.506469],[3.971382,51.528325]]]},\"properties\":{\"fid\":159,\"code\":\"0678\",\"gemeentena\":\"Kapelle\"},\"id\":\"0678\"},{\"type\":\"Feature\",\"geometry\":{\"type\":\"Polygon\",\"coordinates\":[[[6.121502,52.034617],[6.175527,52.039374],[6.176547,52.019228],[6.159251,51.99974],[6.109591,51.996437],[6.12596,52.010127],[6.121502,52.034617]]]},\"properties\":{\"fid\":160,\"code\":\"0221\",\"gemeentena\":\"Doesburg\"},\"id\":\"0221\"},{\"type\":\"Feature\",\"geometry\":{\"type\":\"Polygon\",\"coordinates\":[[[4.607427,52.065527],[4.636851,52.073737],[4.659968,52.064104],[4.677311,52.043971],[4.706039,52.04012],[4.667279,52.025078],[4.666607,52.012971],[4.624736,52.014722],[4.591089,52.035087],[4.607427,52.065527]]]},\"properties\":{\"fid\":161,\"code\":\"0627\",\"gemeentena\":\"Waddinxveen\"},\"id\":\"0627\"},{\"type\":\"Feature\",\"geometry\":{\"type\":\"Polygon\",\"coordinates\":[[[6.50513,53.046355],[6.547307,53.035067],[6.555213,53.058608],[6.603265,53.05951],[6.603015,53.033087],[6.631221,53.026105],[6.596043,52.972658],[6.561505,52.946652],[6.535915,52.932591],[6.496972,52.951566],[6.485502,52.972985],[6.488212,53.005405],[6.50513,53.046355]]]},\"properties\":{\"fid\":162,\"code\":\"0106\",\"gemeentena\":\"Assen\"},\"id\":\"0106\"},{\"type\":\"Feature\",\"geometry\":{\"type\":\"Polygon\",\"coordinates\":[[[6.006085,52.066349],[6.008849,52.074014],[6.051118,52.124203],[6.076067,52.143938],[6.16166,52.161467],[6.184679,52.161223],[6.163985,52.146352],[6.187989,52.1157],[6.217899,52.097881],[6.174899,52.089667],[6.137469,52.059181],[6.068281,52.088246],[6.006085,52.066349]]]},\"properties\":{\"fid\":163,\"code\":\"0213\",\"gemeentena\":\"Brummen\"},\"id\":\"0213\"},{\"type\":\"Feature\",\"geometry\":{\"type\":\"Polygon\",\"coordinates\":[[[5.864469,51.757682],[5.893409,51.777853],[5.915285,51.752287],[5.938299,51.741593],[5.91947,51.717671],[5.886635,51.726266],[5.864469,51.757682]]]},\"properties\":{\"fid\":164,\"code\":\"0944\",\"gemeentena\":\"Mook en Middelaar\"},\"id\":\"0944\"},{\"type\":\"Feature\",\"geometry\":{\"type\":\"Polygon\",\"coordinates\":[[[5.839892,50.950191],[5.85693,50.944001],[5.841498,50.919607],[5.801715,50.91413],[5.770938,50.927928],[5.788108,50.948606],[5.839892,50.950191]]]},\"properties\":{\"fid\":165,\"code\":\"0888\",\"gemeentena\":\"Beek\"},\"id\":\"0888\"},{\"type\":\"Feature\",\"geometry\":{\"type\":\"Polygon\",\"coordinates\":[[[4.800509,52.660241],[4.779026,52.676484],[4.741742,52.680807],[4.728854,52.691404],[4.769647,52.698793],[4.77249,52.718916],[4.826242,52.717436],[4.827075,52.676437],[4.800509,52.660241]]]},\"properties\":{\"fid\":166,\"code\":\"0416\",\"gemeentena\":\"Langedijk\"},\"id\":\"0416\"},{\"type\":\"Feature\",\"geometry\":{\"type\":\"Polygon\",\"coordinates\":[[[4.422072,52.051673],[4.420833,52.06258],[4.492219,52.09001],[4.530555,52.080511],[4.55718,52.061239],[4.504675,52.031959],[4.476706,52.031642],[4.450564,52.04921],[4.422072,52.051673]]]},\"properties\":{\"fid\":167,\"code\":\"0637\",\"gemeentena\":\"Zoetermeer\"},\"id\":\"0637\"},{\"type\":\"Feature\",\"geometry\":{\"type\":\"MultiPolygon\",\"coordinates\":[[[[4.944716,52.32713],[5.016134,52.324512],[5.017933,52.323192],[5.021543,52.302457],[4.955241,52.278305],[4.929473,52.307414],[4.944716,52.32713]]],[[[4.862677,52.429941],[4.898741,52.42449],[4.93112,52.411693],[4.947789,52.421562],[5.000717,52.425293],[5.06852,52.416447],[5.031783,52.400948],[5.025564,52.387774],[4.980462,52.373641],[5.012428,52.344364],[4.974804,52.354507],[4.94986,52.338528],[4.912932,52.33051],[4.909135,52.318253],[4.818753,52.32556],[4.75733,52.355203],[4.757858,52.396587],[4.728759,52.400711],[4.739208,52.431064],[4.856078,52.416662],[4.862677,52.429941]]]]},\"properties\":{\"fid\":168,\"code\":\"0363\",\"gemeentena\":\"Amsterdam\"},\"id\":\"0363\"},{\"type\":\"Feature\",\"geometry\":{\"type\":\"Polygon\",\"coordinates\":[[[5.801715,50.91413],[5.799842,50.885673],[5.76266,50.86651],[5.733366,50.874746],[5.714854,50.908458],[5.745993,50.943411],[5.770938,50.927928],[5.801715,50.91413]]]},\"properties\":{\"fid\":169,\"code\":\"0938\",\"gemeentena\":\"Meerssen\"},\"id\":\"0938\"},{\"type\":\"Feature\",\"geometry\":{\"type\":\"Polygon\",\"coordinates\":[[[5.531543,52.102267],[5.550343,52.10542],[5.562746,52.078278],[5.557903,52.048865],[5.529348,52.040202],[5.497876,52.057018],[5.496128,52.071678],[5.537118,52.088644],[5.531543,52.102267]]]},\"properties\":{\"fid\":170,\"code\":\"0339\",\"gemeentena\":\"Renswoude\"},\"id\":\"0339\"},{\"type\":\"Feature\",\"geometry\":{\"type\":\"Polygon\",\"coordinates\":[[[4.694187,51.544848],[4.741836,51.531355],[4.733997,51.485548],[4.693097,51.45173],[4.666586,51.444399],[4.66969,51.426363],[4.574728,51.432849],[4.535409,51.42303],[4.529896,51.449521],[4.548161,51.473313],[4.638716,51.524413],[4.659112,51.525494],[4.694187,51.544848]]]},\"properties\":{\"fid\":171,\"code\":\"0879\",\"gemeentena\":\"Zundert\"},\"id\":\"0879\"},{\"type\":\"Feature\",\"geometry\":{\"type\":\"Polygon\",\"coordinates\":[[[6.742886,52.283113],[6.775516,52.293153],[6.802039,52.313586],[6.846639,52.291174],[6.840492,52.276312],[6.842562,52.253909],[6.813754,52.229483],[6.774434,52.238456],[6.755893,52.217396],[6.766801,52.191065],[6.712388,52.206331],[6.724336,52.252714],[6.75296,52.25237],[6.742886,52.283113]]]},\"properties\":{\"fid\":172,\"code\":\"0164\",\"gemeentena\":\"Hengelo\"},\"id\":\"0164\"},{\"type\":\"Feature\",\"geometry\":{\"type\":\"Polygon\",\"coordinates\":[[[5.813374,52.024071],[5.802961,52.004054],[5.86374,51.99589],[5.863737,51.977965],[5.835343,51.973559],[5.786773,51.960159],[5.747876,51.969609],[5.722606,51.964051],[5.724363,52.000708],[5.745137,52.019769],[5.813374,52.024071]]]},\"properties\":{\"fid\":173,\"code\":\"0274\",\"gemeentena\":\"Renkum\"},\"id\":\"0274\"},{\"type\":\"Feature\",\"geometry\":{\"type\":\"Polygon\",\"coordinates\":[[[4.639648,52.338906],[4.636626,52.361484],[4.605724,52.363405],[4.631648,52.411666],[4.650769,52.42857],[4.682476,52.413849],[4.686921,52.387444],[4.676446,52.354287],[4.639648,52.338906]]]},\"properties\":{\"fid\":174,\"code\":\"0392\",\"gemeentena\":\"Haarlem\"},\"id\":\"0392\"},{\"type\":\"Feature\",\"geometry\":{\"type\":\"Polygon\",\"coordinates\":[[[3.696382,51.535184],[3.713607,51.530367],[3.745245,51.512472],[3.705536,51.502456],[3.703648,51.48227],[3.666891,51.469615],[3.586979,51.479253],[3.583684,51.519627],[3.613158,51.535142],[3.65884,51.519261],[3.696382,51.535184]]]},\"properties\":{\"fid\":175,\"code\":\"0687\",\"gemeentena\":\"Middelburg\"},\"id\":\"0687\"},{\"type\":\"Feature\",\"geometry\":{\"type\":\"Polygon\",\"coordinates\":[[[5.474244,51.728965],[5.540502,51.739248],[5.580881,51.731448],[5.597041,51.701987],[5.56224,51.663152],[5.5703,51.651434],[5.524397,51.630439],[5.497202,51.626686],[5.467781,51.64228],[5.42339,51.653783],[5.456873,51.687591],[5.492386,51.706101],[5.474244,51.728965]]]},\"properties\":{\"fid\":176,\"code\":\"1721\",\"gemeentena\":\"Bernheze\"},\"id\":\"1721\"},{\"type\":\"Feature\",\"geometry\":{\"type\":\"Polygon\",\"coordinates\":[[[5.390976,51.97073],[5.361845,51.970966],[5.333118,51.957201],[5.270374,51.965427],[5.256271,51.970941],[5.243191,51.998793],[5.27991,52.010722],[5.314649,52.027001],[5.381647,52.002138],[5.390976,51.97073]]]},\"properties\":{\"fid\":177,\"code\":\"0352\",\"gemeentena\":\"Wijk bij Duurstede\"},\"id\":\"0352\"},{\"type\":\"Feature\",\"geometry\":{\"type\":\"Polygon\",\"coordinates\":[[[4.239383,51.872986],[4.185273,51.849708],[4.155279,51.881603],[4.135763,51.906156],[4.14489,51.931409],[4.216271,51.898731],[4.239383,51.872986]]]},\"properties\":{\"fid\":178,\"code\":\"0501\",\"gemeentena\":\"Brielle\"},\"id\":\"0501\"},{\"type\":\"Feature\",\"geometry\":{\"type\":\"Polygon\",\"coordinates\":[[[6.019791,53.240914],[6.043966,53.243502],[6.141058,53.264383],[6.19379,53.270037],[6.232173,53.256747],[6.217978,53.241932],[6.22999,53.217839],[6.199542,53.198164],[6.17675,53.159505],[6.105013,53.151799],[6.114593,53.175978],[6.082254,53.198429],[6.086289,53.215026],[6.0304,53.229534],[6.019791,53.240914]]]},\"properties\":{\"fid\":179,\"code\":\"0059\",\"gemeentena\":\"Achtkarspelen\"},\"id\":\"0059\"},{\"type\":\"Feature\",\"geometry\":{\"type\":\"Polygon\",\"coordinates\":[[[5.479922,52.165815],[5.485472,52.181639],[5.530808,52.191539],[5.565022,52.178072],[5.577699,52.194797],[5.625651,52.192724],[5.633267,52.208167],[5.68127,52.225339],[5.683642,52.240617],[5.726389,52.242503],[5.750585,52.193731],[5.788566,52.196536],[5.809843,52.151415],[5.720349,52.14626],[5.72152,52.137994],[5.561235,52.120251],[5.550343,52.10542],[5.531543,52.102267],[5.493862,52.111097],[5.486447,52.11536],[5.511685,52.137496],[5.481342,52.150501],[5.479922,52.165815]]]},\"properties\":{\"fid\":180,\"code\":\"0203\",\"gemeentena\":\"Barneveld\"},\"id\":\"0203\"},{\"type\":\"Feature\",\"geometry\":{\"type\":\"Polygon\",\"coordinates\":[[[4.292611,51.921236],[4.350671,51.951507],[4.370623,51.899356],[4.333844,51.894281],[4.267571,51.905335],[4.292611,51.921236]]]},\"properties\":{\"fid\":181,\"code\":\"0622\",\"gemeentena\":\"Vlaardingen\"},\"id\":\"0622\"},{\"type\":\"Feature\",\"geometry\":{\"type\":\"Polygon\",\"coordinates\":[[[5.933785,51.71614],[5.91947,51.717671],[5.938299,51.741593],[5.953288,51.748024],[6.028965,51.725753],[6.031945,51.676165],[5.976607,51.643783],[5.963276,51.661429],[5.956179,51.707248],[5.933785,51.71614]]]},\"properties\":{\"fid\":182,\"code\":\"0907\",\"gemeentena\":\"Gennep\"},\"id\":\"0907\"},{\"type\":\"Feature\",\"geometry\":{\"type\":\"Polygon\",\"coordinates\":[[[5.865562,52.51858],[5.857165,52.544162],[5.856092,52.54688],[5.834107,52.575691],[5.839652,52.609601],[5.840176,52.610088],[5.841188,52.610503],[5.900812,52.618585],[5.915379,52.613766],[5.915803,52.613545],[5.986184,52.625151],[5.971341,52.594157],[5.982941,52.577514],[6.012688,52.585636],[6.033038,52.559403],[6.01867,52.525919],[6.027857,52.509606],[6.000788,52.500149],[5.965258,52.476463],[5.925559,52.474058],[5.887854,52.516331],[5.865562,52.51858]]]},\"properties\":{\"fid\":183,\"code\":\"0166\",\"gemeentena\":\"Kampen\"},\"id\":\"0166\"},{\"type\":\"Feature\",\"geometry\":{\"type\":\"Polygon\",\"coordinates\":[[[5.437334,53.209835],[5.481637,53.240734],[5.522787,53.256005],[5.596651,53.304507],[5.717377,53.3389],[5.722394,53.322293],[5.749301,53.313555],[5.735384,53.294721],[5.720303,53.274545],[5.745074,53.185416],[5.727799,53.167566],[5.683128,53.181144],[5.6587,53.168316],[5.637348,53.124149],[5.51294,53.138581],[5.472192,53.146614],[5.486716,53.165072],[5.487617,53.193657],[5.437334,53.209835]]]},\"properties\":{\"fid\":184,\"code\":\"1949\",\"gemeentena\":\"Waadhoeke\"},\"id\":\"1949\"},{\"type\":\"Feature\",\"geometry\":{\"type\":\"Polygon\",\"coordinates\":[[[5.714854,50.908458],[5.733366,50.874746],[5.76266,50.86651],[5.75734,50.855291],[5.743474,50.82132],[5.693817,50.81045],[5.664272,50.817187],[5.639219,50.846334],[5.651323,50.875092],[5.714854,50.908458]]]},\"properties\":{\"fid\":185,\"code\":\"0935\",\"gemeentena\":\"Maastricht\"},\"id\":\"0935\"},{\"type\":\"Feature\",\"geometry\":{\"type\":\"Polygon\",\"coordinates\":[[[4.695736,52.526728],[4.69256,52.510677],[4.720367,52.494954],[4.707969,52.486332],[4.666302,52.500744],[4.604314,52.494389],[4.586493,52.499175],[4.598185,52.531162],[4.695736,52.526728]]]},\"properties\":{\"fid\":186,\"code\":\"0396\",\"gemeentena\":\"Heemskerk\"},\"id\":\"0396\"},{\"type\":\"Feature\",\"geometry\":{\"type\":\"Polygon\",\"coordinates\":[[[5.224435,51.517148],[5.273271,51.552821],[5.356911,51.544717],[5.349402,51.51706],[5.355887,51.496107],[5.389937,51.487533],[5.391187,51.471756],[5.369447,51.465317],[5.334728,51.465875],[5.248396,51.445631],[5.237705,51.428559],[5.191025,51.430225],[5.228444,51.4987],[5.224435,51.517148]]]},\"properties\":{\"fid\":187,\"code\":\"0823\",\"gemeentena\":\"Oirschot\"},\"id\":\"0823\"},{\"type\":\"Feature\",\"geometry\":{\"type\":\"Polygon\",\"coordinates\":[[[4.987267,51.654609],[4.957897,51.651532],[4.933169,51.67675],[4.917991,51.719959],[4.960894,51.722413],[5.027446,51.711074],[5.08176,51.722344],[5.106855,51.710861],[5.101509,51.676835],[5.049178,51.661623],[4.992246,51.676251],[4.987267,51.654609]]]},\"properties\":{\"fid\":188,\"code\":\"0867\",\"gemeentena\":\"Waalwijk\"},\"id\":\"0867\"},{\"type\":\"Feature\",\"geometry\":{\"type\":\"Polygon\",\"coordinates\":[[[5.597041,51.701987],[5.580881,51.731448],[5.576271,51.744877],[5.648219,51.76364],[5.690858,51.759131],[5.713139,51.726415],[5.69996,51.711452],[5.734359,51.677622],[5.742546,51.650062],[5.731348,51.673935],[5.672991,51.666249],[5.62258,51.699094],[5.597041,51.701987]]]},\"properties\":{\"fid\":189,\"code\":\"1685\",\"gemeentena\":\"Landerd\"},\"id\":\"1685\"},{\"type\":\"Feature\",\"geometry\":{\"type\":\"Polygon\",\"coordinates\":[[[6.849806,52.804634],[6.858512,52.813703],[6.948784,52.848727],[6.957566,52.861796],[7.014799,52.872987],[7.040242,52.872903],[7.072178,52.845159],[7.09274,52.838196],[7.071551,52.810421],[7.054755,52.644423],[7.041922,52.632808],[6.974542,52.645885],[6.939976,52.637992],[6.896813,52.651417],[6.861875,52.649691],[6.849529,52.699354],[6.826361,52.730888],[6.839694,52.760996],[6.831261,52.778649],[6.849806,52.804634]]]},\"properties\":{\"fid\":190,\"code\":\"0114\",\"gemeentena\":\"Emmen\"},\"id\":\"0114\"},{\"type\":\"Feature\",\"geometry\":{\"type\":\"Polygon\",\"coordinates\":[[[5.821823,52.449154],[5.82202,52.450023],[5.841454,52.470725],[5.924339,52.391393],[5.876009,52.357873],[5.864792,52.359658],[5.811672,52.402799],[5.770748,52.395515],[5.75702,52.406771],[5.810561,52.43569],[5.821823,52.449154]]]},\"properties\":{\"fid\":191,\"code\":\"0230\",\"gemeentena\":\"Elburg\"},\"id\":\"0230\"},{\"type\":\"Feature\",\"geometry\":{\"type\":\"Polygon\",\"coordinates\":[[[4.665072,51.634319],[4.663872,51.604069],[4.682106,51.598893],[4.694187,51.544848],[4.659112,51.525494],[4.638716,51.524413],[4.624766,51.55226],[4.591761,51.561032],[4.596755,51.590298],[4.613883,51.608008],[4.601233,51.625239],[4.665072,51.634319]]]},\"properties\":{\"fid\":192,\"code\":\"0777\",\"gemeentena\":\"Etten-Leur\"},\"id\":\"0777\"},{\"type\":\"Feature\",\"geometry\":{\"type\":\"Polygon\",\"coordinates\":[[[3.869159,51.541902],[3.834503,51.553018],[3.793582,51.54248],[3.762857,51.553417],[3.713607,51.530367],[3.696382,51.535184],[3.694674,51.550167],[3.653128,51.568463],[3.633626,51.58934],[3.679448,51.599967],[3.683208,51.600786],[3.715145,51.592091],[3.839178,51.605068],[3.873382,51.592234],[3.899544,51.562872],[3.869159,51.541902]]]},\"properties\":{\"fid\":193,\"code\":\"1695\",\"gemeentena\":\"Noord-Beveland\"},\"id\":\"1695\"},{\"type\":\"Feature\",\"geometry\":{\"type\":\"Polygon\",\"coordinates\":[[[5.586617,51.950829],[5.60594,51.943125],[5.640271,51.938828],[5.665989,51.952799],[5.681211,51.91832],[5.706659,51.893292],[5.685014,51.895648],[5.553907,51.900777],[5.531363,51.894753],[5.463917,51.889009],[5.453385,51.922761],[5.493557,51.918507],[5.553877,51.922959],[5.547545,51.942292],[5.586617,51.950829]]]},\"properties\":{\"fid\":194,\"code\":\"1740\",\"gemeentena\":\"Neder-Betuwe\"},\"id\":\"1740\"},{\"type\":\"Feature\",\"geometry\":{\"type\":\"Polygon\",\"coordinates\":[[[4.013658,51.518448],[4.04371,51.502112],[4.055415,51.480943],[4.09326,51.446533],[4.132646,51.432479],[4.18224,51.443931],[4.22361,51.438664],[4.217547,51.48767],[4.230328,51.488904],[4.265432,51.439681],[4.268382,51.383546],[4.277425,51.376035],[4.24219,51.374774],[4.231676,51.394308],[4.200069,51.406237],[4.156885,51.39483],[4.079675,51.407026],[3.992858,51.451201],[4.007323,51.458634],[4.004731,51.504843],[4.013658,51.518448]]]},\"properties\":{\"fid\":195,\"code\":\"0703\",\"gemeentena\":\"Reimerswaal\"},\"id\":\"0703\"},{\"type\":\"Feature\",\"geometry\":{\"type\":\"Polygon\",\"coordinates\":[[[4.35779,52.026863],[4.325956,52.012793],[4.309819,52.015634],[4.307639,52.018151],[4.290952,52.041573],[4.340047,52.061806],[4.35779,52.026863]]]},\"properties\":{\"fid\":196,\"code\":\"0603\",\"gemeentena\":\"Rijswijk\"},\"id\":\"0603\"},{\"type\":\"Feature\",\"geometry\":{\"type\":\"Polygon\",\"coordinates\":[[[4.265432,51.439681],[4.311167,51.460173],[4.366966,51.456719],[4.391083,51.451487],[4.391611,51.408171],[4.431692,51.375049],[4.384543,51.354352],[4.341354,51.357563],[4.334505,51.377641],[4.277425,51.376035],[4.268382,51.383546],[4.265432,51.439681]]]},\"properties\":{\"fid\":197,\"code\":\"0873\",\"gemeentena\":\"Woensdrecht\"},\"id\":\"0873\"},{\"type\":\"Feature\",\"geometry\":{\"type\":\"Polygon\",\"coordinates\":[[[5.244081,52.254663],[5.22473,52.225197],[5.21896,52.212129],[5.188853,52.247651],[5.203822,52.267115],[5.244081,52.254663]]]},\"properties\":{\"fid\":198,\"code\":\"0417\",\"gemeentena\":\"Laren\"},\"id\":\"0417\"},{\"type\":\"Feature\",\"geometry\":{\"type\":\"Polygon\",\"coordinates\":[[[3.842326,51.756394],[3.83902,51.758332],[3.865411,51.781503],[3.854983,51.803429],[3.866682,51.818836],[4.000913,51.849022],[4.035757,51.823656],[4.048474,51.832166],[4.049091,51.83161],[4.046819,51.821846],[4.16461,51.779595],[4.190978,51.774618],[4.271204,51.724248],[4.32963,51.702713],[4.386346,51.702558],[4.397719,51.711456],[4.398475,51.711276],[4.403679,51.698735],[4.394214,51.693617],[4.355797,51.670559],[4.272055,51.654463],[4.237407,51.658374],[4.219904,51.673789],[4.157517,51.682407],[4.155301,51.683507],[4.15638,51.696046],[4.122787,51.706507],[4.050945,51.71114],[4.01888,51.7551],[4.019924,51.778877],[3.988552,51.802024],[3.949909,51.803277],[3.895738,51.793124],[3.842326,51.756394]]]},\"properties\":{\"fid\":199,\"code\":\"1924\",\"gemeentena\":\"Goeree-Overflakkee\"},\"id\":\"1924\"},{\"type\":\"Feature\",\"geometry\":{\"type\":\"Polygon\",\"coordinates\":[[[6.001733,51.977552],[6.06111,51.981763],[6.043076,51.916831],[5.987063,51.913314],[5.965775,51.938768],[5.984364,51.943021],[5.986396,51.968935],[6.001733,51.977552]]]},\"properties\":{\"fid\":200,\"code\":\"0226\",\"gemeentena\":\"Duiven\"},\"id\":\"0226\"},{\"type\":\"Feature\",\"geometry\":{\"type\":\"Polygon\",\"coordinates\":[[[5.923405,50.904406],[5.969362,50.86008],[5.954816,50.845924],[5.887993,50.847034],[5.861618,50.882418],[5.880575,50.882475],[5.923405,50.904406]]]},\"properties\":{\"fid\":201,\"code\":\"0986\",\"gemeentena\":\"Voerendaal\"},\"id\":\"0986\"},{\"type\":\"Feature\",\"geometry\":{\"type\":\"Polygon\",\"coordinates\":[[[5.913888,51.1332],[5.955478,51.159044],[5.980695,51.174592],[6.000162,51.162269],[6.063566,51.165524],[6.073141,51.182825],[6.08219,51.171634],[6.138802,51.173339],[6.16066,51.149269],[6.091684,51.13454],[6.036463,51.096531],[6.021983,51.113371],[5.984807,51.120655],[5.926755,51.113774],[5.913888,51.1332]]]},\"properties\":{\"fid\":202,\"code\":\"1669\",\"gemeentena\":\"Roerdalen\"},\"id\":\"1669\"},{\"type\":\"Feature\",\"geometry\":{\"type\":\"Polygon\",\"coordinates\":[[[3.941755,51.365427],[3.982546,51.406517],[4.016016,51.401409],[4.050272,51.366286],[4.08521,51.36412],[4.12888,51.350236],[4.151348,51.367631],[4.207093,51.37441],[4.235267,51.348519],[4.166132,51.292893],[4.064077,51.247492],[4.005693,51.241876],[3.982237,51.24911],[3.978879,51.300815],[3.953662,51.30771],[3.961729,51.332896],[3.941755,51.365427]]]},\"properties\":{\"fid\":203,\"code\":\"0677\",\"gemeentena\":\"Hulst\"},\"id\":\"0677\"},{\"type\":\"Feature\",\"geometry\":{\"type\":\"Polygon\",\"coordinates\":[[[4.926925,52.606697],[4.94985,52.595285],[4.997165,52.575158],[4.976489,52.561098],[4.956999,52.52911],[4.934352,52.511641],[4.842956,52.526982],[4.83391,52.53896],[4.898923,52.601688],[4.926925,52.606697]]]},\"properties\":{\"fid\":204,\"code\":\"0370\",\"gemeentena\":\"Beemster\"},\"id\":\"0370\"},{\"type\":\"Feature\",\"geometry\":{\"type\":\"Polygon\",\"coordinates\":[[[4.497562,52.183983],[4.518369,52.182116],[4.524038,52.147398],[4.472975,52.118952],[4.464492,52.127311],[4.442989,52.145346],[4.440478,52.155653],[4.448368,52.162052],[4.497562,52.183983]]]},\"properties\":{\"fid\":205,\"code\":\"0546\",\"gemeentena\":\"Leiden\"},\"id\":\"0546\"},{\"type\":\"Feature\",\"geometry\":{\"type\":\"Polygon\",\"coordinates\":[[[4.926301,51.950928],[4.877793,51.938031],[4.860936,51.967476],[4.835218,51.986143],[4.920045,52.010014],[4.995195,52.02172],[5.020295,52.025627],[5.034063,52.003846],[5.062638,51.991233],[5.034055,51.97017],[5.00301,51.978138],[4.968664,51.959523],[4.926301,51.950928]]]},\"properties\":{\"fid\":206,\"code\":\"0331\",\"gemeentena\":\"Lopik\"},\"id\":\"0331\"},{\"type\":\"Feature\",\"geometry\":{\"type\":\"Polygon\",\"coordinates\":[[[4.464492,52.127311],[4.427903,52.10147],[4.401159,52.11187],[4.442989,52.145346],[4.464492,52.127311]]]},\"properties\":{\"fid\":207,\"code\":\"0626\",\"gemeentena\":\"Voorschoten\"},\"id\":\"0626\"},{\"type\":\"Feature\",\"geometry\":{\"type\":\"Polygon\",\"coordinates\":[[[6.717707,52.478132],[6.774587,52.459601],[6.854298,52.459706],[6.861816,52.451358],[6.9473,52.436621],[6.853411,52.427062],[6.862338,52.407816],[6.863585,52.363731],[6.783399,52.360116],[6.759035,52.332061],[6.720846,52.341208],[6.713415,52.376497],[6.698635,52.393741],[6.669848,52.417231],[6.717707,52.478132]]]},\"properties\":{\"fid\":208,\"code\":\"0183\",\"gemeentena\":\"Tubbergen\"},\"id\":\"0183\"},{\"type\":\"Feature\",\"geometry\":{\"type\":\"Polygon\",\"coordinates\":[[[6.167912,51.900942],[6.091427,51.938721],[6.090394,51.967844],[6.144688,51.9805],[6.163026,51.955381],[6.203123,51.942196],[6.302066,51.944134],[6.305763,51.938821],[6.290971,51.922601],[6.331633,51.874821],[6.299006,51.867826],[6.215057,51.867626],[6.167912,51.900942]]]},\"properties\":{\"fid\":209,\"code\":\"1955\",\"gemeentena\":\"Montferland\"},\"id\":\"1955\"},{\"type\":\"Feature\",\"geometry\":{\"type\":\"Polygon\",\"coordinates\":[[[4.782476,52.519581],[4.789861,52.519236],[4.798843,52.491105],[4.852505,52.470367],[4.842951,52.452261],[4.862677,52.429941],[4.856078,52.416662],[4.739208,52.431064],[4.721983,52.433336],[4.674848,52.45552],[4.707969,52.486332],[4.720367,52.494954],[4.782476,52.519581]]]},\"properties\":{\"fid\":210,\"code\":\"0479\",\"gemeentena\":\"Zaanstad\"},\"id\":\"0479\"},{\"type\":\"Feature\",\"geometry\":{\"type\":\"Polygon\",\"coordinates\":[[[5.257819,52.435949],[5.279331,52.42215],[5.350772,52.400209],[5.301244,52.381986],[5.379211,52.313995],[5.333505,52.314274],[5.316461,52.303146],[5.265855,52.322891],[5.197831,52.336316],[5.150042,52.328677],[5.135177,52.337903],[5.125119,52.381608],[5.160744,52.399637],[5.22646,52.419519],[5.257819,52.435949]]]},\"properties\":{\"fid\":211,\"code\":\"0034\",\"gemeentena\":\"Almere\"},\"id\":\"0034\"},{\"type\":\"Feature\",\"geometry\":{\"type\":\"Polygon\",\"coordinates\":[[[4.500204,51.558536],[4.443999,51.569095],[4.430871,51.586842],[4.437828,51.617119],[4.481505,51.619912],[4.519132,51.607834],[4.570849,51.630407],[4.601233,51.625239],[4.613883,51.608008],[4.596755,51.590298],[4.591761,51.561032],[4.533483,51.549269],[4.500204,51.558536]]]},\"properties\":{\"fid\":212,\"code\":\"1655\",\"gemeentena\":\"Halderberge\"},\"id\":\"1655\"},{\"type\":\"Feature\",\"geometry\":{\"type\":\"Polygon\",\"coordinates\":[[[5.937847,52.91174],[5.953671,52.925521],[6.00397,52.933612],[6.037312,52.918219],[6.084848,52.936274],[6.110545,52.913244],[6.145295,52.928274],[6.200817,52.939068],[6.21363,52.925794],[6.247259,52.923347],[6.2069,52.890744],[6.11982,52.854215],[6.031168,52.814991],[5.996643,52.816621],[5.972438,52.841917],[5.932631,52.835431],[5.878763,52.800849],[5.819744,52.817278],[5.856768,52.870791],[5.886216,52.894379],[5.937847,52.91174]]]},\"properties\":{\"fid\":213,\"code\":\"0098\",\"gemeentena\":\"Weststellingwerf\"},\"id\":\"0098\"},{\"type\":\"Feature\",\"geometry\":{\"type\":\"Polygon\",\"coordinates\":[[[7.090353,53.256322],[7.207306,53.236303],[7.217623,53.197817],[7.189244,53.154883],[7.139635,53.154365],[7.080654,53.14376],[7.029754,53.115097],[6.965295,53.110831],[6.950381,53.158895],[6.913075,53.176955],[6.929399,53.212817],[6.911344,53.243015],[6.995472,53.266954],[7.041674,53.259266],[7.067522,53.242378],[7.090353,53.256322]]]},\"properties\":{\"fid\":214,\"code\":\"1895\",\"gemeentena\":\"Oldambt\"},\"id\":\"1895\"},{\"type\":\"Feature\",\"geometry\":{\"type\":\"Polygon\",\"coordinates\":[[[6.185717,53.129213],[6.205048,53.115484],[6.258372,53.114371],[6.315157,53.094053],[6.332055,53.075279],[6.222837,53.039187],[6.205424,53.037931],[6.176812,53.021049],[6.131188,53.011879],[6.06976,52.974194],[6.020726,52.965866],[5.958105,52.972935],[5.979669,52.997852],[5.98454,53.025451],[5.940199,53.04218],[5.947328,53.06248],[5.927581,53.078395],[6.00247,53.080653],[6.024399,53.073361],[6.088358,53.070908],[6.12465,53.100923],[6.185717,53.129213]]]},\"properties\":{\"fid\":215,\"code\":\"0086\",\"gemeentena\":\"Opsterland\"},\"id\":\"0086\"},{\"type\":\"Feature\",\"geometry\":{\"type\":\"Polygon\",\"coordinates\":[[[6.147419,52.584408],[6.202138,52.584949],[6.210811,52.567798],[6.181967,52.519421],[6.200167,52.490882],[6.162495,52.474388],[6.154915,52.453183],[6.10958,52.440531],[6.103546,52.453964],[6.098271,52.471183],[6.027857,52.509606],[6.01867,52.525919],[6.033038,52.559403],[6.063154,52.56728],[6.0894,52.551841],[6.109791,52.561115],[6.140527,52.552102],[6.166814,52.565252],[6.147419,52.584408]]]},\"properties\":{\"fid\":216,\"code\":\"0193\",\"gemeentena\":\"Zwolle\"},\"id\":\"0193\"},{\"type\":\"Feature\",\"geometry\":{\"type\":\"Polygon\",\"coordinates\":[[[5.976681,50.80337],[6.026047,50.775544],[6.021009,50.754288],[5.935758,50.756979],[5.942151,50.789247],[5.976681,50.80337]]]},\"properties\":{\"fid\":217,\"code\":\"0981\",\"gemeentena\":\"Vaals\"},\"id\":\"0981\"},{\"type\":\"Feature\",\"geometry\":{\"type\":\"Polygon\",\"coordinates\":[[[5.547734,52.291988],[5.587536,52.278812],[5.637049,52.272495],[5.683642,52.240617],[5.68127,52.225339],[5.633267,52.208167],[5.549917,52.202336],[5.515461,52.234214],[5.48369,52.239244],[5.47862,52.257805],[5.527465,52.263831],[5.547734,52.291988]]]},\"properties\":{\"fid\":218,\"code\":\"0273\",\"gemeentena\":\"Putten\"},\"id\":\"0273\"},{\"type\":\"Feature\",\"geometry\":{\"type\":\"Polygon\",\"coordinates\":[[[4.394214,51.693617],[4.403679,51.698735],[4.424016,51.700573],[4.48996,51.683102],[4.519793,51.683713],[4.607442,51.699224],[4.636221,51.717308],[4.645137,51.719067],[4.684903,51.666366],[4.69906,51.638073],[4.665072,51.634319],[4.601233,51.625239],[4.570849,51.630407],[4.519132,51.607834],[4.481505,51.619912],[4.437828,51.617119],[4.368259,51.658418],[4.393543,51.677682],[4.394214,51.693617]]]},\"properties\":{\"fid\":219,\"code\":\"1709\",\"gemeentena\":\"Moerdijk\"},\"id\":\"1709\"},{\"type\":\"Feature\",\"geometry\":{\"type\":\"Polygon\",\"coordinates\":[[[4.90647,52.479826],[4.920651,52.490434],[4.948316,52.484005],[4.947789,52.421562],[4.93112,52.411693],[4.898741,52.42449],[4.893319,52.457276],[4.90647,52.479826]]]},\"properties\":{\"fid\":220,\"code\":\"0415\",\"gemeentena\":\"Landsmeer\"},\"id\":\"0415\"},{\"type\":\"Feature\",\"geometry\":{\"type\":\"Polygon\",\"coordinates\":[[[6.205424,53.037931],[6.222837,53.039187],[6.332055,53.075279],[6.367811,53.06736],[6.362521,53.033969],[6.41328,52.985523],[6.427615,52.971815],[6.393436,52.932843],[6.369026,52.921976],[6.333281,52.906356],[6.302985,52.924972],[6.247259,52.923347],[6.21363,52.925794],[6.200817,52.939068],[6.145295,52.928274],[6.110545,52.913244],[6.084848,52.936274],[6.128589,52.953954],[6.15903,52.975965],[6.202206,52.99031],[6.205424,53.037931]]]},\"properties\":{\"fid\":221,\"code\":\"0085\",\"gemeentena\":\"Ooststellingwerf\"},\"id\":\"0085\"},{\"type\":\"Feature\",\"geometry\":{\"type\":\"Polygon\",\"coordinates\":[[[6.912127,52.285506],[6.939171,52.283869],[6.969015,52.267399],[6.96589,52.230419],[6.9811,52.220737],[6.951245,52.181058],[6.911852,52.177145],[6.88975,52.161206],[6.827991,52.171007],[6.805581,52.1666],[6.766801,52.191065],[6.755893,52.217396],[6.774434,52.238456],[6.813754,52.229483],[6.842562,52.253909],[6.840492,52.276312],[6.868327,52.272962],[6.912127,52.285506]]]},\"properties\":{\"fid\":222,\"code\":\"0153\",\"gemeentena\":\"Enschede\"},\"id\":\"0153\"},{\"type\":\"Feature\",\"geometry\":{\"type\":\"Polygon\",\"coordinates\":[[[6.369026,52.921976],[6.393436,52.932843],[6.427615,52.971815],[6.41328,52.985523],[6.488212,53.005405],[6.485502,52.972985],[6.496972,52.951566],[6.535915,52.932591],[6.561505,52.946652],[6.585828,52.919452],[6.666734,52.909449],[6.686374,52.875331],[6.714564,52.868159],[6.728629,52.853966],[6.675143,52.797126],[6.660879,52.801233],[6.587467,52.73569],[6.5574,52.745365],[6.566385,52.765579],[6.512729,52.762084],[6.490669,52.770885],[6.491805,52.793123],[6.455451,52.800556],[6.480026,52.836944],[6.430888,52.850385],[6.419993,52.882322],[6.359557,52.89453],[6.369026,52.921976]]]},\"properties\":{\"fid\":223,\"code\":\"1731\",\"gemeentena\":\"Midden-Drenthe\"},\"id\":\"1731\"},{\"type\":\"Feature\",\"geometry\":{\"type\":\"Polygon\",\"coordinates\":[[[4.714587,52.624782],[4.739451,52.613868],[4.752139,52.591891],[4.739993,52.578928],[4.685317,52.580977],[4.672581,52.590904],[4.689993,52.623751],[4.714587,52.624782]]]},\"properties\":{\"fid\":224,\"code\":\"0399\",\"gemeentena\":\"Heiloo\"},\"id\":\"0399\"},{\"type\":\"Feature\",\"geometry\":{\"type\":\"Polygon\",\"coordinates\":[[[4.635261,51.869711],[4.626391,51.880658],[4.664439,51.874948],[4.683191,51.848491],[4.672606,51.83865],[4.635261,51.869711]]]},\"properties\":{\"fid\":225,\"code\":\"0482\",\"gemeentena\":\"Alblasserdam\"},\"id\":\"0482\"},{\"type\":\"Feature\",\"geometry\":{\"type\":\"Polygon\",\"coordinates\":[[[6.202138,52.584949],[6.303064,52.597141],[6.323413,52.592527],[6.360584,52.524165],[6.331516,52.522075],[6.344025,52.481829],[6.342616,52.456905],[6.378494,52.456417],[6.380573,52.429816],[6.3494,52.424852],[6.291825,52.434721],[6.278241,52.457043],[6.162495,52.474388],[6.200167,52.490882],[6.181967,52.519421],[6.210811,52.567798],[6.202138,52.584949]]]},\"properties\":{\"fid\":226,\"code\":\"0148\",\"gemeentena\":\"Dalfsen\"},\"id\":\"0148\"},{\"type\":\"Feature\",\"geometry\":{\"type\":\"Polygon\",\"coordinates\":[[[4.518369,52.182116],[4.538154,52.180085],[4.571481,52.153109],[4.550733,52.13838],[4.524038,52.147398],[4.518369,52.182116]]]},\"properties\":{\"fid\":227,\"code\":\"0547\",\"gemeentena\":\"Leiderdorp\"},\"id\":\"0547\"},{\"type\":\"Feature\",\"geometry\":{\"type\":\"Polygon\",\"coordinates\":[[[4.646054,52.756594],[4.678892,52.808623],[4.709441,52.883588],[4.770939,52.878626],[4.782563,52.851436],[4.809647,52.836899],[4.834476,52.807799],[4.829036,52.775618],[4.806946,52.770268],[4.847685,52.720259],[4.826242,52.717436],[4.77249,52.718916],[4.769647,52.698793],[4.728854,52.691404],[4.689822,52.732992],[4.646054,52.756594]]]},\"properties\":{\"fid\":228,\"code\":\"0441\",\"gemeentena\":\"Schagen\"},\"id\":\"0441\"},{\"type\":\"Feature\",\"geometry\":{\"type\":\"Polygon\",\"coordinates\":[[[6.073126,51.395729],[6.077696,51.420171],[6.158327,51.424809],[6.15524,51.442673],[6.178129,51.464448],[6.169193,51.503082],[6.213361,51.507818],[6.223557,51.474965],[6.205257,51.39952],[6.22639,51.360336],[6.169378,51.329374],[6.124758,51.27755],[6.084717,51.297454],[6.116233,51.323206],[6.123254,51.34337],[6.077587,51.378173],[6.073126,51.395729]]]},\"properties\":{\"fid\":229,\"code\":\"0983\",\"gemeentena\":\"Venlo\"},\"id\":\"0983\"},{\"type\":\"Feature\",\"geometry\":{\"type\":\"Polygon\",\"coordinates\":[[[4.549383,51.874027],[4.568912,51.878052],[4.576328,51.903032],[4.619572,51.889523],[4.626391,51.880658],[4.635261,51.869711],[4.646948,51.856661],[4.600155,51.83873],[4.571058,51.847117],[4.549383,51.874027]]]},\"properties\":{\"fid\":230,\"code\":\"0597\",\"gemeentena\":\"Ridderkerk\"},\"id\":\"0597\"},{\"type\":\"Feature\",\"geometry\":{\"type\":\"Polygon\",\"coordinates\":[[[5.886766,51.865203],[5.923633,51.874623],[5.967448,51.854452],[6.007828,51.881489],[6.046285,51.870913],[6.063486,51.865451],[6.055305,51.852354],[5.987827,51.830614],[5.945045,51.823544],[5.979065,51.797651],[5.990501,51.766277],[5.953288,51.748024],[5.938299,51.741593],[5.915285,51.752287],[5.893409,51.777853],[5.87911,51.80953],[5.908347,51.829302],[5.880299,51.844948],[5.886766,51.865203]]]},\"properties\":{\"fid\":231,\"code\":\"1945\",\"gemeentena\":\"Berg en Dal\"},\"id\":\"1945\"},{\"type\":\"Feature\",\"geometry\":{\"type\":\"Polygon\",\"coordinates\":[[[5.226158,51.690031],[5.272225,51.683949],[5.272334,51.683937],[5.319057,51.670372],[5.317732,51.634634],[5.310955,51.633672],[5.277677,51.619197],[5.246496,51.632764],[5.24255,51.649447],[5.204777,51.669822],[5.226158,51.690031]]]},\"properties\":{\"fid\":232,\"code\":\"0865\",\"gemeentena\":\"Vught\"},\"id\":\"0865\"},{\"type\":\"Feature\",\"geometry\":{\"type\":\"MultiPolygon\",\"coordinates\":[[[[4.432482,51.837046],[4.489094,51.835396],[4.553609,51.829897],[4.579552,51.808004],[4.621222,51.800804],[4.631356,51.749185],[4.624182,51.722736],[4.558687,51.704534],[4.525532,51.700699],[4.466739,51.714702],[4.407587,51.722073],[4.398475,51.711276],[4.397719,51.711456],[4.404149,51.723441],[4.344444,51.744855],[4.247372,51.765701],[4.234643,51.783545],[4.263213,51.802657],[4.353342,51.819055],[4.432482,51.837046]]],[[[4.264092,51.754321],[4.356351,51.735401],[4.301494,51.730054],[4.264092,51.754321]]]]},\"properties\":{\"fid\":233,\"code\":\"1963\",\"gemeentena\":\"Hoeksche Waard\"},\"id\":\"1963\"},{\"type\":\"Feature\",\"geometry\":{\"type\":\"Polygon\",\"coordinates\":[[[4.682476,52.413849],[4.721983,52.433336],[4.739208,52.431064],[4.728759,52.400711],[4.757858,52.396587],[4.75733,52.355203],[4.818753,52.32556],[4.809884,52.305776],[4.780114,52.283245],[4.746548,52.272197],[4.670348,52.230756],[4.631977,52.216046],[4.558433,52.218799],[4.553934,52.222205],[4.572749,52.27124],[4.611676,52.31356],[4.611384,52.322205],[4.639648,52.338906],[4.676446,52.354287],[4.686921,52.387444],[4.682476,52.413849]]]},\"properties\":{\"fid\":234,\"code\":\"0394\",\"gemeentena\":\"Haarlemmermeer\"},\"id\":\"0394\"},{\"type\":\"Feature\",\"geometry\":{\"type\":\"Polygon\",\"coordinates\":[[[6.185717,53.129213],[6.17675,53.159505],[6.199542,53.198164],[6.22999,53.217839],[6.217978,53.241932],[6.232173,53.256747],[6.253187,53.287859],[6.278307,53.302731],[6.286981,53.341382],[6.324354,53.315648],[6.367591,53.321623],[6.441293,53.316807],[6.474748,53.323861],[6.504062,53.295695],[6.50824,53.257574],[6.48038,53.244895],[6.463461,53.200058],[6.405805,53.176763],[6.382612,53.14957],[6.344433,53.087135],[6.315157,53.094053],[6.258372,53.114371],[6.205048,53.115484],[6.185717,53.129213]]]},\"properties\":{\"fid\":235,\"code\":\"1969\",\"gemeentena\":\"Westerkwartier\"},\"id\":\"1969\"},{\"type\":\"Feature\",\"geometry\":{\"type\":\"Polygon\",\"coordinates\":[[[5.102021,51.428923],[5.19102,51.430216],[5.193865,51.345226],[5.200255,51.322661],[5.16264,51.310317],[5.134353,51.3155],[5.131687,51.347045],[5.071182,51.393487],[5.102021,51.428923]]]},\"properties\":{\"fid\":236,\"code\":\"1667\",\"gemeentena\":\"Reusel-De Mierden\"},\"id\":\"1667\"},{\"type\":\"Feature\",\"geometry\":{\"type\":\"Polygon\",\"coordinates\":[[[6.907703,53.038881],[6.95579,53.013861],[7.015446,53.071774],[7.080351,53.059428],[7.080371,53.030043],[7.100013,53.016444],[7.072058,53.003787],[7.063539,52.930978],[7.026854,52.919037],[6.935685,52.993353],[6.861287,53.040874],[6.907703,53.038881]]]},\"properties\":{\"fid\":237,\"code\":\"0037\",\"gemeentena\":\"Stadskanaal\"},\"id\":\"0037\"},{\"type\":\"Feature\",\"geometry\":{\"type\":\"Polygon\",\"coordinates\":[[[5.550343,52.10542],[5.561235,52.120251],[5.72152,52.137994],[5.720349,52.14626],[5.809843,52.151415],[5.859545,52.148749],[5.883449,52.106342],[5.946185,52.0993],[5.946103,52.077891],[5.899401,52.049958],[5.850045,52.051602],[5.813374,52.024071],[5.745137,52.019769],[5.724363,52.000708],[5.683093,51.993911],[5.606017,51.994164],[5.589489,52.009456],[5.586712,52.03129],[5.557903,52.048865],[5.562746,52.078278],[5.550343,52.10542]]]},\"properties\":{\"fid\":238,\"code\":\"0228\",\"gemeentena\":\"Ede\"},\"id\":\"0228\"},{\"type\":\"Feature\",\"geometry\":{\"type\":\"Polygon\",\"coordinates\":[[[6.103546,52.453964],[6.10958,52.440531],[6.110844,52.407755],[6.129583,52.397982],[6.117073,52.378033],[6.077845,52.364297],[6.041784,52.356512],[5.951024,52.398437],[6.022667,52.444103],[6.103546,52.453964]]]},\"properties\":{\"fid\":239,\"code\":\"0246\",\"gemeentena\":\"Heerde\"},\"id\":\"0246\"},{\"type\":\"Feature\",\"geometry\":{\"type\":\"Polygon\",\"coordinates\":[[[6.328314,52.137712],[6.235921,52.113717],[6.217899,52.097881],[6.187989,52.1157],[6.163985,52.146352],[6.184679,52.161223],[6.192799,52.169801],[6.237988,52.146031],[6.32404,52.152762],[6.328314,52.137712]]]},\"properties\":{\"fid\":240,\"code\":\"0301\",\"gemeentena\":\"Zutphen\"},\"id\":\"0301\"},{\"type\":\"Feature\",\"geometry\":{\"type\":\"Polygon\",\"coordinates\":[[[5.575999,52.326455],[5.601853,52.339293],[5.61328,52.361385],[5.615842,52.362761],[5.678064,52.37876],[5.678922,52.378841],[5.679316,52.377002],[5.680142,52.375871],[5.695606,52.36074],[5.712501,52.331914],[5.706171,52.328382],[5.678124,52.301492],[5.630264,52.326851],[5.608707,52.319052],[5.575999,52.326455]]]},\"properties\":{\"fid\":241,\"code\":\"0243\",\"gemeentena\":\"Harderwijk\"},\"id\":\"0243\"},{\"type\":\"Feature\",\"geometry\":{\"type\":\"Polygon\",\"coordinates\":[[[5.332251,52.084163],[5.322462,52.101901],[5.401332,52.089334],[5.443807,52.107075],[5.486447,52.11536],[5.493862,52.111097],[5.496128,52.071678],[5.497876,52.057018],[5.445703,52.045259],[5.438303,52.070215],[5.332251,52.084163]]]},\"properties\":{\"fid\":242,\"code\":\"0351\",\"gemeentena\":\"Woudenberg\"},\"id\":\"0351\"},{\"type\":\"Feature\",\"geometry\":{\"type\":\"Polygon\",\"coordinates\":[[[5.826417,51.166834],[5.777646,51.151304],[5.776728,51.178486],[5.745641,51.189499],[5.751904,51.213725],[5.781767,51.220139],[5.79177,51.237537],[5.853445,51.24474],[5.833798,51.27477],[5.860725,51.310802],[5.877823,51.316578],[5.954706,51.30028],[6.008255,51.277543],[6.009612,51.265759],[6.00588,51.258683],[6.005523,51.2381],[5.951325,51.201165],[5.894875,51.216],[5.873733,51.190942],[5.826417,51.166834]]]},\"properties\":{\"fid\":243,\"code\":\"1640\",\"gemeentena\":\"Leudal\"},\"id\":\"1640\"},{\"type\":\"Feature\",\"geometry\":{\"type\":\"Polygon\",\"coordinates\":[[[4.911882,51.615399],[4.947846,51.61117],[4.968737,51.602057],[4.96899,51.571305],[4.951668,51.560884],[4.97546,51.540133],[4.962573,51.525864],[4.911063,51.510081],[4.866232,51.538067],[4.862985,51.55727],[4.864239,51.579089],[4.913786,51.59809],[4.911882,51.615399]]]},\"properties\":{\"fid\":244,\"code\":\"0784\",\"gemeentena\":\"Gilze en Rijen\"},\"id\":\"0784\"},{\"type\":\"Feature\",\"geometry\":{\"type\":\"Polygon\",\"coordinates\":[[[4.925032,51.673009],[4.933169,51.67675],[4.957897,51.651532],[4.987267,51.654609],[5.004492,51.607887],[4.947846,51.61117],[4.911882,51.615399],[4.910028,51.62946],[4.932745,51.650618],[4.925032,51.673009]]]},\"properties\":{\"fid\":245,\"code\":\"0766\",\"gemeentena\":\"Dongen\"},\"id\":\"0766\"},{\"type\":\"Feature\",\"geometry\":{\"type\":\"Polygon\",\"coordinates\":[[[5.012428,52.344364],[5.028183,52.337938],[5.016134,52.324512],[4.944716,52.32713],[4.94986,52.338528],[4.974804,52.354507],[5.012428,52.344364]]]},\"properties\":{\"fid\":246,\"code\":\"0384\",\"gemeentena\":\"Diemen\"},\"id\":\"0384\"},{\"type\":\"Feature\",\"geometry\":{\"type\":\"Polygon\",\"coordinates\":[[[5.204777,51.669822],[5.24255,51.649447],[5.246496,51.632764],[5.277677,51.619197],[5.310955,51.633672],[5.300503,51.606332],[5.262726,51.599812],[5.247241,51.58704],[5.214187,51.585557],[5.179539,51.597664],[5.144938,51.640512],[5.166798,51.669047],[5.204777,51.669822]]]},\"properties\":{\"fid\":247,\"code\":\"0788\",\"gemeentena\":\"Haaren\"},\"id\":\"0788\"},{\"type\":\"Feature\",\"geometry\":{\"type\":\"Polygon\",\"coordinates\":[[[6.011696,50.926439],[6.018202,50.934701],[6.092331,50.9177],[6.079813,50.90577],[6.042897,50.900409],[6.017142,50.870467],[5.994809,50.895575],[6.011696,50.926439]]]},\"properties\":{\"fid\":248,\"code\":\"0882\",\"gemeentena\":\"Landgraaf\"},\"id\":\"0882\"},{\"type\":\"Feature\",\"geometry\":{\"type\":\"Polygon\",\"coordinates\":[[[3.703648,51.48227],[3.705536,51.502456],[3.762506,51.498873],[3.803684,51.484471],[3.912878,51.479122],[3.934081,51.448148],[3.904131,51.399779],[3.812357,51.385351],[3.753779,51.414783],[3.711708,51.424636],[3.713572,51.43077],[3.713488,51.430829],[3.709747,51.433427],[3.70845,51.43481],[3.704695,51.45033],[3.710273,51.454602],[3.7149,51.463711],[3.715519,51.466224],[3.715596,51.466538],[3.712999,51.470909],[3.711955,51.471214],[3.70565,51.476967],[3.703648,51.48227]]]},\"properties\":{\"fid\":249,\"code\":\"0654\",\"gemeentena\":\"Borsele\"},\"id\":\"0654\"},{\"type\":\"Feature\",\"geometry\":{\"type\":\"MultiPolygon\",\"coordinates\":[[[[5.165559,53.000093],[5.167396,52.99882],[5.044358,52.935115],[5.165559,53.000093]]],[[[5.106785,52.774734],[5.069723,52.768103],[5.045917,52.753356],[4.99686,52.752065],[4.944386,52.753659],[4.898669,52.706832],[4.847685,52.720259],[4.806946,52.770268],[4.829036,52.775618],[4.834476,52.807799],[4.809647,52.836899],[4.782563,52.851436],[4.770939,52.878626],[4.806956,52.912949],[4.875984,52.888333],[4.937029,52.903858],[4.971026,52.930923],[5.044358,52.935115],[5.048685,52.924188],[5.114479,52.845761],[5.106785,52.774734]]]]},\"properties\":{\"fid\":250,\"code\":\"1911\",\"gemeentena\":\"Hollands Kroon\"},\"id\":\"1911\"},{\"type\":\"Feature\",\"geometry\":{\"type\":\"Polygon\",\"coordinates\":[[[6.937531,52.332836],[6.950139,52.319357],[6.939171,52.283869],[6.912127,52.285506],[6.861349,52.306367],[6.900646,52.33346],[6.937531,52.332836]]]},\"properties\":{\"fid\":251,\"code\":\"0173\",\"gemeentena\":\"Oldenzaal\"},\"id\":\"0173\"},{\"type\":\"Feature\",\"geometry\":{\"type\":\"Polygon\",\"coordinates\":[[[4.497562,52.183983],[4.448368,52.162052],[4.463471,52.200202],[4.491447,52.203687],[4.497562,52.183983]]]},\"properties\":{\"fid\":252,\"code\":\"0579\",\"gemeentena\":\"Oegstgeest\"},\"id\":\"0579\"},{\"type\":\"Feature\",\"geometry\":{\"type\":\"Polygon\",\"coordinates\":[[[5.713139,51.726415],[5.729112,51.719925],[5.79244,51.720559],[5.805339,51.700511],[5.842805,51.67997],[5.79035,51.649938],[5.747676,51.632668],[5.742546,51.650062],[5.734359,51.677622],[5.69996,51.711452],[5.713139,51.726415]]]},\"properties\":{\"fid\":253,\"code\":\"0815\",\"gemeentena\":\"Mill en Sint Hubert\"},\"id\":\"0815\"},{\"type\":\"Feature\",\"geometry\":{\"type\":\"Polygon\",\"coordinates\":[[[4.742764,51.841003],[4.729639,51.822169],[4.671709,51.820854],[4.670439,51.823589],[4.672606,51.83865],[4.683191,51.848491],[4.742764,51.841003]]]},\"properties\":{\"fid\":254,\"code\":\"0590\",\"gemeentena\":\"Papendrecht\"},\"id\":\"0590\"},{\"type\":\"Feature\",\"geometry\":{\"type\":\"Polygon\",\"coordinates\":[[[5.228545,52.311069],[5.288244,52.297856],[5.203822,52.267115],[5.201117,52.26814],[5.195855,52.29925],[5.228545,52.311069]]]},\"properties\":{\"fid\":255,\"code\":\"0406\",\"gemeentena\":\"Huizen\"},\"id\":\"0406\"},{\"type\":\"Feature\",\"geometry\":{\"type\":\"Polygon\",\"coordinates\":[[[4.777733,52.533745],[4.782476,52.519581],[4.720367,52.494954],[4.69256,52.510677],[4.695736,52.526728],[4.71886,52.551643],[4.777733,52.533745]]]},\"properties\":{\"fid\":256,\"code\":\"0450\",\"gemeentena\":\"Uitgeest\"},\"id\":\"0450\"},{\"type\":\"Feature\",\"geometry\":{\"type\":\"Polygon\",\"coordinates\":[[[4.368259,51.658418],[4.437828,51.617119],[4.430871,51.586842],[4.443999,51.569095],[4.441078,51.558492],[4.375362,51.543721],[4.317978,51.551216],[4.252008,51.570661],[4.236119,51.550366],[4.192232,51.593902],[4.207211,51.624733],[4.236166,51.633626],[4.252588,51.630891],[4.309467,51.645244],[4.351315,51.648355],[4.368259,51.658418]]]},\"properties\":{\"fid\":257,\"code\":\"0851\",\"gemeentena\":\"Steenbergen\"},\"id\":\"0851\"},{\"type\":\"Feature\",\"geometry\":{\"type\":\"Polygon\",\"coordinates\":[[[4.956999,52.52911],[4.976489,52.561098],[4.997165,52.575158],[4.94985,52.595285],[5.004881,52.597573],[5.019305,52.612447],[5.033232,52.565813],[5.086035,52.503722],[5.060524,52.485724],[5.024792,52.484863],[4.997964,52.494733],[4.99227,52.519733],[4.956999,52.52911]]]},\"properties\":{\"fid\":258,\"code\":\"0385\",\"gemeentena\":\"Edam-Volendam\"},\"id\":\"0385\"},{\"type\":\"Feature\",\"geometry\":{\"type\":\"Polygon\",\"coordinates\":[[[6.712388,52.206331],[6.634454,52.185955],[6.645041,52.174194],[6.590841,52.182371],[6.492401,52.177372],[6.431947,52.220935],[6.416422,52.242166],[6.48526,52.274606],[6.554009,52.283313],[6.568191,52.270144],[6.605363,52.270689],[6.626066,52.289974],[6.69094,52.308391],[6.742886,52.283113],[6.75296,52.25237],[6.724336,52.252714],[6.712388,52.206331]]]},\"properties\":{\"fid\":259,\"code\":\"1735\",\"gemeentena\":\"Hof van Twente\"},\"id\":\"1735\"},{\"type\":\"Feature\",\"geometry\":{\"type\":\"Polygon\",\"coordinates\":[[[6.172906,52.773054],[6.201453,52.729786],[6.231439,52.741709],[6.216904,52.703158],[6.248392,52.708197],[6.286618,52.699177],[6.265501,52.667988],[6.214096,52.686316],[6.179903,52.675606],[6.158976,52.692154],[6.120332,52.750149],[6.172906,52.773054]]]},\"properties\":{\"fid\":260,\"code\":\"0119\",\"gemeentena\":\"Meppel\"},\"id\":\"0119\"},{\"type\":\"Feature\",\"geometry\":{\"type\":\"Polygon\",\"coordinates\":[[[5.076208,53.295857],[4.971842,53.264434],[4.980348,53.248347],[4.918465,53.215641],[4.851723,53.221158],[4.928508,53.253293],[4.990291,53.284702],[5.041063,53.303956],[5.076208,53.295857]]]},\"properties\":{\"fid\":261,\"code\":\"0096\",\"gemeentena\":\"Vlieland\"},\"id\":\"0096\"},{\"type\":\"Feature\",\"geometry\":{\"type\":\"Polygon\",\"coordinates\":[[[5.826417,51.166834],[5.873733,51.190942],[5.894875,51.216],[5.951325,51.201165],[5.921628,51.171264],[5.955478,51.159044],[5.913888,51.1332],[5.872282,51.135109],[5.833507,51.099555],[5.80985,51.118422],[5.846785,51.141381],[5.826417,51.166834]]]},\"properties\":{\"fid\":262,\"code\":\"1641\",\"gemeentena\":\"Maasgouw\"},\"id\":\"1641\"},{\"type\":\"Feature\",\"geometry\":{\"type\":\"Polygon\",\"coordinates\":[[[5.153031,52.056757],[5.160546,52.078047],[5.195155,52.077346],[5.247423,52.058647],[5.263239,52.02438],[5.27991,52.010722],[5.243191,51.998793],[5.201992,52.01747],[5.191556,52.043036],[5.153031,52.056757]]]},\"properties\":{\"fid\":263,\"code\":\"0312\",\"gemeentena\":\"Bunnik\"},\"id\":\"0312\"},{\"type\":\"Feature\",\"geometry\":{\"type\":\"Polygon\",\"coordinates\":[[[6.381851,52.246113],[6.416422,52.242166],[6.431947,52.220935],[6.492401,52.177372],[6.481224,52.142479],[6.492109,52.124005],[6.478946,52.101351],[6.455205,52.10798],[6.423999,52.096908],[6.328314,52.137712],[6.32404,52.152762],[6.237988,52.146031],[6.192799,52.169801],[6.156258,52.197031],[6.189597,52.207732],[6.166269,52.231014],[6.217224,52.226401],[6.338708,52.227153],[6.350892,52.24168],[6.381851,52.246113]]]},\"properties\":{\"fid\":264,\"code\":\"0262\",\"gemeentena\":\"Lochem\"},\"id\":\"0262\"},{\"type\":\"Feature\",\"geometry\":{\"type\":\"Polygon\",\"coordinates\":[[[5.693983,51.43924],[5.718245,51.438734],[5.755699,51.434268],[5.787863,51.412657],[5.831877,51.39959],[5.87036,51.352535],[5.840194,51.346877],[5.770449,51.333805],[5.737032,51.388201],[5.702877,51.412541],[5.693983,51.43924]]]},\"properties\":{\"fid\":265,\"code\":\"0743\",\"gemeentena\":\"Asten\"},\"id\":\"0743\"},{\"type\":\"Feature\",\"geometry\":{\"type\":\"Polygon\",\"coordinates\":[[[4.422072,52.051673],[4.450564,52.04921],[4.476706,52.031642],[4.457373,52.02227],[4.458717,52.002196],[4.427898,51.976466],[4.407911,51.968199],[4.379735,52.026733],[4.394445,52.054054],[4.422072,52.051673]]]},\"properties\":{\"fid\":266,\"code\":\"1926\",\"gemeentena\":\"Pijnacker-Nootdorp\"},\"id\":\"1926\"},{\"type\":\"Feature\",\"geometry\":{\"type\":\"Polygon\",\"coordinates\":[[[5.597041,51.701987],[5.62258,51.699094],[5.672991,51.666249],[5.731348,51.673935],[5.742546,51.650062],[5.747676,51.632668],[5.750478,51.622683],[5.664907,51.628337],[5.626568,51.623401],[5.602274,51.629414],[5.5703,51.651434],[5.56224,51.663152],[5.597041,51.701987]]]},\"properties\":{\"fid\":267,\"code\":\"0856\",\"gemeentena\":\"Uden\"},\"id\":\"0856\"},{\"type\":\"Feature\",\"geometry\":{\"type\":\"Polygon\",\"coordinates\":[[[4.794576,52.226731],[4.811752,52.201736],[4.843809,52.180189],[4.892178,52.161798],[4.874518,52.138831],[4.832858,52.144762],[4.79208,52.122287],[4.738857,52.106507],[4.759025,52.135143],[4.741839,52.162673],[4.705929,52.151682],[4.681209,52.167504],[4.688847,52.191542],[4.728766,52.209819],[4.794576,52.226731]]]},\"properties\":{\"fid\":268,\"code\":\"0569\",\"gemeentena\":\"Nieuwkoop\"},\"id\":\"0569\"},{\"type\":\"Feature\",\"geometry\":{\"type\":\"Polygon\",\"coordinates\":[[[6.10132,52.301225],[6.16874,52.308307],[6.206487,52.321122],[6.235355,52.31982],[6.267239,52.300805],[6.32653,52.301632],[6.328842,52.281103],[6.370775,52.260006],[6.381851,52.246113],[6.350892,52.24168],[6.338708,52.227153],[6.217224,52.226401],[6.166269,52.231014],[6.14751,52.227778],[6.10132,52.301225]]]},\"properties\":{\"fid\":269,\"code\":\"0150\",\"gemeentena\":\"Deventer\"},\"id\":\"0150\"},{\"type\":\"Feature\",\"geometry\":{\"type\":\"Polygon\",\"coordinates\":[[[5.630008,52.637445],[5.593415,52.6604],[5.593221,52.676281],[5.607825,52.681656],[5.607881,52.681683],[5.643057,52.682456],[5.655379,52.66595],[5.630008,52.637445]]]},\"properties\":{\"fid\":270,\"code\":\"0184\",\"gemeentena\":\"Urk\"},\"id\":\"0184\"},{\"type\":\"Feature\",\"geometry\":{\"type\":\"Polygon\",\"coordinates\":[[[5.773407,51.018999],[5.788108,50.948606],[5.770938,50.927928],[5.745993,50.943411],[5.720127,50.962421],[5.767628,50.999738],[5.773407,51.018999]]]},\"properties\":{\"fid\":271,\"code\":\"0971\",\"gemeentena\":\"Stein\"},\"id\":\"0971\"},{\"type\":\"Feature\",\"geometry\":{\"type\":\"Polygon\",\"coordinates\":[[[5.411186,53.151787],[5.472192,53.146614],[5.51294,53.138581],[5.637348,53.124149],[5.659484,53.115985],[5.729668,53.120304],[5.784615,53.09903],[5.771384,53.089106],[5.771012,53.046968],[5.736705,53.030152],[5.742258,53.002301],[5.68752,52.981002],[5.688191,52.937633],[5.642455,52.936167],[5.639978,52.922469],[5.59426,52.915412],[5.564779,52.947481],[5.515507,52.928678],[5.476965,52.902237],[5.501819,52.880043],[5.47718,52.868787],[5.432404,52.87461],[5.441024,52.850868],[5.426396,52.848111],[5.368291,52.872119],[5.370183,52.899324],[5.406736,52.910172],[5.400885,52.93927],[5.412683,52.96352],[5.399983,52.98897],[5.404534,53.019798],[5.365307,53.069346],[5.299972,53.067883],[5.167396,52.99882],[5.165559,53.000093],[5.200678,53.020086],[5.205436,53.022571],[5.291373,53.065828],[5.324749,53.07458],[5.32354,53.077864],[5.334614,53.07849],[5.337161,53.076549],[5.380658,53.098331],[5.408185,53.131136],[5.411186,53.151787]]]},\"properties\":{\"fid\":272,\"code\":\"1900\",\"gemeentena\":\"S\\u00c3\\u00badwest-Frysl\\u00c3\\u00a2n\"},\"id\":\"1900\"},{\"type\":\"Feature\",\"geometry\":{\"type\":\"Polygon\",\"coordinates\":[[[5.690858,51.759131],[5.71123,51.775034],[5.729745,51.772851],[5.747848,51.757599],[5.790534,51.753509],[5.79244,51.720559],[5.729112,51.719925],[5.713139,51.726415],[5.690858,51.759131]]]},\"properties\":{\"fid\":273,\"code\":\"0786\",\"gemeentena\":\"Grave\"},\"id\":\"0786\"},{\"type\":\"Feature\",\"geometry\":{\"type\":\"Polygon\",\"coordinates\":[[[6.006054,50.957535],[6.018202,50.934701],[6.011696,50.926439],[5.92847,50.936612],[5.965862,50.962418],[6.006054,50.957535]]]},\"properties\":{\"fid\":274,\"code\":\"0899\",\"gemeentena\":\"Brunssum\"},\"id\":\"0899\"},{\"type\":\"Feature\",\"geometry\":{\"type\":\"Polygon\",\"coordinates\":[[[4.670348,52.230756],[4.72432,52.231963],[4.723764,52.216574],[4.728766,52.209819],[4.688847,52.191542],[4.681209,52.167504],[4.571481,52.153109],[4.538154,52.180085],[4.558433,52.218799],[4.631977,52.216046],[4.670348,52.230756]]]},\"properties\":{\"fid\":275,\"code\":\"1884\",\"gemeentena\":\"Kaag en Braassem\"},\"id\":\"1884\"},{\"type\":\"Feature\",\"geometry\":{\"type\":\"Polygon\",\"coordinates\":[[[5.414885,51.82129],[5.432155,51.810629],[5.474215,51.814641],[5.494556,51.830732],[5.539479,51.81622],[5.561278,51.827829],[5.597977,51.828049],[5.638113,51.819025],[5.665512,51.793634],[5.71123,51.775034],[5.690858,51.759131],[5.648219,51.76364],[5.576271,51.744877],[5.580881,51.731448],[5.540502,51.739248],[5.474244,51.728965],[5.438816,51.76503],[5.353514,51.755477],[5.365319,51.784857],[5.401706,51.820893],[5.414885,51.82129]]]},\"properties\":{\"fid\":276,\"code\":\"0828\",\"gemeentena\":\"Oss\"},\"id\":\"0828\"},{\"type\":\"Feature\",\"geometry\":{\"type\":\"Polygon\",\"coordinates\":[[[5.512592,52.018516],[5.553229,51.999031],[5.589489,52.009456],[5.606017,51.994164],[5.626064,51.97407],[5.627309,51.952473],[5.60594,51.943125],[5.586617,51.950829],[5.477664,51.983473],[5.512592,52.018516]]]},\"properties\":{\"fid\":277,\"code\":\"0340\",\"gemeentena\":\"Rhenen\"},\"id\":\"0340\"},{\"type\":\"Feature\",\"geometry\":{\"type\":\"Polygon\",\"coordinates\":[[[5.876009,52.357873],[5.924339,52.391393],[5.951024,52.398437],[6.041784,52.356512],[6.077845,52.364297],[6.073681,52.330569],[6.052948,52.330907],[6.035717,52.296399],[6.036395,52.26853],[6.028002,52.276583],[5.936211,52.274419],[5.879593,52.264991],[5.850811,52.268695],[5.840831,52.304398],[5.880951,52.335186],[5.876009,52.357873]]]},\"properties\":{\"fid\":278,\"code\":\"0232\",\"gemeentena\":\"Epe\"},\"id\":\"0232\"},{\"type\":\"Feature\",\"geometry\":{\"type\":\"Polygon\",\"coordinates\":[[[5.796386,53.058839],[5.819274,53.075862],[5.874643,53.08507],[5.927581,53.078395],[5.947328,53.06248],[5.940199,53.04218],[5.98454,53.025451],[5.979669,52.997852],[5.958105,52.972935],[6.020726,52.965866],[6.06976,52.974194],[6.131188,53.011879],[6.176812,53.021049],[6.205424,53.037931],[6.202206,52.99031],[6.15903,52.975965],[6.128589,52.953954],[6.084848,52.936274],[6.037312,52.918219],[6.00397,52.933612],[5.953671,52.925521],[5.937847,52.91174],[5.89741,52.963083],[5.871061,52.964426],[5.857603,53.017008],[5.797947,53.049809],[5.796386,53.058839]]]},\"properties\":{\"fid\":279,\"code\":\"0074\",\"gemeentena\":\"Heerenveen\"},\"id\":\"0074\"},{\"type\":\"Feature\",\"geometry\":{\"type\":\"Polygon\",\"coordinates\":[[[5.799339,51.060072],[5.877,51.032042],[5.905517,51.002172],[5.897086,50.974865],[5.839892,50.950191],[5.788108,50.948606],[5.773407,51.018999],[5.758002,51.033666],[5.774656,51.062977],[5.799339,51.060072]]]},\"properties\":{\"fid\":280,\"code\":\"1883\",\"gemeentena\":\"Sittard-Geleen\"},\"id\":\"1883\"},{\"type\":\"Feature\",\"geometry\":{\"type\":\"Polygon\",\"coordinates\":[[[6.048121,51.558463],[6.114178,51.54363],[6.141094,51.51952],[6.066774,51.523694],[6.068082,51.48837],[5.99412,51.475213],[5.874966,51.446558],[5.852574,51.504144],[5.838238,51.566415],[5.870892,51.562644],[5.906663,51.552031],[5.935445,51.5536],[6.004253,51.570244],[6.048121,51.558463]]]},\"properties\":{\"fid\":281,\"code\":\"0984\",\"gemeentena\":\"Venray\"},\"id\":\"0984\"},{\"type\":\"Feature\",\"geometry\":{\"type\":\"Polygon\",\"coordinates\":[[[4.219529,51.9414],[4.240317,51.942872],[4.257822,51.92881],[4.292611,51.921236],[4.267571,51.905335],[4.212718,51.933727],[4.219529,51.9414]]]},\"properties\":{\"fid\":282,\"code\":\"0556\",\"gemeentena\":\"Maassluis\"},\"id\":\"0556\"},{\"type\":\"Feature\",\"geometry\":{\"type\":\"Polygon\",\"coordinates\":[[[5.281718,51.821208],[5.288171,51.800177],[5.269948,51.774325],[5.173672,51.76402],[5.1857,51.741918],[5.128055,51.737607],[5.142714,51.75521],[5.135095,51.773828],[5.100278,51.787151],[5.066966,51.780553],[5.052344,51.795694],[5.000364,51.820933],[5.026352,51.818857],[5.09319,51.826244],[5.140907,51.814119],[5.220787,51.810916],[5.281718,51.821208]]]},\"properties\":{\"fid\":283,\"code\":\"0297\",\"gemeentena\":\"Zaltbommel\"},\"id\":\"0297\"},{\"type\":\"Feature\",\"geometry\":{\"type\":\"Polygon\",\"coordinates\":[[[5.102066,52.279891],[5.104646,52.285385],[5.141297,52.277446],[5.162129,52.255796],[5.201117,52.26814],[5.203822,52.267115],[5.188853,52.247651],[5.21896,52.212129],[5.215501,52.204273],[5.192586,52.177833],[5.124111,52.180827],[5.145141,52.196637],[5.139605,52.254015],[5.102066,52.279891]]]},\"properties\":{\"fid\":284,\"code\":\"0402\",\"gemeentena\":\"Hilversum\"},\"id\":\"0402\"},{\"type\":\"Feature\",\"geometry\":{\"type\":\"Polygon\",\"coordinates\":[[[4.809223,52.914022],[4.807614,52.913617],[4.806956,52.912949],[4.770939,52.878626],[4.709441,52.883588],[4.714442,52.939133],[4.730969,52.962214],[4.763942,52.965569],[4.801711,52.953114],[4.791144,52.935572],[4.809223,52.914022]]]},\"properties\":{\"fid\":285,\"code\":\"0400\",\"gemeentena\":\"Den Helder\"},\"id\":\"0400\"},{\"type\":\"Feature\",\"geometry\":{\"type\":\"Polygon\",\"coordinates\":[[[6.598851,52.383658],[6.651752,52.398725],[6.698635,52.393741],[6.713415,52.376497],[6.720846,52.341208],[6.69094,52.308391],[6.626066,52.289974],[6.601768,52.337282],[6.615512,52.361261],[6.598851,52.383658]]]},\"properties\":{\"fid\":286,\"code\":\"0141\",\"gemeentena\":\"Almelo\"},\"id\":\"0141\"},{\"type\":\"Feature\",\"geometry\":{\"type\":\"Polygon\",\"coordinates\":[[[3.693051,51.36527],[3.718784,51.349764],[3.79044,51.349195],[3.813341,51.336935],[3.866676,51.336246],[3.87539,51.345831],[3.941755,51.365427],[3.961729,51.332896],[3.953662,51.30771],[3.978879,51.300815],[3.982237,51.24911],[4.005693,51.241876],[3.959074,51.21621],[3.886298,51.200182],[3.859574,51.210831],[3.791333,51.213955],[3.795473,51.256053],[3.755714,51.269344],[3.693934,51.276039],[3.703582,51.309943],[3.666204,51.319812],[3.644149,51.341831],[3.693051,51.36527]]]},\"properties\":{\"fid\":287,\"code\":\"0715\",\"gemeentena\":\"Terneuzen\"},\"id\":\"0715\"},{\"type\":\"Feature\",\"geometry\":{\"type\":\"Polygon\",\"coordinates\":[[[5.256271,51.970941],[5.270374,51.965427],[5.241922,51.945516],[5.255062,51.935483],[5.232974,51.923554],[5.142433,51.924937],[5.180227,51.967448],[5.205989,51.959432],[5.23978,51.97894],[5.256271,51.970941]]]},\"properties\":{\"fid\":288,\"code\":\"0216\",\"gemeentena\":\"Culemborg\"},\"id\":\"0216\"},{\"type\":\"Feature\",\"geometry\":{\"type\":\"Polygon\",\"coordinates\":[[[3.380224,51.379934],[3.380738,51.380126],[3.440129,51.388971],[3.520414,51.407584],[3.566281,51.400628],[3.586408,51.387208],[3.693051,51.36527],[3.644149,51.341831],[3.666204,51.319812],[3.703582,51.309943],[3.693934,51.276039],[3.590832,51.304417],[3.515415,51.287151],[3.527594,51.24604],[3.448479,51.241561],[3.406291,51.257777],[3.387172,51.273639],[3.376839,51.302448],[3.358378,51.314981],[3.38534,51.334125],[3.370603,51.372906],[3.380224,51.379934]]]},\"properties\":{\"fid\":289,\"code\":\"1714\",\"gemeentena\":\"Sluis\"},\"id\":\"1714\"},{\"type\":\"Feature\",\"geometry\":{\"type\":\"Polygon\",\"coordinates\":[[[6.776509,53.094761],[6.813945,53.070972],[6.861287,53.040874],[6.935685,52.993353],[6.841916,52.978647],[6.788759,52.962775],[6.727712,52.95472],[6.724175,52.937288],[6.736337,52.878691],[6.714564,52.868159],[6.686374,52.875331],[6.666734,52.909449],[6.585828,52.919452],[6.561505,52.946652],[6.596043,52.972658],[6.631221,53.026105],[6.642291,53.045799],[6.776509,53.094761]]]},\"properties\":{\"fid\":290,\"code\":\"1680\",\"gemeentena\":\"Aa en Hunze\"},\"id\":\"1680\"},{\"type\":\"Feature\",\"geometry\":{\"type\":\"Polygon\",\"coordinates\":[[[4.611384,52.322205],[4.611676,52.31356],[4.563707,52.309298],[4.547322,52.313997],[4.591659,52.391716],[4.541213,52.401423],[4.559255,52.438104],[4.624992,52.423492],[4.631648,52.411666],[4.605724,52.363405],[4.590186,52.328353],[4.611384,52.322205]]]},\"properties\":{\"fid\":291,\"code\":\"0377\",\"gemeentena\":\"Bloemendaal\"},\"id\":\"0377\"},{\"type\":\"Feature\",\"geometry\":{\"type\":\"Polygon\",\"coordinates\":[[[5.423843,51.534055],[5.487146,51.541848],[5.500261,51.521397],[5.530864,51.525049],[5.546273,51.512696],[5.511424,51.496922],[5.442571,51.493927],[5.447508,51.512069],[5.423843,51.534055]]]},\"properties\":{\"fid\":292,\"code\":\"0848\",\"gemeentena\":\"Son en Breugel\"},\"id\":\"0848\"},{\"type\":\"Feature\",\"geometry\":{\"type\":\"Polygon\",\"coordinates\":[[[4.826242,52.717436],[4.847685,52.720259],[4.898669,52.706832],[4.89986,52.697587],[4.877691,52.687262],[4.863179,52.656469],[4.873399,52.634446],[4.830225,52.632678],[4.785587,52.639163],[4.800509,52.660241],[4.827075,52.676437],[4.826242,52.717436]]]},\"properties\":{\"fid\":293,\"code\":\"0398\",\"gemeentena\":\"Heerhugowaard\"},\"id\":\"0398\"},{\"type\":\"Feature\",\"geometry\":{\"type\":\"Polygon\",\"coordinates\":[[[4.987267,51.654609],[4.992246,51.676251],[5.049178,51.661623],[5.101509,51.676835],[5.106137,51.635956],[5.093745,51.611249],[5.004492,51.607887],[4.987267,51.654609]]]},\"properties\":{\"fid\":294,\"code\":\"0809\",\"gemeentena\":\"Loon op Zand\"},\"id\":\"0809\"},{\"type\":\"Feature\",\"geometry\":{\"type\":\"Polygon\",\"coordinates\":[[[6.001733,51.977552],[6.001965,51.98065],[6.061781,52.014982],[6.092734,51.992751],[6.109591,51.996437],[6.159251,51.99974],[6.160483,51.981037],[6.144688,51.9805],[6.090394,51.967844],[6.091427,51.938721],[6.167912,51.900942],[6.137859,51.885027],[6.167,51.861622],[6.16656,51.840722],[6.092589,51.851431],[6.063486,51.865451],[6.046285,51.870913],[6.013711,51.901608],[5.987063,51.913314],[6.043076,51.916831],[6.06111,51.981763],[6.001733,51.977552]]]},\"properties\":{\"fid\":295,\"code\":\"0299\",\"gemeentena\":\"Zevenaar\"},\"id\":\"0299\"},{\"type\":\"Feature\",\"geometry\":{\"type\":\"Polygon\",\"coordinates\":[[[4.583992,51.965369],[4.619489,51.933492],[4.617704,51.93105],[4.549901,51.906728],[4.566239,51.925909],[4.56155,51.956648],[4.583992,51.965369]]]},\"properties\":{\"fid\":296,\"code\":\"0502\",\"gemeentena\":\"Capelle aan den IJssel\"},\"id\":\"0502\"},{\"type\":\"Feature\",\"geometry\":{\"type\":\"Polygon\",\"coordinates\":[[[4.955241,52.278305],[5.021543,52.302457],[5.021867,52.282653],[5.007463,52.231705],[4.980414,52.226847],[4.928606,52.1672],[4.909638,52.161871],[4.892178,52.161798],[4.843809,52.180189],[4.811752,52.201736],[4.794576,52.226731],[4.852053,52.242013],[4.870121,52.253282],[4.911027,52.25271],[4.933864,52.280884],[4.955241,52.278305]]]},\"properties\":{\"fid\":297,\"code\":\"0736\",\"gemeentena\":\"De Ronde Venen\"},\"id\":\"0736\"},{\"type\":\"Feature\",\"geometry\":{\"type\":\"Polygon\",\"coordinates\":[[[5.771012,53.046968],[5.796386,53.058839],[5.797947,53.049809],[5.857603,53.017008],[5.871061,52.964426],[5.89741,52.963083],[5.937847,52.91174],[5.886216,52.894379],[5.856768,52.870791],[5.819744,52.817278],[5.795177,52.806522],[5.748807,52.83968],[5.713082,52.838027],[5.657388,52.843672],[5.644561,52.860278],[5.58278,52.84698],[5.545143,52.833007],[5.492167,52.847891],[5.441024,52.850868],[5.432404,52.87461],[5.47718,52.868787],[5.501819,52.880043],[5.476965,52.902237],[5.515507,52.928678],[5.564779,52.947481],[5.59426,52.915412],[5.639978,52.922469],[5.642455,52.936167],[5.688191,52.937633],[5.68752,52.981002],[5.742258,53.002301],[5.736705,53.030152],[5.771012,53.046968]]]},\"properties\":{\"fid\":298,\"code\":\"1940\",\"gemeentena\":\"De Fryske Marren\"},\"id\":\"1940\"},{\"type\":\"Feature\",\"geometry\":{\"type\":\"Polygon\",\"coordinates\":[[[5.356917,51.438204],[5.369447,51.465317],[5.391187,51.471756],[5.401583,51.485956],[5.442571,51.493927],[5.511424,51.496922],[5.509152,51.469198],[5.548679,51.434677],[5.525167,51.427854],[5.525815,51.404697],[5.504874,51.400155],[5.427277,51.402654],[5.426785,51.429542],[5.356917,51.438204]]]},\"properties\":{\"fid\":299,\"code\":\"0772\",\"gemeentena\":\"Eindhoven\"},\"id\":\"0772\"},{\"type\":\"Feature\",\"geometry\":{\"type\":\"Polygon\",\"coordinates\":[[[5.062801,52.026823],[5.075629,52.062228],[5.126832,52.054918],[5.119563,51.999924],[5.077535,51.997452],[5.062801,52.026823]]]},\"properties\":{\"fid\":300,\"code\":\"0356\",\"gemeentena\":\"Nieuwegein\"},\"id\":\"0356\"},{\"type\":\"Feature\",\"geometry\":{\"type\":\"Polygon\",\"coordinates\":[[[5.356917,51.438204],[5.426785,51.429542],[5.427277,51.402654],[5.421801,51.38341],[5.388907,51.37646],[5.354363,51.408783],[5.323664,51.406187],[5.319371,51.423795],[5.356917,51.438204]]]},\"properties\":{\"fid\":301,\"code\":\"0861\",\"gemeentena\":\"Veldhoven\"},\"id\":\"0861\"},{\"type\":\"Feature\",\"geometry\":{\"type\":\"Polygon\",\"coordinates\":[[[4.383665,51.842118],[4.393378,51.871971],[4.480403,51.862328],[4.489094,51.835396],[4.432482,51.837046],[4.383665,51.842118]]]},\"properties\":{\"fid\":302,\"code\":\"0613\",\"gemeentena\":\"Albrandswaard\"},\"id\":\"0613\"},{\"type\":\"Feature\",\"geometry\":{\"type\":\"Polygon\",\"coordinates\":[[[5.224999,52.1657],[5.243173,52.170076],[5.255916,52.136724],[5.282138,52.112063],[5.306459,52.110271],[5.31092,52.108384],[5.322462,52.101901],[5.332251,52.084163],[5.29076,52.086568],[5.247423,52.058647],[5.195155,52.077346],[5.192752,52.086076],[5.23093,52.116789],[5.224999,52.1657]]]},\"properties\":{\"fid\":303,\"code\":\"0355\",\"gemeentena\":\"Zeist\"},\"id\":\"0355\"},{\"type\":\"Feature\",\"geometry\":{\"type\":\"Polygon\",\"coordinates\":[[[6.720846,52.341208],[6.759035,52.332061],[6.802039,52.313586],[6.775516,52.293153],[6.742886,52.283113],[6.69094,52.308391],[6.720846,52.341208]]]},\"properties\":{\"fid\":304,\"code\":\"0147\",\"gemeentena\":\"Borne\"},\"id\":\"0147\"},{\"type\":\"Feature\",\"geometry\":{\"type\":\"Polygon\",\"coordinates\":[[[5.288244,52.297856],[5.306143,52.277464],[5.265978,52.281926],[5.244081,52.254663],[5.203822,52.267115],[5.288244,52.297856]]]},\"properties\":{\"fid\":305,\"code\":\"0376\",\"gemeentena\":\"Blaricum\"},\"id\":\"0376\"},{\"type\":\"Feature\",\"geometry\":{\"type\":\"Polygon\",\"coordinates\":[[[5.259232,52.686739],[5.257501,52.716181],[5.272245,52.746886],[5.283907,52.742448],[5.287407,52.691158],[5.286838,52.689788],[5.259232,52.686739]]]},\"properties\":{\"fid\":306,\"code\":\"0388\",\"gemeentena\":\"Enkhuizen\"},\"id\":\"0388\"},{\"type\":\"Feature\",\"geometry\":{\"type\":\"Polygon\",\"coordinates\":[[[4.729639,51.822169],[4.767944,51.815719],[4.811416,51.818658],[4.884643,51.816471],[4.845984,51.798757],[4.797194,51.79977],[4.75524,51.781611],[4.744788,51.763487],[4.676304,51.724924],[4.645137,51.719067],[4.636221,51.717308],[4.624182,51.722736],[4.631356,51.749185],[4.621222,51.800804],[4.671709,51.820854],[4.729639,51.822169]]]},\"properties\":{\"fid\":307,\"code\":\"0505\",\"gemeentena\":\"Dordrecht\"},\"id\":\"0505\"},{\"type\":\"Feature\",\"geometry\":{\"type\":\"Polygon\",\"coordinates\":[[[4.372709,52.094773],[4.401159,52.11187],[4.427903,52.10147],[4.464492,52.127311],[4.472975,52.118952],[4.492219,52.09001],[4.420833,52.06258],[4.403924,52.077845],[4.35542,52.068085],[4.372709,52.094773]]]},\"properties\":{\"fid\":308,\"code\":\"1916\",\"gemeentena\":\"Leidschendam-Voorburg\"},\"id\":\"1916\"},{\"type\":\"Feature\",\"geometry\":{\"type\":\"Polygon\",\"coordinates\":[[[5.735384,53.294721],[5.763197,53.294492],[5.838649,53.274949],[5.83216,53.242857],[5.880656,53.224976],[5.857728,53.204063],[5.861937,53.171519],[5.919409,53.16857],[5.908629,53.14478],[5.94346,53.121614],[5.933019,53.109389],[5.882006,53.106939],[5.874643,53.08507],[5.819274,53.075862],[5.796386,53.058839],[5.771012,53.046968],[5.771384,53.089106],[5.784615,53.09903],[5.729668,53.120304],[5.659484,53.115985],[5.637348,53.124149],[5.6587,53.168316],[5.683128,53.181144],[5.727799,53.167566],[5.745074,53.185416],[5.720303,53.274545],[5.735384,53.294721]]]},\"properties\":{\"fid\":309,\"code\":\"0080\",\"gemeentena\":\"Leeuwarden\"},\"id\":\"0080\"},{\"type\":\"Feature\",\"geometry\":{\"type\":\"Polygon\",\"coordinates\":[[[5.060524,52.485724],[5.050034,52.439979],[5.07864,52.436706],[5.06852,52.416447],[5.000717,52.425293],[4.947789,52.421562],[4.948316,52.484005],[4.974247,52.470435],[4.997964,52.494733],[5.024792,52.484863],[5.060524,52.485724]]]},\"properties\":{\"fid\":310,\"code\":\"0852\",\"gemeentena\":\"Waterland\"},\"id\":\"0852\"},{\"type\":\"Feature\",\"geometry\":{\"type\":\"Polygon\",\"coordinates\":[[[4.600155,51.83873],[4.646948,51.856661],[4.635261,51.869711],[4.672606,51.83865],[4.670439,51.823589],[4.637209,51.825348],[4.600155,51.83873]]]},\"properties\":{\"fid\":311,\"code\":\"0531\",\"gemeentena\":\"Hendrik-Ido-Ambacht\"},\"id\":\"0531\"},{\"type\":\"Feature\",\"geometry\":{\"type\":\"Polygon\",\"coordinates\":[[[5.106137,51.635956],[5.144938,51.640512],[5.179539,51.597664],[5.137355,51.562581],[5.146948,51.546634],[5.130196,51.530298],[5.109821,51.539383],[4.97546,51.540133],[4.951668,51.560884],[4.96899,51.571305],[4.968737,51.602057],[4.947846,51.61117],[5.004492,51.607887],[5.093745,51.611249],[5.106137,51.635956]]]},\"properties\":{\"fid\":312,\"code\":\"0855\",\"gemeentena\":\"Tilburg\"},\"id\":\"0855\"},{\"type\":\"Feature\",\"geometry\":{\"type\":\"Polygon\",\"coordinates\":[[[5.516418,51.378336],[5.504874,51.400155],[5.525815,51.404697],[5.560661,51.405768],[5.594032,51.417245],[5.639016,51.422456],[5.63892,51.389173],[5.654707,51.353877],[5.631295,51.327541],[5.605317,51.331805],[5.566077,51.320543],[5.515774,51.295203],[5.484859,51.3],[5.491258,51.314661],[5.473605,51.333943],[5.516418,51.378336]]]},\"properties\":{\"fid\":313,\"code\":\"1658\",\"gemeentena\":\"Heeze-Leende\"},\"id\":\"1658\"},{\"type\":\"Feature\",\"geometry\":{\"type\":\"Polygon\",\"coordinates\":[[[4.729639,51.822169],[4.742764,51.841003],[4.803379,51.846353],[4.811416,51.818658],[4.767944,51.815719],[4.729639,51.822169]]]},\"properties\":{\"fid\":314,\"code\":\"0610\",\"gemeentena\":\"Sliedrecht\"},\"id\":\"0610\"},{\"type\":\"Feature\",\"geometry\":{\"type\":\"Polygon\",\"coordinates\":[[[6.961735,53.110021],[6.965295,53.110831],[7.029754,53.115097],[7.042633,53.101687],[7.015446,53.071774],[6.95579,53.013861],[6.907703,53.038881],[6.933344,53.049613],[6.929088,53.070799],[6.960652,53.095962],[6.961735,53.110021]]]},\"properties\":{\"fid\":315,\"code\":\"0765\",\"gemeentena\":\"Pekela\"},\"id\":\"0765\"},{\"type\":\"Feature\",\"geometry\":{\"type\":\"MultiPolygon\",\"coordinates\":[[[[5.572733,52.596508],[5.640242,52.60773],[5.657791,52.596537],[5.756215,52.581836],[5.811125,52.578336],[5.856092,52.54688],[5.857165,52.544162],[5.849702,52.495898],[5.796133,52.438547],[5.747164,52.414476],[5.720091,52.415976],[5.660756,52.397597],[5.615811,52.370178],[5.622733,52.407607],[5.58907,52.411187],[5.566637,52.435863],[5.586389,52.447711],[5.56542,52.470281],[5.605871,52.48452],[5.591293,52.500036],[5.587386,52.563456],[5.572733,52.596508]]],[[[5.680739,52.379014],[5.678922,52.378841],[5.678064,52.37876],[5.678602,52.379307],[5.680739,52.379014]]]]},\"properties\":{\"fid\":316,\"code\":\"0303\",\"gemeentena\":\"Dronten\"},\"id\":\"0303\"},{\"type\":\"Feature\",\"geometry\":{\"type\":\"Polygon\",\"coordinates\":[[[5.886766,51.865203],[5.857124,51.894621],[5.891199,51.907263],[5.897918,51.934358],[5.9169,51.950521],[5.955225,51.948754],[5.965775,51.938768],[5.987063,51.913314],[6.013711,51.901608],[6.046285,51.870913],[6.007828,51.881489],[5.967448,51.854452],[5.923633,51.874623],[5.886766,51.865203]]]},\"properties\":{\"fid\":317,\"code\":\"1705\",\"gemeentena\":\"Lingewaard\"},\"id\":\"1705\"},{\"type\":\"Feature\",\"geometry\":{\"type\":\"Polygon\",\"coordinates\":[[[5.566045,51.220909],[5.618782,51.229425],[5.625972,51.273602],[5.643997,51.290575],[5.656958,51.279732],[5.723565,51.282658],[5.79177,51.237537],[5.781767,51.220139],[5.751904,51.213725],[5.745641,51.189499],[5.708004,51.182055],[5.658044,51.184745],[5.636708,51.202778],[5.566045,51.220909]]]},\"properties\":{\"fid\":318,\"code\":\"0988\",\"gemeentena\":\"Weert\"},\"id\":\"0988\"},{\"type\":\"Feature\",\"geometry\":{\"type\":\"Polygon\",\"coordinates\":[[[4.580783,52.489447],[4.586493,52.499175],[4.604314,52.494389],[4.666302,52.500744],[4.707969,52.486332],[4.674848,52.45552],[4.653333,52.477155],[4.580783,52.489447]]]},\"properties\":{\"fid\":319,\"code\":\"0375\",\"gemeentena\":\"Beverwijk\"},\"id\":\"0375\"},{\"type\":\"Feature\",\"geometry\":{\"type\":\"Polygon\",\"coordinates\":[[[6.10958,52.440531],[6.154915,52.453183],[6.177428,52.431149],[6.230958,52.4235],[6.226139,52.388001],[6.203988,52.386899],[6.197015,52.352119],[6.222961,52.347237],[6.235355,52.31982],[6.206487,52.321122],[6.16874,52.308307],[6.10132,52.301225],[6.084126,52.301567],[6.073681,52.330569],[6.077845,52.364297],[6.117073,52.378033],[6.129583,52.397982],[6.110844,52.407755],[6.10958,52.440531]]]},\"properties\":{\"fid\":320,\"code\":\"1773\",\"gemeentena\":\"Olst-Wijhe\"},\"id\":\"1773\"},{\"type\":\"Feature\",\"geometry\":{\"type\":\"Polygon\",\"coordinates\":[[[5.57673,51.499453],[5.609654,51.509217],[5.634822,51.494883],[5.684144,51.5077],[5.721718,51.485131],[5.718245,51.438734],[5.693983,51.43924],[5.656468,51.45656],[5.608057,51.449717],[5.584708,51.460509],[5.57673,51.499453]]]},\"properties\":{\"fid\":321,\"code\":\"0794\",\"gemeentena\":\"Helmond\"},\"id\":\"0794\"},{\"type\":\"Feature\",\"geometry\":{\"type\":\"Polygon\",\"coordinates\":[[[6.11982,52.854215],[6.201731,52.793696],[6.172906,52.773054],[6.120332,52.750149],[6.158976,52.692154],[6.119566,52.667937],[6.085563,52.663274],[6.021399,52.641431],[5.981766,52.658719],[5.974676,52.66271],[5.974429,52.662849],[5.97331,52.663573],[5.967742,52.666042],[5.965812,52.666345],[5.964171,52.666256],[5.963515,52.66634],[5.958299,52.667783],[5.958139,52.667808],[5.955262,52.667715],[5.952746,52.667952],[5.9409,52.670475],[5.940023,52.670094],[5.943838,52.681393],[5.944104,52.68155],[5.950582,52.685307],[5.952959,52.685394],[5.959498,52.689965],[5.961309,52.690233],[5.965051,52.695004],[5.965001,52.695691],[5.964604,52.698323],[5.95541,52.703781],[5.955104,52.705708],[5.922574,52.750692],[5.849699,52.784739],[5.818792,52.784697],[5.795177,52.806522],[5.819744,52.817278],[5.878763,52.800849],[5.932631,52.835431],[5.972438,52.841917],[5.996643,52.816621],[6.031168,52.814991],[6.11982,52.854215]]]},\"properties\":{\"fid\":322,\"code\":\"1708\",\"gemeentena\":\"Steenwijkerland\"},\"id\":\"1708\"},{\"type\":\"Feature\",\"geometry\":{\"type\":\"Polygon\",\"coordinates\":[[[6.9473,52.436621],[6.977534,52.465681],[6.993907,52.465485],[7.010768,52.429188],[7.034652,52.403957],[7.058728,52.39941],[7.072205,52.372803],[7.00783,52.363825],[6.97093,52.37986],[6.970259,52.348767],[6.937531,52.332836],[6.900646,52.33346],[6.861349,52.306367],[6.912127,52.285506],[6.868327,52.272962],[6.840492,52.276312],[6.846639,52.291174],[6.802039,52.313586],[6.759035,52.332061],[6.783399,52.360116],[6.863585,52.363731],[6.862338,52.407816],[6.853411,52.427062],[6.9473,52.436621]]]},\"properties\":{\"fid\":323,\"code\":\"1774\",\"gemeentena\":\"Dinkelland\"},\"id\":\"1774\"},{\"type\":\"Feature\",\"geometry\":{\"type\":\"Polygon\",\"coordinates\":[[[5.626568,51.623401],[5.664907,51.628337],[5.750478,51.622683],[5.758615,51.593947],[5.699386,51.584117],[5.651357,51.58236],[5.626568,51.623401]]]},\"properties\":{\"fid\":324,\"code\":\"0755\",\"gemeentena\":\"Boekel\"},\"id\":\"0755\"},{\"type\":\"Feature\",\"geometry\":{\"type\":\"Polygon\",\"coordinates\":[[[6.687853,52.039856],[6.752977,52.028406],[6.826607,51.993527],[6.828529,51.964105],[6.798873,51.958744],[6.793991,51.935294],[6.770036,51.916199],[6.721969,51.896063],[6.69265,51.914717],[6.668733,51.913863],[6.634153,51.9353],[6.638916,51.962547],[6.654475,51.974834],[6.662209,52.017299],[6.687853,52.039856]]]},\"properties\":{\"fid\":325,\"code\":\"0294\",\"gemeentena\":\"Winterswijk\"},\"id\":\"0294\"},{\"type\":\"Feature\",\"geometry\":{\"type\":\"Polygon\",\"coordinates\":[[[6.714564,52.868159],[6.736337,52.878691],[6.765601,52.849926],[6.849806,52.804634],[6.831261,52.778649],[6.839694,52.760996],[6.826361,52.730888],[6.849529,52.699354],[6.861875,52.649691],[6.783648,52.652517],[6.741984,52.645333],[6.710053,52.62782],[6.708547,52.648715],[6.629453,52.669688],[6.629937,52.712727],[6.595794,52.713218],[6.587467,52.73569],[6.660879,52.801233],[6.675143,52.797126],[6.728629,52.853966],[6.714564,52.868159]]]},\"properties\":{\"fid\":326,\"code\":\"0109\",\"gemeentena\":\"Coevorden\"},\"id\":\"0109\"},{\"type\":\"Feature\",\"geometry\":{\"type\":\"Polygon\",\"coordinates\":[[[5.395522,52.219154],[5.403519,52.246788],[5.47862,52.257805],[5.48369,52.239244],[5.515461,52.234214],[5.549917,52.202336],[5.633267,52.208167],[5.625651,52.192724],[5.577699,52.194797],[5.565022,52.178072],[5.530808,52.191539],[5.485472,52.181639],[5.479922,52.165815],[5.439876,52.171197],[5.439356,52.200687],[5.395522,52.219154]]]},\"properties\":{\"fid\":327,\"code\":\"0267\",\"gemeentena\":\"Nijkerk\"},\"id\":\"0267\"},{\"type\":\"Feature\",\"geometry\":{\"type\":\"Polygon\",\"coordinates\":[[[4.563707,52.309298],[4.611676,52.31356],[4.572749,52.27124],[4.54255,52.286644],[4.563707,52.309298]]]},\"properties\":{\"fid\":328,\"code\":\"0534\",\"gemeentena\":\"Hillegom\"},\"id\":\"0534\"},{\"type\":\"Feature\",\"geometry\":{\"type\":\"Polygon\",\"coordinates\":[[[5.107093,52.133211],[5.09489,52.155349],[5.115294,52.179853],[5.124111,52.180827],[5.192586,52.177833],[5.215501,52.204273],[5.212076,52.176374],[5.224999,52.1657],[5.23093,52.116789],[5.192752,52.086076],[5.160612,52.094783],[5.146916,52.120383],[5.107093,52.133211]]]},\"properties\":{\"fid\":329,\"code\":\"0310\",\"gemeentena\":\"De Bilt\"},\"id\":\"0310\"},{\"type\":\"Feature\",\"geometry\":{\"type\":\"Polygon\",\"coordinates\":[[[4.553609,51.829897],[4.571058,51.847117],[4.600155,51.83873],[4.637209,51.825348],[4.670439,51.823589],[4.671709,51.820854],[4.621222,51.800804],[4.579552,51.808004],[4.553609,51.829897]]]},\"properties\":{\"fid\":330,\"code\":\"0642\",\"gemeentena\":\"Zwijndrecht\"},\"id\":\"0642\"},{\"type\":\"Feature\",\"geometry\":{\"type\":\"Polygon\",\"coordinates\":[[[5.109821,51.539383],[5.100947,51.52052],[5.05158,51.487132],[5.049741,51.471108],[5.016522,51.475439],[4.987993,51.483045],[4.992298,51.512248],[4.962573,51.525864],[4.97546,51.540133],[5.109821,51.539383]]]},\"properties\":{\"fid\":331,\"code\":\"0785\",\"gemeentena\":\"Goirle\"},\"id\":\"0785\"},{\"type\":\"Feature\",\"geometry\":{\"type\":\"Polygon\",\"coordinates\":[[[5.799842,50.885673],[5.861618,50.882418],[5.887993,50.847034],[5.859461,50.833684],[5.82361,50.830358],[5.800667,50.84835],[5.75734,50.855291],[5.76266,50.86651],[5.799842,50.885673]]]},\"properties\":{\"fid\":332,\"code\":\"0994\",\"gemeentena\":\"Valkenburg aan de Geul\"},\"id\":\"0994\"},{\"type\":\"Feature\",\"geometry\":{\"type\":\"Polygon\",\"coordinates\":[[[5.58907,52.411187],[5.622733,52.407607],[5.615811,52.370178],[5.615842,52.362761],[5.61328,52.361385],[5.563821,52.367356],[5.537427,52.346281],[5.552691,52.32014],[5.529002,52.275327],[5.472507,52.263304],[5.469108,52.263041],[5.40131,52.253302],[5.316461,52.303146],[5.333505,52.314274],[5.379211,52.313995],[5.301244,52.381986],[5.350772,52.400209],[5.438783,52.442646],[5.5095,52.397355],[5.537298,52.385],[5.58907,52.411187]]]},\"properties\":{\"fid\":333,\"code\":\"0050\",\"gemeentena\":\"Zeewolde\"},\"id\":\"0050\"},{\"type\":\"Feature\",\"geometry\":{\"type\":\"Polygon\",\"coordinates\":[[[5.809843,52.151415],[5.788566,52.196536],[5.750585,52.193731],[5.726389,52.242503],[5.761449,52.248304],[5.749227,52.268273],[5.821427,52.272672],[5.850811,52.268695],[5.879593,52.264991],[5.936211,52.274419],[6.028002,52.276583],[6.036395,52.26853],[6.028472,52.239043],[6.056109,52.198242],[6.049403,52.184669],[6.076067,52.143938],[6.051118,52.124203],[6.008849,52.074014],[5.955931,52.073339],[5.946103,52.077891],[5.946185,52.0993],[5.883449,52.106342],[5.859545,52.148749],[5.809843,52.151415]]]},\"properties\":{\"fid\":334,\"code\":\"0200\",\"gemeentena\":\"Apeldoorn\"},\"id\":\"0200\"},{\"type\":\"Feature\",\"geometry\":{\"type\":\"Polygon\",\"coordinates\":[[[5.404233,51.548292],[5.356911,51.544717],[5.273271,51.552821],[5.247241,51.58704],[5.262726,51.599812],[5.300503,51.606332],[5.310955,51.633672],[5.317732,51.634634],[5.352929,51.600691],[5.380529,51.602902],[5.40016,51.575673],[5.404233,51.548292]]]},\"properties\":{\"fid\":335,\"code\":\"0757\",\"gemeentena\":\"Boxtel\"},\"id\":\"0757\"},{\"type\":\"Feature\",\"geometry\":{\"type\":\"Polygon\",\"coordinates\":[[[5.244081,52.254663],[5.265978,52.281926],[5.306143,52.277464],[5.331193,52.273538],[5.312278,52.232829],[5.30097,52.223524],[5.22473,52.225197],[5.244081,52.254663]]]},\"properties\":{\"fid\":336,\"code\":\"0317\",\"gemeentena\":\"Eemnes\"},\"id\":\"0317\"},{\"type\":\"Feature\",\"geometry\":{\"type\":\"Polygon\",\"coordinates\":[[[6.017142,50.870467],[6.042897,50.900409],[6.079813,50.90577],[6.088073,50.872293],[6.057222,50.852021],[6.017959,50.843805],[6.017142,50.870467]]]},\"properties\":{\"fid\":337,\"code\":\"0928\",\"gemeentena\":\"Kerkrade\"},\"id\":\"0928\"},{\"type\":\"Feature\",\"geometry\":{\"type\":\"Polygon\",\"coordinates\":[[[6.073681,52.330569],[6.084126,52.301567],[6.10132,52.301225],[6.14751,52.227778],[6.166269,52.231014],[6.189597,52.207732],[6.156258,52.197031],[6.192799,52.169801],[6.184679,52.161223],[6.16166,52.161467],[6.076067,52.143938],[6.049403,52.184669],[6.056109,52.198242],[6.028472,52.239043],[6.036395,52.26853],[6.035717,52.296399],[6.052948,52.330907],[6.073681,52.330569]]]},\"properties\":{\"fid\":338,\"code\":\"0285\",\"gemeentena\":\"Voorst\"},\"id\":\"0285\"},{\"type\":\"Feature\",\"geometry\":{\"type\":\"Polygon\",\"coordinates\":[[[5.584708,51.460509],[5.608057,51.449717],[5.656468,51.45656],[5.639016,51.422456],[5.594032,51.417245],[5.560661,51.405768],[5.525815,51.404697],[5.525167,51.427854],[5.548679,51.434677],[5.584708,51.460509]]]},\"properties\":{\"fid\":339,\"code\":\"1771\",\"gemeentena\":\"Geldrop-Mierlo\"},\"id\":\"1771\"},{\"type\":\"Feature\",\"geometry\":{\"type\":\"Polygon\",\"coordinates\":[[[4.995195,52.02172],[4.99011,52.052199],[5.017075,52.061143],[5.062801,52.026823],[5.077535,51.997452],[5.062638,51.991233],[5.034063,52.003846],[5.020295,52.025627],[4.995195,52.02172]]]},\"properties\":{\"fid\":340,\"code\":\"0353\",\"gemeentena\":\"IJsselstein\"},\"id\":\"0353\"},{\"type\":\"Feature\",\"geometry\":{\"type\":\"Polygon\",\"coordinates\":[[[6.961735,53.110021],[6.960652,53.095962],[6.929088,53.070799],[6.933344,53.049613],[6.907703,53.038881],[6.861287,53.040874],[6.813945,53.070972],[6.801674,53.119172],[6.823101,53.126219],[6.886254,53.1286],[6.959339,53.120176],[6.961735,53.110021]]]},\"properties\":{\"fid\":341,\"code\":\"0047\",\"gemeentena\":\"Veendam\"},\"id\":\"0047\"},{\"type\":\"Feature\",\"geometry\":{\"type\":\"Polygon\",\"coordinates\":[[[5.339024,51.874034],[5.399824,51.898576],[5.411257,51.912009],[5.453385,51.922761],[5.463917,51.889009],[5.433538,51.877226],[5.415234,51.851801],[5.339024,51.874034]]]},\"properties\":{\"fid\":342,\"code\":\"0281\",\"gemeentena\":\"Tiel\"},\"id\":\"0281\"},{\"type\":\"Feature\",\"geometry\":{\"type\":\"Polygon\",\"coordinates\":[[[4.99686,52.752065],[5.011164,52.722907],[4.988271,52.713382],[4.979205,52.679679],[4.95289,52.67213],[4.905618,52.686419],[4.89986,52.697587],[4.898669,52.706832],[4.944386,52.753659],[4.99686,52.752065]]]},\"properties\":{\"fid\":343,\"code\":\"0432\",\"gemeentena\":\"Opmeer\"},\"id\":\"0432\"},{\"type\":\"Feature\",\"geometry\":{\"type\":\"Polygon\",\"coordinates\":[[[4.547686,51.972807],[4.565043,52.058569],[4.607427,52.065527],[4.591089,52.035087],[4.624736,52.014722],[4.666607,52.012971],[4.688685,51.996258],[4.619489,51.933492],[4.583992,51.965369],[4.547686,51.972807]]]},\"properties\":{\"fid\":344,\"code\":\"1892\",\"gemeentena\":\"Zuidplas\"},\"id\":\"1892\"},{\"type\":\"Feature\",\"geometry\":{\"type\":\"Polygon\",\"coordinates\":[[[5.572733,52.596508],[5.587386,52.563456],[5.591293,52.500036],[5.605871,52.48452],[5.56542,52.470281],[5.586389,52.447711],[5.566637,52.435863],[5.58907,52.411187],[5.537298,52.385],[5.5095,52.397355],[5.438783,52.442646],[5.350772,52.400209],[5.279331,52.42215],[5.257819,52.435949],[5.436502,52.513325],[5.430061,52.529514],[5.456075,52.550604],[5.498755,52.555346],[5.572733,52.596508]]]},\"properties\":{\"fid\":345,\"code\":\"0995\",\"gemeentena\":\"Lelystad\"},\"id\":\"0995\"},{\"type\":\"Feature\",\"geometry\":{\"type\":\"Polygon\",\"coordinates\":[[[4.236119,51.550366],[4.252008,51.570661],[4.317978,51.551216],[4.34954,51.503481],[4.372798,51.487724],[4.366966,51.456719],[4.311167,51.460173],[4.265432,51.439681],[4.230328,51.488904],[4.218927,51.504858],[4.236119,51.550366]]]},\"properties\":{\"fid\":346,\"code\":\"0748\",\"gemeentena\":\"Bergen op Zoom\"},\"id\":\"0748\"},{\"type\":\"Feature\",\"geometry\":{\"type\":\"Polygon\",\"coordinates\":[[[5.034763,52.666556],[5.091752,52.678924],[5.117078,52.649986],[5.100815,52.634756],[5.046074,52.641479],[5.019699,52.629963],[5.038137,52.648929],[5.034763,52.666556]]]},\"properties\":{\"fid\":347,\"code\":\"0405\",\"gemeentena\":\"Hoorn\"},\"id\":\"0405\"},{\"type\":\"Feature\",\"geometry\":{\"type\":\"Polygon\",\"coordinates\":[[[5.257501,52.716181],[5.259232,52.686739],[5.247083,52.684972],[5.209663,52.683933],[5.187023,52.707452],[5.210971,52.71691],[5.257501,52.716181]]]},\"properties\":{\"fid\":348,\"code\":\"0532\",\"gemeentena\":\"Stede Broec\"},\"id\":\"0532\"},{\"type\":\"Feature\",\"geometry\":{\"type\":\"Polygon\",\"coordinates\":[[[5.639016,51.422456],[5.656468,51.45656],[5.693983,51.43924],[5.702877,51.412541],[5.737032,51.388201],[5.770449,51.333805],[5.672111,51.315094],[5.654707,51.353877],[5.63892,51.389173],[5.639016,51.422456]]]},\"properties\":{\"fid\":349,\"code\":\"0847\",\"gemeentena\":\"Someren\"},\"id\":\"0847\"},{\"type\":\"Feature\",\"geometry\":{\"type\":\"Polygon\",\"coordinates\":[[[5.652486,51.569679],[5.651357,51.58236],[5.699386,51.584117],[5.758615,51.593947],[5.786678,51.598208],[5.800586,51.578622],[5.838238,51.566415],[5.852574,51.504144],[5.773439,51.488638],[5.721718,51.485131],[5.684144,51.5077],[5.652486,51.569679]]]},\"properties\":{\"fid\":350,\"code\":\"1652\",\"gemeentena\":\"Gemert-Bakel\"},\"id\":\"1652\"},{\"type\":\"Feature\",\"geometry\":{\"type\":\"Polygon\",\"coordinates\":[[[5.833507,51.099555],[5.872282,51.135109],[5.913888,51.1332],[5.926755,51.113774],[5.984807,51.120655],[6.021983,51.113371],[6.036463,51.096531],[6.009524,51.090844],[5.969978,51.060704],[5.967838,51.044759],[5.938129,51.035117],[5.913208,51.066883],[5.887199,51.052179],[5.877,51.032042],[5.799339,51.060072],[5.795107,51.089623],[5.833507,51.099555]]]},\"properties\":{\"fid\":351,\"code\":\"1711\",\"gemeentena\":\"Echt-Susteren\"},\"id\":\"1711\"},{\"type\":\"Feature\",\"geometry\":{\"type\":\"Polygon\",\"coordinates\":[[[5.897086,50.974865],[5.955185,50.988417],[5.968731,50.97947],[6.026802,50.981309],[6.006054,50.957535],[5.965862,50.962418],[5.92847,50.936612],[5.895506,50.920135],[5.923405,50.904406],[5.880575,50.882475],[5.861618,50.882418],[5.799842,50.885673],[5.801715,50.91413],[5.841498,50.919607],[5.85693,50.944001],[5.839892,50.950191],[5.897086,50.974865]]]},\"properties\":{\"fid\":352,\"code\":\"1954\",\"gemeentena\":\"Beekdaelen\"},\"id\":\"1954\"},{\"type\":\"Feature\",\"geometry\":{\"type\":\"Polygon\",\"coordinates\":[[[5.000364,51.820933],[5.052344,51.795694],[5.066966,51.780553],[5.100278,51.787151],[5.135095,51.773828],[5.142714,51.75521],[5.128055,51.737607],[5.08176,51.722344],[5.027446,51.711074],[4.960894,51.722413],[4.917991,51.719959],[4.873055,51.719998],[4.836905,51.712612],[4.853126,51.750748],[4.764199,51.759857],[4.733651,51.736507],[4.698553,51.721992],[4.676304,51.724924],[4.744788,51.763487],[4.75524,51.781611],[4.797194,51.79977],[4.845984,51.798757],[4.884643,51.816471],[4.926987,51.828306],[5.000364,51.820933]]]},\"properties\":{\"fid\":353,\"code\":\"1959\",\"gemeentena\":\"Altena\"},\"id\":\"1959\"},{\"type\":\"Feature\",\"geometry\":{\"type\":\"Polygon\",\"coordinates\":[[[5.142433,51.924937],[5.232974,51.923554],[5.255062,51.935483],[5.295016,51.900114],[5.339024,51.874034],[5.415234,51.851801],[5.400633,51.837659],[5.364192,51.807027],[5.319806,51.820563],[5.281718,51.821208],[5.220787,51.810916],[5.140907,51.814119],[5.09319,51.826244],[5.026352,51.818857],[5.031415,51.841085],[4.998685,51.852277],[5.026908,51.858608],[5.05416,51.872349],[5.112737,51.887776],[5.142433,51.924937]]]},\"properties\":{\"fid\":354,\"code\":\"1960\",\"gemeentena\":\"West Betuwe\"},\"id\":\"1960\"},{\"type\":\"Feature\",\"geometry\":{\"type\":\"Polygon\",\"coordinates\":[[[4.926301,51.950928],[4.968664,51.959523],[5.00301,51.978138],[5.034055,51.97017],[5.062638,51.991233],[5.077535,51.997452],[5.119563,51.999924],[5.155094,51.971586],[5.180227,51.967448],[5.142433,51.924937],[5.112737,51.887776],[5.05416,51.872349],[5.026908,51.858608],[4.996797,51.873552],[4.994968,51.902292],[4.956157,51.915591],[4.926301,51.950928]]]},\"properties\":{\"fid\":355,\"code\":\"1961\",\"gemeentena\":\"Vijfheerenlanden\"},\"id\":\"1961\"}]},\"hovertemplate\":\"<b>%{hovertext}</b><br><br>bike theft=%{customdata[2]}<extra></extra>\",\"hovertext\":[\"Assen\",\"Coevorden\",\"Emmen\",\"Hoogeveen\",\"Meppel\",\"Aa en Hunze\",\"Borger-Odoorn\",\"De Wolden\",\"Noordenveld\",\"Westerveld\",\"Tynaarlo\",\"Midden-Drenthe\",\"Almere\",\"Zeewolde\",\"Noordoostpolder\",\"Urk\",\"Dronten\",\"Lelystad\",\"Achtkarspelen\",\"Ameland\",\"Harlingen\",\"Heerenveen\",\"Leeuwarden\",\"Ooststellingwerf\",\"Opsterland\",\"Schiermonnikoog\",\"Smallingerland\",\"Terschelling\",\"Vlieland\",\"Weststellingwerf\",\"Tytsjerksteradiel\",\"Dantumadiel\",\"S\\u00fadwest-Frysl\\u00e2n\",\"De Fryske Marren\",\"Waadhoeke\",\"Noardeast-Frysl\\u00e2n\",\"Aalten\",\"Apeldoorn\",\"Arnhem\",\"Barneveld\",\"Beuningen\",\"Brummen\",\"Buren\",\"Culemborg\",\"Doesburg\",\"Doetinchem\",\"Druten\",\"Duiven\",\"Ede\",\"Elburg\",\"Epe\",\"Ermelo\",\"Harderwijk\",\"Hattem\",\"Heerde\",\"Heumen\",\"Lochem\",\"Maasdriel\",\"Nijkerk\",\"Nijmegen\",\"Oldebroek\",\"Putten\",\"Renkum\",\"Rheden\",\"Rozendaal\",\"Scherpenzeel\",\"Tiel\",\"Voorst\",\"Wageningen\",\"Westervoort\",\"Winterswijk\",\"Wijchen\",\"Zaltbommel\",\"Zevenaar\",\"Zutphen\",\"Nunspeet\",\"West Maas en Waal\",\"Oude IJsselstreek\",\"Oost Gelre\",\"Lingewaard\",\"Overbetuwe\",\"Neder-Betuwe\",\"Berkelland\",\"Bronckhorst\",\"Berg en Dal\",\"Montferland\",\"West Betuwe\",\"Appingedam\",\"Delfzijl\",\"Groningen\",\"Loppersum\",\"Stadskanaal\",\"Veendam\",\"Pekela\",\"Oldambt\",\"Westerwolde\",\"Midden-Groningen\",\"Het Hogeland\",\"Westerkwartier\",\"Landgraaf\",\"Beek\",\"Beesel\",\"Bergen (L.)\",\"Brunssum\",\"Gennep\",\"Heerlen\",\"Kerkrade\",\"Maastricht\",\"Meerssen\",\"Mook en Middelaar\",\"Nederweert\",\"Roermond\",\"Simpelveld\",\"Stein\",\"Vaals\",\"Venlo\",\"Venray\",\"Voerendaal\",\"Weert\",\"Valkenburg aan de Geul\",\"Horst aan de Maas\",\"Leudal\",\"Maasgouw\",\"Roerdalen\",\"Echt-Susteren\",\"Gulpen-Wittem\",\"Sittard-Geleen\",\"Peel en Maas\",\"Eijsden-Margraten\",\"Beekdaelen\",\"Asten\",\"Baarle-Nassau\",\"Bergen op Zoom\",\"Best\",\"Boekel\",\"Boxmeer\",\"Boxtel\",\"Breda\",\"Deurne\",\"Dongen\",\"Eersel\",\"Eindhoven\",\"Etten-Leur\",\"Geertruidenberg\",\"Gilze en Rijen\",\"Goirle\",\"Grave\",\"Haaren\",\"Helmond\",\"'s-Hertogenbosch\",\"Heusden\",\"Hilvarenbeek\",\"Loon op Zand\",\"Mill en Sint Hubert\",\"Nuenen, Gerwen en Nederwetten\",\"Oirschot\",\"Oisterwijk\",\"Oosterhout\",\"Oss\",\"Rucphen\",\"Sint-Michielsgestel\",\"Someren\",\"Son en Breugel\",\"Steenbergen\",\"Tilburg\",\"Uden\",\"Valkenswaard\",\"Veldhoven\",\"Vught\",\"Waalre\",\"Waalwijk\",\"Woensdrecht\",\"Zundert\",\"Gemert-Bakel\",\"Halderberge\",\"Heeze-Leende\",\"Laarbeek\",\"Reusel-De Mierden\",\"Roosendaal\",\"Cuijk\",\"Landerd\",\"Sint Anthonis\",\"Cranendonck\",\"Moerdijk\",\"Drimmelen\",\"Bernheze\",\"Alphen-Chaam\",\"Bergeijk\",\"Bladel\",\"Geldrop-Mierlo\",\"Meierijstad\",\"Altena\",\"Aalsmeer\",\"Alkmaar\",\"Amstelveen\",\"Amsterdam\",\"Beemster\",\"Bergen (NH.)\",\"Beverwijk\",\"Blaricum\",\"Bloemendaal\",\"Castricum\",\"Diemen\",\"Edam-Volendam\",\"Enkhuizen\",\"Haarlem\",\"Haarlemmermeer\",\"Heemskerk\",\"Heemstede\",\"Heerhugowaard\",\"Heiloo\",\"Den Helder\",\"Hilversum\",\"Hoorn\",\"Huizen\",\"Landsmeer\",\"Langedijk\",\"Laren\",\"Medemblik\",\"Oostzaan\",\"Opmeer\",\"Ouder-Amstel\",\"Purmerend\",\"Schagen\",\"Texel\",\"Uitgeest\",\"Uithoorn\",\"Velsen\",\"Weesp\",\"Zandvoort\",\"Zaanstad\",\"Drechterland\",\"Stede Broec\",\"Waterland\",\"Wormerland\",\"Koggenland\",\"Wijdemeren\",\"Hollands Kroon\",\"Gooise Meren\",\"Almelo\",\"Borne\",\"Dalfsen\",\"Deventer\",\"Enschede\",\"Haaksbergen\",\"Hardenberg\",\"Hellendoorn\",\"Hengelo\",\"Kampen\",\"Losser\",\"Oldenzaal\",\"Ommen\",\"Raalte\",\"Staphorst\",\"Tubbergen\",\"Wierden\",\"Zwolle\",\"Twenterand\",\"Steenwijkerland\",\"Hof van Twente\",\"Rijssen-Holten\",\"Olst-Wijhe\",\"Dinkelland\",\"Zwartewaterland\",\"Amersfoort\",\"Baarn\",\"De Bilt\",\"Bunnik\",\"Bunschoten\",\"Eemnes\",\"Houten\",\"Leusden\",\"Lopik\",\"Montfoort\",\"Renswoude\",\"Rhenen\",\"Soest\",\"Utrecht\",\"Veenendaal\",\"Woudenberg\",\"Wijk bij Duurstede\",\"IJsselstein\",\"Zeist\",\"Nieuwegein\",\"Oudewater\",\"Woerden\",\"De Ronde Venen\",\"Utrechtse Heuvelrug\",\"Stichtse Vecht\",\"Vijfheerenlanden\",\"Borsele\",\"Goes\",\"Hulst\",\"Kapelle\",\"Middelburg\",\"Reimerswaal\",\"Terneuzen\",\"Tholen\",\"Veere\",\"Vlissingen\",\"Schouwen-Duiveland\",\"Noord-Beveland\",\"Sluis\",\"Alblasserdam\",\"Alphen aan den Rijn\",\"Barendrecht\",\"Brielle\",\"Capelle aan den IJssel\",\"Delft\",\"Dordrecht\",\"Gorinchem\",\"Gouda\",\"'s-Gravenhage\",\"Hardinxveld-Giessendam\",\"Hellevoetsluis\",\"Hendrik-Ido-Ambacht\",\"Hillegom\",\"Katwijk\",\"Krimpen aan den IJssel\",\"Leiden\",\"Leiderdorp\",\"Lisse\",\"Maassluis\",\"Nieuwkoop\",\"Noordwijk\",\"Oegstgeest\",\"Papendrecht\",\"Ridderkerk\",\"Rotterdam\",\"Rijswijk\",\"Schiedam\",\"Sliedrecht\",\"Albrandswaard\",\"Westvoorne\",\"Vlaardingen\",\"Voorschoten\",\"Waddinxveen\",\"Wassenaar\",\"Zoetermeer\",\"Zoeterwoude\",\"Zwijndrecht\",\"Teylingen\",\"Lansingerland\",\"Westland\",\"Midden-Delfland\",\"Kaag en Braassem\",\"Zuidplas\",\"Bodegraven-Reeuwijk\",\"Leidschendam-Voorburg\",\"Goeree-Overflakkee\",\"Pijnacker-Nootdorp\",\"Nissewaard\",\"Krimpenerwaard\",\"Hoeksche Waard\",\"Molenlanden\"],\"locations\":[\"0106\",\"0109\",\"0114\",\"0118\",\"0119\",\"1680\",\"1681\",\"1690\",\"1699\",\"1701\",\"1730\",\"1731\",\"0034\",\"0050\",\"0171\",\"0184\",\"0303\",\"0995\",\"0059\",\"0060\",\"0072\",\"0074\",\"0080\",\"0085\",\"0086\",\"0088\",\"0090\",\"0093\",\"0096\",\"0098\",\"0737\",\"1891\",\"1900\",\"1940\",\"1949\",\"1970\",\"0197\",\"0200\",\"0202\",\"0203\",\"0209\",\"0213\",\"0214\",\"0216\",\"0221\",\"0222\",\"0225\",\"0226\",\"0228\",\"0230\",\"0232\",\"0233\",\"0243\",\"0244\",\"0246\",\"0252\",\"0262\",\"0263\",\"0267\",\"0268\",\"0269\",\"0273\",\"0274\",\"0275\",\"0277\",\"0279\",\"0281\",\"0285\",\"0289\",\"0293\",\"0294\",\"0296\",\"0297\",\"0299\",\"0301\",\"0302\",\"0668\",\"1509\",\"1586\",\"1705\",\"1734\",\"1740\",\"1859\",\"1876\",\"1945\",\"1955\",\"1960\",\"0003\",\"0010\",\"0014\",\"0024\",\"0037\",\"0047\",\"0765\",\"1895\",\"1950\",\"1952\",\"1966\",\"1969\",\"0882\",\"0888\",\"0889\",\"0893\",\"0899\",\"0907\",\"0917\",\"0928\",\"0935\",\"0938\",\"0944\",\"0946\",\"0957\",\"0965\",\"0971\",\"0981\",\"0983\",\"0984\",\"0986\",\"0988\",\"0994\",\"1507\",\"1640\",\"1641\",\"1669\",\"1711\",\"1729\",\"1883\",\"1894\",\"1903\",\"1954\",\"0743\",\"0744\",\"0748\",\"0753\",\"0755\",\"0756\",\"0757\",\"0758\",\"0762\",\"0766\",\"0770\",\"0772\",\"0777\",\"0779\",\"0784\",\"0785\",\"0786\",\"0788\",\"0794\",\"0796\",\"0797\",\"0798\",\"0809\",\"0815\",\"0820\",\"0823\",\"0824\",\"0826\",\"0828\",\"0840\",\"0845\",\"0847\",\"0848\",\"0851\",\"0855\",\"0856\",\"0858\",\"0861\",\"0865\",\"0866\",\"0867\",\"0873\",\"0879\",\"1652\",\"1655\",\"1658\",\"1659\",\"1667\",\"1674\",\"1684\",\"1685\",\"1702\",\"1706\",\"1709\",\"1719\",\"1721\",\"1723\",\"1724\",\"1728\",\"1771\",\"1948\",\"1959\",\"0358\",\"0361\",\"0362\",\"0363\",\"0370\",\"0373\",\"0375\",\"0376\",\"0377\",\"0383\",\"0384\",\"0385\",\"0388\",\"0392\",\"0394\",\"0396\",\"0397\",\"0398\",\"0399\",\"0400\",\"0402\",\"0405\",\"0406\",\"0415\",\"0416\",\"0417\",\"0420\",\"0431\",\"0432\",\"0437\",\"0439\",\"0441\",\"0448\",\"0450\",\"0451\",\"0453\",\"0457\",\"0473\",\"0479\",\"0498\",\"0532\",\"0852\",\"0880\",\"1598\",\"1696\",\"1911\",\"1942\",\"0141\",\"0147\",\"0148\",\"0150\",\"0153\",\"0158\",\"0160\",\"0163\",\"0164\",\"0166\",\"0168\",\"0173\",\"0175\",\"0177\",\"0180\",\"0183\",\"0189\",\"0193\",\"1700\",\"1708\",\"1735\",\"1742\",\"1773\",\"1774\",\"1896\",\"0307\",\"0308\",\"0310\",\"0312\",\"0313\",\"0317\",\"0321\",\"0327\",\"0331\",\"0335\",\"0339\",\"0340\",\"0342\",\"0344\",\"0345\",\"0351\",\"0352\",\"0353\",\"0355\",\"0356\",\"0589\",\"0632\",\"0736\",\"1581\",\"1904\",\"1961\",\"0654\",\"0664\",\"0677\",\"0678\",\"0687\",\"0703\",\"0715\",\"0716\",\"0717\",\"0718\",\"1676\",\"1695\",\"1714\",\"0482\",\"0484\",\"0489\",\"0501\",\"0502\",\"0503\",\"0505\",\"0512\",\"0513\",\"0518\",\"0523\",\"0530\",\"0531\",\"0534\",\"0537\",\"0542\",\"0546\",\"0547\",\"0553\",\"0556\",\"0569\",\"0575\",\"0579\",\"0590\",\"0597\",\"0599\",\"0603\",\"0606\",\"0610\",\"0613\",\"0614\",\"0622\",\"0626\",\"0627\",\"0629\",\"0637\",\"0638\",\"0642\",\"1525\",\"1621\",\"1783\",\"1842\",\"1884\",\"1892\",\"1901\",\"1916\",\"1924\",\"1926\",\"1930\",\"1931\",\"1963\",\"1978\"],\"marker\":{\"opacity\":0.4},\"name\":\"\",\"subplot\":\"mapbox\",\"z\":[2.4409090820652177,1.7853298350107671,2.4082399653118496,2.1335389083702174,1.7481880270062005,1.3222192947339193,1.2041199826559248,1.0413926851582251,1.4913616938342726,0.0,1.414973347970818,1.414973347970818,2.66838591669,1.2041199826559248,1.7853298350107671,1.2041199826559248,1.7075701760979363,2.2695129442179165,1.2041199826559248,0.0,1.3222192947339193,2.0253058652647704,2.6910814921229687,0.7781512503836436,1.2041199826559248,0.0,2.2329961103921536,0.7781512503836436,0.7781512503836436,1.3222192947339193,1.2041199826559248,1.0413926851582251,2.1335389083702174,1.4913616938342726,1.7075701760979363,1.4913616938342726,1.414973347970818,2.6910814921229687,2.829946695941636,1.9822712330395684,1.7481880270062005,1.414973347970818,1.3222192947339193,1.8512583487190752,1.2041199826559248,2.1335389083702174,1.0413926851582251,1.6127838567197355,2.6444385894678386,1.414973347970818,1.4913616938342726,1.9590413923210936,1.9822712330395684,0.7781512503836436,1.0413926851582251,1.662757831681574,1.5563025007672873,1.4913616938342726,1.7853298350107671,3.2626883443016963,1.3222192947339193,1.662757831681574,1.6127838567197355,2.100370545117563,0.0,1.3222192947339193,2.303196057420489,1.662757831681574,2.164352855784437,1.414973347970818,1.8512583487190752,2.0253058652647704,1.5563025007672873,1.9344984512435677,2.44870631990508,1.3222192947339193,1.0413926851582251,1.5563025007672873,1.4913616938342726,1.6127838567197355,1.8512583487190752,1.3222192947339193,1.3222192947339193,1.2041199826559248,1.6127838567197355,1.8195439355418688,1.8808135922807914,1.3222192947339193,1.414973347970818,3.166133970305109,0.7781512503836436,1.414973347970818,1.6127838567197355,0.7781512503836436,1.8195439355418688,1.4913616938342726,1.8195439355418688,1.5563025007672873,1.7853298350107671,1.6127838567197355,1.4913616938342726,1.6127838567197355,1.0413926851582251,1.6127838567197355,1.5563025007672873,2.3344537511509307,1.9344984512435677,2.924795995797912,1.4913616938342726,1.3222192947339193,0.7781512503836436,2.399673721481038,0.7781512503836436,1.414973347970818,1.2041199826559248,2.782472624166286,2.3443922736851106,1.0413926851582251,2.2576785748691846,1.8808135922807914,2.0043213737826426,1.7481880270062005,1.414973347970818,1.5563025007672873,1.7853298350107671,1.7481880270062005,2.3344537511509307,1.662757831681574,1.7075701760979363,1.5563025007672873,1.662757831681574,0.7781512503836436,2.2329961103921536,1.8195439355418688,1.2041199826559248,1.9084850188786497,2.0644579892269186,2.851869600729766,2.1789769472931693,1.5563025007672873,1.4913616938342726,3.1792644643390253,1.8195439355418688,1.6127838567197355,1.6127838567197355,1.6127838567197355,1.414973347970818,1.0413926851582251,2.6344772701607315,2.82020145948564,1.6127838567197355,1.414973347970818,1.8195439355418688,1.0413926851582251,1.8808135922807914,1.4913616938342726,1.7481880270062005,2.164352855784437,2.7371926427047373,1.414973347970818,1.5563025007672873,1.6127838567197355,1.414973347970818,1.2041199826559248,3.1720188094245563,2.0644579892269186,1.8808135922807914,2.164352855784437,1.8512583487190752,1.5563025007672873,1.662757831681574,1.2041199826559248,1.0413926851582251,1.9344984512435677,1.4913616938342726,1.414973347970818,1.5563025007672873,1.2041199826559248,2.416640507338281,1.7853298350107671,1.2041199826559248,0.7781512503836436,1.7075701760979363,1.4913616938342726,1.4913616938342726,1.7075701760979363,0.7781512503836436,1.3222192947339193,1.7075701760979363,2.1931245983544616,2.2810333672477277,1.9590413923210936,1.6127838567197355,2.48572142648158,2.4712917110589387,3.92069713446992,0.7781512503836436,1.662757831681574,2.0253058652647704,1.2041199826559248,2.1335389083702174,1.9084850188786497,2.1172712956557644,1.414973347970818,1.8808135922807914,2.9425041061680806,2.432969290874406,1.9084850188786497,2.164352855784437,2.164352855784437,1.7075701760979363,2.1931245983544616,2.545307116465824,2.506505032404872,1.7481880270062005,1.0413926851582251,1.414973347970818,1.3222192947339193,1.662757831681574,0.7781512503836436,0.7781512503836436,1.9084850188786497,1.9590413923210936,1.9084850188786497,1.2041199826559248,1.7075701760979363,1.6127838567197355,2.2695129442179165,1.9084850188786497,1.9344984512435677,2.663700925389648,1.4913616938342726,1.8512583487190752,1.2041199826559248,1.0413926851582251,1.3222192947339193,1.3222192947339193,1.6127838567197355,2.416640507338281,2.44870631990508,1.5563025007672873,1.0413926851582251,2.4927603890268375,3.1690863574870227,1.7075701760979363,1.9344984512435677,1.3222192947339193,2.6138418218760693,2.1172712956557644,1.3222192947339193,1.9084850188786497,1.2041199826559248,1.6127838567197355,0.7781512503836436,1.0413926851582251,1.414973347970818,2.6910814921229687,1.414973347970818,1.7075701760979363,1.5563025007672873,1.4913616938342726,1.414973347970818,0.7781512503836436,1.2041199826559248,2.937517892017347,1.7853298350107671,2.2810333672477277,1.2041199826559248,1.8808135922807914,0.7781512503836436,1.9590413923210936,1.7075701760979363,0.7781512503836436,1.2041199826559248,0.7781512503836436,1.2041199826559248,2.1931245983544616,3.4879863311293935,2.1172712956557644,1.2041199826559248,1.3222192947339193,2.0043213737826426,2.5390760987927767,2.2329961103921536,1.3222192947339193,2.0644579892269186,1.6127838567197355,2.1492191126553797,2.1492191126553797,1.7853298350107671,0.7781512503836436,2.0453229787866576,1.2041199826559248,1.0413926851582251,2.220108088040055,1.2041199826559248,1.662757831681574,1.2041199826559248,1.9344984512435677,2.1335389083702174,1.7075701760979363,1.2041199826559248,1.414973347970818,1.414973347970818,2.6242820958356683,2.100370545117563,1.4913616938342726,2.1335389083702174,2.8870543780509568,2.4712917110589387,2.1789769472931693,2.4638929889859074,3.4893959217271293,1.4913616938342726,1.8195439355418688,1.7853298350107671,1.6127838567197355,2.4927603890268375,1.414973347970818,2.8549130223078554,1.8808135922807914,1.6127838567197355,2.1335389083702174,1.3222192947339193,2.220108088040055,1.7075701760979363,1.7853298350107671,2.0644579892269186,3.6330642726914992,2.3820170425748683,2.6085260335771943,1.5563025007672873,1.8808135922807914,1.2041199826559248,2.5327543789924976,1.9344984512435677,1.8808135922807914,1.6127838567197355,2.424881636631067,0.7781512503836436,1.9822712330395684,2.1172712956557644,2.220108088040055,2.5514499979728753,1.0413926851582251,1.3222192947339193,1.7481880270062005,1.7853298350107671,2.569373909615046,1.7853298350107671,2.3541084391474008,2.3909351071033793,1.5563025007672873,1.8512583487190752,1.2041199826559248],\"type\":\"choroplethmapbox\"}],                        {\"template\":{\"data\":{\"histogram2dcontour\":[{\"type\":\"histogram2dcontour\",\"colorbar\":{\"outlinewidth\":0,\"ticks\":\"\"},\"colorscale\":[[0.0,\"#0d0887\"],[0.1111111111111111,\"#46039f\"],[0.2222222222222222,\"#7201a8\"],[0.3333333333333333,\"#9c179e\"],[0.4444444444444444,\"#bd3786\"],[0.5555555555555556,\"#d8576b\"],[0.6666666666666666,\"#ed7953\"],[0.7777777777777778,\"#fb9f3a\"],[0.8888888888888888,\"#fdca26\"],[1.0,\"#f0f921\"]]}],\"choropleth\":[{\"type\":\"choropleth\",\"colorbar\":{\"outlinewidth\":0,\"ticks\":\"\"}}],\"histogram2d\":[{\"type\":\"histogram2d\",\"colorbar\":{\"outlinewidth\":0,\"ticks\":\"\"},\"colorscale\":[[0.0,\"#0d0887\"],[0.1111111111111111,\"#46039f\"],[0.2222222222222222,\"#7201a8\"],[0.3333333333333333,\"#9c179e\"],[0.4444444444444444,\"#bd3786\"],[0.5555555555555556,\"#d8576b\"],[0.6666666666666666,\"#ed7953\"],[0.7777777777777778,\"#fb9f3a\"],[0.8888888888888888,\"#fdca26\"],[1.0,\"#f0f921\"]]}],\"heatmap\":[{\"type\":\"heatmap\",\"colorbar\":{\"outlinewidth\":0,\"ticks\":\"\"},\"colorscale\":[[0.0,\"#0d0887\"],[0.1111111111111111,\"#46039f\"],[0.2222222222222222,\"#7201a8\"],[0.3333333333333333,\"#9c179e\"],[0.4444444444444444,\"#bd3786\"],[0.5555555555555556,\"#d8576b\"],[0.6666666666666666,\"#ed7953\"],[0.7777777777777778,\"#fb9f3a\"],[0.8888888888888888,\"#fdca26\"],[1.0,\"#f0f921\"]]}],\"heatmapgl\":[{\"type\":\"heatmapgl\",\"colorbar\":{\"outlinewidth\":0,\"ticks\":\"\"},\"colorscale\":[[0.0,\"#0d0887\"],[0.1111111111111111,\"#46039f\"],[0.2222222222222222,\"#7201a8\"],[0.3333333333333333,\"#9c179e\"],[0.4444444444444444,\"#bd3786\"],[0.5555555555555556,\"#d8576b\"],[0.6666666666666666,\"#ed7953\"],[0.7777777777777778,\"#fb9f3a\"],[0.8888888888888888,\"#fdca26\"],[1.0,\"#f0f921\"]]}],\"contourcarpet\":[{\"type\":\"contourcarpet\",\"colorbar\":{\"outlinewidth\":0,\"ticks\":\"\"}}],\"contour\":[{\"type\":\"contour\",\"colorbar\":{\"outlinewidth\":0,\"ticks\":\"\"},\"colorscale\":[[0.0,\"#0d0887\"],[0.1111111111111111,\"#46039f\"],[0.2222222222222222,\"#7201a8\"],[0.3333333333333333,\"#9c179e\"],[0.4444444444444444,\"#bd3786\"],[0.5555555555555556,\"#d8576b\"],[0.6666666666666666,\"#ed7953\"],[0.7777777777777778,\"#fb9f3a\"],[0.8888888888888888,\"#fdca26\"],[1.0,\"#f0f921\"]]}],\"surface\":[{\"type\":\"surface\",\"colorbar\":{\"outlinewidth\":0,\"ticks\":\"\"},\"colorscale\":[[0.0,\"#0d0887\"],[0.1111111111111111,\"#46039f\"],[0.2222222222222222,\"#7201a8\"],[0.3333333333333333,\"#9c179e\"],[0.4444444444444444,\"#bd3786\"],[0.5555555555555556,\"#d8576b\"],[0.6666666666666666,\"#ed7953\"],[0.7777777777777778,\"#fb9f3a\"],[0.8888888888888888,\"#fdca26\"],[1.0,\"#f0f921\"]]}],\"mesh3d\":[{\"type\":\"mesh3d\",\"colorbar\":{\"outlinewidth\":0,\"ticks\":\"\"}}],\"scatter\":[{\"fillpattern\":{\"fillmode\":\"overlay\",\"size\":10,\"solidity\":0.2},\"type\":\"scatter\"}],\"parcoords\":[{\"type\":\"parcoords\",\"line\":{\"colorbar\":{\"outlinewidth\":0,\"ticks\":\"\"}}}],\"scatterpolargl\":[{\"type\":\"scatterpolargl\",\"marker\":{\"colorbar\":{\"outlinewidth\":0,\"ticks\":\"\"}}}],\"bar\":[{\"error_x\":{\"color\":\"#2a3f5f\"},\"error_y\":{\"color\":\"#2a3f5f\"},\"marker\":{\"line\":{\"color\":\"#E5ECF6\",\"width\":0.5},\"pattern\":{\"fillmode\":\"overlay\",\"size\":10,\"solidity\":0.2}},\"type\":\"bar\"}],\"scattergeo\":[{\"type\":\"scattergeo\",\"marker\":{\"colorbar\":{\"outlinewidth\":0,\"ticks\":\"\"}}}],\"scatterpolar\":[{\"type\":\"scatterpolar\",\"marker\":{\"colorbar\":{\"outlinewidth\":0,\"ticks\":\"\"}}}],\"histogram\":[{\"marker\":{\"pattern\":{\"fillmode\":\"overlay\",\"size\":10,\"solidity\":0.2}},\"type\":\"histogram\"}],\"scattergl\":[{\"type\":\"scattergl\",\"marker\":{\"colorbar\":{\"outlinewidth\":0,\"ticks\":\"\"}}}],\"scatter3d\":[{\"type\":\"scatter3d\",\"line\":{\"colorbar\":{\"outlinewidth\":0,\"ticks\":\"\"}},\"marker\":{\"colorbar\":{\"outlinewidth\":0,\"ticks\":\"\"}}}],\"scattermapbox\":[{\"type\":\"scattermapbox\",\"marker\":{\"colorbar\":{\"outlinewidth\":0,\"ticks\":\"\"}}}],\"scatterternary\":[{\"type\":\"scatterternary\",\"marker\":{\"colorbar\":{\"outlinewidth\":0,\"ticks\":\"\"}}}],\"scattercarpet\":[{\"type\":\"scattercarpet\",\"marker\":{\"colorbar\":{\"outlinewidth\":0,\"ticks\":\"\"}}}],\"carpet\":[{\"aaxis\":{\"endlinecolor\":\"#2a3f5f\",\"gridcolor\":\"white\",\"linecolor\":\"white\",\"minorgridcolor\":\"white\",\"startlinecolor\":\"#2a3f5f\"},\"baxis\":{\"endlinecolor\":\"#2a3f5f\",\"gridcolor\":\"white\",\"linecolor\":\"white\",\"minorgridcolor\":\"white\",\"startlinecolor\":\"#2a3f5f\"},\"type\":\"carpet\"}],\"table\":[{\"cells\":{\"fill\":{\"color\":\"#EBF0F8\"},\"line\":{\"color\":\"white\"}},\"header\":{\"fill\":{\"color\":\"#C8D4E3\"},\"line\":{\"color\":\"white\"}},\"type\":\"table\"}],\"barpolar\":[{\"marker\":{\"line\":{\"color\":\"#E5ECF6\",\"width\":0.5},\"pattern\":{\"fillmode\":\"overlay\",\"size\":10,\"solidity\":0.2}},\"type\":\"barpolar\"}],\"pie\":[{\"automargin\":true,\"type\":\"pie\"}]},\"layout\":{\"autotypenumbers\":\"strict\",\"colorway\":[\"#636efa\",\"#EF553B\",\"#00cc96\",\"#ab63fa\",\"#FFA15A\",\"#19d3f3\",\"#FF6692\",\"#B6E880\",\"#FF97FF\",\"#FECB52\"],\"font\":{\"color\":\"#2a3f5f\"},\"hovermode\":\"closest\",\"hoverlabel\":{\"align\":\"left\"},\"paper_bgcolor\":\"white\",\"plot_bgcolor\":\"#E5ECF6\",\"polar\":{\"bgcolor\":\"#E5ECF6\",\"angularaxis\":{\"gridcolor\":\"white\",\"linecolor\":\"white\",\"ticks\":\"\"},\"radialaxis\":{\"gridcolor\":\"white\",\"linecolor\":\"white\",\"ticks\":\"\"}},\"ternary\":{\"bgcolor\":\"#E5ECF6\",\"aaxis\":{\"gridcolor\":\"white\",\"linecolor\":\"white\",\"ticks\":\"\"},\"baxis\":{\"gridcolor\":\"white\",\"linecolor\":\"white\",\"ticks\":\"\"},\"caxis\":{\"gridcolor\":\"white\",\"linecolor\":\"white\",\"ticks\":\"\"}},\"coloraxis\":{\"colorbar\":{\"outlinewidth\":0,\"ticks\":\"\"}},\"colorscale\":{\"sequential\":[[0.0,\"#0d0887\"],[0.1111111111111111,\"#46039f\"],[0.2222222222222222,\"#7201a8\"],[0.3333333333333333,\"#9c179e\"],[0.4444444444444444,\"#bd3786\"],[0.5555555555555556,\"#d8576b\"],[0.6666666666666666,\"#ed7953\"],[0.7777777777777778,\"#fb9f3a\"],[0.8888888888888888,\"#fdca26\"],[1.0,\"#f0f921\"]],\"sequentialminus\":[[0.0,\"#0d0887\"],[0.1111111111111111,\"#46039f\"],[0.2222222222222222,\"#7201a8\"],[0.3333333333333333,\"#9c179e\"],[0.4444444444444444,\"#bd3786\"],[0.5555555555555556,\"#d8576b\"],[0.6666666666666666,\"#ed7953\"],[0.7777777777777778,\"#fb9f3a\"],[0.8888888888888888,\"#fdca26\"],[1.0,\"#f0f921\"]],\"diverging\":[[0,\"#8e0152\"],[0.1,\"#c51b7d\"],[0.2,\"#de77ae\"],[0.3,\"#f1b6da\"],[0.4,\"#fde0ef\"],[0.5,\"#f7f7f7\"],[0.6,\"#e6f5d0\"],[0.7,\"#b8e186\"],[0.8,\"#7fbc41\"],[0.9,\"#4d9221\"],[1,\"#276419\"]]},\"xaxis\":{\"gridcolor\":\"white\",\"linecolor\":\"white\",\"ticks\":\"\",\"title\":{\"standoff\":15},\"zerolinecolor\":\"white\",\"automargin\":true,\"zerolinewidth\":2},\"yaxis\":{\"gridcolor\":\"white\",\"linecolor\":\"white\",\"ticks\":\"\",\"title\":{\"standoff\":15},\"zerolinecolor\":\"white\",\"automargin\":true,\"zerolinewidth\":2},\"scene\":{\"xaxis\":{\"backgroundcolor\":\"#E5ECF6\",\"gridcolor\":\"white\",\"linecolor\":\"white\",\"showbackground\":true,\"ticks\":\"\",\"zerolinecolor\":\"white\",\"gridwidth\":2},\"yaxis\":{\"backgroundcolor\":\"#E5ECF6\",\"gridcolor\":\"white\",\"linecolor\":\"white\",\"showbackground\":true,\"ticks\":\"\",\"zerolinecolor\":\"white\",\"gridwidth\":2},\"zaxis\":{\"backgroundcolor\":\"#E5ECF6\",\"gridcolor\":\"white\",\"linecolor\":\"white\",\"showbackground\":true,\"ticks\":\"\",\"zerolinecolor\":\"white\",\"gridwidth\":2}},\"shapedefaults\":{\"line\":{\"color\":\"#2a3f5f\"}},\"annotationdefaults\":{\"arrowcolor\":\"#2a3f5f\",\"arrowhead\":0,\"arrowwidth\":1},\"geo\":{\"bgcolor\":\"white\",\"landcolor\":\"#E5ECF6\",\"subunitcolor\":\"white\",\"showland\":true,\"showlakes\":true,\"lakecolor\":\"white\"},\"title\":{\"x\":0.05},\"mapbox\":{\"style\":\"light\"}}},\"mapbox\":{\"domain\":{\"x\":[0.0,1.0],\"y\":[0.0,1.0]},\"center\":{\"lat\":52.153,\"lon\":5.3842},\"zoom\":6.5,\"style\":\"carto-positron\"},\"coloraxis\":{\"colorbar\":{\"title\":{\"text\":\"log scale\"}},\"colorscale\":[[0.0,\"rgb(252,251,253)\"],[0.125,\"rgb(239,237,245)\"],[0.25,\"rgb(218,218,235)\"],[0.375,\"rgb(188,189,220)\"],[0.5,\"rgb(158,154,200)\"],[0.625,\"rgb(128,125,186)\"],[0.75,\"rgb(106,81,163)\"],[0.875,\"rgb(84,39,143)\"],[1.0,\"rgb(63,0,125)\"]],\"cmin\":0,\"cmax\":3.92069713446992},\"legend\":{\"tracegroupgap\":0,\"title\":{\"text\":\"log scale\"}},\"margin\":{\"t\":60},\"height\":800,\"width\":800,\"title\":{\"text\":\"Registered bike theft in The Netherlands in 2020\",\"x\":0.5}},                        {\"responsive\": true}                    ).then(function(){\n",
       "                            \n",
       "var gd = document.getElementById('eb69cd73-805d-4196-83cc-99f4f522fcd2');\n",
       "var x = new MutationObserver(function (mutations, observer) {{\n",
       "        var display = window.getComputedStyle(gd).display;\n",
       "        if (!display || display === 'none') {{\n",
       "            console.log([gd, 'removed!']);\n",
       "            Plotly.purge(gd);\n",
       "            observer.disconnect();\n",
       "        }}\n",
       "}});\n",
       "\n",
       "// Listen for the removal of the full notebook cells\n",
       "var notebookContainer = gd.closest('#notebook-container');\n",
       "if (notebookContainer) {{\n",
       "    x.observe(notebookContainer, {childList: true});\n",
       "}}\n",
       "\n",
       "// Listen for the clearing of the current output cell\n",
       "var outputEl = gd.closest('.output');\n",
       "if (outputEl) {{\n",
       "    x.observe(outputEl, {childList: true});\n",
       "}}\n",
       "\n",
       "                        })                };                });            </script>        </div>"
      ]
     },
     "metadata": {},
     "output_type": "display_data"
    }
   ],
   "source": [
    "#create map\n",
    "fig1 = px.choropleth_mapbox(data_frame = data_graph,\n",
    "              locations= \"id\",\n",
    "              geojson = municipality_json,\n",
    "              mapbox_style = 'carto-positron',\n",
    "              center = {'lat': 52.153, 'lon':5.3842 },\n",
    "             zoom = 6.5,\n",
    "             height=800 ,\n",
    "             width=800, \n",
    "             #COLOR\n",
    "             color = 'log scale',\n",
    "             opacity  = 0.4,\n",
    "             color_continuous_scale=\"Purples\",\n",
    "            range_color=(0, data_graph['log scale'].max()),\n",
    "            #HOVER INFO\n",
    "            hover_name = 'municipality',\n",
    "            hover_data = {'id': False, 'log scale': False, theft: True}\n",
    "           )\n",
    "\n",
    "\n",
    "#update layout\n",
    "fig1.update_layout({ #'title': {'text': 'Registered '+ theft + ' in The Netherlands in '+ str(year), 'x': 0.5},\n",
    "                     'legend': {'title': 'log scale'},\n",
    "                  })\n",
    "\n",
    "\n",
    "#st.plotly_chart(fig1)\n",
    "col6.plotly_chart(fig1, use_container_width=True) "
   ]
  },
  {
   "cell_type": "markdown",
   "id": "81fdc71f",
   "metadata": {},
   "source": [
    "## 2.3 Greatest risk"
   ]
  },
  {
   "cell_type": "code",
   "execution_count": null,
   "id": "0500bfbb",
   "metadata": {},
   "outputs": [],
   "source": [
    "worst_crime = data.groupby(['year',  'municipality', 'theft'])['count'].sum().reset_index()\n",
    "worst_crime = worst_crime.sort_values(['year', 'theft', 'count'], ascending=[True,False, False]) \n",
    "worst_crime ['rank'] = worst_crime .groupby(by=['year', 'theft'])['count'].transform(lambda x: x.rank(ascending=False))\n",
    "worst_crime = worst_crime[['year', 'theft', 'rank', 'count', 'municipality']]\n",
    "worst_crime ['year'] = worst_crime ['year'].astype('str')\n",
    "worst_crime = worst_crime[(worst_crime['theft']== theft)  & (worst_crime['year']== year)]\n",
    "worst_crime  = worst_crime[0:10]\n",
    "worst_crime   = worst_crime.sort_values('rank', ascending = False)\n"
   ]
  },
  {
   "cell_type": "code",
   "execution_count": null,
   "id": "710d5c70",
   "metadata": {},
   "outputs": [],
   "source": [
    "#create bar plot\n",
    "fig5 = px.bar(data_frame = worst_crime ,\n",
    "             y = 'municipality',\n",
    "             x = 'count',\n",
    "             height = 800,\n",
    "              text_auto=True,\n",
    "            # text_auto='.2s',\n",
    "             orientation = 'h',\n",
    "             color_discrete_sequence  = ['rgb(95, 70,144)'],\n",
    "            hover_data = {'municipality': False,  'count': False}\n",
    "            )\n",
    "\n",
    "#update layout\n",
    "fig5.update_layout({ #'title': {'text': 'Top 10 municipalities with the highest rate of ' + theft + ' in ' + str(year) , 'x': 0.5},\n",
    "                   'yaxis': {'title': {'text' : ''}} ,\n",
    "                  })\n",
    "\n",
    "\n",
    "#st.plotly_chart(fig5)\n",
    "col7.plotly_chart(fig5, use_container_width=True) "
   ]
  },
  {
   "cell_type": "markdown",
   "id": "35a82ab5",
   "metadata": {},
   "source": [
    "## 2.4 Crime in your municipality"
   ]
  },
  {
   "cell_type": "code",
   "execution_count": null,
   "id": "62ed62eb",
   "metadata": {},
   "outputs": [],
   "source": [
    "#set custom label\n",
    "if theft =='street robbery':\n",
    "    label = 'Street robbery'\n",
    "elif theft == 'shoplifting':\n",
    "    label = 'Shoplifting'\n",
    "elif theft == 'pickpocketing':\n",
    "    label = 'Pickpocketing'\n",
    "elif theft == 'motorcycle/scooter theft':\n",
    "    label = 'Motorcycle/scooter theft'\n",
    "elif theft == 'moped theft':\n",
    "    label = 'Moped theft'\n",
    "elif theft == 'heist':\n",
    "    label = 'Heist'\n",
    "elif theft == 'car theft':\n",
    "    label = 'Car theft'\n",
    "elif theft == 'boat theft':\n",
    "    label = 'Boat theft'\n",
    "elif theft == 'bike theft':\n",
    "    label = 'Bike theft'\n",
    "elif theft == 'animal theft':\n",
    "    label = 'Animal theft'\n",
    "else:\n",
    "    label = 'other'"
   ]
  },
  {
   "cell_type": "code",
   "execution_count": null,
   "id": "93c8d244",
   "metadata": {},
   "outputs": [],
   "source": [
    "col8, col9 = st.columns(2)\n",
    "\n",
    "with col8:\n",
    "    st.subheader('Most common theft crimes in ' + municipality + ' in ' + str(year) )\n",
    "    \n",
    "with col9:\n",
    "    st.subheader( label + ' trend in ' +  municipality )"
   ]
  },
  {
   "cell_type": "code",
   "execution_count": 33,
   "id": "f3a8f6c8",
   "metadata": {},
   "outputs": [],
   "source": [
    "#create df\n",
    "municipality_crime = data.groupby(['year',  'municipality', 'theft'])['count'].sum().reset_index()\n",
    "municipality_crime ['rank'] = municipality_crime .groupby(by=['municipality', 'year'])['count'].transform(lambda x: x.rank(ascending=False))\n",
    "municipality_crime ['year'] = municipality_crime ['year'].astype('str')\n",
    "municipality_crime = municipality_crime[(municipality_crime['year']==year) & (municipality_crime['municipality']==municipality)]\n",
    "municipality_crime = municipality_crime .sort_values('rank')"
   ]
  },
  {
   "cell_type": "code",
   "execution_count": 34,
   "id": "1aaa6d10",
   "metadata": {},
   "outputs": [
    {
     "data": {
      "text/plain": [
       "DeltaGenerator(_root_container=0, _provided_cursor=None, _parent=None, _block_type=None, _form_data=None)"
      ]
     },
     "execution_count": 34,
     "metadata": {},
     "output_type": "execute_result"
    }
   ],
   "source": [
    "#create bar plot\n",
    "fig3 = px.bar(data_frame = municipality_crime,\n",
    "             x = 'theft',\n",
    "             y = 'count',\n",
    "             height = 600,\n",
    "              text_auto=True,\n",
    "            # text_auto='.2s',\n",
    "            # color_discrete_sequence = px.colors.qualitative.Prism,\n",
    "              color_discrete_sequence  = ['rgb(29, 105, 150)'],\n",
    "            hover_data = {'theft': False,  'count': False}\n",
    "            )\n",
    "\n",
    "#update layout\n",
    "fig3.update_layout({ #'title': {'text': 'Most common theft crimes in ' + municipality + ' in ' + str(year)  , 'x': 0.5},\n",
    "                   'xaxis': {'title': {'text' : ''}} ,\n",
    "                  })\n",
    "\n",
    "#st.plotly_chart(fig3)\n",
    "col8.plotly_chart(fig3, use_container_width=True) "
   ]
  },
  {
   "cell_type": "markdown",
   "id": "c153e2f6",
   "metadata": {},
   "source": [
    "## 2.5 Municipality theft trends"
   ]
  },
  {
   "cell_type": "code",
   "execution_count": 46,
   "id": "ba3ec59d",
   "metadata": {
    "scrolled": true
   },
   "outputs": [
    {
     "data": {
      "text/html": [
       "<div>\n",
       "<style scoped>\n",
       "    .dataframe tbody tr th:only-of-type {\n",
       "        vertical-align: middle;\n",
       "    }\n",
       "\n",
       "    .dataframe tbody tr th {\n",
       "        vertical-align: top;\n",
       "    }\n",
       "\n",
       "    .dataframe thead th {\n",
       "        text-align: right;\n",
       "    }\n",
       "</style>\n",
       "<table border=\"1\" class=\"dataframe\">\n",
       "  <thead>\n",
       "    <tr style=\"text-align: right;\">\n",
       "      <th></th>\n",
       "      <th>year</th>\n",
       "      <th>municipality</th>\n",
       "      <th>theft</th>\n",
       "      <th>count</th>\n",
       "    </tr>\n",
       "  </thead>\n",
       "  <tbody>\n",
       "    <tr>\n",
       "      <th>181</th>\n",
       "      <td>2018</td>\n",
       "      <td>Amsterdam</td>\n",
       "      <td>bike theft</td>\n",
       "      <td>8800.0</td>\n",
       "    </tr>\n",
       "    <tr>\n",
       "      <th>4081</th>\n",
       "      <td>2019</td>\n",
       "      <td>Amsterdam</td>\n",
       "      <td>bike theft</td>\n",
       "      <td>8870.0</td>\n",
       "    </tr>\n",
       "    <tr>\n",
       "      <th>7981</th>\n",
       "      <td>2020</td>\n",
       "      <td>Amsterdam</td>\n",
       "      <td>bike theft</td>\n",
       "      <td>8330.0</td>\n",
       "    </tr>\n",
       "    <tr>\n",
       "      <th>11881</th>\n",
       "      <td>2021</td>\n",
       "      <td>Amsterdam</td>\n",
       "      <td>bike theft</td>\n",
       "      <td>6745.0</td>\n",
       "    </tr>\n",
       "  </tbody>\n",
       "</table>\n",
       "</div>"
      ],
      "text/plain": [
       "       year municipality       theft   count\n",
       "181    2018    Amsterdam  bike theft  8800.0\n",
       "4081   2019    Amsterdam  bike theft  8870.0\n",
       "7981   2020    Amsterdam  bike theft  8330.0\n",
       "11881  2021    Amsterdam  bike theft  6745.0"
      ]
     },
     "execution_count": 46,
     "metadata": {},
     "output_type": "execute_result"
    }
   ],
   "source": [
    "#create dataset\n",
    "municipality_trend = data.groupby(['year',  'municipality', 'theft'])['count'].sum().reset_index()\n",
    "municipality_trend  =municipality_trend .sort_values(['municipality', 'theft', 'year','count'], ascending=[True,True, True, True]) \n",
    "municipality_trend ['year'] = municipality_trend['year'].astype('str')\n",
    "municipality_trend = municipality_trend[(municipality_trend ['municipality']== municipality) & (municipality_trend ['theft']== theft)  ]"
   ]
  },
  {
   "cell_type": "code",
   "execution_count": 36,
   "id": "3d84d507",
   "metadata": {},
   "outputs": [
    {
     "data": {
      "text/plain": [
       "DeltaGenerator(_root_container=0, _provided_cursor=None, _parent=None, _block_type=None, _form_data=None)"
      ]
     },
     "execution_count": 36,
     "metadata": {},
     "output_type": "execute_result"
    }
   ],
   "source": [
    "fig4 = px.line(data_frame = municipality_trend,\n",
    "             x= 'year',\n",
    "             y = 'count',\n",
    "            height = 600,\n",
    "             color_discrete_sequence  = ['rgb(56, 166, 165)'],\n",
    "            hover_data = {'year': False,  'count': True}\n",
    "             )\n",
    "\n",
    "\n",
    "   #update layout\n",
    "fig4.update_layout({ #'title': {'text':  label + ' trend in ' +  municipality , 'x': 0.5},\n",
    "                  })\n",
    "\n",
    "#st.plotly_chart(fig4)\n",
    "col9.plotly_chart(fig4, use_container_width=True) "
   ]
  }
 ],
 "metadata": {
  "kernelspec": {
   "display_name": "Python 3 (ipykernel)",
   "language": "python",
   "name": "python3"
  },
  "language_info": {
   "codemirror_mode": {
    "name": "ipython",
    "version": 3
   },
   "file_extension": ".py",
   "mimetype": "text/x-python",
   "name": "python",
   "nbconvert_exporter": "python",
   "pygments_lexer": "ipython3",
   "version": "3.9.12"
  }
 },
 "nbformat": 4,
 "nbformat_minor": 5
}
