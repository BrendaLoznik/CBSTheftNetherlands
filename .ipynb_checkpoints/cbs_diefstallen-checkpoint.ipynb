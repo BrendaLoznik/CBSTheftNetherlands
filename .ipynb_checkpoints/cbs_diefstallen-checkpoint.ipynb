{
 "cells": [
  {
   "cell_type": "markdown",
   "id": "fe5ed1d9",
   "metadata": {},
   "source": [
    "# 1 Housekeeping"
   ]
  },
  {
   "cell_type": "markdown",
   "id": "7e41355b",
   "metadata": {},
   "source": [
    "## 1.1 Load libraries"
   ]
  },
  {
   "cell_type": "code",
   "execution_count": null,
   "id": "12b786e7",
   "metadata": {},
   "outputs": [],
   "source": [
    "import pandas as pd\n",
    "import numpy as np\n",
    "import plotly.express as px\n",
    "import geojson\n",
    "import mapbox\n",
    "from shapely.geometry import MultiPoint, MultiLineString, MultiPolygon\n",
    "from branca.element import Figure\n",
    "import folium\n",
    "import missingno as msno"
   ]
  },
  {
   "cell_type": "code",
   "execution_count": null,
   "id": "4cba90e0",
   "metadata": {},
   "outputs": [],
   "source": [
    "pd.set_option(\"display.max_columns\", 100)\n",
    "pd.set_option(\"display.max_rows\", 100)"
   ]
  },
  {
   "cell_type": "code",
   "execution_count": null,
   "id": "31517885",
   "metadata": {},
   "outputs": [],
   "source": []
  },
  {
   "cell_type": "markdown",
   "id": "aa429036",
   "metadata": {},
   "source": [
    "## 1.2 Load data"
   ]
  },
  {
   "cell_type": "markdown",
   "id": "4635b085",
   "metadata": {},
   "source": [
    "### CBS theft"
   ]
  },
  {
   "cell_type": "code",
   "execution_count": null,
   "id": "13f54ab7",
   "metadata": {
    "scrolled": true
   },
   "outputs": [],
   "source": [
    "df = pd.read_csv(r'D:\\Jupyter Notebooks\\temp\\data\\cbs_diefstallen.csv', sep = ';', na_values ='       .')\n",
    "df = df[df['GebruikVanGeweld']== 'T001540']\n",
    "df = df.drop('GebruikVanGeweld', axis=1)\n",
    "df = df[df['SoortDiefstal']!= 'CRI1134' ]\n",
    "df['Perioden'] = df['Perioden'].str.split('JJ00').str[0].astype('int')\n",
    "\n",
    "df = df.rename(columns = {'TotaalGeregistreerdeDiefstallen_1': 'Nr', 'GeregistreerdeDiefstallenPer1000Inw_3' : 'Rel_diefstal'})\n",
    "df = df.drop('Rel_diefstal', axis=1)"
   ]
  },
  {
   "cell_type": "code",
   "execution_count": null,
   "id": "f964f8f0",
   "metadata": {},
   "outputs": [],
   "source": [
    "df['SoortDiefstal'] = np.where(df['SoortDiefstal']== 'CRI1122', 'Diefstal van fiets', df['SoortDiefstal']  )\n",
    "df['SoortDiefstal'] = np.where(df['SoortDiefstal']== 'CRI1123', 'Diefstal van bromfiets/snorfiets', df['SoortDiefstal']  )\n",
    "\n",
    "df['SoortDiefstal'] = np.where(df['SoortDiefstal']== 'CRI1124', 'Diefstal van motor/scooter', df['SoortDiefstal']  )\n",
    "df['SoortDiefstal'] = np.where(df['SoortDiefstal']== 'CRI1125', 'Diefstal van personenauto', df['SoortDiefstal']  )\n",
    "\n",
    "df['SoortDiefstal'] = np.where(df['SoortDiefstal']== 'CRI1127', 'Diefstal van vaartuig', df['SoortDiefstal']  )\n",
    "df['SoortDiefstal'] = np.where(df['SoortDiefstal']== 'CRI1128', 'Diefstal uit/vanaf personenauto', df['SoortDiefstal']  )\n",
    "\n",
    "df['SoortDiefstal'] = np.where(df['SoortDiefstal']== 'CRI1131', 'Diefstal van dier', df['SoortDiefstal']  )\n",
    "df['SoortDiefstal'] = np.where(df['SoortDiefstal']== 'CRI1132', 'Straatroof', df['SoortDiefstal']  )\n",
    "\n",
    "df['SoortDiefstal'] = np.where(df['SoortDiefstal']== 'CRI1133', 'Zakkenrollerij', df['SoortDiefstal']  )\n",
    "df['SoortDiefstal'] = np.where(df['SoortDiefstal']== 'CRI1135', 'Diefstal/inbraak uit woning', df['SoortDiefstal'] )\n",
    "\n",
    "df['SoortDiefstal'] = np.where(df['SoortDiefstal']== 'CRI1137', 'Winkeldiefstal', df['SoortDiefstal']  )\n",
    "df['SoortDiefstal'] = np.where(df['SoortDiefstal']== 'CRI1144', 'Overval', df['SoortDiefstal'] )\n"
   ]
  },
  {
   "cell_type": "code",
   "execution_count": null,
   "id": "80d4bec0",
   "metadata": {},
   "outputs": [],
   "source": [
    "crimes = ['Diefstal van fiets', 'Diefstal van personenauto', 'Straatroof', 'Zakkenrollerij', 'Winkeldiefstal']\n",
    "\n",
    "#df = df[df['SoortDiefstal'].isin(crimes)]\n",
    "df.head()"
   ]
  },
  {
   "cell_type": "markdown",
   "id": "fdee1f0d",
   "metadata": {},
   "source": [
    "### Gemeentes"
   ]
  },
  {
   "cell_type": "code",
   "execution_count": null,
   "id": "1d6c0805",
   "metadata": {
    "scrolled": false
   },
   "outputs": [],
   "source": [
    "gemeentes_2018= pd.read_csv(r'D:\\Jupyter Notebooks\\temp\\data\\gemeente_2018.csv')\n",
    "gemeentes_2019= pd.read_csv(r'D:\\Jupyter Notebooks\\temp\\data\\gemeente_2019.csv')\n",
    "gemeentes_2020= pd.read_csv(r'D:\\Jupyter Notebooks\\temp\\data\\gemeente_2020.csv')\n",
    "gemeentes_2021= pd.read_csv(r'D:\\Jupyter Notebooks\\temp\\data\\gemeente_2021.csv')\n",
    "\n",
    "#merge\n",
    "gemeentes = gemeentes_2018.append(gemeentes_2019).append(gemeentes_2020).append(gemeentes_2021)\n",
    "gemeentes = gemeentes.drop_duplicates(subset=['Gemeentecode', 'GemeentecodeGM', 'Gemeentenaam'], keep='last')\n",
    "gemeentes.head()"
   ]
  },
  {
   "cell_type": "markdown",
   "id": "75e4b4ca",
   "metadata": {},
   "source": [
    "### Geojson"
   ]
  },
  {
   "cell_type": "code",
   "execution_count": null,
   "id": "c6bdb341",
   "metadata": {
    "scrolled": true
   },
   "outputs": [],
   "source": [
    "#html_link\n",
    "gemeente_json_html = f\"https://gis.vng.nl/v2/assets/geojson/g2020.geojson\" \n",
    "\n",
    "#geojson\n",
    "gemeente_json = geojson.load(open('geojson_gemeente_2020.geojson', 'r'))\n",
    "gemeente_json ['features'][1]\n"
   ]
  },
  {
   "cell_type": "code",
   "execution_count": null,
   "id": "98e8df0b",
   "metadata": {},
   "outputs": [],
   "source": [
    "#create id in geojson\n",
    "for feature in gemeente_json['features']:\n",
    "    feature['id'] = feature['properties']['code']"
   ]
  },
  {
   "cell_type": "markdown",
   "id": "bc7302c5",
   "metadata": {},
   "source": [
    "### Merge and pivot"
   ]
  },
  {
   "cell_type": "code",
   "execution_count": null,
   "id": "6213e61b",
   "metadata": {
    "scrolled": true
   },
   "outputs": [],
   "source": [
    "data = df.merge(gemeentes[['GemeentecodeGM', 'Gemeentenaam', 'Provincienaam']], how = 'inner', left_on = 'RegioS', right_on = 'GemeentecodeGM')\n",
    "data = data[['ID', 'Provincienaam', 'GemeentecodeGM',  'Gemeentenaam', 'SoortDiefstal',  'Perioden', 'Nr']]\n",
    "data.head()"
   ]
  },
  {
   "cell_type": "code",
   "execution_count": null,
   "id": "9d63c56b",
   "metadata": {
    "scrolled": false
   },
   "outputs": [],
   "source": [
    "#create pivot\n",
    "data_pivot = pd.pivot_table(data.drop('ID', axis=1) , index = ['Provincienaam', 'GemeentecodeGM',  'Gemeentenaam', 'Perioden'], \n",
    "                            columns = 'SoortDiefstal',\n",
    "                           aggfunc = np.mean,\n",
    "                           fill_value = np.nan)\n",
    "\n",
    "#create list of multi-level column names\n",
    "mi = data_pivot.columns\n",
    "mi.tolist()\n",
    "\n",
    "\n",
    "#only keep the second element in the list\n",
    "ind = pd.Index( [e[0] + \"_\" + e[1] for e in mi.tolist()])\n",
    "\n",
    "#set the list as the column title\n",
    "data_pivot.columns = ind\n",
    "\n",
    "#flatten multlevel index\n",
    "data_pivot = data_pivot.rename_axis(['Provincienaam', 'GemeentecodeGM',  'Gemeentenaam', 'Perioden']).reset_index()\n",
    "\n",
    "#create id\n",
    "data_pivot['id'] = data_pivot['GemeentecodeGM'].str.split('GM').str[1]\n",
    "\n",
    "data_pivot.head()"
   ]
  },
  {
   "cell_type": "code",
   "execution_count": null,
   "id": "9dd0848c",
   "metadata": {},
   "outputs": [],
   "source": []
  },
  {
   "cell_type": "code",
   "execution_count": null,
   "id": "3db37796",
   "metadata": {},
   "outputs": [],
   "source": [
    "data_pivot[data_pivot['Perioden']==2020].nlargest(10, 'Nr_Zakkenrollerij')['Gemeentenaam']\n"
   ]
  },
  {
   "cell_type": "markdown",
   "id": "6736be87",
   "metadata": {},
   "source": [
    "# 2 Plotting"
   ]
  },
  {
   "cell_type": "code",
   "execution_count": null,
   "id": "edf2cd8f",
   "metadata": {},
   "outputs": [],
   "source": [
    "data_plotly = data_pivot.copy()\n",
    "data_plotly ['log_scale'] = np.log10(data_plotly ['Nr_Diefstal van fiets']+1)\n",
    "data_plotly=data_plotly[data_plotly['Perioden']==2020]"
   ]
  },
  {
   "cell_type": "code",
   "execution_count": null,
   "id": "825bd52e",
   "metadata": {},
   "outputs": [],
   "source": [
    "fig2 = px.choropleth_mapbox(data_frame = data_plotly,\n",
    "              locations= \"id\",\n",
    "              geojson = gemeente_json,\n",
    "              color = 'log_scale',\n",
    "              mapbox_style = 'carto-positron',\n",
    "              center = {'lat': 52.153, 'lon':5.3842 },\n",
    "              zoom = 5,\n",
    "              opacity  = 0.5,\n",
    "              color_continuous_scale=\"Blues\",\n",
    "              #color_continuous_scale = px.colors.diverging.Bluered,\n",
    "              range_color=(0, data_plotly['log_scale'].max()),\n",
    "              #color_continuous_midpoint = 0,\n",
    "              hover_name = 'Gemeentenaam',\n",
    "              hover_data = ['Nr_Diefstal van fiets'])\n",
    "\n",
    "fig2.show()"
   ]
  },
  {
   "cell_type": "code",
   "execution_count": null,
   "id": "a916cd9d",
   "metadata": {},
   "outputs": [],
   "source": []
  }
 ],
 "metadata": {
  "kernelspec": {
   "display_name": "Python 3 (ipykernel)",
   "language": "python",
   "name": "python3"
  },
  "language_info": {
   "codemirror_mode": {
    "name": "ipython",
    "version": 3
   },
   "file_extension": ".py",
   "mimetype": "text/x-python",
   "name": "python",
   "nbconvert_exporter": "python",
   "pygments_lexer": "ipython3",
   "version": "3.9.12"
  }
 },
 "nbformat": 4,
 "nbformat_minor": 5
}
